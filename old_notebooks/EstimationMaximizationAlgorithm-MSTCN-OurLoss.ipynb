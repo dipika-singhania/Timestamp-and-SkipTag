{
 "cells": [
  {
   "cell_type": "code",
   "execution_count": 1,
   "metadata": {},
   "outputs": [],
   "source": [
    "%load_ext autoreload\n",
    "%autoreload 2"
   ]
  },
  {
   "cell_type": "code",
   "execution_count": 2,
   "metadata": {},
   "outputs": [],
   "source": [
    "import wandb\n",
    "import os, sys\n",
    "import glob\n",
    "import numpy as np\n",
    "import torch\n",
    "import pandas as pd\n",
    "import random\n",
    "import torch.nn as nn\n",
    "import pickle\n",
    "import torch.nn.functional as F"
   ]
  },
  {
   "cell_type": "code",
   "execution_count": 3,
   "metadata": {},
   "outputs": [],
   "source": [
    "from mstcn_model import *\n",
    "from utility.adaptive_data_loader import Breakfast, collate_fn_override\n",
    "from utils import calculate_mof, dotdict"
   ]
  },
  {
   "cell_type": "code",
   "execution_count": 4,
   "metadata": {},
   "outputs": [
    {
     "name": "stderr",
     "output_type": "stream",
     "text": [
      "Failed to detect the name of this notebook, you can set it manually with the WANDB_NOTEBOOK_NAME environment variable to enable code saving.\n",
      "\u001b[34m\u001b[1mwandb\u001b[0m: Currently logged in as: \u001b[33mdipika_singhania\u001b[0m (use `wandb login --relogin` to force relogin)\n"
     ]
    },
    {
     "data": {
      "text/plain": [
       "True"
      ]
     },
     "execution_count": 4,
     "metadata": {},
     "output_type": "execute_result"
    }
   ],
   "source": [
    "os.environ[\"WANDB_API_KEY\"] = \"992b3b1371ba79f48484cfca522b3786d7fa52c2\"\n",
    "wandb.login()"
   ]
  },
  {
   "cell_type": "code",
   "execution_count": 5,
   "metadata": {},
   "outputs": [],
   "source": [
    "seed = 42\n",
    "\n",
    "# Ensure deterministic behavior\n",
    "def set_seed():\n",
    "    torch.backends.cudnn.benchmark = False\n",
    "    torch.backends.cudnn.deterministic = True\n",
    "    random.seed(seed)\n",
    "    np.random.seed(seed)\n",
    "    torch.manual_seed(seed)\n",
    "    torch.cuda.manual_seed_all(seed)\n",
    "    torch.cuda.manual_seed(seed)\n",
    "set_seed()\n",
    "\n",
    "# Device configuration\n",
    "os.environ['CUDA_VISIBLE_DEVICES']='6'\n",
    "# os.environ['CUDA_LAUNCH_BLOCKING']='6'\n",
    "device = torch.device(\"cuda:0\" if torch.cuda.is_available() else \"cpu\")"
   ]
  },
  {
   "cell_type": "code",
   "execution_count": 6,
   "metadata": {},
   "outputs": [
    {
     "name": "stdout",
     "output_type": "stream",
     "text": [
      "{'epochs': 500, 'num_class': 48, 'batch_size': 8, 'learning_rate': 0.0005, 'weight_decay': 0, 'dataset': 'Breakfast', 'architecture': 'unet-ensemble', 'features_file_name': '/mnt/ssd/all_users/dipika/ms_tcn/data/breakfast/features/', 'chunk_size': 1, 'max_frames_per_video': 1200, 'feature_size': 2048, 'ground_truth_files_dir': '/mnt/ssd/all_users/dipika/ms_tcn/data/breakfast/groundTruth/', 'label_id_csv': '/mnt/ssd/all_users/dipika/ms_tcn/data/breakfast/mapping.csv', 'gamma': 0.1, 'step_size': 500, 'split': 2, 'output_dir': '/mnt/ssd/all_users/dipika/ms_tcn/data/breakfast//results/em-maximize/', 'project_name': 'breakfast-split-2', 'train_split_file': '/mnt/ssd/all_users/dipika/ms_tcn/data/breakfast/splits/train.split2.bundle', 'test_split_file': '/mnt/ssd/all_users/dipika/ms_tcn/data/breakfast/splits/test.split2.bundle', 'all_files': '/mnt/ssd/all_users/dipika/ms_tcn/data/breakfast/splits/all_files.txt', 'cutoff': 8, 'data_per': 0.2, 'budget': 40, 'semi_supervised_split': '/mnt/ssd/all_users/dipika/ms_tcn/data/breakfast/semi_supervised/train.split2_amt0.2.bundle'}\n"
     ]
    }
   ],
   "source": [
    "config = dotdict(\n",
    "    epochs=500,\n",
    "    num_class=48,\n",
    "    batch_size=8,\n",
    "    learning_rate=5e-4,\n",
    "    weight_decay=0,\n",
    "    dataset=\"Breakfast\",\n",
    "    architecture=\"unet-ensemble\",\n",
    "    features_file_name=\"/mnt/ssd/all_users/dipika/ms_tcn/data/breakfast/features/\",\n",
    "    chunk_size=1,\n",
    "    max_frames_per_video=1200,\n",
    "    feature_size=2048,\n",
    "    ground_truth_files_dir=\"/mnt/ssd/all_users/dipika/ms_tcn/data/breakfast/groundTruth/\",\n",
    "    label_id_csv=\"/mnt/ssd/all_users/dipika/ms_tcn/data/breakfast/mapping.csv\",\n",
    "    gamma=0.1,\n",
    "    step_size=500,\n",
    "    split=2,\n",
    "#     output_dir=\"/mnt/data/ar-datasets/dipika/breakfast/ms_tcn/data/breakfast/results/unsuper-finetune-split2-0.05-data-llr/\",\n",
    "    output_dir=\"/mnt/ssd/all_users/dipika/ms_tcn/data/breakfast//results/em-maximize/\",\n",
    "    project_name=\"breakfast-split-2\",\n",
    "    train_split_file=\"/mnt/ssd/all_users/dipika/ms_tcn/data/breakfast/splits/train.split{}.bundle\",\n",
    "    test_split_file=\"/mnt/ssd/all_users/dipika/ms_tcn/data/breakfast/splits/test.split{}.bundle\",\n",
    "    all_files=\"/mnt/ssd/all_users/dipika/ms_tcn/data/breakfast/splits/all_files.txt\",\n",
    "    cutoff=8,\n",
    "    data_per = 0.2,\n",
    "    budget=40,\n",
    "    semi_supervised_split=\"/mnt/ssd/all_users/dipika/ms_tcn/data/breakfast/semi_supervised/train.split{}_amt{}.bundle\")\n",
    "\n",
    "config.train_split_file = config.train_split_file.format(config.split)\n",
    "config.semi_supervised_split = config.semi_supervised_split.format(config.split, config.data_per)\n",
    "config.test_split_file = config.test_split_file.format(config.split)\n",
    "\n",
    "if not os.path.exists(config.output_dir):\n",
    "    os.mkdir(config.output_dir)\n",
    "\n",
    "print(config)"
   ]
  },
  {
   "cell_type": "code",
   "execution_count": 7,
   "metadata": {},
   "outputs": [
    {
     "name": "stdout",
     "output_type": "stream",
     "text": [
      "Number of videos logged in train fold is 1261\n",
      "Number of videos not found in train fold is 0\n",
      "Number of videos logged in test fold is 451\n",
      "Number of videos not found in test fold is 0\n"
     ]
    }
   ],
   "source": [
    "traindataset = Breakfast(config, fold='train', fold_file_name=config.train_split_file)\n",
    "testdataset = Breakfast(config, fold='test', fold_file_name=config.test_split_file)"
   ]
  },
  {
   "cell_type": "code",
   "execution_count": 8,
   "metadata": {},
   "outputs": [],
   "source": [
    "def _init_fn(worker_id):\n",
    "    np.random.seed(int(seed))\n",
    "trainloader = torch.utils.data.DataLoader(dataset=traindataset,\n",
    "                                          batch_size=config.batch_size, \n",
    "                                          shuffle=True,\n",
    "                                          pin_memory=True, num_workers=4, collate_fn=collate_fn_override,\n",
    "                                          worker_init_fn=_init_fn)\n",
    "testloader = torch.utils.data.DataLoader(dataset=testdataset,\n",
    "                                          batch_size=config.batch_size, \n",
    "                                          shuffle=False,\n",
    "                                          pin_memory=True, num_workers=4, collate_fn=collate_fn_override,\n",
    "                                          worker_init_fn=_init_fn)"
   ]
  },
  {
   "cell_type": "code",
   "execution_count": 9,
   "metadata": {},
   "outputs": [],
   "source": [
    "# item = iter(trainloader).next()\n",
    "# print(item[0]) # -- data feature\n",
    "# print(item[1]) # -- valid count\n",
    "# item[2] # -- Actual labels\n",
    "# print(item[5]) # video names\n",
    "# video_id_boundary_frames"
   ]
  },
  {
   "cell_type": "code",
   "execution_count": 10,
   "metadata": {},
   "outputs": [],
   "source": [
    "loaded_vidid_selected_frames = np.load(\"/home/dipika16/ar/TimestampActionSeg/data/breakfast_annotation_all.npy\", allow_pickle=True).item()\n",
    "# loaded_vidid_selected_frames\n",
    "video_id_boundary_frames = pickle.load(open(\"dump_dir/chunk_1_video_id_boundary_frames_dict.pkl\", \"rb\"))\n",
    "# video_id_boundary_frames"
   ]
  },
  {
   "cell_type": "code",
   "execution_count": 11,
   "metadata": {},
   "outputs": [
    {
     "data": {
      "text/plain": [
       "0.48488744950308416"
      ]
     },
     "execution_count": 11,
     "metadata": {},
     "output_type": "execute_result"
    }
   ],
   "source": [
    "loaded_mean_var_actions = pickle.load(open(\"dump_dir/mean_var_actions.pkl\", \"rb\"))\n",
    "def get_possion_prob(cur_len, cur_class, min_len):\n",
    "    mean_class, std_class = loaded_mean_var_actions[cur_class]   \n",
    "    prob = (cur_len * np.log(mean_class + 1e-5))\n",
    "    prob = prob - mean_class\n",
    "    prob = prob - np.sum(np.log(np.arange(1, cur_len, 1)))\n",
    "    return prob\n",
    "\n",
    "get_possion_prob(20, 20, 10)"
   ]
  },
  {
   "cell_type": "code",
   "execution_count": 12,
   "metadata": {},
   "outputs": [],
   "source": [
    "prob_video_each_segment_dict = {}"
   ]
  },
  {
   "cell_type": "code",
   "execution_count": 13,
   "metadata": {},
   "outputs": [],
   "source": [
    "def prob_vals_per_segment(selected_frames, cur_vid_feat, labels):\n",
    "    prob_each_segment = []\n",
    "    \n",
    "    log_probs = torch.log(cur_vid_feat + 1e-8)\n",
    "    cumsum_feat = torch.cumsum(log_probs, dim=0)\n",
    "    \n",
    "    cur_boundary = 0\n",
    "    for i, cur_ele in enumerate(selected_frames[:-1]):\n",
    "        \n",
    "        next_ele = selected_frames[i + 1]\n",
    "        label_cur_ele = labels[cur_ele]\n",
    "        label_next_ele = labels[next_ele]\n",
    "        prob_list = []\n",
    "        \n",
    "        for ele in range(cur_ele, next_ele, 1):\n",
    "            start_sum = cumsum_feat[cur_ele - 1, :] if cur_ele > 0 else 0\n",
    "            sum_window_class_1 = (cumsum_feat[ele, :] - start_sum)[label_cur_ele]\n",
    "            sum_window_class_2 = (cumsum_feat[next_ele - 1, :] - cumsum_feat[ele, :])[label_next_ele]\n",
    "            \n",
    "            len_cur_class = ele - cur_boundary\n",
    "            len_prob = get_possion_prob(len_cur_class, label_cur_ele.item(), cur_ele)\n",
    "            prob_list.append((sum_window_class_1 + sum_window_class_2) + len_prob.item())\n",
    "            \n",
    "        prob_list = torch.softmax(torch.stack(prob_list), dim=0)\n",
    "        cur_boundary = round(np.sum(np.arange(cur_ele, next_ele, 1) * prob_list.detach().cpu().numpy()).item())\n",
    "        prob_each_segment.append(prob_list)\n",
    "    \n",
    "    return prob_each_segment"
   ]
  },
  {
   "cell_type": "code",
   "execution_count": 14,
   "metadata": {},
   "outputs": [],
   "source": [
    "def calculate_element_probb(data_feat, data_count, video_ids, labels_all): #, loaded_vidid_selected_frames, boundaries_dict):\n",
    "    global prob_video_each_segment_dict, loaded_vidid_selected_frames\n",
    "    for iter_num in range(len(data_count)):\n",
    "        cur_vidid = video_ids[iter_num]\n",
    "        cur_vid_feat = data_feat[iter_num]\n",
    "        cur_vid_count = data_count[iter_num]\n",
    "        labels = labels_all[iter_num]\n",
    "        \n",
    "        selected_frames = loaded_vidid_selected_frames[cur_vidid + \".txt\"]\n",
    "        prob_video = prob_vals_per_segment(selected_frames, cur_vid_feat, labels)\n",
    "        prob_video_each_segment_dict[cur_vidid] = prob_video"
   ]
  },
  {
   "cell_type": "code",
   "execution_count": 15,
   "metadata": {},
   "outputs": [],
   "source": [
    "def get_estimated_loss(data_feat, data_count, video_ids, labels_all): #, loaded_vidid_selected_frames, boundaries_dict):\n",
    "    global prob_video_each_segment_dict, loaded_vidid_selected_frames\n",
    "    loss_arr = []\n",
    "    for iter_num in range(len(data_count)):\n",
    "        cur_vidid = video_ids[iter_num]\n",
    "        cur_vid_feat = data_feat[iter_num]\n",
    "        cur_vid_count = data_count[iter_num]\n",
    "        labels = labels_all[iter_num]\n",
    "        \n",
    "        selected_frames = loaded_vidid_selected_frames[cur_vidid + \".txt\"]\n",
    "        prob_each_video = prob_video_each_segment_dict[cur_vidid]\n",
    "        \n",
    "        log_probs = torch.log(cur_vid_feat + 1e-8)\n",
    "        cumsum_feat = torch.cumsum(log_probs, dim=0)\n",
    "        \n",
    "        \n",
    "        current_vid_prob_arr = []\n",
    "        # Start segment log probability\n",
    "        start_ele_idx = selected_frames[0]\n",
    "        if start_ele_idx > 0:\n",
    "            start_ele_label_idx = labels[selected_frames[0]]\n",
    "            first_segment_prob = (cumsum_feat[start_ele_idx - 1, :])[start_ele_label_idx]\n",
    "            current_vid_prob_arr.append(first_segment_prob)\n",
    "        \n",
    "        for i, cur_ele in enumerate(selected_frames[:-1]):\n",
    "            next_ele = selected_frames[i + 1]\n",
    "            label_cur_ele = labels[cur_ele]\n",
    "            label_next_ele = labels[next_ele]\n",
    "\n",
    "            count = 0\n",
    "            for ele in range(cur_ele, next_ele, 1):\n",
    "                start_sum = cumsum_feat[cur_ele - 1, :] if cur_ele > 0 else 0\n",
    "                sum_window_class_1 = (cumsum_feat[ele, :] - start_sum)[label_cur_ele]\n",
    "                sum_window_class_2 = (cumsum_feat[next_ele - 1, :] - cumsum_feat[ele, :])[label_next_ele]\n",
    "                current_vid_prob_arr.append((sum_window_class_1 + sum_window_class_2)  * (prob_each_video[i][count].item()))\n",
    "                count = count + 1\n",
    "        \n",
    "        # End segment log probability\n",
    "        end_index = cur_vid_count.item() - 1\n",
    "        last_ele_label_idx = labels[selected_frames[-1]]\n",
    "        last_segment_sum_prob = (cumsum_feat[end_index, :] - cumsum_feat[selected_frames[-1] - 1, :])[last_ele_label_idx]\n",
    "        current_vid_prob_arr.append(last_segment_sum_prob)\n",
    "            \n",
    "        loss_arr.append(torch.stack(current_vid_prob_arr))\n",
    "    return -torch.mean(torch.cat(loss_arr)), loss_arr"
   ]
  },
  {
   "cell_type": "code",
   "execution_count": 16,
   "metadata": {},
   "outputs": [],
   "source": [
    "def get_estimated_boundaries():\n",
    "    global prob_video_each_segment_dict, loaded_vidid_selected_frames, video_id_boundary_frames\n",
    "    estimated_boundary_dict = {}\n",
    "    for ele in video_id_boundary_frames.keys():\n",
    "        \n",
    "        estimated_boundary_probs = prob_video_each_segment_dict[ele]\n",
    "        selected_ele_list = loaded_vidid_selected_frames[ele + \".txt\"]\n",
    "        boundary_list = []\n",
    "        for i, segment in enumerate(estimated_boundary_probs):\n",
    "            estimated_boundary = np.sum(np.arange(selected_ele_list[i], selected_ele_list[i + 1], 1) \\\n",
    "                                        * segment.detach().cpu().numpy())\n",
    "            estimated_boundary = round(estimated_boundary.item())\n",
    "            \n",
    "            if (estimated_boundary < selected_ele_list[i]) or (estimated_boundary > selected_ele_list[i + 1]):\n",
    "                print(\"Estimated value wrong\")\n",
    "                import pdb\n",
    "                pdb.set_trace()\n",
    "            boundary_list.append(estimated_boundary)\n",
    "\n",
    "        estimated_boundary_dict[ele] = boundary_list\n",
    "    return estimated_boundary_dict"
   ]
  },
  {
   "cell_type": "code",
   "execution_count": 17,
   "metadata": {},
   "outputs": [],
   "source": [
    "def get_boundary_err():\n",
    "    global prob_video_each_segment_dict, loaded_vidid_selected_frames\n",
    "    err_list = []\n",
    "    correct = 0.0\n",
    "    total = 0.0\n",
    "    estimated_boundar_dict = get_estimated_boundaries()\n",
    "    for ele in video_id_boundary_frames.keys():\n",
    "        \n",
    "        estimated_boundary_probs = prob_video_each_segment_dict[ele]\n",
    "        estimated_boundary_list = estimated_boundar_dict[ele]\n",
    "        \n",
    "        estimated = np.array(estimated_boundary_list) #.detach().cpu().numpy()\n",
    "        actual = np.array(video_id_boundary_frames[ele][:-1])\n",
    "        if len(actual) != len(estimated):\n",
    "            print(ele)\n",
    "            continue\n",
    "        \n",
    "        mse_err = (actual - estimated)**2\n",
    "        err_list.append(mse_err)\n",
    "        \n",
    "        estimated_labels = []\n",
    "        actual_labels = []\n",
    "        start_v1 = 0\n",
    "        start_v2 = 0\n",
    "        for i, v1 in enumerate(estimated):\n",
    "            estimated_labels.extend([i] * (v1 - start_v1))\n",
    "            start_v1 = v1\n",
    "            v2 = actual[i]\n",
    "            actual_labels.extend([i] * (v2 - start_v2))\n",
    "            start_v2 = v2\n",
    "            \n",
    "        last_ele = video_id_boundary_frames[ele][-1]\n",
    "        estimated_labels.extend([i+1] * (last_ele - start_v1))\n",
    "        actual_labels.extend([i+1] * (last_ele - start_v2))\n",
    "        \n",
    "        correct += np.sum(np.array(actual_labels) == np.array(estimated_labels))\n",
    "        total += len(actual_labels)\n",
    "        \n",
    "    print(f\"Train Boundary avergage error = {np.sqrt(np.mean(np.concatenate(err_list))):.3f}\")\n",
    "    print(f\"Train From boundary avergage accuracy = {correct * 100.0 / total:.3f}\")"
   ]
  },
  {
   "cell_type": "code",
   "execution_count": 18,
   "metadata": {},
   "outputs": [],
   "source": [
    "set_seed()\n",
    "model = MultiStageModel(num_stages=4, num_layers=10, num_f_maps=64, dim=2048, num_classes=48).to(device)\n",
    "optimizer = torch.optim.Adam(model.parameters(), lr=5e-4)\n",
    "\n",
    "# Requires loaded_vidid_selected_frames, boundaries_dict\n",
    "ce_criterion = nn.CrossEntropyLoss(ignore_index=-100)\n",
    "mse_criterion = nn.MSELoss(reduction='none')"
   ]
  },
  {
   "cell_type": "code",
   "execution_count": 19,
   "metadata": {},
   "outputs": [],
   "source": [
    "def get_single_random(labels_all, video_ids):\n",
    "    # Generate target for only timestamps. Do not generate pseudo labels at first 30 epochs.\n",
    "    boundary_target_tensor = torch.ones((labels_all.shape[0], labels_all.shape[1]), dtype=torch.long, device=labels_all.device) * (-100)\n",
    "    for iter_num, labels in enumerate(labels_all):\n",
    "        cur_vidid = video_ids[iter_num]\n",
    "        frame_idx_tensor = torch.from_numpy(np.array(loaded_vidid_selected_frames[cur_vidid + \".txt\"]))\n",
    "        boundary_target_tensor[iter_num, frame_idx_tensor] = labels[frame_idx_tensor]\n",
    "\n",
    "    return boundary_target_tensor"
   ]
  },
  {
   "cell_type": "code",
   "execution_count": 20,
   "metadata": {},
   "outputs": [
    {
     "name": "stdout",
     "output_type": "stream",
     "text": [
      "Starting Training\n",
      "Training:: Epoch 0, Iteration 0, Current loss 15.625920295715332 Accuracy 1.0729173785279846\n",
      "Training:: Epoch 0, Iteration 10, Current loss 14.152955055236816 Accuracy 2.6900162484202923\n",
      "Training:: Epoch 0, Iteration 20, Current loss 13.58574390411377 Accuracy 4.047105004906771\n",
      "Training:: Epoch 0, Iteration 30, Current loss 12.271114349365234 Accuracy 16.7036119441909\n",
      "Training:: Epoch 0, Iteration 40, Current loss 12.344259262084961 Accuracy 5.686186411062852\n",
      "Training:: Epoch 0, Iteration 50, Current loss 12.297993659973145 Accuracy 3.5779848290672303\n",
      "Training:: Epoch 0, Iteration 60, Current loss 11.609221458435059 Accuracy 7.869181828329054\n",
      "Training:: Epoch 0, Iteration 70, Current loss 11.46078872680664 Accuracy 4.962652784065188\n",
      "Training:: Epoch 0, Iteration 80, Current loss 11.238487243652344 Accuracy 5.708691067931918\n",
      "Training:: Epoch 0, Iteration 90, Current loss 11.219830513000488 Accuracy 8.624153976311337\n",
      "Training:: Epoch 0, Iteration 100, Current loss 11.380393981933594 Accuracy 9.074953541193475\n",
      "Training:: Epoch 0, Iteration 110, Current loss 10.103097915649414 Accuracy 10.21880636812799\n",
      "Training:: Epoch 0, Iteration 120, Current loss 11.00101089477539 Accuracy 11.738148984198645\n",
      "Training:: Epoch 0, Iteration 130, Current loss 10.33302116394043 Accuracy 14.135633085064681\n",
      "Training:: Epoch 0, Iteration 140, Current loss 10.270598411560059 Accuracy 16.721527320605663\n",
      "Training:: Epoch 0, Iteration 150, Current loss 9.099781036376953 Accuracy 17.889275628817234\n",
      "Calculating Validation Data Accuracy\n",
      "Validation:: Epoch 0, Probability Accuracy 18.017048514728426\n",
      "Starting Training\n",
      "Training:: Epoch 1, Iteration 0, Current loss 9.54653263092041 Accuracy 35.076827564799004\n",
      "Training:: Epoch 1, Iteration 10, Current loss 8.336945533752441 Accuracy 12.905433146298071\n",
      "Training:: Epoch 1, Iteration 20, Current loss 9.85234260559082 Accuracy 23.044635544635543\n",
      "Training:: Epoch 1, Iteration 30, Current loss 8.9783353805542 Accuracy 11.948989412897017\n",
      "Training:: Epoch 1, Iteration 40, Current loss 9.116921424865723 Accuracy 12.908919745822546\n",
      "Training:: Epoch 1, Iteration 50, Current loss 8.836906433105469 Accuracy 14.816810344827585\n",
      "Training:: Epoch 1, Iteration 60, Current loss 8.937725067138672 Accuracy 11.667618503712164\n",
      "Training:: Epoch 1, Iteration 70, Current loss 9.148093223571777 Accuracy 18.86056027699087\n",
      "Training:: Epoch 1, Iteration 80, Current loss 9.101923942565918 Accuracy 11.74025974025974\n",
      "Training:: Epoch 1, Iteration 90, Current loss 9.40046215057373 Accuracy 17.144177449168208\n",
      "Training:: Epoch 1, Iteration 100, Current loss 7.870447158813477 Accuracy 16.01450181272659\n",
      "Training:: Epoch 1, Iteration 110, Current loss 9.227721214294434 Accuracy 11.833740831295843\n",
      "Training:: Epoch 1, Iteration 120, Current loss 9.54885482788086 Accuracy 14.146623861902006\n",
      "Training:: Epoch 1, Iteration 130, Current loss 9.39667797088623 Accuracy 11.791932059447984\n",
      "Training:: Epoch 1, Iteration 140, Current loss 6.873108863830566 Accuracy 24.42304969559677\n",
      "Training:: Epoch 1, Iteration 150, Current loss 9.819128036499023 Accuracy 12.45479531317807\n",
      "Starting Training\n",
      "Training:: Epoch 2, Iteration 0, Current loss 7.383315563201904 Accuracy 27.118874464759056\n",
      "Training:: Epoch 2, Iteration 10, Current loss 8.261855125427246 Accuracy 20.327649615513206\n",
      "Training:: Epoch 2, Iteration 20, Current loss 6.647054195404053 Accuracy 19.760117352662007\n",
      "Training:: Epoch 2, Iteration 30, Current loss 8.904631614685059 Accuracy 16.13537801225019\n",
      "Training:: Epoch 2, Iteration 40, Current loss 7.458522796630859 Accuracy 16.46730462519936\n",
      "Training:: Epoch 2, Iteration 50, Current loss 8.803491592407227 Accuracy 13.28584056991316\n",
      "Training:: Epoch 2, Iteration 60, Current loss 8.578454971313477 Accuracy 20.82954889494399\n",
      "Training:: Epoch 2, Iteration 70, Current loss 7.154261589050293 Accuracy 14.741189427312776\n",
      "Training:: Epoch 2, Iteration 80, Current loss 9.13656234741211 Accuracy 13.355672570607947\n",
      "Training:: Epoch 2, Iteration 90, Current loss 8.34546947479248 Accuracy 15.881888728133632\n",
      "Training:: Epoch 2, Iteration 100, Current loss 6.919033527374268 Accuracy 19.31619665585226\n",
      "Training:: Epoch 2, Iteration 110, Current loss 5.797069549560547 Accuracy 20.404242237934216\n",
      "Training:: Epoch 2, Iteration 120, Current loss 6.9136643409729 Accuracy 21.9435736677116\n",
      "Training:: Epoch 2, Iteration 130, Current loss 7.298957347869873 Accuracy 15.351824170957205\n",
      "Training:: Epoch 2, Iteration 140, Current loss 7.4003167152404785 Accuracy 17.063049395386194\n",
      "Training:: Epoch 2, Iteration 150, Current loss 8.527745246887207 Accuracy 11.111522786217117\n",
      "Starting Training\n",
      "Training:: Epoch 3, Iteration 0, Current loss 7.636462688446045 Accuracy 19.26097822206355\n",
      "Training:: Epoch 3, Iteration 10, Current loss 6.948122024536133 Accuracy 19.665765544359793\n",
      "Training:: Epoch 3, Iteration 20, Current loss 6.169100284576416 Accuracy 20.834182114483603\n",
      "Training:: Epoch 3, Iteration 30, Current loss 7.013115406036377 Accuracy 26.575656012425405\n",
      "Training:: Epoch 3, Iteration 40, Current loss 7.835195064544678 Accuracy 15.467703607690646\n",
      "Training:: Epoch 3, Iteration 50, Current loss 6.985594272613525 Accuracy 23.322824253977565\n",
      "Training:: Epoch 3, Iteration 60, Current loss 6.327098846435547 Accuracy 21.598414795244384\n",
      "Training:: Epoch 3, Iteration 70, Current loss 6.4249725341796875 Accuracy 18.29541435812802\n",
      "Training:: Epoch 3, Iteration 80, Current loss 6.829588413238525 Accuracy 27.434663892861785\n",
      "Training:: Epoch 3, Iteration 90, Current loss 5.621323585510254 Accuracy 32.879723647021876\n",
      "Training:: Epoch 3, Iteration 100, Current loss 6.775783061981201 Accuracy 44.13194775479073\n",
      "Training:: Epoch 3, Iteration 110, Current loss 5.705722808837891 Accuracy 29.093111803392176\n",
      "Training:: Epoch 3, Iteration 120, Current loss 6.731032371520996 Accuracy 24.63028625789155\n",
      "Training:: Epoch 3, Iteration 130, Current loss 5.7219038009643555 Accuracy 20.384615384615383\n",
      "Training:: Epoch 3, Iteration 140, Current loss 6.5185723304748535 Accuracy 23.351158645276293\n",
      "Training:: Epoch 3, Iteration 150, Current loss 6.693232536315918 Accuracy 28.20954254795868\n",
      "Starting Training\n",
      "Training:: Epoch 4, Iteration 0, Current loss 6.308771133422852 Accuracy 30.097879282218596\n",
      "Training:: Epoch 4, Iteration 10, Current loss 6.90750789642334 Accuracy 19.872310746284672\n",
      "Training:: Epoch 4, Iteration 20, Current loss 5.5027689933776855 Accuracy 25.559326729930042\n",
      "Training:: Epoch 4, Iteration 30, Current loss 5.346047401428223 Accuracy 34.058463630183546\n",
      "Training:: Epoch 4, Iteration 40, Current loss 5.730218887329102 Accuracy 31.628798556689407\n",
      "Training:: Epoch 4, Iteration 50, Current loss 6.096530437469482 Accuracy 29.28232359803685\n",
      "Training:: Epoch 4, Iteration 60, Current loss 5.338557243347168 Accuracy 32.82259995211874\n",
      "Training:: Epoch 4, Iteration 70, Current loss 5.2968268394470215 Accuracy 32.952435366376235\n",
      "Training:: Epoch 4, Iteration 80, Current loss 4.538997650146484 Accuracy 29.34371362048894\n",
      "Training:: Epoch 4, Iteration 90, Current loss 6.777491569519043 Accuracy 35.929802955665025\n",
      "Training:: Epoch 4, Iteration 100, Current loss 5.870428085327148 Accuracy 37.06267771047101\n",
      "Training:: Epoch 4, Iteration 110, Current loss 6.575980186462402 Accuracy 28.451691557451998\n",
      "Training:: Epoch 4, Iteration 120, Current loss 5.9802656173706055 Accuracy 37.85627035830619\n",
      "Training:: Epoch 4, Iteration 130, Current loss 4.672421455383301 Accuracy 33.75474083438685\n",
      "Training:: Epoch 4, Iteration 140, Current loss 6.232365131378174 Accuracy 29.314097696785623\n",
      "Training:: Epoch 4, Iteration 150, Current loss 5.468977451324463 Accuracy 43.86048733874821\n",
      "Starting Training\n",
      "Training:: Epoch 5, Iteration 0, Current loss 6.537569046020508 Accuracy 34.646773143744056\n",
      "Training:: Epoch 5, Iteration 10, Current loss 4.735592365264893 Accuracy 35.71271205111258\n",
      "Training:: Epoch 5, Iteration 20, Current loss 4.649257659912109 Accuracy 33.15352937764631\n",
      "Training:: Epoch 5, Iteration 30, Current loss 5.343148708343506 Accuracy 40.79930278884462\n",
      "Training:: Epoch 5, Iteration 40, Current loss 4.658909797668457 Accuracy 44.74950467025191\n",
      "Training:: Epoch 5, Iteration 50, Current loss 5.65606164932251 Accuracy 28.143873305596564\n"
     ]
    },
    {
     "name": "stdout",
     "output_type": "stream",
     "text": [
      "Training:: Epoch 5, Iteration 60, Current loss 5.292131423950195 Accuracy 33.40620031796502\n",
      "Training:: Epoch 5, Iteration 70, Current loss 5.678159236907959 Accuracy 37.960069904146586\n",
      "Training:: Epoch 5, Iteration 80, Current loss 4.507051944732666 Accuracy 39.75186104218362\n",
      "Training:: Epoch 5, Iteration 90, Current loss 4.627745151519775 Accuracy 42.27840768021187\n",
      "Training:: Epoch 5, Iteration 100, Current loss 5.503447532653809 Accuracy 29.65844924941468\n",
      "Training:: Epoch 5, Iteration 110, Current loss 5.336030960083008 Accuracy 49.148999701403405\n",
      "Training:: Epoch 5, Iteration 120, Current loss 6.111295223236084 Accuracy 31.657460966381073\n",
      "Training:: Epoch 5, Iteration 130, Current loss 5.049837589263916 Accuracy 53.03627064840397\n",
      "Training:: Epoch 5, Iteration 140, Current loss 6.09787654876709 Accuracy 30.758405003909303\n",
      "Training:: Epoch 5, Iteration 150, Current loss 4.717557907104492 Accuracy 46.64050235478807\n",
      "Calculating Validation Data Accuracy\n",
      "Validation:: Epoch 5, Probability Accuracy 42.68156771761196\n",
      "Starting Training\n",
      "Training:: Epoch 6, Iteration 0, Current loss 5.120794296264648 Accuracy 46.03046168491195\n",
      "Training:: Epoch 6, Iteration 10, Current loss 4.371113300323486 Accuracy 36.13011401743796\n",
      "Training:: Epoch 6, Iteration 20, Current loss 5.4774885177612305 Accuracy 52.01495637723307\n",
      "Training:: Epoch 6, Iteration 30, Current loss 4.724750995635986 Accuracy 45.0942854407964\n",
      "Training:: Epoch 6, Iteration 40, Current loss 5.177880764007568 Accuracy 45.57870870222414\n",
      "Training:: Epoch 6, Iteration 50, Current loss 6.59462308883667 Accuracy 47.59791490560721\n",
      "Training:: Epoch 6, Iteration 60, Current loss 4.539744853973389 Accuracy 54.487228952851304\n",
      "Training:: Epoch 6, Iteration 70, Current loss 2.703484058380127 Accuracy 59.14900634946813\n",
      "Training:: Epoch 6, Iteration 80, Current loss 3.7053914070129395 Accuracy 51.09983929288871\n",
      "Training:: Epoch 6, Iteration 90, Current loss 3.5761353969573975 Accuracy 53.7791421222932\n",
      "Training:: Epoch 6, Iteration 100, Current loss 3.818861961364746 Accuracy 57.36956614478905\n",
      "Training:: Epoch 6, Iteration 110, Current loss 3.8455123901367188 Accuracy 48.65797321794047\n",
      "Training:: Epoch 6, Iteration 120, Current loss 3.731457471847534 Accuracy 46.79638993791205\n",
      "Training:: Epoch 6, Iteration 130, Current loss 4.183265686035156 Accuracy 53.694557427852025\n",
      "Training:: Epoch 6, Iteration 140, Current loss 3.4337313175201416 Accuracy 48.25116122894398\n",
      "Training:: Epoch 6, Iteration 150, Current loss 4.7081451416015625 Accuracy 52.65437933207309\n",
      "Starting Training\n",
      "Training:: Epoch 7, Iteration 0, Current loss 4.096014022827148 Accuracy 58.84468247895945\n",
      "Training:: Epoch 7, Iteration 10, Current loss 4.428425312042236 Accuracy 56.73134328358209\n",
      "Training:: Epoch 7, Iteration 20, Current loss 3.637862205505371 Accuracy 60.18141185749967\n",
      "Training:: Epoch 7, Iteration 30, Current loss 3.6587846279144287 Accuracy 58.78069274577537\n",
      "Training:: Epoch 7, Iteration 40, Current loss 3.535722255706787 Accuracy 59.61420227482324\n",
      "Training:: Epoch 7, Iteration 50, Current loss 3.9343457221984863 Accuracy 61.58090348289206\n",
      "Training:: Epoch 7, Iteration 60, Current loss 3.4032106399536133 Accuracy 55.91117657055458\n",
      "Training:: Epoch 7, Iteration 70, Current loss 3.7950804233551025 Accuracy 41.66397241082013\n",
      "Training:: Epoch 7, Iteration 80, Current loss 3.7207844257354736 Accuracy 63.16328430459877\n",
      "Training:: Epoch 7, Iteration 90, Current loss 3.6473026275634766 Accuracy 58.35905767668562\n",
      "Training:: Epoch 7, Iteration 100, Current loss 4.702017784118652 Accuracy 59.964241507358\n",
      "Training:: Epoch 7, Iteration 110, Current loss 4.0791335105896 Accuracy 55.38145078347147\n",
      "Training:: Epoch 7, Iteration 120, Current loss 3.510282278060913 Accuracy 45.21886529065709\n",
      "Training:: Epoch 7, Iteration 130, Current loss 4.748192310333252 Accuracy 56.25453935974077\n",
      "Training:: Epoch 7, Iteration 140, Current loss 4.244626522064209 Accuracy 50.0531914893617\n",
      "Training:: Epoch 7, Iteration 150, Current loss 4.324502944946289 Accuracy 62.469024555079976\n",
      "Starting Training\n",
      "Training:: Epoch 8, Iteration 0, Current loss 3.4344499111175537 Accuracy 55.15786099684812\n",
      "Training:: Epoch 8, Iteration 10, Current loss 4.306118965148926 Accuracy 64.59490787001879\n",
      "Training:: Epoch 8, Iteration 20, Current loss 3.716499090194702 Accuracy 46.19323347848974\n",
      "Training:: Epoch 8, Iteration 30, Current loss 3.8117175102233887 Accuracy 50.34213492191274\n",
      "Training:: Epoch 8, Iteration 40, Current loss 3.9933624267578125 Accuracy 56.30040322580645\n",
      "Training:: Epoch 8, Iteration 50, Current loss 3.651534080505371 Accuracy 54.878750513769006\n",
      "Training:: Epoch 8, Iteration 60, Current loss 3.5529141426086426 Accuracy 51.72152856602346\n",
      "Training:: Epoch 8, Iteration 70, Current loss 4.681556701660156 Accuracy 39.677569009510556\n",
      "Training:: Epoch 8, Iteration 80, Current loss 4.087581157684326 Accuracy 46.540158336858646\n",
      "Training:: Epoch 8, Iteration 90, Current loss 2.947760820388794 Accuracy 62.96404988994864\n",
      "Training:: Epoch 8, Iteration 100, Current loss 2.5025980472564697 Accuracy 65.35723988046726\n",
      "Training:: Epoch 8, Iteration 110, Current loss 3.2557015419006348 Accuracy 74.97751394135636\n",
      "Training:: Epoch 8, Iteration 120, Current loss 3.4629428386688232 Accuracy 60.22839829866574\n",
      "Training:: Epoch 8, Iteration 130, Current loss 3.5392696857452393 Accuracy 58.19612338474364\n",
      "Training:: Epoch 8, Iteration 140, Current loss 4.716899871826172 Accuracy 58.026722832883564\n",
      "Training:: Epoch 8, Iteration 150, Current loss 3.405580759048462 Accuracy 56.30011747280249\n",
      "Starting Training\n",
      "Training:: Epoch 9, Iteration 0, Current loss 4.538108825683594 Accuracy 44.74230094143928\n",
      "Training:: Epoch 9, Iteration 10, Current loss 3.9918997287750244 Accuracy 52.81326252332424\n",
      "Training:: Epoch 9, Iteration 20, Current loss 2.76175856590271 Accuracy 69.64476781510807\n",
      "Training:: Epoch 9, Iteration 30, Current loss 3.81241774559021 Accuracy 59.82522761586677\n",
      "Training:: Epoch 9, Iteration 40, Current loss 3.8677978515625 Accuracy 64.02962833099579\n",
      "Training:: Epoch 9, Iteration 50, Current loss 2.712395668029785 Accuracy 71.17240201519938\n",
      "Training:: Epoch 9, Iteration 60, Current loss 3.0777995586395264 Accuracy 57.941495124593715\n",
      "Training:: Epoch 9, Iteration 70, Current loss 4.770066738128662 Accuracy 53.11232837732091\n",
      "Training:: Epoch 9, Iteration 80, Current loss 3.5826985836029053 Accuracy 66.11068991660349\n",
      "Training:: Epoch 9, Iteration 90, Current loss 3.5685107707977295 Accuracy 60.593937528850596\n",
      "Training:: Epoch 9, Iteration 100, Current loss 2.235703468322754 Accuracy 65.45188577243529\n",
      "Training:: Epoch 9, Iteration 110, Current loss 2.0057170391082764 Accuracy 66.0080225820829\n",
      "Training:: Epoch 9, Iteration 120, Current loss 2.3965187072753906 Accuracy 80.3543822095374\n",
      "Training:: Epoch 9, Iteration 130, Current loss 2.7828149795532227 Accuracy 74.28426008398014\n",
      "Training:: Epoch 9, Iteration 140, Current loss 4.118203163146973 Accuracy 60.90857033785073\n",
      "Training:: Epoch 9, Iteration 150, Current loss 3.8155517578125 Accuracy 53.29469188529591\n",
      "Starting Training\n",
      "Training:: Epoch 10, Iteration 0, Current loss 3.5296006202697754 Accuracy 47.62663592595104\n",
      "Training:: Epoch 10, Iteration 10, Current loss 3.299292802810669 Accuracy 64.04034896401309\n",
      "Training:: Epoch 10, Iteration 20, Current loss 2.4739153385162354 Accuracy 75.10271158586689\n",
      "Training:: Epoch 10, Iteration 30, Current loss 2.325430154800415 Accuracy 66.29226980599435\n",
      "Training:: Epoch 10, Iteration 40, Current loss 2.679563522338867 Accuracy 73.39579282305108\n",
      "Training:: Epoch 10, Iteration 50, Current loss 3.118077039718628 Accuracy 61.55880214186554\n",
      "Training:: Epoch 10, Iteration 60, Current loss 2.9152302742004395 Accuracy 59.38819707634001\n",
      "Training:: Epoch 10, Iteration 70, Current loss 3.224140167236328 Accuracy 72.85665378784174\n",
      "Training:: Epoch 10, Iteration 80, Current loss 2.2494959831237793 Accuracy 63.51119988586104\n",
      "Training:: Epoch 10, Iteration 90, Current loss 2.8198812007904053 Accuracy 68.54058078927774\n",
      "Training:: Epoch 10, Iteration 100, Current loss 4.2328948974609375 Accuracy 66.7575674938642\n",
      "Training:: Epoch 10, Iteration 110, Current loss 3.741727590560913 Accuracy 71.43261207749964\n",
      "Training:: Epoch 10, Iteration 120, Current loss 2.8401150703430176 Accuracy 71.38148751141644\n"
     ]
    },
    {
     "name": "stdout",
     "output_type": "stream",
     "text": [
      "Training:: Epoch 10, Iteration 130, Current loss 2.7513437271118164 Accuracy 70.15178571428571\n",
      "Training:: Epoch 10, Iteration 140, Current loss 2.613373279571533 Accuracy 64.89958837470375\n",
      "Training:: Epoch 10, Iteration 150, Current loss 2.9976069927215576 Accuracy 69.30072976799913\n",
      "Calculating Validation Data Accuracy\n",
      "Validation:: Epoch 10, Probability Accuracy 52.96308571902059\n",
      "Starting Training\n",
      "Training:: Epoch 11, Iteration 0, Current loss 2.3486552238464355 Accuracy 72.9241422725842\n",
      "Training:: Epoch 11, Iteration 10, Current loss 2.1554036140441895 Accuracy 77.3654372474912\n",
      "Training:: Epoch 11, Iteration 20, Current loss 3.310319662094116 Accuracy 69.7398674541274\n",
      "Training:: Epoch 11, Iteration 30, Current loss 2.3090906143188477 Accuracy 73.99930234586203\n",
      "Training:: Epoch 11, Iteration 40, Current loss 2.146963357925415 Accuracy 74.07871101192096\n",
      "Training:: Epoch 11, Iteration 50, Current loss 2.9871954917907715 Accuracy 61.690622861054074\n",
      "Training:: Epoch 11, Iteration 60, Current loss 1.7953553199768066 Accuracy 68.38243658286885\n",
      "Training:: Epoch 11, Iteration 70, Current loss 2.415755033493042 Accuracy 69.46831074522774\n",
      "Training:: Epoch 11, Iteration 80, Current loss 3.742420196533203 Accuracy 57.0994887089902\n",
      "Training:: Epoch 11, Iteration 90, Current loss 3.4294891357421875 Accuracy 38.34586466165413\n",
      "Training:: Epoch 11, Iteration 100, Current loss 1.617110252380371 Accuracy 76.80725147951158\n",
      "Training:: Epoch 11, Iteration 110, Current loss 2.229832410812378 Accuracy 70.10309278350516\n",
      "Training:: Epoch 11, Iteration 120, Current loss 2.5696158409118652 Accuracy 68.96477816675002\n",
      "Training:: Epoch 11, Iteration 130, Current loss 2.519906997680664 Accuracy 68.3752299202943\n",
      "Training:: Epoch 11, Iteration 140, Current loss 2.9352002143859863 Accuracy 67.04288939051919\n",
      "Training:: Epoch 11, Iteration 150, Current loss 2.3941800594329834 Accuracy 67.18137254901961\n",
      "Starting Training\n",
      "Training:: Epoch 12, Iteration 0, Current loss 1.6961313486099243 Accuracy 79.13460775759499\n",
      "Training:: Epoch 12, Iteration 10, Current loss 2.1092371940612793 Accuracy 77.23170901013467\n",
      "Training:: Epoch 12, Iteration 20, Current loss 2.162801742553711 Accuracy 74.618715872717\n",
      "Training:: Epoch 12, Iteration 30, Current loss 2.4413840770721436 Accuracy 69.28492034086699\n",
      "Training:: Epoch 12, Iteration 40, Current loss 2.4460103511810303 Accuracy 70.31899418121364\n",
      "Training:: Epoch 12, Iteration 50, Current loss 2.6554293632507324 Accuracy 71.28452103243283\n",
      "Training:: Epoch 12, Iteration 60, Current loss 2.4884345531463623 Accuracy 76.41723356009071\n",
      "Training:: Epoch 12, Iteration 70, Current loss 2.157844066619873 Accuracy 64.99787264217841\n",
      "Training:: Epoch 12, Iteration 80, Current loss 2.0838828086853027 Accuracy 83.04733594559293\n",
      "Training:: Epoch 12, Iteration 90, Current loss 2.611825704574585 Accuracy 74.21806489330605\n",
      "Training:: Epoch 12, Iteration 100, Current loss 3.15503191947937 Accuracy 50.29172454852153\n",
      "Training:: Epoch 12, Iteration 110, Current loss 1.9616060256958008 Accuracy 70.76962943767815\n",
      "Training:: Epoch 12, Iteration 120, Current loss 3.4979031085968018 Accuracy 74.31595765927702\n",
      "Training:: Epoch 12, Iteration 130, Current loss 3.6831510066986084 Accuracy 63.17304747320061\n",
      "Training:: Epoch 12, Iteration 140, Current loss 2.5465729236602783 Accuracy 73.11621021465581\n",
      "Training:: Epoch 12, Iteration 150, Current loss 1.6738320589065552 Accuracy 71.96960841613092\n",
      "Starting Training\n",
      "Training:: Epoch 13, Iteration 0, Current loss 3.196497917175293 Accuracy 72.00742344571606\n",
      "Training:: Epoch 13, Iteration 10, Current loss 1.8272448778152466 Accuracy 55.60464245600899\n",
      "Training:: Epoch 13, Iteration 20, Current loss 2.354940891265869 Accuracy 83.239744189674\n",
      "Training:: Epoch 13, Iteration 30, Current loss 1.3617963790893555 Accuracy 76.30591630591631\n",
      "Training:: Epoch 13, Iteration 40, Current loss 2.9529452323913574 Accuracy 69.33506418577817\n",
      "Training:: Epoch 13, Iteration 50, Current loss 1.7123054265975952 Accuracy 67.1604938271605\n",
      "Training:: Epoch 13, Iteration 60, Current loss 2.3810598850250244 Accuracy 64.03098183439207\n",
      "Training:: Epoch 13, Iteration 70, Current loss 3.086887836456299 Accuracy 76.88055495339259\n",
      "Training:: Epoch 13, Iteration 80, Current loss 1.6653696298599243 Accuracy 85.63947078280044\n",
      "Training:: Epoch 13, Iteration 90, Current loss 1.6984463930130005 Accuracy 79.10292794351768\n",
      "Training:: Epoch 13, Iteration 100, Current loss 2.036879777908325 Accuracy 78.01107081504104\n",
      "Training:: Epoch 13, Iteration 110, Current loss 1.4570668935775757 Accuracy 81.47525676937441\n",
      "Training:: Epoch 13, Iteration 120, Current loss 1.9618688821792603 Accuracy 65.84149270275263\n",
      "Training:: Epoch 13, Iteration 130, Current loss 1.860342025756836 Accuracy 73.46938775510205\n",
      "Training:: Epoch 13, Iteration 140, Current loss 1.9386833906173706 Accuracy 78.7314670077211\n",
      "Training:: Epoch 13, Iteration 150, Current loss 2.7666139602661133 Accuracy 60.578279266572636\n",
      "Starting Training\n",
      "Training:: Epoch 14, Iteration 0, Current loss 1.5373451709747314 Accuracy 83.58585858585859\n",
      "Training:: Epoch 14, Iteration 10, Current loss 2.011282205581665 Accuracy 74.08872077028886\n",
      "Training:: Epoch 14, Iteration 20, Current loss 1.8172242641448975 Accuracy 63.11439114391144\n",
      "Training:: Epoch 14, Iteration 30, Current loss 2.0029985904693604 Accuracy 71.50150360165047\n",
      "Training:: Epoch 14, Iteration 40, Current loss 2.1162595748901367 Accuracy 76.06847169389125\n",
      "Training:: Epoch 14, Iteration 50, Current loss 1.7240345478057861 Accuracy 81.5509715573078\n",
      "Training:: Epoch 14, Iteration 60, Current loss 1.0744119882583618 Accuracy 66.67929634641408\n",
      "Training:: Epoch 14, Iteration 70, Current loss 2.375828981399536 Accuracy 75.9441872945596\n",
      "Training:: Epoch 14, Iteration 80, Current loss 1.8268742561340332 Accuracy 71.43777249306382\n",
      "Training:: Epoch 14, Iteration 90, Current loss 3.676990032196045 Accuracy 71.21335504885994\n",
      "Training:: Epoch 14, Iteration 100, Current loss 3.334547519683838 Accuracy 54.93491899990636\n",
      "Training:: Epoch 14, Iteration 110, Current loss 3.126394510269165 Accuracy 50.149870112569104\n",
      "Training:: Epoch 14, Iteration 120, Current loss 2.6180498600006104 Accuracy 65.8790987149196\n",
      "Training:: Epoch 14, Iteration 130, Current loss 2.255108118057251 Accuracy 69.62873406881265\n",
      "Training:: Epoch 14, Iteration 140, Current loss 1.8270825147628784 Accuracy 61.02039932435359\n",
      "Training:: Epoch 14, Iteration 150, Current loss 2.154590606689453 Accuracy 55.83601558529561\n",
      "Starting Training\n",
      "Training:: Epoch 15, Iteration 0, Current loss 2.323927879333496 Accuracy 84.3383779588669\n",
      "Training:: Epoch 15, Iteration 10, Current loss 2.6417627334594727 Accuracy 70.59793998305614\n",
      "Training:: Epoch 15, Iteration 20, Current loss 1.6966291666030884 Accuracy 71.66851090736643\n",
      "Training:: Epoch 15, Iteration 30, Current loss 1.434464693069458 Accuracy 76.66644513856583\n",
      "Training:: Epoch 15, Iteration 40, Current loss 2.2185676097869873 Accuracy 52.57692674097361\n",
      "Training:: Epoch 15, Iteration 50, Current loss 2.2304599285125732 Accuracy 64.54513767863367\n",
      "Training:: Epoch 15, Iteration 60, Current loss 2.7888760566711426 Accuracy 66.16547092047016\n",
      "Training:: Epoch 15, Iteration 70, Current loss 2.1241602897644043 Accuracy 77.46506827564306\n",
      "Training:: Epoch 15, Iteration 80, Current loss 2.1250622272491455 Accuracy 76.01420328450955\n",
      "Training:: Epoch 15, Iteration 90, Current loss 2.6016037464141846 Accuracy 68.2324554648596\n",
      "Training:: Epoch 15, Iteration 100, Current loss 2.1461102962493896 Accuracy 75.06382978723404\n",
      "Training:: Epoch 15, Iteration 110, Current loss 1.2784171104431152 Accuracy 72.55911647130564\n",
      "Training:: Epoch 15, Iteration 120, Current loss 2.1785266399383545 Accuracy 74.66168593177333\n",
      "Training:: Epoch 15, Iteration 130, Current loss 1.4628026485443115 Accuracy 79.15065459519312\n",
      "Training:: Epoch 15, Iteration 140, Current loss 1.3716548681259155 Accuracy 73.57069933639612\n",
      "Training:: Epoch 15, Iteration 150, Current loss 1.6247878074645996 Accuracy 74.82944056505337\n",
      "Calculating Expectation\n",
      "Epoch 15 iter 0, train acc.  72.830\n",
      "Epoch 15 iter 10, train acc.  76.345\n",
      "Epoch 15 iter 20, train acc.  75.105\n",
      "Epoch 15 iter 30, train acc.  73.318\n",
      "Epoch 15 iter 40, train acc.  73.801\n",
      "Epoch 15 iter 50, train acc.  74.452\n"
     ]
    },
    {
     "name": "stdout",
     "output_type": "stream",
     "text": [
      "Epoch 15 iter 60, train acc.  73.646\n",
      "Epoch 15 iter 70, train acc.  72.289\n",
      "Epoch 15 iter 80, train acc.  72.738\n",
      "Epoch 15 iter 90, train acc.  72.903\n",
      "Epoch 15 iter 100, train acc.  73.377\n",
      "Epoch 15 iter 110, train acc.  73.748\n",
      "Epoch 15 iter 120, train acc.  74.128\n",
      "Epoch 15 iter 130, train acc.  74.553\n",
      "Epoch 15 iter 140, train acc.  74.761\n",
      "Epoch 15 iter 150, train acc.  75.421\n",
      "Epoch 15 After Expectation, train acc.  75.421\n",
      "Train Boundary avergage error = 140.045\n",
      "Train From boundary avergage accuracy = 85.348\n",
      "Calculating Validation Data Accuracy\n",
      "Validation:: Epoch 15, Probability Accuracy 57.21247462402121\n",
      "Starting Training\n",
      "Training:: Epoch 16, Iteration 0, Current loss 5.463314533233643 Accuracy 69.44555245313123\n",
      "Training:: Epoch 16, Iteration 10, Current loss 4.2174973487854 Accuracy 76.8056898218478\n",
      "Training:: Epoch 16, Iteration 20, Current loss 4.266139984130859 Accuracy 71.55767541107066\n",
      "Training:: Epoch 16, Iteration 30, Current loss 8.12350082397461 Accuracy 58.54477111021614\n",
      "Training:: Epoch 16, Iteration 40, Current loss 3.7635045051574707 Accuracy 72.47941445562671\n",
      "Training:: Epoch 16, Iteration 50, Current loss 4.160165786743164 Accuracy 76.09852385856506\n",
      "Training:: Epoch 16, Iteration 60, Current loss 5.393625736236572 Accuracy 67.8863207876545\n",
      "Training:: Epoch 16, Iteration 70, Current loss 5.231472492218018 Accuracy 69.10020925366194\n",
      "Training:: Epoch 16, Iteration 80, Current loss 4.957423210144043 Accuracy 59.70328050129009\n",
      "Training:: Epoch 16, Iteration 90, Current loss 3.5615034103393555 Accuracy 77.91332098002883\n",
      "Training:: Epoch 16, Iteration 100, Current loss 3.4067656993865967 Accuracy 80.18607856650586\n",
      "Training:: Epoch 16, Iteration 110, Current loss 3.9123165607452393 Accuracy 68.57746021435531\n",
      "Training:: Epoch 16, Iteration 120, Current loss 4.557682991027832 Accuracy 71.8892056398798\n",
      "Training:: Epoch 16, Iteration 130, Current loss 3.6544251441955566 Accuracy 68.16232266578687\n",
      "Training:: Epoch 16, Iteration 140, Current loss 3.4634833335876465 Accuracy 81.02766798418972\n"
     ]
    },
    {
     "ename": "KeyboardInterrupt",
     "evalue": "",
     "output_type": "error",
     "traceback": [
      "\u001b[0;31m---------------------------------------------------------------------------\u001b[0m",
      "\u001b[0;31mKeyboardInterrupt\u001b[0m                         Traceback (most recent call last)",
      "\u001b[0;32m<ipython-input-20-88999ae0f409>\u001b[0m in \u001b[0;36m<module>\u001b[0;34m\u001b[0m\n\u001b[1;32m     22\u001b[0m                 \u001b[0mprob\u001b[0m \u001b[0;34m=\u001b[0m \u001b[0mtorch\u001b[0m\u001b[0;34m.\u001b[0m\u001b[0msoftmax\u001b[0m\u001b[0;34m(\u001b[0m\u001b[0mp\u001b[0m\u001b[0;34m,\u001b[0m \u001b[0mdim\u001b[0m\u001b[0;34m=\u001b[0m\u001b[0;36m1\u001b[0m\u001b[0;34m)\u001b[0m\u001b[0;34m\u001b[0m\u001b[0;34m\u001b[0m\u001b[0m\n\u001b[1;32m     23\u001b[0m                 \u001b[0mprob\u001b[0m \u001b[0;34m=\u001b[0m \u001b[0mprob\u001b[0m\u001b[0;34m.\u001b[0m\u001b[0mpermute\u001b[0m\u001b[0;34m(\u001b[0m\u001b[0;36m0\u001b[0m\u001b[0;34m,\u001b[0m \u001b[0;36m2\u001b[0m\u001b[0;34m,\u001b[0m \u001b[0;36m1\u001b[0m\u001b[0;34m)\u001b[0m\u001b[0;34m\u001b[0m\u001b[0;34m\u001b[0m\u001b[0m\n\u001b[0;32m---> 24\u001b[0;31m                 \u001b[0mes_loss\u001b[0m\u001b[0;34m,\u001b[0m \u001b[0m_\u001b[0m \u001b[0;34m=\u001b[0m \u001b[0mget_estimated_loss\u001b[0m\u001b[0;34m(\u001b[0m\u001b[0mprob\u001b[0m\u001b[0;34m,\u001b[0m \u001b[0mitem_1\u001b[0m\u001b[0;34m,\u001b[0m \u001b[0mitem\u001b[0m\u001b[0;34m[\u001b[0m\u001b[0;36m4\u001b[0m\u001b[0;34m]\u001b[0m\u001b[0;34m,\u001b[0m \u001b[0mitem_2\u001b[0m\u001b[0;34m)\u001b[0m\u001b[0;34m\u001b[0m\u001b[0;34m\u001b[0m\u001b[0m\n\u001b[0m\u001b[1;32m     25\u001b[0m                 \u001b[0mloss\u001b[0m \u001b[0;34m+=\u001b[0m \u001b[0mes_loss\u001b[0m\u001b[0;34m\u001b[0m\u001b[0;34m\u001b[0m\u001b[0m\n\u001b[1;32m     26\u001b[0m             loss += 0.15 * torch.mean(torch.clamp(\n",
      "\u001b[0;32m<ipython-input-15-307efd44ccf0>\u001b[0m in \u001b[0;36mget_estimated_loss\u001b[0;34m(data_feat, data_count, video_ids, labels_all)\u001b[0m\n\u001b[1;32m     31\u001b[0m             \u001b[0;32mfor\u001b[0m \u001b[0mele\u001b[0m \u001b[0;32min\u001b[0m \u001b[0mrange\u001b[0m\u001b[0;34m(\u001b[0m\u001b[0mcur_ele\u001b[0m\u001b[0;34m,\u001b[0m \u001b[0mnext_ele\u001b[0m\u001b[0;34m,\u001b[0m \u001b[0;36m1\u001b[0m\u001b[0;34m)\u001b[0m\u001b[0;34m:\u001b[0m\u001b[0;34m\u001b[0m\u001b[0;34m\u001b[0m\u001b[0m\n\u001b[1;32m     32\u001b[0m                 \u001b[0mstart_sum\u001b[0m \u001b[0;34m=\u001b[0m \u001b[0mcumsum_feat\u001b[0m\u001b[0;34m[\u001b[0m\u001b[0mcur_ele\u001b[0m \u001b[0;34m-\u001b[0m \u001b[0;36m1\u001b[0m\u001b[0;34m,\u001b[0m \u001b[0;34m:\u001b[0m\u001b[0;34m]\u001b[0m \u001b[0;32mif\u001b[0m \u001b[0mcur_ele\u001b[0m \u001b[0;34m>\u001b[0m \u001b[0;36m0\u001b[0m \u001b[0;32melse\u001b[0m \u001b[0;36m0\u001b[0m\u001b[0;34m\u001b[0m\u001b[0;34m\u001b[0m\u001b[0m\n\u001b[0;32m---> 33\u001b[0;31m                 \u001b[0msum_window_class_1\u001b[0m \u001b[0;34m=\u001b[0m \u001b[0;34m(\u001b[0m\u001b[0mcumsum_feat\u001b[0m\u001b[0;34m[\u001b[0m\u001b[0mele\u001b[0m\u001b[0;34m,\u001b[0m \u001b[0;34m:\u001b[0m\u001b[0;34m]\u001b[0m \u001b[0;34m-\u001b[0m \u001b[0mstart_sum\u001b[0m\u001b[0;34m)\u001b[0m\u001b[0;34m[\u001b[0m\u001b[0mlabel_cur_ele\u001b[0m\u001b[0;34m]\u001b[0m\u001b[0;34m\u001b[0m\u001b[0;34m\u001b[0m\u001b[0m\n\u001b[0m\u001b[1;32m     34\u001b[0m                 \u001b[0msum_window_class_2\u001b[0m \u001b[0;34m=\u001b[0m \u001b[0;34m(\u001b[0m\u001b[0mcumsum_feat\u001b[0m\u001b[0;34m[\u001b[0m\u001b[0mnext_ele\u001b[0m \u001b[0;34m-\u001b[0m \u001b[0;36m1\u001b[0m\u001b[0;34m,\u001b[0m \u001b[0;34m:\u001b[0m\u001b[0;34m]\u001b[0m \u001b[0;34m-\u001b[0m \u001b[0mcumsum_feat\u001b[0m\u001b[0;34m[\u001b[0m\u001b[0mele\u001b[0m\u001b[0;34m,\u001b[0m \u001b[0;34m:\u001b[0m\u001b[0;34m]\u001b[0m\u001b[0;34m)\u001b[0m\u001b[0;34m[\u001b[0m\u001b[0mlabel_next_ele\u001b[0m\u001b[0;34m]\u001b[0m\u001b[0;34m\u001b[0m\u001b[0;34m\u001b[0m\u001b[0m\n\u001b[1;32m     35\u001b[0m                 \u001b[0mcurrent_vid_prob_arr\u001b[0m\u001b[0;34m.\u001b[0m\u001b[0mappend\u001b[0m\u001b[0;34m(\u001b[0m\u001b[0;34m(\u001b[0m\u001b[0msum_window_class_1\u001b[0m \u001b[0;34m+\u001b[0m \u001b[0msum_window_class_2\u001b[0m\u001b[0;34m)\u001b[0m  \u001b[0;34m*\u001b[0m \u001b[0;34m(\u001b[0m\u001b[0mprob_each_video\u001b[0m\u001b[0;34m[\u001b[0m\u001b[0mi\u001b[0m\u001b[0;34m]\u001b[0m\u001b[0;34m[\u001b[0m\u001b[0mcount\u001b[0m\u001b[0;34m]\u001b[0m\u001b[0;34m.\u001b[0m\u001b[0mitem\u001b[0m\u001b[0;34m(\u001b[0m\u001b[0;34m)\u001b[0m\u001b[0;34m)\u001b[0m\u001b[0;34m)\u001b[0m\u001b[0;34m\u001b[0m\u001b[0;34m\u001b[0m\u001b[0m\n",
      "\u001b[0;31mKeyboardInterrupt\u001b[0m: "
     ]
    }
   ],
   "source": [
    "initialize_epoch = 15\n",
    "expectation_cal_gap = 5\n",
    "for epoch in range(1000):\n",
    "    print(\"Starting Training\")\n",
    "    model.train()\n",
    "    for i, item in enumerate(trainloader):\n",
    "        item_0 = item[0].to(device)\n",
    "        item_1 = item[1].to(device)\n",
    "        item_2 = item[2].to(device)\n",
    "        src_mask = torch.arange(item_2.shape[1], device=item_2.device)[None, :] < item_1[:, None]\n",
    "        src_mask_mse = src_mask.unsqueeze(1).to(torch.float32).to(device)\n",
    "        optimizer.zero_grad()\n",
    "        \n",
    "        middle_pred, predictions = model(item_0, src_mask_mse)\n",
    "        boundary_target_tensor = get_single_random(item_2, item[4])\n",
    "        \n",
    "        loss = 0\n",
    "        for p in predictions:\n",
    "            if epoch <= initialize_epoch:\n",
    "                loss += ce_criterion(p, boundary_target_tensor)\n",
    "            else:\n",
    "                prob = torch.softmax(p, dim=1)\n",
    "                prob = prob.permute(0, 2, 1)\n",
    "                es_loss, _ = get_estimated_loss(prob, item_1, item[4], item_2)\n",
    "                loss += es_loss\n",
    "            loss += 0.15 * torch.mean(torch.clamp(\n",
    "                mse_criterion(F.log_softmax(p[:, :, 1:], dim=1), F.log_softmax(p.detach()[:, :, :-1], dim=1)), min=0,\n",
    "                max=16) * src_mask_mse[:, :, 1:])\n",
    "\n",
    "        loss.backward()\n",
    "        optimizer.step()\n",
    "        \n",
    "        if i % 10 == 0:\n",
    "            with torch.no_grad():\n",
    "                pred = torch.argmax(predictions[-1], dim=1)\n",
    "                correct = float(torch.sum((pred == item_2) * src_mask).item())\n",
    "                total = float(torch.sum(src_mask).item())\n",
    "                print(f\"Training:: Epoch {epoch}, Iteration {i}, Current loss {loss.item()}\" +\n",
    "                      f\" Accuracy {correct * 100.0 / total}\")\n",
    "                \n",
    "    # Calculating Expectation Step\n",
    "    model.eval()\n",
    "    if (epoch >= initialize_epoch) and (epoch % expectation_cal_gap == 0):\n",
    "        print(\"Calculating Expectation\")\n",
    "        correct = 0.0\n",
    "        total = 0.0\n",
    "\n",
    "        for i, item in enumerate(trainloader):\n",
    "            with torch.no_grad():\n",
    "                item_0 = item[0].to(device)\n",
    "                item_1 = item[1].to(device)\n",
    "                item_2 = item[2].to(device)\n",
    "                src_mask = torch.arange(item_2.shape[1], device=item_2.device)[None, :] < item_1[:, None]\n",
    "                src_mask_mse = src_mask.unsqueeze(1).to(torch.float32).to(device)\n",
    "\n",
    "                middle_pred, predictions = model(item_0, src_mask_mse)\n",
    "                prob = torch.softmax(predictions[-1], dim=1)\n",
    "                prob = prob.permute(0, 2, 1)\n",
    "                calculate_element_probb(prob, item_1, item[4], item_2)\n",
    "                \n",
    "                if i % 10 == 0:\n",
    "                    pred = torch.argmax(prob, dim=2)\n",
    "                    correct += float(torch.sum((pred == item_2) * src_mask).item())\n",
    "                    total += float(torch.sum(src_mask).item())\n",
    "                    print(f\"Epoch {epoch} iter {i}, train acc. {correct * 100.0 / total: .3f}\")\n",
    "                    \n",
    "        print(f\"Epoch {epoch} After Expectation, train acc. {correct * 100.0 / total: .3f}\")\n",
    "        get_boundary_err()\n",
    "\n",
    "    if epoch % 5 == 0:\n",
    "        print(\"Calculating Validation Data Accuracy\")\n",
    "        correct = 0.0\n",
    "        total = 0.0\n",
    "        for i, item in enumerate(testloader):\n",
    "            with torch.no_grad():\n",
    "                item_0 = item[0].to(device)\n",
    "                item_1 = item[1].to(device)\n",
    "                item_2 = item[2].to(device)\n",
    "                src_mask = torch.arange(item_2.shape[1], device=item_2.device)[None, :] < item_1[:, None]\n",
    "                src_mask_mse = src_mask.unsqueeze(1).to(torch.float32).to(device)\n",
    "\n",
    "                middle_pred, predictions = model(item_0, src_mask_mse)\n",
    "                \n",
    "                pred = torch.argmax(predictions[-1], dim=1)\n",
    "                correct += float(torch.sum((pred == item_2) * src_mask).item())\n",
    "                total += float(torch.sum(src_mask).item())\n",
    "\n",
    "        print(f\"Validation:: Epoch {epoch}, Probability Accuracy {correct * 100.0 / total}\")"
   ]
  },
  {
   "cell_type": "code",
   "execution_count": null,
   "metadata": {},
   "outputs": [],
   "source": [
    "def get_selected_labels(labels_arr):\n",
    "    unique_ids = []\n",
    "    \n",
    "    prev_ele = None\n",
    "    start = 0\n",
    "    for i, ele in enumerate(labels_arr):\n",
    "        if prev_ele is not None and prev_ele != ele:\n",
    "            select_item = np.random.randint(start, i, 1)[0]\n",
    "            unique_ids.append(select_item)\n",
    "            start = i\n",
    "        prev_ele = ele\n",
    "    \n",
    "    select_item = np.random.randint(start, len(labels_arr), 1)[0]\n",
    "    unique_ids.append(select_item)\n",
    "    return unique_ids\n",
    "# get_selected_labels(ab)"
   ]
  },
  {
   "cell_type": "code",
   "execution_count": 28,
   "metadata": {},
   "outputs": [],
   "source": [
    "def get_boundary(labels_arr):\n",
    "    unique_ids = []\n",
    "    \n",
    "    prev_ele = None\n",
    "    start = 0\n",
    "    for i, ele in enumerate(labels_arr):\n",
    "        if prev_ele is not None and prev_ele != ele:\n",
    "            unique_ids.append(i - 1)\n",
    "            start = i\n",
    "        prev_ele = ele\n",
    "    \n",
    "    unique_ids.append(len(labels_arr) - 1)\n",
    "    return unique_ids\n",
    "# get_boundary(np.array([2, 2, 2, 2, 3, 3, 4, 4, 4, 1, 1, 1, 1]))"
   ]
  },
  {
   "cell_type": "code",
   "execution_count": null,
   "metadata": {},
   "outputs": [],
   "source": [
    "loaded_vidid_selected_frames = {}\n",
    "for batch in trainloader:\n",
    "    count_all = batch[1]\n",
    "    labels_all = batch[2]\n",
    "    video_ids = batch[5]\n",
    "    for i, count in enumerate(count_all):\n",
    "        video_id = video_ids[i]\n",
    "        labels = labels_all[i][:count]\n",
    "        selected_ids = get_selected_labels(labels)\n",
    "\n",
    "        loaded_vidid_selected_frames[video_id] = selected_ids"
   ]
  },
  {
   "cell_type": "code",
   "execution_count": 29,
   "metadata": {},
   "outputs": [],
   "source": [
    "video_id_boundary_frames = {}\n",
    "for batch in trainloader:\n",
    "    count_all = batch[1]\n",
    "    labels_all = batch[2]\n",
    "    video_ids = batch[4]\n",
    "    for i, count in enumerate(count_all):\n",
    "        \n",
    "        labels = labels_all[i][:count]\n",
    "        selected_ids = get_boundary(labels)\n",
    "        video_id = video_ids[i]\n",
    "        video_id_boundary_frames[video_id] = selected_ids"
   ]
  },
  {
   "cell_type": "code",
   "execution_count": 34,
   "metadata": {},
   "outputs": [],
   "source": [
    "for ele in video_id_boundary_frames.keys():\n",
    "    if len(video_id_boundary_frames[ele]) != len(loaded_vidid_selected_frames[ele + \".txt\"]):\n",
    "        print(ele)"
   ]
  },
  {
   "cell_type": "code",
   "execution_count": 35,
   "metadata": {},
   "outputs": [],
   "source": [
    "import pickle\n",
    "# pickle.dump(video_id_boundary_frames, open(\"dump_dir/video_id_boundary_frames_dict.pkl\", \"wb\"))\n",
    "# pickle.dump(loaded_vidid_selected_frames, open(\"dump_dir/loaded_vidid_selected_frames_dict.pkl\", \"wb\"))\n",
    "pickle.dump(video_id_boundary_frames, open(\"dump_dir/chunk_1_video_id_boundary_frames_dict.pkl\", \"wb\"))"
   ]
  },
  {
   "cell_type": "code",
   "execution_count": null,
   "metadata": {},
   "outputs": [],
   "source": [
    "def get_ensemble_out(outp):\n",
    "    \n",
    "    weights = [1, 1, 1, 1, 0, 0]\n",
    "    ensemble_prob = F.softmax(outp[0], dim=1) * weights[0] / sum(weights)\n",
    "\n",
    "    for i, outp_ele in enumerate(outp[1]):\n",
    "        upped_logit = F.upsample(outp_ele, size=outp[0].shape[-1], mode='linear', align_corners=True)\n",
    "        ensemble_prob = ensemble_prob + F.softmax(upped_logit, dim=1) * weights[i + 1] / sum(weights)\n",
    "    \n",
    "    return ensemble_prob"
   ]
  },
  {
   "cell_type": "code",
   "execution_count": null,
   "metadata": {},
   "outputs": [],
   "source": [
    "model.load_state_dict(torch.load('/mnt/ssd/all_users/dipika/ms_tcn/data/breakfast/results/c2f-tcn-model/split2_c2ftcn_model.wt'))"
   ]
  },
  {
   "cell_type": "code",
   "execution_count": null,
   "metadata": {},
   "outputs": [],
   "source": [
    "model.eval()\n",
    "for i, item in enumerate(trainloader):\n",
    "    with torch.no_grad():\n",
    "        item[0] = item[0].to(device)\n",
    "        item[1] = item[1].to(device)\n",
    "        y, y_list, _ = model(item[0].permute(0,2,1))\n",
    "        \n",
    "        probs = get_ensemble_out([y, y_list])\n",
    "        features = torch.log(probs + 1e-4).permute(0,2,1)\n",
    "        get_estimated_boundary(features, item[1], item[4])\n",
    "get_boundary_err()"
   ]
  },
  {
   "cell_type": "code",
   "execution_count": null,
   "metadata": {},
   "outputs": [],
   "source": [
    "with torch.no_grad():\n",
    "    idx = 4\n",
    "\n",
    "    cur_vid_feat = features[idx]\n",
    "    cur_vidid = item[4][idx]\n",
    "\n",
    "    selected_frames = torch.tensor(loaded_vidid_selected_frames[cur_vidid + \".txt\"], dtype=torch.long, \n",
    "                                   device=cur_vid_feat.device)\n",
    "    bound_list = torch.tensor(boundaries_dict[cur_vidid], dtype=selected_frames.dtype, device=selected_frames.device)\n",
    "\n",
    "    cumsum_feat = torch.cumsum(cur_vid_feat, dim=0)\n",
    "\n",
    "    prob_each_segment = prob_vals_per_segment(selected_frames, cur_vid_feat, cumsum_feat)"
   ]
  },
  {
   "cell_type": "code",
   "execution_count": 23,
   "metadata": {},
   "outputs": [
    {
     "data": {
      "text/plain": [
       "(0, 1)"
      ]
     },
     "execution_count": 23,
     "metadata": {},
     "output_type": "execute_result"
    },
    {
     "data": {
      "image/png": "[encoded data removed]",
      "text/plain": [
       "<Figure size 1296x360 with 1 Axes>"
      ]
     },
     "metadata": {
      "needs_background": "light"
     },
     "output_type": "display_data"
    }
   ],
   "source": [
    "import matplotlib.pyplot as plt\n",
    "fig = plt.figure(figsize=(18, 5))\n",
    "\n",
    "ymax = 1\n",
    "\n",
    "plt.plot([0, item[1][idx].item()], [0, 0])\n",
    "\n",
    "for pivot in loaded_vidid_selected_frames[cur_vidid]:\n",
    "    plt.plot([pivot, pivot], [0, ymax], '--')\n",
    "    \n",
    "for pivot in video_id_boundary_frames[cur_vidid]:\n",
    "    plt.plot([pivot, pivot], [0, ymax])\n",
    "    \n",
    "all_prob = []\n",
    "for i, segment in enumerate(prob_each_segment):\n",
    "#     all_prob.append(segment/torch.sum(segment))\n",
    "    prob = segment / torch.sum(segment)\n",
    "    prob = prob.cpu().numpy()\n",
    "    xs = np.arange(loaded_vidid_selected_frames[cur_vidid][i], loaded_vidid_selected_frames[cur_vidid][i+1])\n",
    "    plt.plot(xs, prob, '*')\n",
    "\n",
    "plt.ylim([0, ymax])\n",
    "# all_prob = torch.cat(all_prob).cpu().numpy()\n",
    "# xs = np.arange(loaded_vidid_selected_frames[cur_vidid][0] + 1, loaded_vidid_selected_frames[cur_vidid][-1])\n",
    "# plt.plot(xs, all_prob, '-')"
   ]
  },
  {
   "cell_type": "code",
   "execution_count": 49,
   "metadata": {},
   "outputs": [
    {
     "data": {
      "text/plain": [
       "(5.1846523, 2.9907308)"
      ]
     },
     "execution_count": 49,
     "metadata": {},
     "output_type": "execute_result"
    }
   ],
   "source": [
    "np.max(prob), np.min(prob)"
   ]
  },
  {
   "cell_type": "code",
   "execution_count": 41,
   "metadata": {},
   "outputs": [
    {
     "data": {
      "image/png": "[encoded data removed]",
      "text/plain": [
       "<Figure size 1296x360 with 1 Axes>"
      ]
     },
     "metadata": {
      "needs_background": "light"
     },
     "output_type": "display_data"
    }
   ],
   "source": [
    "plt_arr = []\n",
    "for i in range(item[1][idx].item()):\n",
    "    plt_arr.append(cur_vid_feat[i,item[2][idx][i]].item()) \n",
    "\n",
    "fig = plt.figure(figsize=(18, 5))\n",
    "plt.plot(np.arange(item[1][idx].item()), plt_arr)\n",
    "\n",
    "for pivot in video_id_boundary_frames[cur_vidid]:\n",
    "    plt.plot([pivot, pivot], [0, 14])"
   ]
  },
  {
   "cell_type": "code",
   "execution_count": 36,
   "metadata": {},
   "outputs": [
    {
     "data": {
      "text/plain": [
       "torch.Size([334, 334])"
      ]
     },
     "execution_count": 36,
     "metadata": {},
     "output_type": "execute_result"
    }
   ],
   "source": []
  },
  {
   "cell_type": "code",
   "execution_count": 37,
   "metadata": {},
   "outputs": [
    {
     "data": {
      "text/plain": [
       "torch.Size([334, 334])"
      ]
     },
     "execution_count": 37,
     "metadata": {},
     "output_type": "execute_result"
    }
   ],
   "source": [
    "cur_features_shortened = cur_vid_feat[:item[1][idx]]\n",
    "cur_features_shortened[:, item[2][idx][:item[1][idx]]].shape\n",
    "for"
   ]
  },
  {
   "cell_type": "code",
   "execution_count": 26,
   "metadata": {},
   "outputs": [
    {
     "data": {
      "text/plain": [
       "tensor([47, 47, 47, 47, 47, 47, 47,  4,  4,  4,  4,  4,  4,  4,  4])"
      ]
     },
     "execution_count": 26,
     "metadata": {},
     "output_type": "execute_result"
    }
   ],
   "source": [
    "item[2][idx][video_id_boundary_frames[cur_vidid][1]-6:video_id_boundary_frames[cur_vidid][1]+9]"
   ]
  },
  {
   "cell_type": "code",
   "execution_count": 25,
   "metadata": {},
   "outputs": [
    {
     "data": {
      "text/plain": [
       "6"
      ]
     },
     "execution_count": 25,
     "metadata": {},
     "output_type": "execute_result"
    }
   ],
   "source": [
    "video_id_boundary_frames[cur_vidid][0]-6,video_id_boundary_frames[cur_vidid][0]+9"
   ]
  },
  {
   "cell_type": "code",
   "execution_count": 27,
   "metadata": {},
   "outputs": [
    {
     "data": {
      "text/plain": [
       "tensor([[ 1.0794, 13.3350],\n",
       "        [ 1.0831, 13.5102],\n",
       "        [ 1.1767, 13.7662],\n",
       "        [ 1.3750, 14.0177],\n",
       "        [ 1.7298, 14.1727],\n",
       "        [ 2.1706, 14.0367],\n",
       "        [ 2.7338, 13.4563],\n",
       "        [ 4.5600, 12.1745],\n",
       "        [ 7.8450, 10.3246],\n",
       "        [11.0151,  8.3563],\n",
       "        [13.4775,  6.6546],\n",
       "        [14.1836,  5.2898],\n",
       "        [11.2142,  4.2791],\n",
       "        [ 5.9829,  3.5694],\n",
       "        [ 2.3440,  2.9389],\n",
       "        [ 0.7406,  2.3515]], device='cuda:0')"
      ]
     },
     "execution_count": 27,
     "metadata": {},
     "output_type": "execute_result"
    }
   ],
   "source": [
    "cur_vid_feat[video_id_boundary_frames[cur_vidid][1]-7:video_id_boundary_frames[cur_vidid][1]+9][:,[47,4]]"
   ]
  },
  {
   "cell_type": "code",
   "execution_count": 19,
   "metadata": {},
   "outputs": [],
   "source": [
    "def add_frames_and_get_classification_value(model_output, count_list, video_ids_list, labels_all, p_criterion):\n",
    "    new_selected_frames = {}\n",
    "#     new_selected_frames_probs_values = {}\n",
    "#     new_selected_frames_labels = {}\n",
    "    \n",
    "    labels_arr = []\n",
    "    probs_arr = []\n",
    "    \n",
    "    for i, video_id in enumerate(video_ids_list):\n",
    "        current_boundary_frames = boundaries_dict[video_id]\n",
    "        current_video_logits = model_output[i].T\n",
    "        current_video_count = count_list[i]\n",
    "        current_selected_frames = loaded_vidid_selected_frames[video_id]\n",
    "        labels = labels_all[i]\n",
    "        cur_seg_start = 0\n",
    "        for seg_num, ele in enumerate(current_boundary_frames):\n",
    "            cur_seg_end = ele + 1\n",
    "            total_seg_len = cur_seg_end - cur_seg_start\n",
    "            per_frames_far_from_boundary = int(0.3 * total_seg_len)\n",
    "            new_frames_start = cur_seg_start + per_frames_far_from_boundary\n",
    "            new_frames_end = cur_seg_end - per_frames_far_from_boundary\n",
    "            \n",
    "            frames_added = list(range(new_frames_start, new_frames_end))\n",
    "            frames_added.append(current_selected_frames[seg_num])\n",
    "            frames_added = list(set(frames_added))\n",
    "            frames_added.sort()\n",
    "            new_selected_frames[video_id] = frames_added\n",
    "\n",
    "            \n",
    "            labels_seg = torch.stack([labels[current_selected_frames[seg_num]]] * len(frames_added))\n",
    "            frames_added = torch.tensor(np.array(frames_added), dtype=torch.long, device=current_video_logits.device)\n",
    "            prob_seg = current_video_logits[frames_added, :]\n",
    "            \n",
    "            labels_arr.append(labels_seg)\n",
    "            probs_arr.append(prob_seg)\n",
    "            \n",
    "            cur_seg_start = cur_seg_end\n",
    "            \n",
    "    labels_arr = torch.cat(labels_arr)\n",
    "    probs_arr = torch.cat(probs_arr)\n",
    "    loss = p_criterion(probs_arr, labels_arr)\n",
    "    return loss"
   ]
  }
 ],
 "metadata": {
  "kernelspec": {
   "display_name": "Python 3",
   "language": "python",
   "name": "python3"
  },
  "language_info": {
   "codemirror_mode": {
    "name": "ipython",
    "version": 3
   },
   "file_extension": ".py",
   "mimetype": "text/x-python",
   "name": "python",
   "nbconvert_exporter": "python",
   "pygments_lexer": "ipython3",
   "version": "3.7.3"
  }
 },
 "nbformat": 4,
 "nbformat_minor": 4
}
