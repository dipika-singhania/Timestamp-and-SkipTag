{
 "cells": [
  {
   "cell_type": "code",
   "execution_count": 2,
   "metadata": {},
   "outputs": [],
   "source": [
    "%load_ext autoreload\n",
    "%autoreload 2"
   ]
  },
  {
   "cell_type": "code",
   "execution_count": 3,
   "metadata": {},
   "outputs": [],
   "source": [
    "import wandb\n",
    "import os, sys\n",
    "import glob\n",
    "import numpy as np\n",
    "import torch\n",
    "import pandas as pd\n",
    "import random\n",
    "import torch.nn as nn\n",
    "import pickle\n",
    "import torch.nn.functional as F\n",
    "import matplotlib.pyplot as plt\n",
    "import multiprocessing as mp\n",
    "from time import time"
   ]
  },
  {
   "cell_type": "code",
   "execution_count": 4,
   "metadata": {},
   "outputs": [],
   "source": [
    "from mstcn_model import *\n",
    "from utility.adaptive_data_loader import Breakfast, collate_fn_override\n",
    "from utils import calculate_mof, dotdict"
   ]
  },
  {
   "cell_type": "code",
   "execution_count": 5,
   "metadata": {},
   "outputs": [
    {
     "name": "stderr",
     "output_type": "stream",
     "text": [
      "Failed to detect the name of this notebook, you can set it manually with the WANDB_NOTEBOOK_NAME environment variable to enable code saving.\n",
      "\u001b[34m\u001b[1mwandb\u001b[0m: Currently logged in as: \u001b[33mdipika_singhania\u001b[0m (use `wandb login --relogin` to force relogin)\n"
     ]
    },
    {
     "data": {
      "text/plain": [
       "True"
      ]
     },
     "execution_count": 5,
     "metadata": {},
     "output_type": "execute_result"
    }
   ],
   "source": [
    "os.environ[\"WANDB_API_KEY\"] = \"992b3b1371ba79f48484cfca522b3786d7fa52c2\"\n",
    "wandb.login()"
   ]
  },
  {
   "cell_type": "code",
   "execution_count": 6,
   "metadata": {},
   "outputs": [],
   "source": [
    "seed = 42\n",
    "\n",
    "# Ensure deterministic behavior\n",
    "def set_seed():\n",
    "    torch.backends.cudnn.benchmark = False\n",
    "    torch.backends.cudnn.deterministic = True\n",
    "    random.seed(seed)\n",
    "    np.random.seed(seed)\n",
    "    torch.manual_seed(seed)\n",
    "    torch.cuda.manual_seed_all(seed)\n",
    "    torch.cuda.manual_seed(seed)\n",
    "set_seed()\n",
    "\n",
    "# Device configuration\n",
    "os.environ['CUDA_VISIBLE_DEVICES']='7'\n",
    "# os.environ['CUDA_LAUNCH_BLOCKING']='6'\n",
    "device = torch.device(\"cuda:0\" if torch.cuda.is_available() else \"cpu\")"
   ]
  },
  {
   "cell_type": "code",
   "execution_count": 7,
   "metadata": {},
   "outputs": [
    {
     "name": "stdout",
     "output_type": "stream",
     "text": [
      "{'epochs': 500, 'num_class': 48, 'batch_size': 20, 'learning_rate': 0.0005, 'weight_decay': 0, 'dataset': 'Breakfast', 'architecture': 'unet-ensemble', 'features_file_name': '/mnt/ssd/all_users/dipika/ms_tcn/data/breakfast/features/', 'chunk_size': 1, 'max_frames_per_video': 1200, 'feature_size': 2048, 'ground_truth_files_dir': '/mnt/ssd/all_users/dipika/ms_tcn/data/breakfast/groundTruth/', 'label_id_csv': '/mnt/ssd/all_users/dipika/ms_tcn/data/breakfast/mapping.csv', 'gamma': 0.1, 'step_size': 500, 'split': 1, 'output_dir': '/mnt/ssd/all_users/dipika/ms_tcn/data/breakfast//results/em-gap-select-mstcn/split1/', 'project_name': 'breakfast-split-1', 'train_split_file': '/mnt/ssd/all_users/dipika/ms_tcn/data/breakfast/splits/train.split1.bundle', 'test_split_file': '/mnt/ssd/all_users/dipika/ms_tcn/data/breakfast/splits/test.split1.bundle', 'all_files': '/mnt/ssd/all_users/dipika/ms_tcn/data/breakfast/splits/all_files.txt', 'cutoff': 8, 'data_per': 0.2, 'budget': 40, 'semi_supervised_split': '/mnt/ssd/all_users/dipika/ms_tcn/data/breakfast/semi_supervised/train.split1_amt0.2.bundle'}\n"
     ]
    }
   ],
   "source": [
    "config = dotdict(\n",
    "    epochs=500,\n",
    "    num_class=48,\n",
    "    batch_size=20,\n",
    "    learning_rate=5e-4,\n",
    "    weight_decay=0,\n",
    "    dataset=\"Breakfast\",\n",
    "    architecture=\"unet-ensemble\",\n",
    "    features_file_name=\"/mnt/ssd/all_users/dipika/ms_tcn/data/breakfast/features/\",\n",
    "    chunk_size=1,\n",
    "    max_frames_per_video=1200,\n",
    "    feature_size=2048,\n",
    "    ground_truth_files_dir=\"/mnt/ssd/all_users/dipika/ms_tcn/data/breakfast/groundTruth/\",\n",
    "    label_id_csv=\"/mnt/ssd/all_users/dipika/ms_tcn/data/breakfast/mapping.csv\",\n",
    "    gamma=0.1,\n",
    "    step_size=500,\n",
    "    split=1,\n",
    "#     output_dir=\"/mnt/data/ar-datasets/dipika/breakfast/ms_tcn/data/breakfast/results/unsuper-finetune-split2-0.05-data-llr/\",\n",
    "    output_dir=\"/mnt/ssd/all_users/dipika/ms_tcn/data/breakfast//results/em-gap-select-mstcn/\",\n",
    "    project_name=\"breakfast-split-1\",\n",
    "    train_split_file=\"/mnt/ssd/all_users/dipika/ms_tcn/data/breakfast/splits/train.split{}.bundle\",\n",
    "    test_split_file=\"/mnt/ssd/all_users/dipika/ms_tcn/data/breakfast/splits/test.split{}.bundle\",\n",
    "    all_files=\"/mnt/ssd/all_users/dipika/ms_tcn/data/breakfast/splits/all_files.txt\",\n",
    "    cutoff=8,\n",
    "    data_per = 0.2,\n",
    "    budget=40,\n",
    "    semi_supervised_split=\"/mnt/ssd/all_users/dipika/ms_tcn/data/breakfast/semi_supervised/train.split{}_amt{}.bundle\")\n",
    "\n",
    "config.train_split_file = config.train_split_file.format(config.split)\n",
    "config.semi_supervised_split = config.semi_supervised_split.format(config.split, config.data_per)\n",
    "config.test_split_file = config.test_split_file.format(config.split)\n",
    "\n",
    "if not os.path.exists(config.output_dir):\n",
    "    os.mkdir(config.output_dir)\n",
    "\n",
    "config.output_dir = config.output_dir + f\"split{config.split}\"\n",
    "if not os.path.exists(config.output_dir):\n",
    "    os.mkdir(config.output_dir)\n",
    "config.output_dir = config.output_dir +  \"/\"\n",
    "print(config)"
   ]
  },
  {
   "cell_type": "code",
   "execution_count": 8,
   "metadata": {},
   "outputs": [
    {
     "name": "stdout",
     "output_type": "stream",
     "text": [
      "Number of videos logged in train fold is 1460\n",
      "Number of videos not found in train fold is 0\n",
      "Number of videos logged in test fold is 252\n",
      "Number of videos not found in test fold is 0\n"
     ]
    }
   ],
   "source": [
    "traindataset = Breakfast(config, fold='train', fold_file_name=config.train_split_file)\n",
    "testdataset = Breakfast(config, fold='test', fold_file_name=config.test_split_file)"
   ]
  },
  {
   "cell_type": "code",
   "execution_count": 9,
   "metadata": {},
   "outputs": [],
   "source": [
    "def _init_fn(worker_id):\n",
    "    np.random.seed(int(seed))\n",
    "trainloader = torch.utils.data.DataLoader(dataset=traindataset,\n",
    "                                          batch_size=config.batch_size, \n",
    "                                          shuffle=True,\n",
    "                                          pin_memory=True, num_workers=4, \n",
    "                                          collate_fn=lambda x: collate_fn_override(x, config.max_frames_per_video),\n",
    "                                          worker_init_fn=_init_fn)\n",
    "testloader = torch.utils.data.DataLoader(dataset=testdataset,\n",
    "                                          batch_size=config.batch_size, \n",
    "                                          shuffle=False,\n",
    "                                          pin_memory=True, num_workers=4,\n",
    "                                          collate_fn=lambda x: collate_fn_override(x, config.max_frames_per_video),\n",
    "                                          worker_init_fn=_init_fn)"
   ]
  },
  {
   "cell_type": "code",
   "execution_count": 10,
   "metadata": {},
   "outputs": [],
   "source": [
    "df=pd.read_csv(config.label_id_csv)\n",
    "label_id_to_label_name = {}\n",
    "label_name_to_label_id_dict = {}\n",
    "for i, ele in df.iterrows():\n",
    "    label_id_to_label_name[ele.label_id] = ele.label_name\n",
    "    label_name_to_label_id_dict[ele.label_name] = ele.label_id"
   ]
  },
  {
   "cell_type": "code",
   "execution_count": 11,
   "metadata": {},
   "outputs": [],
   "source": [
    "# item = iter(trainloader).next()\n",
    "# print(item[0]) # -- data feature\n",
    "# print(item[1]) # -- valid count\n",
    "# item[2] # -- Actual labels\n",
    "# print(item[5]) # video names\n",
    "# video_id_boundary_frames"
   ]
  },
  {
   "cell_type": "code",
   "execution_count": 12,
   "metadata": {},
   "outputs": [],
   "source": [
    "# selected_frames_dict = pickle.load(open(\"data/breakfast_len_assum_annotations.pkl\", 'rb'))\n",
    "# loaded_vidid_selected_frames\n",
    "boundary_frames_dict = pickle.load(open(\"data/breakfast_boundary_annotations.pkl\", \"rb\"))\n",
    "# video_id_boundary_frames"
   ]
  },
  {
   "cell_type": "code",
   "execution_count": 13,
   "metadata": {},
   "outputs": [],
   "source": [
    "selected_frames_dict = pickle.load(open(\"data/breakfast_gap_selected_frames.pkl\", \"rb\"))\n",
    "# print(selected_frames_dict)"
   ]
  },
  {
   "cell_type": "code",
   "execution_count": 14,
   "metadata": {},
   "outputs": [],
   "source": [
    "loaded_mean_var_actions = pickle.load(open(\"data/breakfast_meanvar_actions.pkl\", \"rb\"))\n",
    "mat_poisson = pickle.load(open(\"data/breakfast_possion_class_dict.pkl\", \"rb\"))\n",
    "\n",
    "def get_possion_prob(minlen, maxlen, cur_class):\n",
    "    prob = mat_poisson[label_id_to_label_name[cur_class]][minlen:maxlen]\n",
    "    return torch.tensor(prob)\n",
    "\n",
    "\n",
    "def get_possion_prob_for_all_class(minlen, maxlen):\n",
    "    ele_list = []\n",
    "    for i in range(config.num_class):\n",
    "        prob = mat_poisson[label_id_to_label_name[i]][minlen:maxlen]\n",
    "        ele_list.append(torch.tensor(prob))\n",
    "    return torch.stack(ele_list, dim=-1)"
   ]
  },
  {
   "cell_type": "code",
   "execution_count": 15,
   "metadata": {},
   "outputs": [],
   "source": [
    "prob_video_each_segment_dict = {}"
   ]
  },
  {
   "cell_type": "code",
   "execution_count": 16,
   "metadata": {},
   "outputs": [],
   "source": [
    "def prob_vals_per_segment(selected_frames, cur_vid_feat, labels, first_ele_flag, last_ele_flag, vidid):\n",
    "    prob_each_segment = []\n",
    "    LOW_VAL = -10000000\n",
    "    num_frames = len(cur_vid_feat)\n",
    "    log_probs = torch.log(cur_vid_feat + 1e-8)\n",
    "    cumsum_feat = torch.cumsum(log_probs, dim=0)\n",
    "    device = cur_vid_feat.device\n",
    "    prev_boundary = 0\n",
    "    per_frame_weights = torch.zeros((num_frames, config.num_class))\n",
    "    start_time = time()\n",
    "    \n",
    "    if first_ele_flag is True:\n",
    "        cur_ele = 0\n",
    "        label_cur_ele = config.num_class - 1\n",
    "        next_ele = selected_frames[0]\n",
    "        label_next_ele = labels[0]\n",
    "        \n",
    "        indices = torch.arange(cur_ele, next_ele)\n",
    "        strt_index = cumsum_feat[cur_ele - 1, :][None, :] if cur_ele > 0 else 0\n",
    "        end_index = cumsum_feat[next_ele - 1, :][None, :]\n",
    "        left_sum = (cumsum_feat[indices, :] - strt_index)[:,label_cur_ele]\n",
    "        right_sum = (end_index - cumsum_feat[indices, :])[:,label_next_ele]\n",
    "        \n",
    "        prob = torch.softmax((left_sum + right_sum), dim=0)\n",
    "        per_frame_weights[cur_ele, label_cur_ele] = 1.0\n",
    "        cumm_prob = torch.cumsum(prob, dim=0)\n",
    "        per_frame_weights[1:next_ele, label_cur_ele] = 1 - cumm_prob[:-1]\n",
    "        per_frame_weights[1:next_ele, label_next_ele] = cumm_prob[:-1]\n",
    "        \n",
    "        prev_boundary = round(np.sum(np.arange(cur_ele, next_ele, 1) * prob.detach().cpu().numpy()).item())\n",
    "        prob_each_segment.append(prob)\n",
    "\n",
    "    for i, cur_ele in enumerate(selected_frames[:-1]):\n",
    "        next_ele = selected_frames[i + 1]\n",
    "        label_cur_ele = labels[i]\n",
    "        label_next_ele = labels[i + 1]\n",
    "        seg_len = next_ele - cur_ele\n",
    "        mat_b1_b2_c_prob = LOW_VAL * torch.ones((seg_len, seg_len, config.num_class), dtype=cumsum_feat.dtype)\n",
    "        b1_prior = get_possion_prob(cur_ele-prev_boundary, next_ele-prev_boundary, label_cur_ele).to(device)\n",
    "        \n",
    "#         b2_prior = get_possion_prob_for_all_class(0, seg_len).to(device)\n",
    "#         combined_prior = b1_prior[:,None,None] + torch.flip(b2_prior, dims=[0])[None,:,:]\n",
    "        \n",
    "        for b1 in range(cur_ele, next_ele - 1):\n",
    "\n",
    "            cur_boundary_len = b1 - prev_boundary\n",
    "            strt_index = cumsum_feat[cur_ele - 1, label_cur_ele] if cur_ele > 0 else 0\n",
    "            \n",
    "            left_sum = (cumsum_feat[b1, label_cur_ele] - strt_index)\n",
    "            right_sum = cumsum_feat[next_ele - 1, label_next_ele] - cumsum_feat[b1+1:next_ele, label_next_ele] # mid_seg_len\n",
    "            \n",
    "            mid_sum = (cumsum_feat[b1+1:next_ele, :] - cumsum_feat[b1, :])  # mid_seg_len\n",
    "            \n",
    "            b2_prior = get_possion_prob_for_all_class(1, next_ele-b1)  # mid_seg_len x num_class\n",
    "            \n",
    "            mat_b1_b2_c_prob[b1-cur_ele, b1+1-cur_ele:next_ele-cur_ele] = (left_sum + right_sum[:,None] + mid_sum) \\\n",
    "                                                                            + b1_prior[b1-cur_ele] + b2_prior\n",
    "        \n",
    "        \n",
    "#         strt_index = cumsum_feat[cur_ele - 1, label_cur_ele] if cur_ele > 0 else 0\n",
    "#         left_sum = (cumsum_feat[cur_ele:next_ele, label_cur_ele] - strt_index)\n",
    "        \n",
    "#         right_sum = cumsum_feat[next_ele - 1, label_next_ele] - cumsum_feat[cur_ele:next_ele, label_next_ele]\n",
    "#         right_sum = right_sum\n",
    "#         likelihood_sum = left_sum[:,None] + right_sum[None,:]\n",
    "        \n",
    "#         mid_sum = (cumsum_feat[cur_ele:next_ele, :][None,:,:] - cumsum_feat[cur_ele:next_ele, :][:,None,:])\n",
    "        \n",
    "        # import pdb\n",
    "        # pdb.set_trace()\n",
    "#         likelihood_sum = likelihood_sum[:,:,None] + mid_sum\n",
    "#         mat_b1_b2_c_prob = likelihood_sum + combined_prior\n",
    "        \n",
    "#         print(f'print checkpoint 4.1 finished for video id {vidid} in {time() - start_time} seconds')\n",
    "#         lower_triangle_mask = torch.ones_like(mat_b1_b2_c_prob[:,:,0]).type(torch.bool)\n",
    "#         print(f'print checkpoint 4.2 finished for video id {vidid} in {time() - start_time} seconds')\n",
    "#         lower_triangle_mask = torch.tril(lower_triangle_mask, diagonal=0)[:,:,None]\n",
    "#         print(f'print checkpoint 4.3 finished for video id {vidid} in {time() - start_time} seconds')\n",
    "#         mat_b1_b2_c_prob.masked_fill_(lower_triangle_mask, LOW_VAL)\n",
    "        \n",
    "        mat_b1_b2_c_prob[:, :, label_cur_ele] = LOW_VAL\n",
    "        mat_b1_b2_c_prob[:, :, label_next_ele] = LOW_VAL\n",
    "        mat_b1_b2_c_prob = torch.softmax(mat_b1_b2_c_prob.flatten(), dim=0).reshape((seg_len, seg_len, config.num_class))\n",
    "        \n",
    "        cumm_b1_prob = torch.cumsum(torch.sum(mat_b1_b2_c_prob, axis=(1,2)), dim=0)\n",
    "        cumm_b1_c_prob = torch.cumsum(torch.sum(mat_b1_b2_c_prob, dim=1), dim=0)\n",
    "        cumm_b2_c_prob = torch.cumsum(torch.sum(mat_b1_b2_c_prob, dim=0), dim=0)\n",
    "\n",
    "        per_frame_weights[cur_ele, label_cur_ele] = 1.0\n",
    "        per_frame_weights[cur_ele+1:next_ele, :] = cumm_b1_c_prob[:-1] - cumm_b2_c_prob[:-1]\n",
    "        per_frame_weights[cur_ele+1:next_ele, label_cur_ele] = 1 - cumm_b1_prob[:-1]\n",
    "        per_frame_weights[cur_ele+1:next_ele, label_next_ele] = 0\n",
    "        per_frame_weights[cur_ele+1:next_ele, label_next_ele] = 1 - torch.sum(per_frame_weights[cur_ele+1:next_ele, :], dim=-1)\n",
    "        \n",
    "        prev_boundary = round(torch.sum(torch.sum(mat_b1_b2_c_prob[:,1:,:], axis=(0,2)).squeeze() * \\\n",
    "                        torch.arange(cur_ele + 1, next_ele, 1)).item())\n",
    "        if prev_boundary==0:\n",
    "            print(f'Estimated boundary has become zero! for {vidid} and cur_ele, next_ele {cur_ele, next_ele}')\n",
    "            import pdb\n",
    "            pdb.set_trace()\n",
    "        \n",
    "        prob_each_segment.append(mat_b1_b2_c_prob)\n",
    "        \n",
    "    if last_ele_flag is True:\n",
    "        cur_ele = selected_frames[-1]\n",
    "        label_cur_ele = labels[-1]\n",
    "        next_ele = cur_vid_feat.shape[0]\n",
    "        label_next_ele = config.num_class - 1\n",
    "        \n",
    "        indices = torch.arange(cur_ele, next_ele)\n",
    "        strt_index = cumsum_feat[cur_ele - 1, :][None, :] if cur_ele > 0 else 0\n",
    "        end_index = cumsum_feat[next_ele - 1, :][None, :]\n",
    "        left_sum = (cumsum_feat[indices, :] - strt_index)[:, label_cur_ele]\n",
    "        right_sum = (end_index - cumsum_feat[indices, :])[:, label_next_ele]\n",
    "        \n",
    "        prob = torch.softmax((left_sum + right_sum), dim=0)\n",
    "        per_frame_weights[cur_ele, label_cur_ele] = 1.0\n",
    "        cumm_prob = torch.cumsum(prob, dim=0)\n",
    "        per_frame_weights[cur_ele+1:next_ele, label_cur_ele] = 1 - cumm_prob[:-1]\n",
    "        per_frame_weights[cur_ele+1:next_ele, label_next_ele] = cumm_prob[:-1]\n",
    "        \n",
    "        prev_boundary = round(np.sum(np.arange(cur_ele, next_ele, 1) * prob.detach().cpu().numpy()).item())\n",
    "        prob_each_segment.append(prob)\n",
    "    \n",
    "    return (vidid, per_frame_weights) #, prob_each_segment)"
   ]
  },
  {
   "cell_type": "code",
   "execution_count": 17,
   "metadata": {},
   "outputs": [],
   "source": [
    "\n",
    "prob_video_each_segment_dict = {}\n",
    "\n",
    "# Step 2: Define callback function to collect the output in `results`\n",
    "def collect_result(result):\n",
    "#     global results\n",
    "#     with open(, 'wb') as openf:\n",
    "#         pickle.dump(, openf)\n",
    "    fname = os.path.join(config.output_dir, 'posterior_weights', result[0] + '.wt')\n",
    "    torch.save(result[1], fname)\n",
    "    # print(f'Dumped in file {fname} at time {time()}')\n",
    "    return"
   ]
  },
  {
   "cell_type": "code",
   "execution_count": 18,
   "metadata": {},
   "outputs": [],
   "source": [
    "def calculate_element_probb(data_feat, data_count, video_ids): #, loaded_vidid_selected_frames, boundaries_dict):\n",
    "    pool = mp.Pool(20)\n",
    "    for iter_num in range(len(data_count)):\n",
    "        cur_vidid = video_ids[iter_num]\n",
    "        cur_vid_feat = data_feat[iter_num]\n",
    "        cur_vid_count = data_count[iter_num]\n",
    "        \n",
    "        cur_video_select_frames = selected_frames_dict[cur_vidid + \".txt\"]\n",
    "        selected_frames_indices_and_labels = cur_video_select_frames[0]\n",
    "        selected_frames_indices = [ele[0] for ele in selected_frames_indices_and_labels]\n",
    "        selected_frames_labels = [label_name_to_label_id_dict[ele[1]] for ele in selected_frames_indices_and_labels]\n",
    "        with torch.no_grad():\n",
    "            # Multi-processing\n",
    "            pool.apply_async(prob_vals_per_segment, \n",
    "                             args=(selected_frames_indices, cur_vid_feat.detach().cpu(), selected_frames_labels,\n",
    "                                   cur_video_select_frames[1], cur_video_select_frames[2], cur_vidid),\n",
    "                             callback=collect_result)\n",
    "            \n",
    "            # without multi-processing\n",
    "#             result = prob_vals_per_segment(selected_frames_indices, cur_vid_feat.detach().cpu(), selected_frames_labels,\n",
    "#                                               cur_video_select_frames[1], cur_video_select_frames[2], cur_vidid)\n",
    "#             fname = os.path.join(config.output_dir, 'posterior_weights', result[0] + '.wt')\n",
    "#             torch.save(result[1], fname)\n",
    "#        prob_video_each_segment_dict[cur_vidid] = result[2]\n",
    "    # Step 4: Close Pool and let all the processes complete\n",
    "    pool.close()\n",
    "    pool.join()  # postpones the execution of next line of code until all processes in the queue are done.\n",
    "    return"
   ]
  },
  {
   "cell_type": "code",
   "execution_count": 19,
   "metadata": {},
   "outputs": [],
   "source": [
    "set_seed()\n",
    "model = MultiStageModel(num_stages=4, num_layers=10, num_f_maps=64, dim=2048, num_classes=48).to(device)\n",
    "optimizer = torch.optim.Adam(model.parameters(), lr=5e-4)\n",
    "\n",
    "# Requires loaded_vidid_selected_frames, boundaries_dict\n",
    "ce_criterion = nn.CrossEntropyLoss(ignore_index=-100)\n",
    "mse_criterion = nn.MSELoss(reduction='none')"
   ]
  },
  {
   "cell_type": "code",
   "execution_count": 20,
   "metadata": {},
   "outputs": [
    {
     "data": {
      "text/plain": [
       "<All keys matched successfully>"
      ]
     },
     "execution_count": 20,
     "metadata": {},
     "output_type": "execute_result"
    }
   ],
   "source": [
    "loaded_file=torch.load(\"/mnt/ssd/all_users/dipika/ms_tcn/data/breakfast//results/mstcnnew-full-supervised-split1/ms-tcn-best-model.wt\")\n",
    "model.load_state_dict(loaded_file)"
   ]
  },
  {
   "cell_type": "code",
   "execution_count": 21,
   "metadata": {
    "scrolled": true
   },
   "outputs": [
    {
     "name": "stdout",
     "output_type": "stream",
     "text": [
      "Start time 1627914890.5213695\n",
      "iter 0 completed in a total  45.63 seconds\n",
      "iter 10 completed in a total  281.01 seconds\n",
      "iter 20 completed in a total  444.14 seconds\n",
      "iter 30 completed in a total  615.34 seconds\n",
      "iter 40 completed in a total  845.51 seconds\n",
      "iter 50 completed in a total  1059.20 seconds\n",
      "iter 60 completed in a total  1246.45 seconds\n",
      "iter 70 completed in a total  1377.33 seconds\n"
     ]
    }
   ],
   "source": [
    "# Calculating Expectation Step\n",
    "model.eval()\n",
    "\n",
    "correct = 0.0\n",
    "total = 0.0\n",
    "curtime = time()\n",
    "print('Start time', curtime)\n",
    "\n",
    "for i, item in enumerate(trainloader):\n",
    "    with torch.no_grad():\n",
    "        item_0 = item[0].to(device)\n",
    "        item_1 = item[1].to(device)\n",
    "        item_2 = item[2].to(device)\n",
    "        src_mask = torch.arange(item_2.shape[1], device=item_2.device)[None, :] < item_1[:, None]\n",
    "        src_mask_mse = src_mask.unsqueeze(1).to(torch.float32).to(device)\n",
    "\n",
    "        middle_pred, predictions = model(item_0, src_mask_mse)\n",
    "        prob = torch.softmax(predictions[-1], dim=1)\n",
    "        prob = prob.permute(0, 2, 1)\n",
    "        calculate_element_probb(prob, item_1, item[4])\n",
    "\n",
    "        if i % 10 == 0:\n",
    "            print(f\"iter {i} completed in a total {time() - curtime: .2f} seconds\")"
   ]
  },
  {
   "cell_type": "code",
   "execution_count": 59,
   "metadata": {},
   "outputs": [],
   "source": [
    "item = next(iter(trainloader))\n",
    "\n",
    "with torch.no_grad():\n",
    "    item_0 = item[0].to(device)\n",
    "    item_1 = item[1].to(device)\n",
    "    item_2 = item[2].to(device)\n",
    "    src_mask = torch.arange(item_2.shape[1], device=item_2.device)[None, :] < item_1[:, None]\n",
    "    src_mask_mse = src_mask.unsqueeze(1).to(torch.float32).to(device)\n",
    "    middle_pred, predictions = model(item_0, src_mask_mse)\n",
    "    prob = torch.softmax(predictions[-1], dim=1)\n",
    "    prob = prob.permute(0, 2, 1)\n",
    "\n",
    "    calculate_element_probb(prob, item_1, item[4])"
   ]
  },
  {
   "cell_type": "code",
   "execution_count": 60,
   "metadata": {},
   "outputs": [
    {
     "name": "stdout",
     "output_type": "stream",
     "text": [
      "dict_keys(['P30_stereo01_P30_tea', 'P35_webcam02_P35_salat', 'P24_webcam01_P24_friedegg', 'P26_webcam02_P26_coffee', 'P43_webcam02_P43_tea', 'P49_webcam02_P49_friedegg', 'P42_cam01_P42_tea', 'P23_cam01_P23_coffee', 'P22_cam02_P22_cereals', 'P21_cam02_P21_friedegg', 'P46_webcam01_P46_sandwich', 'P25_webcam02_P25_cereals', 'P22_webcam02_P22_coffee', 'P24_webcam01_P24_cereals', 'P16_webcam02_P16_juice', 'P33_cam01_P33_milk', 'P41_cam01_P41_juice', 'P16_stereo01_P16_tea', 'P46_cam01_P46_coffee', 'P53_webcam02_P53_milk', 'P24_webcam01_P24_salat', 'P37_cam01_P37_tea', 'P54_webcam01_P54_tea', 'P31_cam02_P31_milk', 'P54_webcam02_P54_juice', 'P52_cam02_P52_coffee', 'P20_webcam02_P20_friedegg', 'P44_webcam02_P44_milk', 'P18_cam01_P18_sandwich', 'P50_cam02_P50_scrambledegg', 'P49_webcam02_P49_tea', 'P18_stereo01_P18_tea', 'P41_webcam01_P41_milk', 'P49_webcam01_P49_cereals', 'P36_stereo01_P36_cereals', 'P33_cam02_P33_sandwich', 'P27_cam01_P27_coffee', 'P16_stereo01_P16_juice', 'P41_webcam01_P41_pancake'])\n"
     ]
    }
   ],
   "source": [
    "print(prob_video_each_segment_dict.keys())"
   ]
  },
  {
   "cell_type": "code",
   "execution_count": 63,
   "metadata": {},
   "outputs": [
    {
     "name": "stdout",
     "output_type": "stream",
     "text": [
      "Predicted class id 38, Class name put_toppingOnTop\n"
     ]
    },
    {
     "data": {
      "image/png": "[encoded data removed]",
      "text/plain": [
       "<Figure size 1080x360 with 3 Axes>"
      ]
     },
     "metadata": {
      "needs_background": "light"
     },
     "output_type": "display_data"
    }
   ],
   "source": [
    "vidname, idx = 'P18_cam01_P18_sandwich', 1\n",
    "\n",
    "fig, axe = plt.subplots(1,3,figsize=(15,5))\n",
    "\n",
    "plt.subplot(1,3,1)\n",
    "b1_marginal = torch.sum(prob_video_each_segment_dict[vidname][idx], axis=(1,2))\n",
    "plt.plot(b1_marginal.numpy())\n",
    "\n",
    "plt.subplot(1,3,2)\n",
    "b2_marginal = torch.sum(prob_video_each_segment_dict[vidname][idx], axis=(0,2))\n",
    "plt.plot(b2_marginal.numpy())\n",
    "\n",
    "plt.subplot(1,3,3)\n",
    "class_marginal = torch.sum(prob_video_each_segment_dict[vidname][idx], axis=(0,1))\n",
    "plt.plot(class_marginal.numpy())\n",
    "print(f'Predicted class id {torch.argmax(class_marginal).item()}, '\n",
    "      f'Class name {label_id_to_label_name[torch.argmax(class_marginal).item()]}')"
   ]
  },
  {
   "cell_type": "code",
   "execution_count": 177,
   "metadata": {},
   "outputs": [
    {
     "name": "stdout",
     "output_type": "stream",
     "text": [
      "tensor(1.0000)\n"
     ]
    },
    {
     "data": {
      "image/png": "[encoded data removed]",
      "text/plain": [
       "<Figure size 432x288 with 1 Axes>"
      ]
     },
     "metadata": {
      "needs_background": "light"
     },
     "output_type": "display_data"
    }
   ],
   "source": [
    "plt.imshow(prob_video_each_segment_dict[vidname][idx][:,:,12])\n",
    "len_ = prob_video_each_segment_dict[vidname][idx][...,12].shape[0]\n",
    "sum_prob = 0\n",
    "for i in range(len_):\n",
    "    for j in range(i-1,len_):\n",
    "        sum_prob += prob_video_each_segment_dict[vidname][idx][i,j,12]\n",
    "print(sum_prob)"
   ]
  },
  {
   "cell_type": "code",
   "execution_count": 64,
   "metadata": {},
   "outputs": [
    {
     "data": {
      "text/plain": [
       "([180, 390, 635, 670, 771],\n",
       " ([(295, 'cut_bun'), (667, 'put_bunTogether')],\n",
       "  True,\n",
       "  True,\n",
       "  [(58, 'SIL'),\n",
       "   (295, 'cut_bun'),\n",
       "   (445, 'put_toppingOnTop'),\n",
       "   (667, 'put_bunTogether'),\n",
       "   (717, 'SIL')]))"
      ]
     },
     "execution_count": 64,
     "metadata": {},
     "output_type": "execute_result"
    }
   ],
   "source": [
    "boundary_frames_dict[vidname +'.txt'], selected_frames_dict[vidname + '.txt']"
   ]
  },
  {
   "cell_type": "code",
   "execution_count": 192,
   "metadata": {},
   "outputs": [
    {
     "data": {
      "text/plain": [
       "([30, 385, 1340, 2380, 2505, 2585, 3050, 3405, 3855, 4070, 4155, 4215, 4228],\n",
       " ([(373, 'take_bowl'),\n",
       "   (2029, 'cut_fruit'),\n",
       "   (2540, 'cut_fruit'),\n",
       "   (3222, 'cut_fruit'),\n",
       "   (4005, 'cut_fruit'),\n",
       "   (4210, 'stir_fruit')],\n",
       "  True,\n",
       "  True,\n",
       "  [(20, 'SIL'),\n",
       "   (373, 'take_bowl'),\n",
       "   (805, 'peel_fruit'),\n",
       "   (2029, 'cut_fruit'),\n",
       "   (2470, 'put_fruit2bowl'),\n",
       "   (2540, 'cut_fruit'),\n",
       "   (2718, 'peel_fruit'),\n",
       "   (3222, 'cut_fruit'),\n",
       "   (3541, 'peel_fruit'),\n",
       "   (4005, 'cut_fruit'),\n",
       "   (4103, 'put_fruit2bowl'),\n",
       "   (4210, 'stir_fruit'),\n",
       "   (4223, 'SIL')]))"
      ]
     },
     "execution_count": 192,
     "metadata": {},
     "output_type": "execute_result"
    }
   ],
   "source": [
    "vidname = 'P49_cam01_P49_salat'\n",
    "boundary_frames_dict[vidname +'.txt'], selected_frames_dict[vidname + '.txt']"
   ]
  },
  {
   "cell_type": "code",
   "execution_count": 16,
   "metadata": {},
   "outputs": [],
   "source": [
    "def get_estimated_loss(data_feat, data_count, video_ids): #, loaded_vidid_selected_frames, boundaries_dict):\n",
    "#     global prob_video_each_segment_dict, loaded_vidid_selected_frames\n",
    "    loss_arr = []\n",
    "    for iter_num in range(len(data_count)):\n",
    "        cur_vidid = video_ids[iter_num]\n",
    "        cur_vid_feat = data_feat[iter_num]\n",
    "        cur_vid_count = data_count[iter_num]\n",
    "        \n",
    "        selected_frames_indices_and_labels = selected_frames_dict[cur_vidid + \".txt\"]\n",
    "        selected_frames_indices = [ele[0] for ele in selected_frames_indices_and_labels]\n",
    "        selected_frames_labels = [label_name_to_label_id_dict[ele[1]] for ele in selected_frames_indices_and_labels]\n",
    "\n",
    "        prob_each_video = prob_video_each_segment_dict[cur_vidid]\n",
    "        \n",
    "        log_probs = torch.log(cur_vid_feat + 1e-8)\n",
    "        cumsum_feat = torch.cumsum(log_probs, dim=0)\n",
    "        \n",
    "        \n",
    "        current_vid_prob_arr = []\n",
    "        # Start segment log probability\n",
    "        start_ele_idx = selected_frames_indices[0]\n",
    "        if start_ele_idx > 0:\n",
    "            start_ele_label_idx = selected_frames_labels[0]\n",
    "            first_segment_prob = (cumsum_feat[start_ele_idx - 1, :])[start_ele_label_idx]\n",
    "            current_vid_prob_arr.append(first_segment_prob.unsqueeze(0))\n",
    "        \n",
    "        for i, cur_ele in enumerate(selected_frames_indices[:-1]):\n",
    "            next_ele = selected_frames_indices[i + 1]\n",
    "            label_cur_ele = selected_frames_labels[i]\n",
    "            label_next_ele = selected_frames_labels[i + 1]\n",
    "\n",
    "            indices = torch.arange(cur_ele, next_ele)\n",
    "            strt_index = cumsum_feat[cur_ele - 1, :][None, :] if cur_ele > 0 else 0\n",
    "            end_index = cumsum_feat[next_ele - 1, :][None, :]\n",
    "            left_sum = (cumsum_feat[indices, :] - strt_index)[:,label_cur_ele]\n",
    "            right_sum = (end_index - cumsum_feat[indices, :])[:,label_next_ele]\n",
    "            current_vid_prob_arr.append((left_sum + right_sum)  * (prob_each_video[i]))\n",
    "        \n",
    "        # End segment log probability\n",
    "        end_index = cur_vid_count.item() - 1\n",
    "        last_ele_label_idx = selected_frames_labels[-1]\n",
    "        last_segment_sum_prob = (cumsum_feat[end_index, :] - cumsum_feat[selected_frames_indices[-1] - 1, \\\n",
    "                                                                         :])[last_ele_label_idx]\n",
    "        current_vid_prob_arr.append(last_segment_sum_prob.unsqueeze(0))\n",
    "            \n",
    "        loss_arr.append(torch.cat(current_vid_prob_arr))\n",
    "    return -torch.mean(torch.cat(loss_arr)), loss_arr"
   ]
  },
  {
   "cell_type": "code",
   "execution_count": 17,
   "metadata": {},
   "outputs": [],
   "source": [
    "train_split_file_list = set(open(config.train_split_file).read().split(\"\\n\")[0:-1])\n",
    "\n",
    "def get_estimated_boundaries():\n",
    "    estimated_boundary_dict = {}\n",
    "    for video_id in train_split_file_list:\n",
    "        ele = video_id.split(\".txt\")[0]\n",
    "        estimated_boundary_probs = prob_video_each_segment_dict[ele]\n",
    "        \n",
    "        selected_frames_indices_and_labels = selected_frames_dict[video_id]\n",
    "        selected_frames_indices = [ele[0] for ele in selected_frames_indices_and_labels]\n",
    "        \n",
    "        boundary_list = []\n",
    "        for i, segment in enumerate(estimated_boundary_probs):\n",
    "            estimated_boundary = np.sum(np.arange(selected_frames_indices[i], selected_frames_indices[i + 1], 1) \\\n",
    "                                        * segment.detach().cpu().numpy())\n",
    "            estimated_boundary = round(estimated_boundary.item())\n",
    "            \n",
    "            if (estimated_boundary < selected_frames_indices[i]) or (estimated_boundary > selected_frames_indices[i + 1]):\n",
    "                print(\"Estimated value wrong\")\n",
    "                import pdb\n",
    "                pdb.set_trace()\n",
    "            boundary_list.append(estimated_boundary)\n",
    "\n",
    "        estimated_boundary_dict[ele] = boundary_list\n",
    "    return estimated_boundary_dict"
   ]
  },
  {
   "cell_type": "code",
   "execution_count": 18,
   "metadata": {},
   "outputs": [],
   "source": [
    "def get_boundary_err():\n",
    "    err_list = []\n",
    "    correct = 0.0\n",
    "    total = 0.0\n",
    "    estimated_boundar_dict = get_estimated_boundaries()\n",
    "    for video_id in train_split_file_list:\n",
    "        ele = video_id.split(\".txt\")[0]\n",
    "        estimated_boundary_probs = prob_video_each_segment_dict[ele]\n",
    "        estimated_boundary_list = estimated_boundar_dict[ele]\n",
    "        \n",
    "        estimated = np.array(estimated_boundary_list) #.detach().cpu().numpy()\n",
    "        actual = np.array(boundary_frames_dict[video_id][:-1])\n",
    "        if len(actual) != len(estimated):\n",
    "            print(ele)\n",
    "            continue\n",
    "        \n",
    "        mse_err = (actual - estimated)**2\n",
    "        err_list.append(mse_err)\n",
    "        \n",
    "        estimated_labels = []\n",
    "        actual_labels = []\n",
    "        start_v1 = 0\n",
    "        start_v2 = 0\n",
    "        for i, v1 in enumerate(estimated):\n",
    "            estimated_labels.extend([i] * (v1 - start_v1))\n",
    "            start_v1 = v1\n",
    "            v2 = actual[i]\n",
    "            actual_labels.extend([i] * (v2 - start_v2))\n",
    "            start_v2 = v2\n",
    "            \n",
    "        last_ele = boundary_frames_dict[video_id][-1]\n",
    "        estimated_labels.extend([i+1] * (last_ele - start_v1))\n",
    "        actual_labels.extend([i+1] * (last_ele - start_v2))\n",
    "        \n",
    "        correct += np.sum(np.array(actual_labels) == np.array(estimated_labels))\n",
    "        total += len(actual_labels)\n",
    "        \n",
    "    print(f\"Train Boundary avergage error = {np.sqrt(np.mean(np.concatenate(err_list))):.3f}\")\n",
    "    print(f\"Train From boundary avergage accuracy = {correct * 100.0 / total:.3f}\")"
   ]
  },
  {
   "cell_type": "code",
   "execution_count": 21,
   "metadata": {},
   "outputs": [],
   "source": [
    "def get_single_random(video_ids, len_frames, device):\n",
    "    # Generate target for only timestamps. Do not generate pseudo labels at first 30 epochs.\n",
    "    boundary_target_tensor = torch.ones((len(video_ids), len_frames), dtype=torch.long, device=device) * (-100)\n",
    "    for iter_num, cur_vidid in enumerate(video_ids):\n",
    "        selected_frames_indices_and_labels = selected_frames_dict[cur_vidid + \".txt\"]\n",
    "        selected_frames_indices = [ele[0] for ele in selected_frames_indices_and_labels]\n",
    "        selected_frames_labels = [label_name_to_label_id_dict[ele[1]] for ele in selected_frames_indices_and_labels]\n",
    "\n",
    "        frame_idx_tensor = torch.from_numpy(np.array(selected_frames_indices))\n",
    "        frame_labels = torch.from_numpy(np.array(selected_frames_labels)).to(device)\n",
    "        boundary_target_tensor[iter_num, frame_idx_tensor] = frame_labels\n",
    "\n",
    "    return boundary_target_tensor"
   ]
  },
  {
   "cell_type": "code",
   "execution_count": 22,
   "metadata": {},
   "outputs": [],
   "source": [
    "weakly_labels = pickle.load(open(\"data/breakfast_weaklysupervised_labels.pkl\", \"rb\"))"
   ]
  },
  {
   "cell_type": "code",
   "execution_count": 23,
   "metadata": {},
   "outputs": [],
   "source": [
    "prior_probs = pickle.load(open('data/breakfast_lengthmodel_multinomial_prior.pkl', 'rb'))"
   ]
  },
  {
   "cell_type": "code",
   "execution_count": 24,
   "metadata": {},
   "outputs": [],
   "source": [
    "import copy\n",
    "def change_selected_frames(model):\n",
    "    global selected_frames_dict, prior_probs\n",
    "    new_selected_frame_dict = {}\n",
    "    new_prior_probs = {}\n",
    "\n",
    "    with torch.no_grad():\n",
    "        for train_idx, item in enumerate(trainloader):\n",
    "            item_0 = item[0].to(device)\n",
    "            item_1 = item[1].to(device)\n",
    "            item_2 = item[2].to(device)\n",
    "            src_mask = torch.arange(item_2.shape[1], device=item_2.device)[None, :] < item_1[:, None]\n",
    "            src_mask_mse = src_mask.unsqueeze(1).to(torch.float32).to(device)\n",
    "            if train_idx % 10 == 0:\n",
    "                print(f\"Completed {train_idx} videos selected frames calculation\")\n",
    "            middle_pred, predictions = model(item_0, src_mask_mse)\n",
    "            \n",
    "            for idx, video_id in enumerate(item[4]):\n",
    "                start = 0\n",
    "                new_index_label_pair_list = []\n",
    "                weakly_labels_video = [label_name_to_label_id_dict[wl] for wl in weakly_labels[video_id + \".txt\"]]\n",
    "                cur_video_predictions = predictions[-1][idx][:, :item_1[idx]]\n",
    "                cur_preds_for_weakly_labels = torch.softmax(cur_video_predictions[weakly_labels_video], dim=0)\n",
    "                prior_probs_cur_vid = prior_probs[video_id]\n",
    "                weakly_labels_masked = []\n",
    "                for i, prob_class in enumerate(cur_preds_for_weakly_labels):\n",
    "                    prob_class_masked = prob_class * torch.tensor(prior_probs_cur_vid[i], \n",
    "                                                                  dtype=prob_class.dtype, device=prob_class.device)\n",
    "                    weakly_labels_masked.append(prob_class_masked)\n",
    "                    \n",
    "                weakly_labels_masked = torch.stack(weakly_labels_masked)\n",
    "                weakly_labels_masked = weakly_labels_masked / torch.sum(weakly_labels_masked, dim=0)\n",
    "                \n",
    "                new_prior_probs[video_id] = weakly_labels_masked\n",
    "\n",
    "                for i in range(len(weakly_labels_video)):\n",
    "                    cur_l = weakly_labels_video[i]\n",
    "                    prob_class = weakly_labels_masked[i]\n",
    "                    expected_value_of_class = torch.argmax(prob_class)\n",
    "                    new_index_label_pair_list.append((int(expected_value_of_class.item()),\n",
    "                                                      weakly_labels_video[i])) \n",
    "                \n",
    "                back_list = copy.deepcopy(new_index_label_pair_list)\n",
    "                error_list = []\n",
    "                if new_index_label_pair_list[0][0] > new_index_label_pair_list[1][0]:\n",
    "                    error_list.append(1)\n",
    "                else:\n",
    "                    error_list.append(0)\n",
    "                for i in range(1, len(new_index_label_pair_list) - 1, 1):\n",
    "                    err = 0\n",
    "                    prev_ele = new_index_label_pair_list[i - 1]\n",
    "                    cur_ele = new_index_label_pair_list[i]\n",
    "                    next_ele = new_index_label_pair_list[i + 1]\n",
    "                    if not (prev_ele[0] < cur_ele[0]):\n",
    "                        err += 1\n",
    "                    if not (cur_ele[0] < next_ele[0]):\n",
    "                        err += 1\n",
    "                    error_list.append(err)\n",
    "\n",
    "                if new_index_label_pair_list[-1][0] < new_index_label_pair_list[-2][0]:\n",
    "                    error_list.append(1)\n",
    "                else:\n",
    "                    error_list.append(0)\n",
    "                    \n",
    "                if error_list[0] == 1 and error_list[1] == 1:\n",
    "                    new_index = new_index_label_pair_list[1][0] // 2\n",
    "                    new_index_label_pair_list[0] = (new_index, new_index_label_pair_list[0][1])\n",
    "                    error_list[0] = 0\n",
    "                    error_list[1] = 0\n",
    "                    \n",
    "                if error_list[-1] == 1 and error_list[-2] == 1:\n",
    "                    new_index = (new_index_label_pair_list[-2][0] + weakly_labels_masked.shape[1]) // 2\n",
    "                    new_index_label_pair_list[-1] = (new_index, new_index_label_pair_list[-1][1])\n",
    "                    error_list[-1] = 0\n",
    "                    error_list[-2] = 0\n",
    "                    \n",
    "                start_flag = False\n",
    "                start_index = -1\n",
    "                end_index = -1\n",
    "                for i in range(1, len(error_list) - 1):\n",
    "                    if error_list[i] == 1 and error_list[i + 1] == 2:\n",
    "                        start_flag = True\n",
    "                        start_index = i\n",
    "                        \n",
    "                    if (start_flag is True) and (error_list[i] == 2 or error_list[i + 1] == 1):\n",
    "                        start_flag = False\n",
    "                        end_index = i + 1\n",
    "                        \n",
    "                        num_div = end_index - start_index - 1\n",
    "                        increm = (new_index_label_pair_list[end_index][0] - \\\n",
    "                                  new_index_label_pair_list[start_index][0]) // num_div\n",
    "                        value = list(range(new_index_label_pair_list[start_index][0], \n",
    "                                           new_index_label_pair_list[end_index][0], increm))\n",
    "                        count = 0\n",
    "                        for ch_i in range(start_index + 1, end_index):\n",
    "                            old_ele = new_index_label_pair_list[ch_i]\n",
    "                            new_ele = (value[count], old_ele[1])\n",
    "                            new_index_label_pair_list[ch_i] = new_ele\n",
    "                            count += 1\n",
    "                    \n",
    "                final_list = new_index_label_pair_list\n",
    "                is_valid_list = True\n",
    "                for i in range(1, len(final_list) - 1, 1):\n",
    "                    cur_ele = final_list[i]\n",
    "                    \n",
    "                    if not (final_list[i - 1][0] < cur_ele[0] and cur_ele[0] < final_list[i + 1][0]):\n",
    "                        is_valid_list  = False\n",
    "\n",
    "                if is_valid_list == False:\n",
    "                    print(f\"Could not find expected solution for video {video_id}\")\n",
    "                    print(final_list)\n",
    "                    print(back_list)\n",
    "                    print(error_list)\n",
    "                    label_name_final_list = selected_frames_dict[video_id + \".txt\"]\n",
    "                else:\n",
    "                    label_name_final_list = []\n",
    "                    for ele in final_list:\n",
    "                        label_name_final_list.append((ele[0], label_id_to_label_name[ele[1]]))\n",
    "                    new_selected_frame_dict[video_id + \".txt\"] = label_name_final_list\n",
    "        prior_probs = new_prior_probs        \n",
    "        return new_selected_frame_dict"
   ]
  },
  {
   "cell_type": "code",
   "execution_count": 25,
   "metadata": {},
   "outputs": [],
   "source": [
    "def get_new_selected_frame_acc(selected_frame_dict):\n",
    "    correct = 0.0\n",
    "    total = 0.0\n",
    "\n",
    "    for video_id in selected_frame_dict.keys():\n",
    "        ground_labels = open(config.ground_truth_files_dir + video_id).read().split(\"\\n\")[0:-1]\n",
    "        ground_labels = np.array(ground_labels)\n",
    "\n",
    "        selected_frames_index = [ele[0] for ele in selected_frame_dict[video_id]]\n",
    "        selected_frames_labels = np.array([ele[1] for ele in selected_frame_dict[video_id]])\n",
    "\n",
    "        ground_selected_labels = ground_labels[selected_frames_index]\n",
    "\n",
    "        correct += np.sum(ground_selected_labels == selected_frames_labels)\n",
    "        total += len(ground_selected_labels)\n",
    "\n",
    "    print(\"Total correct pivots labels selected = \", correct * 100.0 / total)\n"
   ]
  },
  {
   "cell_type": "code",
   "execution_count": 26,
   "metadata": {
    "scrolled": false
   },
   "outputs": [
    {
     "name": "stdout",
     "output_type": "stream",
     "text": [
      "Completed 0 videos selected frames calculation\n",
      "Completed 10 videos selected frames calculation\n",
      "Completed 20 videos selected frames calculation\n",
      "Completed 30 videos selected frames calculation\n",
      "Completed 40 videos selected frames calculation\n",
      "Completed 50 videos selected frames calculation\n",
      "Completed 60 videos selected frames calculation\n",
      "Completed 70 videos selected frames calculation\n",
      "Completed 80 videos selected frames calculation\n",
      "Completed 90 videos selected frames calculation\n",
      "Completed 100 videos selected frames calculation\n",
      "Completed 110 videos selected frames calculation\n",
      "Completed 120 videos selected frames calculation\n",
      "Completed 130 videos selected frames calculation\n",
      "Completed 140 videos selected frames calculation\n",
      "Completed 150 videos selected frames calculation\n",
      "Completed 160 videos selected frames calculation\n",
      "Completed 170 videos selected frames calculation\n",
      "Completed 180 videos selected frames calculation\n",
      "Completed 190 videos selected frames calculation\n",
      "Completed 200 videos selected frames calculation\n",
      "Completed 210 videos selected frames calculation\n",
      "Completed 220 videos selected frames calculation\n",
      "Completed 230 videos selected frames calculation\n",
      "Completed 240 videos selected frames calculation\n",
      "Total correct pivots labels selected =  61.45675265553869\n"
     ]
    }
   ],
   "source": [
    "selected_frames_dict = change_selected_frames(model)\n",
    "get_new_selected_frame_acc(selected_frames_dict)"
   ]
  },
  {
   "cell_type": "code",
   "execution_count": 27,
   "metadata": {},
   "outputs": [
    {
     "name": "stdout",
     "output_type": "stream",
     "text": [
      "Calculating Expectation\n",
      "Completed iter 0\n",
      "Completed iter 10\n",
      "Completed iter 20\n",
      "Completed iter 30\n",
      "Completed iter 40\n",
      "Completed iter 50\n",
      "Completed iter 60\n",
      "Completed iter 70\n",
      "Completed iter 80\n",
      "Completed iter 90\n",
      "Completed iter 100\n",
      "Completed iter 110\n",
      "Completed iter 120\n",
      "Completed iter 130\n",
      "Completed iter 140\n",
      "Completed iter 150\n",
      "Completed iter 160\n",
      "Completed iter 170\n",
      "Completed iter 180\n",
      "Completed iter 190\n",
      "Completed iter 200\n",
      "Completed iter 210\n",
      "Completed iter 220\n",
      "Completed iter 230\n",
      "Completed iter 240\n",
      "Train Boundary avergage error = 294.551\n",
      "Train From boundary avergage accuracy = 60.188\n"
     ]
    }
   ],
   "source": [
    "# Initialize Expection Boundaries\n",
    "print(\"Calculating Expectation\")\n",
    "correct = 0.0\n",
    "total = 0.0\n",
    "model.eval()\n",
    "for i, item in enumerate(trainloader):\n",
    "    with torch.no_grad():\n",
    "        item_0 = item[0].to(device)\n",
    "        item_1 = item[1].to(device)\n",
    "        item_2 = item[2].to(device)\n",
    "        src_mask = torch.arange(item_2.shape[1], device=item_2.device)[None, :] < item_1[:, None]\n",
    "        src_mask_mse = src_mask.unsqueeze(1).to(torch.float32).to(device)\n",
    "\n",
    "        middle_pred, predictions = model(item_0, src_mask_mse)\n",
    "        prob = torch.softmax(predictions[-1], dim=1)\n",
    "        prob = prob.permute(0, 2, 1)\n",
    "        calculate_element_probb(prob, item_1, item[4])\n",
    "\n",
    "        if i % 10 == 0:\n",
    "            print(f\"Completed iter {i}\")\n",
    "\n",
    "get_boundary_err()"
   ]
  },
  {
   "cell_type": "code",
   "execution_count": 28,
   "metadata": {},
   "outputs": [
    {
     "data": {
      "text/plain": [
       "'/mnt/ssd/all_users/dipika/ms_tcn/data/breakfast//results/em-lenassum-mstcn-split1-slup15-upprior/'"
      ]
     },
     "execution_count": 28,
     "metadata": {},
     "output_type": "execute_result"
    }
   ],
   "source": [
    "config.output_dir"
   ]
  },
  {
   "cell_type": "code",
   "execution_count": 29,
   "metadata": {},
   "outputs": [
    {
     "name": "stdout",
     "output_type": "stream",
     "text": [
      "Starting Training\n",
      "Training:: Epoch 0, Iteration 0, Current loss 4.021362374707006 Accuracy 47.95652666138345\n",
      "Training:: Epoch 0, Iteration 10, Current loss 2.717909106555084 Accuracy 60.53029422025817\n",
      "Training:: Epoch 0, Iteration 20, Current loss 5.080801832706424 Accuracy 50.747785683171195\n",
      "Training:: Epoch 0, Iteration 30, Current loss 3.403953799538587 Accuracy 61.79017204542899\n",
      "Training:: Epoch 0, Iteration 40, Current loss 3.5694591028699776 Accuracy 48.91373396010672\n",
      "Training:: Epoch 0, Iteration 50, Current loss 4.2791722969164905 Accuracy 48.53922452660054\n",
      "Training:: Epoch 0, Iteration 60, Current loss 4.946782286490417 Accuracy 46.958839206396206\n",
      "Training:: Epoch 0, Iteration 70, Current loss 3.586948401391999 Accuracy 36.99960025127063\n",
      "Training:: Epoch 0, Iteration 80, Current loss 2.723051243487387 Accuracy 73.32943490510871\n",
      "Training:: Epoch 0, Iteration 90, Current loss 2.8452656150139735 Accuracy 56.6610455311973\n",
      "Training:: Epoch 0, Iteration 100, Current loss 4.1463660377599165 Accuracy 59.343288507548884\n",
      "Training:: Epoch 0, Iteration 110, Current loss 3.191694997739955 Accuracy 57.59493670886076\n",
      "Training:: Epoch 0, Iteration 120, Current loss 4.035105357261077 Accuracy 64.03085219790556\n",
      "Training:: Epoch 0, Iteration 130, Current loss 2.0310090965723346 Accuracy 68.29046398147382\n",
      "Training:: Epoch 0, Iteration 140, Current loss 3.8848248862131425 Accuracy 48.88563526923703\n",
      "Training:: Epoch 0, Iteration 150, Current loss 2.390193772022744 Accuracy 60.603151747860174\n",
      "Training:: Epoch 0, Iteration 160, Current loss 2.4040603463691532 Accuracy 63.16044595249637\n",
      "Training:: Epoch 0, Iteration 170, Current loss 2.8878937764219446 Accuracy 64.0660458564833\n",
      "Training:: Epoch 0, Iteration 180, Current loss 4.261135308202662 Accuracy 55.80966433050535\n",
      "Training:: Epoch 0, Iteration 190, Current loss 3.794702406253048 Accuracy 51.80074049141703\n",
      "Training:: Epoch 0, Iteration 200, Current loss 5.450787612551677 Accuracy 37.670580768010154\n",
      "Training:: Epoch 0, Iteration 210, Current loss 4.431039848459728 Accuracy 46.04034463189393\n",
      "Training:: Epoch 0, Iteration 220, Current loss 4.504554389262314 Accuracy 40.618586924655524\n",
      "Training:: Epoch 0, Iteration 230, Current loss 2.608644190766679 Accuracy 58.21576763485477\n",
      "Training:: Epoch 0, Iteration 240, Current loss 2.162028955830726 Accuracy 63.823411905713144\n",
      "Calculating Validation Data Accuracy\n",
      "Validation:: Epoch 0, Probability Accuracy 51.60380830276482\n",
      "Starting Training\n",
      "Training:: Epoch 1, Iteration 0, Current loss 2.6641076672855855 Accuracy 66.41463642303744\n",
      "Training:: Epoch 1, Iteration 10, Current loss 2.3204776633022672 Accuracy 53.55321861057999\n",
      "Training:: Epoch 1, Iteration 20, Current loss 2.5063894050791338 Accuracy 55.66761675071256\n",
      "Training:: Epoch 1, Iteration 30, Current loss 3.532000676251643 Accuracy 62.092434314656536\n",
      "Training:: Epoch 1, Iteration 40, Current loss 3.4698977861835796 Accuracy 53.055250640321994\n",
      "Training:: Epoch 1, Iteration 50, Current loss 4.863784225236493 Accuracy 53.621436486350355\n",
      "Training:: Epoch 1, Iteration 60, Current loss 3.133459338378421 Accuracy 69.99344477220583\n",
      "Training:: Epoch 1, Iteration 70, Current loss 3.8779609282614294 Accuracy 47.31046166878441\n",
      "Training:: Epoch 1, Iteration 80, Current loss 3.076074206469751 Accuracy 46.44263408010862\n",
      "Training:: Epoch 1, Iteration 90, Current loss 4.824632282423861 Accuracy 43.52735484810957\n",
      "Training:: Epoch 1, Iteration 100, Current loss 3.594374923362434 Accuracy 59.577314071696094\n",
      "Training:: Epoch 1, Iteration 110, Current loss 3.520743953553004 Accuracy 60.13553679705148\n",
      "Training:: Epoch 1, Iteration 120, Current loss 13.201042669169736 Accuracy 16.811955168119553\n",
      "Training:: Epoch 1, Iteration 130, Current loss 3.1259527159753655 Accuracy 72.35942028985507\n",
      "Training:: Epoch 1, Iteration 140, Current loss 2.3225567914390295 Accuracy 46.923370915344925\n",
      "Training:: Epoch 1, Iteration 150, Current loss 2.7987806104708843 Accuracy 61.00358882337862\n",
      "Training:: Epoch 1, Iteration 160, Current loss 3.5980787670512413 Accuracy 57.990819945754225\n",
      "Training:: Epoch 1, Iteration 170, Current loss 2.8818515657710004 Accuracy 71.06068791644157\n",
      "Training:: Epoch 1, Iteration 180, Current loss 3.0697787412346256 Accuracy 67.07632192600995\n",
      "Training:: Epoch 1, Iteration 190, Current loss 4.88990923661064 Accuracy 53.806703705964956\n",
      "Training:: Epoch 1, Iteration 200, Current loss 2.4302650085603186 Accuracy 57.94918805657412\n",
      "Training:: Epoch 1, Iteration 210, Current loss 3.0163700710935824 Accuracy 62.15298114091601\n",
      "Training:: Epoch 1, Iteration 220, Current loss 2.564701062136331 Accuracy 62.919156200463355\n",
      "Training:: Epoch 1, Iteration 230, Current loss 2.770188277366691 Accuracy 51.025134527620736\n",
      "Training:: Epoch 1, Iteration 240, Current loss 3.242713519026947 Accuracy 47.2972972972973\n",
      "Calculating Validation Data Accuracy\n",
      "Validation:: Epoch 1, Probability Accuracy 53.604908373596714\n",
      "Starting Training\n",
      "Training:: Epoch 2, Iteration 0, Current loss 3.201850566998297 Accuracy 58.28192826136623\n",
      "Training:: Epoch 2, Iteration 10, Current loss 2.407222766230274 Accuracy 60.74883977031385\n",
      "Training:: Epoch 2, Iteration 20, Current loss 5.312256457914943 Accuracy 42.201552771158426\n",
      "Training:: Epoch 2, Iteration 30, Current loss 3.0798222296977764 Accuracy 47.95035727717187\n",
      "Training:: Epoch 2, Iteration 40, Current loss 4.963705702913474 Accuracy 43.2031420466943\n",
      "Training:: Epoch 2, Iteration 50, Current loss 3.306589423180814 Accuracy 46.67623146819704\n",
      "Training:: Epoch 2, Iteration 60, Current loss 5.546978645379238 Accuracy 42.97314578005115\n",
      "Training:: Epoch 2, Iteration 70, Current loss 4.374911795162991 Accuracy 52.69384899179442\n",
      "Training:: Epoch 2, Iteration 80, Current loss 4.635592106562617 Accuracy 37.81975955888999\n",
      "Training:: Epoch 2, Iteration 90, Current loss 3.195851303188176 Accuracy 52.22902368144438\n",
      "Training:: Epoch 2, Iteration 100, Current loss 3.4564797444767286 Accuracy 60.72980847303816\n",
      "Training:: Epoch 2, Iteration 110, Current loss 2.1734577519619283 Accuracy 58.44899033085575\n",
      "Training:: Epoch 2, Iteration 120, Current loss 7.177317673781069 Accuracy 25.105548854041015\n",
      "Training:: Epoch 2, Iteration 130, Current loss 4.0711209071489805 Accuracy 60.32887975334018\n",
      "Training:: Epoch 2, Iteration 140, Current loss 3.513606619177075 Accuracy 57.38017187915301\n",
      "Training:: Epoch 2, Iteration 150, Current loss 2.4883899354455736 Accuracy 67.1973565635326\n",
      "Training:: Epoch 2, Iteration 160, Current loss 2.7766201096295764 Accuracy 56.35821282666494\n",
      "Training:: Epoch 2, Iteration 170, Current loss 3.8925729005029774 Accuracy 66.54102950678441\n",
      "Training:: Epoch 2, Iteration 180, Current loss 2.2028072995174997 Accuracy 68.17955608639394\n",
      "Training:: Epoch 2, Iteration 190, Current loss 4.310631285569386 Accuracy 45.9658168624081\n",
      "Training:: Epoch 2, Iteration 200, Current loss 2.140627557738303 Accuracy 57.747074580572395\n",
      "Training:: Epoch 2, Iteration 210, Current loss 6.86285443603462 Accuracy 47.66939687267312\n",
      "Training:: Epoch 2, Iteration 220, Current loss 1.9822466757959534 Accuracy 70.41284403669725\n",
      "Training:: Epoch 2, Iteration 230, Current loss 2.7570031361801135 Accuracy 60.22924626606461\n",
      "Training:: Epoch 2, Iteration 240, Current loss 2.5858561298979703 Accuracy 64.67197170645447\n",
      "Calculating Validation Data Accuracy\n",
      "Validation:: Epoch 2, Probability Accuracy 55.036583290794624\n",
      "Starting Training\n",
      "Training:: Epoch 3, Iteration 0, Current loss 3.2442753430894413 Accuracy 57.49304589707928\n",
      "Training:: Epoch 3, Iteration 10, Current loss 2.565086461523774 Accuracy 63.71935118823085\n",
      "Training:: Epoch 3, Iteration 20, Current loss 2.36123129084633 Accuracy 64.49959807073955\n",
      "Training:: Epoch 3, Iteration 30, Current loss 2.4699770475280878 Accuracy 59.756845116469144\n",
      "Training:: Epoch 3, Iteration 40, Current loss 2.4527589263251306 Accuracy 59.14708678527774\n",
      "Training:: Epoch 3, Iteration 50, Current loss 1.7373898588290926 Accuracy 60.53659807241469\n",
      "Training:: Epoch 3, Iteration 60, Current loss 2.703596251410349 Accuracy 68.73309022467944\n",
      "Training:: Epoch 3, Iteration 70, Current loss 1.9889060616449123 Accuracy 67.660659236424\n",
      "Training:: Epoch 3, Iteration 80, Current loss 2.2329489919800345 Accuracy 57.00280112044818\n",
      "Training:: Epoch 3, Iteration 90, Current loss 2.5573633775749567 Accuracy 56.49898226228555\n"
     ]
    },
    {
     "name": "stdout",
     "output_type": "stream",
     "text": [
      "Training:: Epoch 3, Iteration 100, Current loss 1.802854990439907 Accuracy 64.30215526260724\n",
      "Training:: Epoch 3, Iteration 110, Current loss 2.3092362482618807 Accuracy 70.5482254270226\n",
      "Training:: Epoch 3, Iteration 120, Current loss 2.343011897076591 Accuracy 53.944181147972614\n",
      "Training:: Epoch 3, Iteration 130, Current loss 4.448136508717597 Accuracy 61.487980105001384\n",
      "Training:: Epoch 3, Iteration 140, Current loss 3.8728056972222316 Accuracy 51.19482496194825\n",
      "Training:: Epoch 3, Iteration 150, Current loss 4.123262783107853 Accuracy 47.76212184003315\n",
      "Training:: Epoch 3, Iteration 160, Current loss 4.213468617982202 Accuracy 48.02174919018973\n",
      "Training:: Epoch 3, Iteration 170, Current loss 2.6679416477752715 Accuracy 68.48048680592125\n",
      "Training:: Epoch 3, Iteration 180, Current loss 2.7142972951430457 Accuracy 64.88666388541232\n",
      "Training:: Epoch 3, Iteration 190, Current loss 3.3136430402226007 Accuracy 42.922963509030595\n",
      "Training:: Epoch 3, Iteration 200, Current loss 2.4861145242473865 Accuracy 65.94399848302889\n",
      "Training:: Epoch 3, Iteration 210, Current loss 4.687848013433994 Accuracy 43.85550916681793\n",
      "Training:: Epoch 3, Iteration 220, Current loss 2.717724495546882 Accuracy 64.84647748634858\n",
      "Training:: Epoch 3, Iteration 230, Current loss 4.191736287676102 Accuracy 48.813291139240505\n",
      "Training:: Epoch 3, Iteration 240, Current loss 4.1127339240217085 Accuracy 53.531300160513645\n",
      "Calculating Validation Data Accuracy\n",
      "Validation:: Epoch 3, Probability Accuracy 53.66683682150757\n",
      "Starting Training\n",
      "Training:: Epoch 4, Iteration 0, Current loss 2.081068981904554 Accuracy 64.01475237091675\n",
      "Training:: Epoch 4, Iteration 10, Current loss 3.0374465614728106 Accuracy 46.85502859064918\n",
      "Training:: Epoch 4, Iteration 20, Current loss 2.3303459004491476 Accuracy 63.47094801223242\n",
      "Training:: Epoch 4, Iteration 30, Current loss 1.8259064796849356 Accuracy 70.87468802600267\n",
      "Training:: Epoch 4, Iteration 40, Current loss 2.9844917814759024 Accuracy 59.31702814951546\n",
      "Training:: Epoch 4, Iteration 50, Current loss 3.263742085640506 Accuracy 64.28316563191322\n",
      "Training:: Epoch 4, Iteration 60, Current loss 2.4570799788139146 Accuracy 61.7779170583934\n",
      "Training:: Epoch 4, Iteration 70, Current loss 3.8864268415178707 Accuracy 60.003215606409775\n",
      "Training:: Epoch 4, Iteration 80, Current loss 2.3099777223522016 Accuracy 65.30580322227436\n",
      "Training:: Epoch 4, Iteration 90, Current loss 2.1244455211871367 Accuracy 53.36832895888014\n",
      "Training:: Epoch 4, Iteration 100, Current loss 3.3612923473237126 Accuracy 58.50622406639004\n",
      "Training:: Epoch 4, Iteration 110, Current loss 2.7929542540964363 Accuracy 57.8125\n",
      "Training:: Epoch 4, Iteration 120, Current loss 2.277690369739016 Accuracy 60.602574243186886\n",
      "Training:: Epoch 4, Iteration 130, Current loss 2.1889876884613533 Accuracy 54.03599525810971\n",
      "Training:: Epoch 4, Iteration 140, Current loss 2.130861383019848 Accuracy 70.64446314776963\n",
      "Training:: Epoch 4, Iteration 150, Current loss 3.962439467362744 Accuracy 51.029440061573986\n",
      "Training:: Epoch 4, Iteration 160, Current loss 1.9708141826044305 Accuracy 72.79245526774756\n",
      "Training:: Epoch 4, Iteration 170, Current loss 2.5746026042190113 Accuracy 67.60546500479387\n",
      "Training:: Epoch 4, Iteration 180, Current loss 4.129424596654079 Accuracy 42.932598461361806\n",
      "Training:: Epoch 4, Iteration 190, Current loss 2.316517409527227 Accuracy 53.929539295392956\n",
      "Training:: Epoch 4, Iteration 200, Current loss 3.2773256617195017 Accuracy 65.4922133746741\n",
      "Training:: Epoch 4, Iteration 210, Current loss 4.781846593546313 Accuracy 32.71320381955878\n",
      "Training:: Epoch 4, Iteration 220, Current loss 3.731496483764308 Accuracy 52.65401655103235\n",
      "Training:: Epoch 4, Iteration 230, Current loss 3.649880888696859 Accuracy 45.51976468900208\n",
      "Training:: Epoch 4, Iteration 240, Current loss 3.033122416664303 Accuracy 69.46056570346387\n",
      "Calculating Validation Data Accuracy\n",
      "Validation:: Epoch 4, Probability Accuracy 51.08998025412428\n",
      "Starting Training\n",
      "Training:: Epoch 5, Iteration 0, Current loss 4.075606212232213 Accuracy 45.39170506912443\n",
      "Training:: Epoch 5, Iteration 10, Current loss 4.057843468383318 Accuracy 55.852702324278916\n",
      "Training:: Epoch 5, Iteration 20, Current loss 2.289173430516948 Accuracy 54.79951397326853\n",
      "Training:: Epoch 5, Iteration 30, Current loss 4.0622636993259 Accuracy 52.88391976323578\n",
      "Training:: Epoch 5, Iteration 40, Current loss 2.605580236607407 Accuracy 61.98022681011922\n",
      "Training:: Epoch 5, Iteration 50, Current loss 6.271586606612882 Accuracy 45.409373235460194\n",
      "Training:: Epoch 5, Iteration 60, Current loss 2.6504972233974136 Accuracy 71.33773843660391\n",
      "Training:: Epoch 5, Iteration 70, Current loss 2.894991824901634 Accuracy 55.17205692108668\n",
      "Training:: Epoch 5, Iteration 80, Current loss 2.3962735419503165 Accuracy 68.25442509713628\n",
      "Training:: Epoch 5, Iteration 90, Current loss 2.2402784840844254 Accuracy 64.90539093181006\n",
      "Training:: Epoch 5, Iteration 100, Current loss 3.420912693717334 Accuracy 67.08274612442118\n",
      "Training:: Epoch 5, Iteration 110, Current loss 2.2740835791314638 Accuracy 66.76851989864362\n",
      "Training:: Epoch 5, Iteration 120, Current loss 4.423361484743367 Accuracy 61.00208147487363\n",
      "Training:: Epoch 5, Iteration 130, Current loss 2.538672817058896 Accuracy 72.86528652865286\n",
      "Training:: Epoch 5, Iteration 140, Current loss 4.049957102801004 Accuracy 42.194716423425085\n",
      "Training:: Epoch 5, Iteration 150, Current loss 3.102249702497718 Accuracy 58.30175680330692\n",
      "Training:: Epoch 5, Iteration 160, Current loss 3.7431217997552464 Accuracy 40.34407151290268\n",
      "Training:: Epoch 5, Iteration 170, Current loss 2.1580586403479143 Accuracy 66.83193216928936\n",
      "Training:: Epoch 5, Iteration 180, Current loss 2.619360567620392 Accuracy 69.67491508976225\n",
      "Training:: Epoch 5, Iteration 190, Current loss 2.812231766118318 Accuracy 48.8122962272939\n",
      "Training:: Epoch 5, Iteration 200, Current loss 2.970505069511959 Accuracy 63.489925023430175\n",
      "Training:: Epoch 5, Iteration 210, Current loss 2.879390168773595 Accuracy 53.11638418079096\n",
      "Training:: Epoch 5, Iteration 220, Current loss 2.518516298024424 Accuracy 56.959871910337235\n",
      "Training:: Epoch 5, Iteration 230, Current loss 3.006016231941056 Accuracy 69.3830776087095\n",
      "Training:: Epoch 5, Iteration 240, Current loss 2.0860245914712645 Accuracy 49.322113136979894\n",
      "Calculating Expectation\n",
      "Epoch 5 iter 0\n",
      "Epoch 5 iter 10\n",
      "Epoch 5 iter 20\n",
      "Epoch 5 iter 30\n",
      "Epoch 5 iter 40\n",
      "Epoch 5 iter 50\n",
      "Epoch 5 iter 60\n",
      "Epoch 5 iter 70\n",
      "Epoch 5 iter 80\n",
      "Epoch 5 iter 90\n",
      "Epoch 5 iter 100\n",
      "Epoch 5 iter 110\n",
      "Epoch 5 iter 120\n",
      "Epoch 5 iter 130\n",
      "Epoch 5 iter 140\n",
      "Epoch 5 iter 150\n",
      "Epoch 5 iter 160\n",
      "Epoch 5 iter 170\n",
      "Epoch 5 iter 180\n",
      "Epoch 5 iter 190\n",
      "Epoch 5 iter 200\n",
      "Epoch 5 iter 210\n",
      "Epoch 5 iter 220\n",
      "Epoch 5 iter 230\n",
      "Epoch 5 iter 240\n",
      "Train Boundary avergage error = 293.320\n",
      "Train From boundary avergage accuracy = 60.783\n",
      "Calculating Validation Data Accuracy\n",
      "Validation:: Epoch 5, Probability Accuracy 55.442580655373135\n",
      "Starting Training\n",
      "Training:: Epoch 6, Iteration 0, Current loss 2.2511591083507554 Accuracy 57.76056338028169\n",
      "Training:: Epoch 6, Iteration 10, Current loss 3.265669864562087 Accuracy 61.24898775782404\n",
      "Training:: Epoch 6, Iteration 20, Current loss 2.7371188971396196 Accuracy 67.74583232664895\n",
      "Training:: Epoch 6, Iteration 30, Current loss 2.1016680546336377 Accuracy 60.471584038694076\n",
      "Training:: Epoch 6, Iteration 40, Current loss 2.4373341729147 Accuracy 54.73907338245685\n",
      "Training:: Epoch 6, Iteration 50, Current loss 3.581154504320451 Accuracy 63.0819942315616\n",
      "Training:: Epoch 6, Iteration 60, Current loss 2.688638350317195 Accuracy 56.42713769570454\n",
      "Training:: Epoch 6, Iteration 70, Current loss 7.970259348532114 Accuracy 51.028051670106244\n",
      "Training:: Epoch 6, Iteration 80, Current loss 3.656379518698343 Accuracy 55.13186813186813\n",
      "Training:: Epoch 6, Iteration 90, Current loss 3.0257849352212647 Accuracy 54.1956951232193\n",
      "Training:: Epoch 6, Iteration 100, Current loss 4.203129510016891 Accuracy 46.670897761366255\n",
      "Training:: Epoch 6, Iteration 110, Current loss 2.42626966205515 Accuracy 63.466644540325255\n",
      "Training:: Epoch 6, Iteration 120, Current loss 1.8972266912579074 Accuracy 61.224489795918366\n",
      "Training:: Epoch 6, Iteration 130, Current loss 4.826037569708967 Accuracy 60.63640848544647\n"
     ]
    },
    {
     "name": "stdout",
     "output_type": "stream",
     "text": [
      "Training:: Epoch 6, Iteration 140, Current loss 2.244127795543007 Accuracy 64.89911297397407\n",
      "Training:: Epoch 6, Iteration 150, Current loss 3.6763122482761363 Accuracy 60.83125519534497\n",
      "Training:: Epoch 6, Iteration 160, Current loss 2.545641010626364 Accuracy 56.164587046939985\n",
      "Training:: Epoch 6, Iteration 170, Current loss 2.1070001140956194 Accuracy 62.44788564621798\n",
      "Training:: Epoch 6, Iteration 180, Current loss 1.9861964679544866 Accuracy 68.97679802707735\n",
      "Training:: Epoch 6, Iteration 190, Current loss 2.276660909964281 Accuracy 52.793370756482226\n",
      "Training:: Epoch 6, Iteration 200, Current loss 2.785599109640634 Accuracy 58.92499761745926\n",
      "Training:: Epoch 6, Iteration 210, Current loss 1.700104419101966 Accuracy 61.94874355133966\n",
      "Training:: Epoch 6, Iteration 220, Current loss 2.127956616692257 Accuracy 57.2972972972973\n",
      "Training:: Epoch 6, Iteration 230, Current loss 3.412484782768861 Accuracy 52.531847133757964\n",
      "Training:: Epoch 6, Iteration 240, Current loss 4.5018402260098656 Accuracy 57.67918088737201\n",
      "Calculating Validation Data Accuracy\n",
      "Validation:: Epoch 6, Probability Accuracy 54.105875881936285\n",
      "Starting Training\n",
      "Training:: Epoch 7, Iteration 0, Current loss 1.6406656768630454 Accuracy 65.80370060153811\n",
      "Training:: Epoch 7, Iteration 10, Current loss 2.8955826795650528 Accuracy 52.48973305954826\n",
      "Training:: Epoch 7, Iteration 20, Current loss 2.328434810386272 Accuracy 64.02744298164286\n",
      "Training:: Epoch 7, Iteration 30, Current loss 2.218293892560428 Accuracy 61.31164742917104\n",
      "Training:: Epoch 7, Iteration 40, Current loss 2.6540696002626807 Accuracy 68.1618017111223\n",
      "Training:: Epoch 7, Iteration 50, Current loss 1.7796293458503858 Accuracy 66.64136622390892\n",
      "Training:: Epoch 7, Iteration 60, Current loss 1.5881491690976346 Accuracy 71.86897880539499\n",
      "Training:: Epoch 7, Iteration 70, Current loss 3.120101714274495 Accuracy 62.22919468101001\n",
      "Training:: Epoch 7, Iteration 80, Current loss 2.2959796794908 Accuracy 58.95047705588369\n",
      "Training:: Epoch 7, Iteration 90, Current loss 2.3311235001310213 Accuracy 57.181519427798186\n",
      "Training:: Epoch 7, Iteration 100, Current loss 2.963999055320402 Accuracy 42.69230769230769\n",
      "Training:: Epoch 7, Iteration 110, Current loss 1.8806139168045104 Accuracy 69.39960351175304\n",
      "Training:: Epoch 7, Iteration 120, Current loss 2.00519818860356 Accuracy 60.15133876600699\n",
      "Training:: Epoch 7, Iteration 130, Current loss 1.8099391735197368 Accuracy 64.77706312002617\n",
      "Training:: Epoch 7, Iteration 140, Current loss 2.0519910399245616 Accuracy 63.77381312367705\n",
      "Training:: Epoch 7, Iteration 150, Current loss 1.648288575263405 Accuracy 62.38854539537911\n",
      "Training:: Epoch 7, Iteration 160, Current loss 4.085028878301774 Accuracy 47.02716555612506\n",
      "Training:: Epoch 7, Iteration 170, Current loss 1.7554654159981244 Accuracy 56.39451898372823\n",
      "Training:: Epoch 7, Iteration 180, Current loss 1.7523634152324097 Accuracy 65.93794076163611\n",
      "Training:: Epoch 7, Iteration 190, Current loss 2.4635776830890532 Accuracy 50.12993598275971\n",
      "Training:: Epoch 7, Iteration 200, Current loss 3.2566049832643778 Accuracy 63.18094237169382\n",
      "Training:: Epoch 7, Iteration 210, Current loss 2.2233277109621143 Accuracy 59.80799804329216\n",
      "Training:: Epoch 7, Iteration 220, Current loss 1.9881541711045596 Accuracy 54.66268886536426\n",
      "Training:: Epoch 7, Iteration 230, Current loss 1.9022192273910434 Accuracy 72.66767927092494\n",
      "Training:: Epoch 7, Iteration 240, Current loss 3.6137734750546393 Accuracy 50.12010569300985\n",
      "Calculating Validation Data Accuracy\n",
      "Validation:: Epoch 7, Probability Accuracy 53.43712778628552\n",
      "Starting Training\n",
      "Training:: Epoch 8, Iteration 0, Current loss 2.094312092021963 Accuracy 66.21751684311839\n",
      "Training:: Epoch 8, Iteration 10, Current loss 1.6787635769061056 Accuracy 67.23888841675873\n",
      "Training:: Epoch 8, Iteration 20, Current loss 3.0943324450791594 Accuracy 54.30403621274991\n",
      "Training:: Epoch 8, Iteration 30, Current loss 2.4868815577067767 Accuracy 56.06630047219813\n",
      "Training:: Epoch 8, Iteration 40, Current loss 3.1101276809545366 Accuracy 44.205495818399044\n",
      "Training:: Epoch 8, Iteration 50, Current loss 1.643643344056354 Accuracy 49.393973090181255\n",
      "Training:: Epoch 8, Iteration 60, Current loss 1.8832394308930938 Accuracy 68.5080685080685\n",
      "Training:: Epoch 8, Iteration 70, Current loss 2.1648998668968593 Accuracy 64.07293271700051\n",
      "Training:: Epoch 8, Iteration 80, Current loss 2.505684437914497 Accuracy 53.45019611641083\n",
      "Training:: Epoch 8, Iteration 90, Current loss 1.6161474690458688 Accuracy 65.47275178124399\n",
      "Training:: Epoch 8, Iteration 100, Current loss 1.41787719849837 Accuracy 61.959381248026936\n",
      "Training:: Epoch 8, Iteration 110, Current loss 2.2107547557724776 Accuracy 60.28144239226033\n",
      "Training:: Epoch 8, Iteration 120, Current loss 1.8739259807357564 Accuracy 58.33576926824515\n",
      "Training:: Epoch 8, Iteration 130, Current loss 2.541133425247166 Accuracy 65.98921209786168\n",
      "Training:: Epoch 8, Iteration 140, Current loss 2.369637143931179 Accuracy 66.26221079691517\n",
      "Training:: Epoch 8, Iteration 150, Current loss 2.2008612626924124 Accuracy 62.7556362113492\n",
      "Training:: Epoch 8, Iteration 160, Current loss 1.978863448677573 Accuracy 66.48074089665333\n",
      "Training:: Epoch 8, Iteration 170, Current loss 1.6080104841840894 Accuracy 65.37345902828136\n",
      "Training:: Epoch 8, Iteration 180, Current loss 2.0983160781834913 Accuracy 55.00387897595035\n",
      "Training:: Epoch 8, Iteration 190, Current loss 2.2841377696724336 Accuracy 51.6400788671805\n",
      "Training:: Epoch 8, Iteration 200, Current loss 1.4522024530355173 Accuracy 71.37123121441239\n",
      "Training:: Epoch 8, Iteration 210, Current loss 3.598547495562238 Accuracy 49.00994534539916\n",
      "Training:: Epoch 8, Iteration 220, Current loss 1.1040546343661877 Accuracy 65.9174429535937\n",
      "Training:: Epoch 8, Iteration 230, Current loss 1.8351029369687097 Accuracy 61.11004294046017\n",
      "Training:: Epoch 8, Iteration 240, Current loss 1.4318631946528901 Accuracy 58.92487939352171\n",
      "Calculating Validation Data Accuracy\n",
      "Validation:: Epoch 8, Probability Accuracy 53.93690816782807\n",
      "Starting Training\n",
      "Training:: Epoch 9, Iteration 0, Current loss 1.9708410828699057 Accuracy 65.29559492296205\n",
      "Training:: Epoch 9, Iteration 10, Current loss 3.484733644890736 Accuracy 71.91568047337279\n",
      "Training:: Epoch 9, Iteration 20, Current loss 2.5634608695776318 Accuracy 63.163615560640736\n",
      "Training:: Epoch 9, Iteration 30, Current loss 2.993758911849096 Accuracy 55.191508998615596\n",
      "Training:: Epoch 9, Iteration 40, Current loss 1.8310810151322665 Accuracy 63.282504012841095\n",
      "Training:: Epoch 9, Iteration 50, Current loss 1.6083189105241351 Accuracy 55.541718555417184\n",
      "Training:: Epoch 9, Iteration 60, Current loss 1.8234937365286272 Accuracy 56.83418305413935\n",
      "Training:: Epoch 9, Iteration 70, Current loss 1.9995664973754907 Accuracy 63.79220779220779\n",
      "Training:: Epoch 9, Iteration 80, Current loss 1.506485437770713 Accuracy 73.39237057220708\n",
      "Training:: Epoch 9, Iteration 90, Current loss 1.7902240741891973 Accuracy 62.23243186801712\n",
      "Training:: Epoch 9, Iteration 100, Current loss 2.6276263367545045 Accuracy 65.2439024390244\n",
      "Training:: Epoch 9, Iteration 110, Current loss 1.5794079141834079 Accuracy 62.79556392550743\n",
      "Training:: Epoch 9, Iteration 120, Current loss 1.2763067815175677 Accuracy 70.95299328475497\n",
      "Training:: Epoch 9, Iteration 130, Current loss 2.1909248162271515 Accuracy 58.08503223558111\n",
      "Training:: Epoch 9, Iteration 140, Current loss 2.1136922935058147 Accuracy 63.90668194996966\n",
      "Training:: Epoch 9, Iteration 150, Current loss 2.1630359329407662 Accuracy 65.15684774292272\n",
      "Training:: Epoch 9, Iteration 160, Current loss 2.4550152067118067 Accuracy 58.001049317943334\n",
      "Training:: Epoch 9, Iteration 170, Current loss 3.1407741124778523 Accuracy 49.537585961584064\n",
      "Training:: Epoch 9, Iteration 180, Current loss 2.4045128398483584 Accuracy 61.937106918238996\n",
      "Training:: Epoch 9, Iteration 190, Current loss 1.9205495577381486 Accuracy 68.8245661605206\n",
      "Training:: Epoch 9, Iteration 200, Current loss 2.0322520567781934 Accuracy 58.67095008626331\n",
      "Training:: Epoch 9, Iteration 210, Current loss 1.8035179949067963 Accuracy 65.03005335314378\n",
      "Training:: Epoch 9, Iteration 220, Current loss 2.6189713670666332 Accuracy 60.50440161789198\n",
      "Training:: Epoch 9, Iteration 230, Current loss 2.2816652563185436 Accuracy 65.55650441218332\n"
     ]
    },
    {
     "name": "stdout",
     "output_type": "stream",
     "text": [
      "Training:: Epoch 9, Iteration 240, Current loss 3.303983003968653 Accuracy 43.88684363495447\n",
      "Calculating Validation Data Accuracy\n",
      "Validation:: Epoch 9, Probability Accuracy 50.24969233630511\n",
      "Starting Training\n",
      "Training:: Epoch 10, Iteration 0, Current loss 2.7487100104913855 Accuracy 50.85244570732697\n",
      "Training:: Epoch 10, Iteration 10, Current loss 2.563365192333457 Accuracy 67.11686096104634\n",
      "Training:: Epoch 10, Iteration 20, Current loss 2.363316327142125 Accuracy 59.019356782405666\n",
      "Training:: Epoch 10, Iteration 30, Current loss 1.9203551134610448 Accuracy 55.431361909929464\n",
      "Training:: Epoch 10, Iteration 40, Current loss 4.8839933925064205 Accuracy 42.396572311582496\n",
      "Training:: Epoch 10, Iteration 50, Current loss 1.7341610016474298 Accuracy 63.47384459116303\n",
      "Training:: Epoch 10, Iteration 60, Current loss 1.7459355923781457 Accuracy 59.8090692124105\n",
      "Training:: Epoch 10, Iteration 70, Current loss 4.3346719771438265 Accuracy 53.577835359776756\n",
      "Training:: Epoch 10, Iteration 80, Current loss 1.1860549869812018 Accuracy 60.53742802303263\n",
      "Training:: Epoch 10, Iteration 90, Current loss 3.372916265612134 Accuracy 45.16478229492422\n",
      "Training:: Epoch 10, Iteration 100, Current loss 1.2832153297760396 Accuracy 64.21494808591582\n",
      "Training:: Epoch 10, Iteration 110, Current loss 2.5928156520670687 Accuracy 71.32148069523683\n",
      "Training:: Epoch 10, Iteration 120, Current loss 1.5779026888954255 Accuracy 65.28902924618976\n",
      "Training:: Epoch 10, Iteration 130, Current loss 1.9766368613849914 Accuracy 57.69704433497537\n",
      "Training:: Epoch 10, Iteration 140, Current loss 1.716604227966515 Accuracy 75.07274490785645\n",
      "Training:: Epoch 10, Iteration 150, Current loss 1.3473146405910852 Accuracy 59.84347339979502\n",
      "Training:: Epoch 10, Iteration 160, Current loss 1.440727272900888 Accuracy 64.40866185452526\n",
      "Training:: Epoch 10, Iteration 170, Current loss 2.626157654817671 Accuracy 71.46009781701062\n",
      "Training:: Epoch 10, Iteration 180, Current loss 2.0731752360106874 Accuracy 52.70249810749432\n",
      "Training:: Epoch 10, Iteration 190, Current loss 2.2955080487196886 Accuracy 62.399821905609976\n",
      "Training:: Epoch 10, Iteration 200, Current loss 3.500474918770516 Accuracy 62.13364595545135\n",
      "Training:: Epoch 10, Iteration 210, Current loss 1.8928727411295525 Accuracy 55.37547271745003\n",
      "Training:: Epoch 10, Iteration 220, Current loss 3.491494455572968 Accuracy 64.58778014941302\n",
      "Training:: Epoch 10, Iteration 230, Current loss 5.282829924061079 Accuracy 49.2916068866571\n",
      "Training:: Epoch 10, Iteration 240, Current loss 2.3255135066893162 Accuracy 52.33807095584247\n",
      "Calculating Expectation\n",
      "Epoch 10 iter 0\n",
      "Epoch 10 iter 10\n",
      "Epoch 10 iter 20\n",
      "Epoch 10 iter 30\n",
      "Epoch 10 iter 40\n",
      "Epoch 10 iter 50\n",
      "Epoch 10 iter 60\n",
      "Epoch 10 iter 70\n",
      "Epoch 10 iter 80\n",
      "Epoch 10 iter 90\n",
      "Epoch 10 iter 100\n",
      "Epoch 10 iter 110\n",
      "Epoch 10 iter 120\n",
      "Epoch 10 iter 130\n",
      "Epoch 10 iter 140\n",
      "Epoch 10 iter 150\n",
      "Epoch 10 iter 160\n",
      "Epoch 10 iter 170\n",
      "Epoch 10 iter 180\n",
      "Epoch 10 iter 190\n",
      "Epoch 10 iter 200\n",
      "Epoch 10 iter 210\n",
      "Epoch 10 iter 220\n",
      "Epoch 10 iter 230\n",
      "Epoch 10 iter 240\n",
      "Train Boundary avergage error = 299.062\n",
      "Train From boundary avergage accuracy = 59.896\n",
      "Calculating Validation Data Accuracy\n",
      "Validation:: Epoch 10, Probability Accuracy 49.984765206104996\n",
      "Starting Training\n",
      "Training:: Epoch 11, Iteration 0, Current loss 1.9267179721456313 Accuracy 65.11473229132025\n",
      "Training:: Epoch 11, Iteration 10, Current loss 3.5294897047876685 Accuracy 51.6815124522814\n",
      "Training:: Epoch 11, Iteration 20, Current loss 2.315767763609842 Accuracy 57.4708067940552\n",
      "Training:: Epoch 11, Iteration 30, Current loss 2.2015391968004523 Accuracy 56.74792661472732\n",
      "Training:: Epoch 11, Iteration 40, Current loss 6.921981386712723 Accuracy 54.44880394886723\n",
      "Training:: Epoch 11, Iteration 50, Current loss 3.7189889110174796 Accuracy 54.47916049089939\n",
      "Training:: Epoch 11, Iteration 60, Current loss 3.0802157604323117 Accuracy 61.63515787389884\n",
      "Training:: Epoch 11, Iteration 70, Current loss 2.5514429968445747 Accuracy 51.9537699504678\n",
      "Training:: Epoch 11, Iteration 80, Current loss 1.7074078275621931 Accuracy 65.9586283492989\n",
      "Training:: Epoch 11, Iteration 90, Current loss 2.4437461579895325 Accuracy 52.41379310344828\n",
      "Training:: Epoch 11, Iteration 100, Current loss 1.6325023881962901 Accuracy 63.210555937714965\n",
      "Training:: Epoch 11, Iteration 110, Current loss 2.20301523915349 Accuracy 57.97579757975797\n",
      "Training:: Epoch 11, Iteration 120, Current loss 2.055094723955662 Accuracy 57.30588737201365\n",
      "Training:: Epoch 11, Iteration 130, Current loss 2.048517708587479 Accuracy 59.93576602432691\n",
      "Training:: Epoch 11, Iteration 140, Current loss 2.6154339041106023 Accuracy 61.02122884129805\n",
      "Training:: Epoch 11, Iteration 150, Current loss 2.7910893655872453 Accuracy 65.69074691904406\n",
      "Training:: Epoch 11, Iteration 160, Current loss 1.8874767352145887 Accuracy 51.57077303212142\n",
      "Training:: Epoch 11, Iteration 170, Current loss 2.9695881624995604 Accuracy 47.46621621621622\n",
      "Training:: Epoch 11, Iteration 180, Current loss 1.9231622608839218 Accuracy 63.94387755102041\n",
      "Training:: Epoch 11, Iteration 190, Current loss 2.0613815511556246 Accuracy 57.312069878242454\n",
      "Training:: Epoch 11, Iteration 200, Current loss 1.79308811110696 Accuracy 59.86529660651066\n",
      "Training:: Epoch 11, Iteration 210, Current loss 1.6435651971517955 Accuracy 59.899708832093175\n",
      "Training:: Epoch 11, Iteration 220, Current loss 1.9446401202792476 Accuracy 68.91783029001074\n",
      "Training:: Epoch 11, Iteration 230, Current loss 2.380132302627432 Accuracy 61.67079975201488\n",
      "Training:: Epoch 11, Iteration 240, Current loss 1.5344397909535386 Accuracy 62.84626038781163\n",
      "Calculating Validation Data Accuracy\n",
      "Validation:: Epoch 11, Probability Accuracy 55.602842772969915\n",
      "Starting Training\n",
      "Training:: Epoch 12, Iteration 0, Current loss 2.2650836443906543 Accuracy 58.08901278477362\n",
      "Training:: Epoch 12, Iteration 10, Current loss 1.8791635960971873 Accuracy 58.69565217391305\n",
      "Training:: Epoch 12, Iteration 20, Current loss 1.3220954317962883 Accuracy 62.461781240753524\n",
      "Training:: Epoch 12, Iteration 30, Current loss 3.8272170261535314 Accuracy 33.500231803430694\n",
      "Training:: Epoch 12, Iteration 40, Current loss 1.248062530890648 Accuracy 59.656218402426695\n",
      "Training:: Epoch 12, Iteration 50, Current loss 2.37245690648492 Accuracy 61.00588890657329\n",
      "Training:: Epoch 12, Iteration 60, Current loss 2.323876053128974 Accuracy 59.22611850060459\n",
      "Training:: Epoch 12, Iteration 70, Current loss 1.6513402905624122 Accuracy 63.97212543554007\n",
      "Training:: Epoch 12, Iteration 80, Current loss 1.5461167142914625 Accuracy 69.53941791466517\n",
      "Training:: Epoch 12, Iteration 90, Current loss 2.0394946684076376 Accuracy 72.31478993102213\n",
      "Training:: Epoch 12, Iteration 100, Current loss 1.476817569860104 Accuracy 64.04996013818761\n",
      "Training:: Epoch 12, Iteration 110, Current loss 0.8596688113852435 Accuracy 69.945295404814\n",
      "Training:: Epoch 12, Iteration 120, Current loss 1.834871331278375 Accuracy 61.712846347607055\n",
      "Training:: Epoch 12, Iteration 130, Current loss 2.000041178560722 Accuracy 60.453560963180024\n",
      "Training:: Epoch 12, Iteration 140, Current loss 1.808916230280662 Accuracy 56.37794268167861\n",
      "Training:: Epoch 12, Iteration 150, Current loss 2.9887864919586624 Accuracy 61.91613440710913\n",
      "Training:: Epoch 12, Iteration 160, Current loss 2.092668515457015 Accuracy 55.642263066023204\n",
      "Training:: Epoch 12, Iteration 170, Current loss 1.8845325954687535 Accuracy 54.361098996947234\n",
      "Training:: Epoch 12, Iteration 180, Current loss 1.6226115900734808 Accuracy 66.43757159221077\n",
      "Training:: Epoch 12, Iteration 190, Current loss 1.9655897688705153 Accuracy 64.21889616463984\n",
      "Training:: Epoch 12, Iteration 200, Current loss 1.6046552219953139 Accuracy 52.28706052917724\n",
      "Training:: Epoch 12, Iteration 210, Current loss 1.7110755816139829 Accuracy 60.98523164070403\n",
      "Training:: Epoch 12, Iteration 220, Current loss 2.2515735182409884 Accuracy 62.46716162193032\n",
      "Training:: Epoch 12, Iteration 230, Current loss 1.7021475857726942 Accuracy 52.927336892588905\n",
      "Training:: Epoch 12, Iteration 240, Current loss 1.757962874931017 Accuracy 58.65526543492645\n",
      "Calculating Validation Data Accuracy\n",
      "Validation:: Epoch 12, Probability Accuracy 52.76422474684521\n",
      "Starting Training\n",
      "Training:: Epoch 13, Iteration 0, Current loss 3.499955011778237 Accuracy 54.970892443339174\n"
     ]
    },
    {
     "name": "stdout",
     "output_type": "stream",
     "text": [
      "Training:: Epoch 13, Iteration 10, Current loss 1.7161744545845896 Accuracy 63.24770529168977\n",
      "Training:: Epoch 13, Iteration 20, Current loss 1.6032738366910702 Accuracy 69.10788381742739\n",
      "Training:: Epoch 13, Iteration 30, Current loss 1.6838926848465188 Accuracy 44.680851063829785\n",
      "Training:: Epoch 13, Iteration 40, Current loss 1.6229558522211418 Accuracy 56.10354223433242\n",
      "Training:: Epoch 13, Iteration 50, Current loss 2.0724930599999647 Accuracy 48.93617021276596\n",
      "Training:: Epoch 13, Iteration 60, Current loss 1.9346351534448447 Accuracy 62.26540441787078\n",
      "Training:: Epoch 13, Iteration 70, Current loss 1.2843443726547565 Accuracy 69.76149914821124\n",
      "Training:: Epoch 13, Iteration 80, Current loss 1.802894109219495 Accuracy 63.61850891664702\n",
      "Training:: Epoch 13, Iteration 90, Current loss 1.8102031017744875 Accuracy 63.75926296815542\n",
      "Training:: Epoch 13, Iteration 100, Current loss 1.5471184783405518 Accuracy 57.19894774039028\n",
      "Training:: Epoch 13, Iteration 110, Current loss 2.0565637363040317 Accuracy 66.65492709727407\n",
      "Training:: Epoch 13, Iteration 120, Current loss 1.8513417336505684 Accuracy 65.24525135403158\n",
      "Training:: Epoch 13, Iteration 130, Current loss 2.5992643951515326 Accuracy 52.57168866636322\n",
      "Training:: Epoch 13, Iteration 140, Current loss 1.6283086623461853 Accuracy 67.40714786264891\n",
      "Training:: Epoch 13, Iteration 150, Current loss 1.6206725969799218 Accuracy 71.9936107096676\n",
      "Training:: Epoch 13, Iteration 160, Current loss 1.6557714159182526 Accuracy 46.206764762086756\n",
      "Training:: Epoch 13, Iteration 170, Current loss 1.6257580014541424 Accuracy 57.97178599946766\n",
      "Training:: Epoch 13, Iteration 180, Current loss 1.5083032965611176 Accuracy 69.50549450549451\n",
      "Training:: Epoch 13, Iteration 190, Current loss 1.468700347487605 Accuracy 72.92118269314142\n",
      "Training:: Epoch 13, Iteration 200, Current loss 2.494981732546353 Accuracy 59.84475784410189\n",
      "Training:: Epoch 13, Iteration 210, Current loss 1.336555763994597 Accuracy 65.60266793711291\n",
      "Training:: Epoch 13, Iteration 220, Current loss 1.4523529580948669 Accuracy 71.70812866423705\n",
      "Training:: Epoch 13, Iteration 230, Current loss 1.8678484633957622 Accuracy 61.88429752066116\n",
      "Training:: Epoch 13, Iteration 240, Current loss 1.4334817955885741 Accuracy 69.88651900464862\n",
      "Calculating Validation Data Accuracy\n",
      "Validation:: Epoch 13, Probability Accuracy 54.73782304687964\n",
      "Starting Training\n",
      "Training:: Epoch 14, Iteration 0, Current loss 2.039866464128932 Accuracy 54.999475396075965\n",
      "Training:: Epoch 14, Iteration 10, Current loss 1.6569676926109151 Accuracy 65.42936288088643\n",
      "Training:: Epoch 14, Iteration 20, Current loss 1.5151721152131108 Accuracy 78.41586842580878\n",
      "Training:: Epoch 14, Iteration 30, Current loss 1.9819208908236305 Accuracy 64.12721015782604\n",
      "Training:: Epoch 14, Iteration 40, Current loss 2.024020321343938 Accuracy 42.6873099253525\n",
      "Training:: Epoch 14, Iteration 50, Current loss 1.3247494500012762 Accuracy 63.686701795123696\n",
      "Training:: Epoch 14, Iteration 60, Current loss 1.3864143458652578 Accuracy 62.029025955902874\n",
      "Training:: Epoch 14, Iteration 70, Current loss 1.6434386043050457 Accuracy 59.6542783059637\n",
      "Training:: Epoch 14, Iteration 80, Current loss 1.2548632815439877 Accuracy 66.695055357948\n",
      "Training:: Epoch 14, Iteration 90, Current loss 1.1592098204577919 Accuracy 58.40885242774015\n",
      "Training:: Epoch 14, Iteration 100, Current loss 1.6742328552060064 Accuracy 67.5284464741853\n",
      "Training:: Epoch 14, Iteration 110, Current loss 1.4913982075354149 Accuracy 68.16751730406209\n",
      "Training:: Epoch 14, Iteration 120, Current loss 1.5277742232322273 Accuracy 65.24847068527046\n",
      "Training:: Epoch 14, Iteration 130, Current loss 1.810776013055714 Accuracy 56.560778691616996\n",
      "Training:: Epoch 14, Iteration 140, Current loss 1.7228629346506503 Accuracy 60.777957860615885\n",
      "Training:: Epoch 14, Iteration 150, Current loss 1.7638841340478852 Accuracy 57.66191446028513\n",
      "Training:: Epoch 14, Iteration 160, Current loss 1.2567418438112317 Accuracy 70.69029162052418\n",
      "Training:: Epoch 14, Iteration 170, Current loss 1.390409501898692 Accuracy 58.20737204985415\n",
      "Training:: Epoch 14, Iteration 180, Current loss 2.710076513896257 Accuracy 56.696690816526335\n",
      "Training:: Epoch 14, Iteration 190, Current loss 1.6568044588004982 Accuracy 60.729518110637215\n",
      "Training:: Epoch 14, Iteration 200, Current loss 1.1250624571294072 Accuracy 67.1514423076923\n",
      "Training:: Epoch 14, Iteration 210, Current loss 2.3182414084373684 Accuracy 71.34371287438255\n",
      "Training:: Epoch 14, Iteration 220, Current loss 1.7236145545558044 Accuracy 69.1851647594099\n",
      "Training:: Epoch 14, Iteration 230, Current loss 2.300922361224525 Accuracy 51.746393318147305\n",
      "Training:: Epoch 14, Iteration 240, Current loss 1.8261288899895358 Accuracy 54.506437768240346\n",
      "Calculating Validation Data Accuracy\n",
      "Validation:: Epoch 14, Probability Accuracy 53.72401676223038\n",
      "Starting Training\n",
      "Training:: Epoch 15, Iteration 0, Current loss 2.1216960868507995 Accuracy 60.60013046314416\n",
      "Training:: Epoch 15, Iteration 10, Current loss 1.4429993015175493 Accuracy 77.88525886718988\n",
      "Training:: Epoch 15, Iteration 20, Current loss 1.3413446377121179 Accuracy 59.47573059074376\n",
      "Training:: Epoch 15, Iteration 30, Current loss 1.2011724534788906 Accuracy 73.84025439580995\n",
      "Training:: Epoch 15, Iteration 40, Current loss 1.3935803048893958 Accuracy 65.64200217627857\n",
      "Training:: Epoch 15, Iteration 50, Current loss 1.2635154089435165 Accuracy 71.13591306263308\n",
      "Training:: Epoch 15, Iteration 60, Current loss 4.7468018338010065 Accuracy 58.26101752594861\n",
      "Training:: Epoch 15, Iteration 70, Current loss 2.0012831162614453 Accuracy 50.82394366197183\n",
      "Training:: Epoch 15, Iteration 80, Current loss 1.3963601002547799 Accuracy 59.78705978705979\n",
      "Training:: Epoch 15, Iteration 90, Current loss 1.6401245639920377 Accuracy 57.961124896608766\n",
      "Training:: Epoch 15, Iteration 100, Current loss 1.4668629507264106 Accuracy 65.23642732049036\n",
      "Training:: Epoch 15, Iteration 110, Current loss 1.787256351886028 Accuracy 66.81373718101598\n",
      "Training:: Epoch 15, Iteration 120, Current loss 0.9644115090227536 Accuracy 52.10167017302821\n",
      "Training:: Epoch 15, Iteration 130, Current loss 1.8957780682853167 Accuracy 60.708306503541536\n",
      "Training:: Epoch 15, Iteration 140, Current loss 1.4988382493264631 Accuracy 49.3163513766623\n",
      "Training:: Epoch 15, Iteration 150, Current loss 1.6613455901046184 Accuracy 60.547238736480196\n",
      "Training:: Epoch 15, Iteration 160, Current loss 2.1096421543757704 Accuracy 62.557685481008164\n",
      "Training:: Epoch 15, Iteration 170, Current loss 1.2614620728752017 Accuracy 65.22289919768353\n",
      "Training:: Epoch 15, Iteration 180, Current loss 1.7197491870492074 Accuracy 62.263086642599276\n",
      "Training:: Epoch 15, Iteration 190, Current loss 0.9528560820369132 Accuracy 73.8342683711947\n",
      "Training:: Epoch 15, Iteration 200, Current loss 1.9839718320573896 Accuracy 62.2765331522969\n",
      "Training:: Epoch 15, Iteration 210, Current loss 2.8146774869265676 Accuracy 57.952302631578945\n",
      "Training:: Epoch 15, Iteration 220, Current loss 1.5118775832726785 Accuracy 56.89116472834577\n",
      "Training:: Epoch 15, Iteration 230, Current loss 1.4921160129607558 Accuracy 65.8514816137094\n",
      "Training:: Epoch 15, Iteration 240, Current loss 1.0307485559048097 Accuracy 63.07108104900914\n",
      "Completed 0 videos selected frames calculation\n"
     ]
    },
    {
     "name": "stderr",
     "output_type": "stream",
     "text": [
      "/home/dipika16/anaconda3/envs/video_r/lib/python3.7/site-packages/ipykernel_launcher.py:28: UserWarning: To copy construct from a tensor, it is recommended to use sourceTensor.clone().detach() or sourceTensor.clone().detach().requires_grad_(True), rather than torch.tensor(sourceTensor).\n"
     ]
    },
    {
     "name": "stdout",
     "output_type": "stream",
     "text": [
      "Completed 10 videos selected frames calculation\n",
      "Completed 20 videos selected frames calculation\n",
      "Completed 30 videos selected frames calculation\n",
      "Completed 40 videos selected frames calculation\n",
      "Completed 50 videos selected frames calculation\n",
      "Completed 60 videos selected frames calculation\n",
      "Completed 70 videos selected frames calculation\n",
      "Could not find expected solution for video P40_webcam02_P40_salat\n",
      "[(0, 47), (136, 13), (246, 31), (766, 3), (764, 32), (915, 33), (1627, 31), (2073, 32), (2134, 47)]\n",
      "[(0, 47), (136, 13), (246, 31), (766, 3), (764, 32), (915, 33), (1627, 31), (2073, 32), (2134, 47)]\n",
      "[0, 0, 0, 1, 1, 0, 0, 0, 0]\n"
     ]
    },
    {
     "ename": "KeyError",
     "evalue": "'SIL'",
     "output_type": "error",
     "traceback": [
      "\u001b[0;31m---------------------------------------------------------------------------\u001b[0m",
      "\u001b[0;31mKeyError\u001b[0m                                  Traceback (most recent call last)",
      "\u001b[0;32m<ipython-input-29-f179673989f6>\u001b[0m in \u001b[0;36m<module>\u001b[0;34m\u001b[0m\n\u001b[1;32m     46\u001b[0m     \u001b[0;32mif\u001b[0m \u001b[0;34m(\u001b[0m\u001b[0mepoch\u001b[0m \u001b[0;34m>\u001b[0m \u001b[0minitialize_epoch\u001b[0m\u001b[0;34m)\u001b[0m \u001b[0;32mand\u001b[0m \u001b[0;34m(\u001b[0m\u001b[0;34m(\u001b[0m\u001b[0mepoch\u001b[0m \u001b[0;34m%\u001b[0m \u001b[0;34m(\u001b[0m\u001b[0;36m3\u001b[0m \u001b[0;34m*\u001b[0m \u001b[0mexpectation_cal_gap\u001b[0m\u001b[0;34m)\u001b[0m\u001b[0;34m)\u001b[0m \u001b[0;34m==\u001b[0m \u001b[0;36m0\u001b[0m\u001b[0;34m)\u001b[0m\u001b[0;34m:\u001b[0m\u001b[0;34m\u001b[0m\u001b[0;34m\u001b[0m\u001b[0m\n\u001b[1;32m     47\u001b[0m         \u001b[0mtorch\u001b[0m\u001b[0;34m.\u001b[0m\u001b[0msave\u001b[0m\u001b[0;34m(\u001b[0m\u001b[0mmodel\u001b[0m\u001b[0;34m.\u001b[0m\u001b[0mstate_dict\u001b[0m\u001b[0;34m(\u001b[0m\u001b[0;34m)\u001b[0m\u001b[0;34m,\u001b[0m \u001b[0mconfig\u001b[0m\u001b[0;34m.\u001b[0m\u001b[0moutput_dir\u001b[0m \u001b[0;34m+\u001b[0m \u001b[0;34m\"ms-tcn-initial-15-epochs.wt\"\u001b[0m\u001b[0;34m)\u001b[0m\u001b[0;34m\u001b[0m\u001b[0;34m\u001b[0m\u001b[0m\n\u001b[0;32m---> 48\u001b[0;31m         \u001b[0mselected_frames_dict\u001b[0m \u001b[0;34m=\u001b[0m \u001b[0mchange_selected_frames\u001b[0m\u001b[0;34m(\u001b[0m\u001b[0mmodel\u001b[0m\u001b[0;34m)\u001b[0m\u001b[0;34m\u001b[0m\u001b[0;34m\u001b[0m\u001b[0m\n\u001b[0m\u001b[1;32m     49\u001b[0m         \u001b[0mget_new_selected_frame_acc\u001b[0m\u001b[0;34m(\u001b[0m\u001b[0mselected_frames_dict\u001b[0m\u001b[0;34m)\u001b[0m\u001b[0;34m\u001b[0m\u001b[0;34m\u001b[0m\u001b[0m\n\u001b[1;32m     50\u001b[0m \u001b[0;34m\u001b[0m\u001b[0m\n",
      "\u001b[0;32m<ipython-input-24-17bd28fc3493>\u001b[0m in \u001b[0;36mchange_selected_frames\u001b[0;34m(model)\u001b[0m\n\u001b[1;32m    117\u001b[0m                 \u001b[0mlabel_name_final_list\u001b[0m \u001b[0;34m=\u001b[0m \u001b[0;34m[\u001b[0m\u001b[0;34m]\u001b[0m\u001b[0;34m\u001b[0m\u001b[0;34m\u001b[0m\u001b[0m\n\u001b[1;32m    118\u001b[0m                 \u001b[0;32mfor\u001b[0m \u001b[0mele\u001b[0m \u001b[0;32min\u001b[0m \u001b[0mfinal_list\u001b[0m\u001b[0;34m:\u001b[0m\u001b[0;34m\u001b[0m\u001b[0;34m\u001b[0m\u001b[0m\n\u001b[0;32m--> 119\u001b[0;31m                     \u001b[0mlabel_name_final_list\u001b[0m\u001b[0;34m.\u001b[0m\u001b[0mappend\u001b[0m\u001b[0;34m(\u001b[0m\u001b[0;34m(\u001b[0m\u001b[0mele\u001b[0m\u001b[0;34m[\u001b[0m\u001b[0;36m0\u001b[0m\u001b[0;34m]\u001b[0m\u001b[0;34m,\u001b[0m \u001b[0mlabel_id_to_label_name\u001b[0m\u001b[0;34m[\u001b[0m\u001b[0mele\u001b[0m\u001b[0;34m[\u001b[0m\u001b[0;36m1\u001b[0m\u001b[0;34m]\u001b[0m\u001b[0;34m]\u001b[0m\u001b[0;34m)\u001b[0m\u001b[0;34m)\u001b[0m\u001b[0;34m\u001b[0m\u001b[0;34m\u001b[0m\u001b[0m\n\u001b[0m\u001b[1;32m    120\u001b[0m                 \u001b[0mnew_selected_frame_dict\u001b[0m\u001b[0;34m[\u001b[0m\u001b[0mvideo_id\u001b[0m \u001b[0;34m+\u001b[0m \u001b[0;34m\".txt\"\u001b[0m\u001b[0;34m]\u001b[0m \u001b[0;34m=\u001b[0m \u001b[0mlabel_name_final_list\u001b[0m\u001b[0;34m\u001b[0m\u001b[0;34m\u001b[0m\u001b[0m\n\u001b[1;32m    121\u001b[0m         \u001b[0mprior_probs\u001b[0m \u001b[0;34m=\u001b[0m \u001b[0mnew_prior_probs\u001b[0m\u001b[0;34m\u001b[0m\u001b[0;34m\u001b[0m\u001b[0m\n",
      "\u001b[0;31mKeyError\u001b[0m: 'SIL'"
     ]
    }
   ],
   "source": [
    "initialize_epoch = 0\n",
    "expectation_cal_gap = 5\n",
    "best_val_acc = 0\n",
    "for epoch in range(150):\n",
    "    print(\"Starting Training\")\n",
    "    model.train()\n",
    "    for i, item in enumerate(trainloader):\n",
    "        item_0 = item[0].to(device)\n",
    "        item_1 = item[1].to(device)\n",
    "        item_2 = item[2].to(device)\n",
    "        src_mask = torch.arange(item_2.shape[1], device=item_2.device)[None, :] < item_1[:, None]\n",
    "        src_mask_mse = src_mask.unsqueeze(1).to(torch.float32).to(device)\n",
    "        optimizer.zero_grad()\n",
    "        \n",
    "        middle_pred, predictions = model(item_0, src_mask_mse)\n",
    "        boundary_target_tensor = get_single_random(item[4], item_2.shape[1], item_2.device)\n",
    "        \n",
    "        loss = 0\n",
    "        for p in predictions:\n",
    "            if epoch < initialize_epoch:\n",
    "                loss += ce_criterion(p, boundary_target_tensor)\n",
    "                loss += 0.15 * torch.mean(torch.clamp(mse_criterion(F.log_softmax(p[:, :, 1:], dim=1), \n",
    "                                                                    F.log_softmax(p.detach()[:, :, :-1], dim=1)), min=0,\n",
    "                                            max=16) * src_mask_mse[:, :, 1:])\n",
    "            else:\n",
    "                prob = torch.softmax(p, dim=1)\n",
    "                prob = prob.permute(0, 2, 1)\n",
    "                es_loss, _ = get_estimated_loss(prob, item_1, item[4])\n",
    "                loss += es_loss\n",
    "            \n",
    "\n",
    "        loss.backward()\n",
    "        optimizer.step()\n",
    "        \n",
    "        if i % 10 == 0:\n",
    "            with torch.no_grad():\n",
    "                pred = torch.argmax(predictions[-1], dim=1)\n",
    "                correct = float(torch.sum((pred == item_2) * src_mask).item())\n",
    "                total = float(torch.sum(src_mask).item())\n",
    "                print(f\"Training:: Epoch {epoch}, Iteration {i}, Current loss {loss.item()}\" +\n",
    "                      f\" Accuracy {correct * 100.0 / total}\")\n",
    "\n",
    "    # Calculating Expectation Step\n",
    "    model.eval()\n",
    "\n",
    "    if (epoch > initialize_epoch) and ((epoch % (3 * expectation_cal_gap)) == 0):\n",
    "        torch.save(model.state_dict(), config.output_dir + \"ms-tcn-initial-15-epochs.wt\")\n",
    "        selected_frames_dict = change_selected_frames(model)\n",
    "        get_new_selected_frame_acc(selected_frames_dict)\n",
    "\n",
    "    if epoch > initialize_epoch and (epoch % expectation_cal_gap == 0):\n",
    "        print(\"Calculating Expectation\")\n",
    "        correct = 0.0\n",
    "        total = 0.0\n",
    "\n",
    "        for i, item in enumerate(trainloader):\n",
    "            with torch.no_grad():\n",
    "                item_0 = item[0].to(device)\n",
    "                item_1 = item[1].to(device)\n",
    "                item_2 = item[2].to(device)\n",
    "                src_mask = torch.arange(item_2.shape[1], device=item_2.device)[None, :] < item_1[:, None]\n",
    "                src_mask_mse = src_mask.unsqueeze(1).to(torch.float32).to(device)\n",
    "\n",
    "                middle_pred, predictions = model(item_0, src_mask_mse)\n",
    "                prob = torch.softmax(predictions[-1], dim=1)\n",
    "                prob = prob.permute(0, 2, 1)\n",
    "                calculate_element_probb(prob, item_1, item[4])\n",
    "                \n",
    "                if i % 10 == 0:\n",
    "                    print(f\"Epoch {epoch} iter {i}\")\n",
    "                    \n",
    "        get_boundary_err()\n",
    "\n",
    "    print(\"Calculating Validation Data Accuracy\")\n",
    "    correct = 0.0\n",
    "    total = 0.0\n",
    "    for i, item in enumerate(testloader):\n",
    "        with torch.no_grad():\n",
    "            item_0 = item[0].to(device)\n",
    "            item_1 = item[1].to(device)\n",
    "            item_2 = item[2].to(device)\n",
    "            src_mask = torch.arange(item_2.shape[1], device=item_2.device)[None, :] < item_1[:, None]\n",
    "            src_mask_mse = src_mask.unsqueeze(1).to(torch.float32).to(device)\n",
    "\n",
    "            middle_pred, predictions = model(item_0, src_mask_mse)\n",
    "\n",
    "            pred = torch.argmax(predictions[-1], dim=1)\n",
    "            correct += float(torch.sum((pred == item_2) * src_mask).item())\n",
    "            total += float(torch.sum(src_mask).item())\n",
    "    val_acc = correct * 100.0 / total\n",
    "    if val_acc > best_val_acc:\n",
    "        best_val_acc = val_acc\n",
    "        torch.save(model.state_dict(), config.output_dir + \"ms-tcn-emmax-best-model.wt\")\n",
    "    torch.save(model.state_dict(), config.output_dir + \"ms-tcn-emmax-last-model.wt\")\n",
    "    print(f\"Validation:: Epoch {epoch}, Probability Accuracy {val_acc}\")"
   ]
  },
  {
   "cell_type": "code",
   "execution_count": 32,
   "metadata": {},
   "outputs": [
    {
     "name": "stdout",
     "output_type": "stream",
     "text": [
      "Validation:: Epoch 130, Probability Accuracy 51.43919338691232\n"
     ]
    }
   ],
   "source": [
    "print(f\"Validation:: Epoch {epoch}, Probability Accuracy {val_acc}\")"
   ]
  },
  {
   "cell_type": "code",
   "execution_count": 33,
   "metadata": {},
   "outputs": [
    {
     "data": {
      "text/plain": [
       "54.61000906173455"
      ]
     },
     "execution_count": 33,
     "metadata": {},
     "output_type": "execute_result"
    }
   ],
   "source": [
    "best_val_acc"
   ]
  },
  {
   "cell_type": "code",
   "execution_count": 24,
   "metadata": {},
   "outputs": [],
   "source": [
    "torch.save(model.state_dict(),\n",
    "\"/mnt/ssd/all_users/dipika/ms_tcn/data/breakfast//results/em-maximize-mstcn-speed/final-em-maximized.wt\")"
   ]
  },
  {
   "cell_type": "code",
   "execution_count": 24,
   "metadata": {},
   "outputs": [
    {
     "data": {
      "text/plain": [
       "'/mnt/ssd/all_users/dipika/ms_tcn/data/breakfast//results/em-maximize-mstcn-split1/'"
      ]
     },
     "execution_count": 24,
     "metadata": {},
     "output_type": "execute_result"
    }
   ],
   "source": [
    "config.output_dir"
   ]
  },
  {
   "cell_type": "code",
   "execution_count": 34,
   "metadata": {},
   "outputs": [
    {
     "data": {
      "text/plain": [
       "<All keys matched successfully>"
      ]
     },
     "execution_count": 34,
     "metadata": {},
     "output_type": "execute_result"
    }
   ],
   "source": [
    "model.load_state_dict(torch.load(config.output_dir + \"ms-tcn-emmax-best-model.wt\"))\n",
    "# model.load_state_dict(torch.load(config.output_dir + \"ms-tcn-initial-15-epochs.wt\"))"
   ]
  },
  {
   "cell_type": "code",
   "execution_count": 35,
   "metadata": {},
   "outputs": [
    {
     "name": "stdout",
     "output_type": "stream",
     "text": [
      "Calculating Validation Data Accuracy\n",
      "Validation:: Probability Accuracy 54.625639564561894\n"
     ]
    }
   ],
   "source": [
    "print(\"Calculating Validation Data Accuracy\")\n",
    "correct = 0.0\n",
    "total = 0.0\n",
    "for i, item in enumerate(testloader):\n",
    "    with torch.no_grad():\n",
    "        item_0 = item[0].to(device)\n",
    "        item_1 = item[1].to(device)\n",
    "        item_2 = item[2].to(device)\n",
    "        src_mask = torch.arange(item_2.shape[1], device=item_2.device)[None, :] < item_1[:, None]\n",
    "        src_mask_mse = src_mask.unsqueeze(1).to(torch.float32).to(device)\n",
    "\n",
    "        middle_pred, predictions = model(item_0, src_mask_mse)\n",
    "\n",
    "        pred = torch.argmax(predictions[-1], dim=1)\n",
    "        correct += float(torch.sum((pred == item_2) * src_mask).item())\n",
    "        total += float(torch.sum(src_mask).item())\n",
    "\n",
    "print(f\"Validation:: Probability Accuracy {correct * 100.0 / total}\")"
   ]
  },
  {
   "cell_type": "code",
   "execution_count": 36,
   "metadata": {},
   "outputs": [
    {
     "name": "stdout",
     "output_type": "stream",
     "text": [
      "1 iteration done\n",
      "11 iteration done\n",
      "21 iteration done\n",
      "31 iteration done\n",
      "41 iteration done\n",
      "51 iteration done\n",
      "61 iteration done\n",
      "71 iteration done\n",
      "81 iteration done\n",
      "91 iteration done\n",
      "101 iteration done\n",
      "111 iteration done\n",
      "121 iteration done\n",
      "131 iteration done\n",
      "141 iteration done\n",
      "151 iteration done\n",
      "161 iteration done\n",
      "171 iteration done\n",
      "181 iteration done\n",
      "Train Boundary avergage error = 307.224\n",
      "Train From boundary avergage accuracy = 57.704\n"
     ]
    }
   ],
   "source": [
    "model.eval()\n",
    "for i, item in enumerate(trainloader):\n",
    "    with torch.no_grad():\n",
    "        item_0 = item[0].to(device)\n",
    "        item_1 = item[1].to(device)\n",
    "        item_2 = item[2].to(device)\n",
    "        src_mask = torch.arange(item_2.shape[1], device=item_2.device)[None, :] < item_1[:, None]\n",
    "        src_mask_mse = src_mask.unsqueeze(1).to(torch.float32).to(device)\n",
    "\n",
    "        middle_pred, predictions = model(item_0, src_mask_mse)\n",
    "        prob = torch.softmax(predictions[-1], dim=1)\n",
    "        prob = prob.permute(0, 2, 1)\n",
    "        calculate_element_probb(prob, item_1, item[4])\n",
    "\n",
    "        if i % 10 == 0:\n",
    "            print(f'{i+1} iteration done')\n",
    "get_boundary_err()"
   ]
  },
  {
   "cell_type": "code",
   "execution_count": 26,
   "metadata": {},
   "outputs": [],
   "source": [
    "with torch.no_grad():\n",
    "    idx = 1\n",
    "\n",
    "    cur_vid_feat = torch.softmax(predictions[-1], dim=1).permute(0, 2, 1)[idx]\n",
    "    cur_vidid = item[4][idx]\n",
    "\n",
    "    selected_frames_indices_and_labels = selected_frames_dict[cur_vidid + \".txt\"]\n",
    "    selected_frames_indices = [ele[0] for ele in selected_frames_indices_and_labels]\n",
    "    selected_frames_labels = [label_name_to_label_id_dict[ele[1]] for ele in selected_frames_indices_and_labels]\n",
    "    \n",
    "    cumsum_feat = torch.cumsum(cur_vid_feat, dim=0)\n",
    "    prob_each_segment = prob_vals_per_segment(selected_frames_indices, cur_vid_feat, selected_frames_labels)\n"
   ]
  },
  {
   "cell_type": "code",
   "execution_count": 27,
   "metadata": {},
   "outputs": [
    {
     "data": {
      "text/plain": [
       "[64, 228, 481, 735, 1578, 2388, 2567, 2745]"
      ]
     },
     "execution_count": 27,
     "metadata": {},
     "output_type": "execute_result"
    }
   ],
   "source": [
    "selected_frames_indices"
   ]
  },
  {
   "cell_type": "code",
   "execution_count": 28,
   "metadata": {},
   "outputs": [
    {
     "data": {
      "text/plain": [
       "[88, 229, 578, 1128, 2241, 2479, 2720, 2810]"
      ]
     },
     "execution_count": 28,
     "metadata": {},
     "output_type": "execute_result"
    }
   ],
   "source": [
    "boundary_frames_dict[cur_vidid + \".txt\"]"
   ]
  },
  {
   "cell_type": "code",
   "execution_count": 29,
   "metadata": {},
   "outputs": [
    {
     "name": "stdout",
     "output_type": "stream",
     "text": [
      "Min prob 0 = 0.0\n",
      "Min prob 1 = 0.0\n",
      "Min prob 2 = 0.0\n",
      "Min prob 3 = 0.0\n",
      "Min prob 4 = 0.0\n",
      "Min prob 5 = 7.224189870987231e-126\n",
      "Min prob 6 = 4.631831900603335e-244\n"
     ]
    },
    {
     "data": {
      "text/plain": [
       "(0, 2811)"
      ]
     },
     "execution_count": 29,
     "metadata": {},
     "output_type": "execute_result"
    },
    {
     "data": {
      "image/png": "[encoded data removed]",
      "text/plain": [
       "<Figure size 1296x360 with 1 Axes>"
      ]
     },
     "metadata": {
      "needs_background": "light"
     },
     "output_type": "display_data"
    }
   ],
   "source": [
    "import matplotlib.pyplot as plt\n",
    "fig = plt.figure(figsize=(18, 5))\n",
    "\n",
    "ymax = 1\n",
    "\n",
    "plt.plot([0, item[1][idx].item()], [0, 0])\n",
    "\n",
    "for pivot in selected_frames_indices:\n",
    "    plt.plot([pivot, pivot], [0, ymax], '--')\n",
    "    \n",
    "for pivot in boundary_frames_dict[cur_vidid + \".txt\"]:\n",
    "    plt.plot([pivot, pivot], [0, ymax])\n",
    "    \n",
    "all_prob = []\n",
    "for i, segment in enumerate(prob_each_segment):\n",
    "    segment = segment.cpu().numpy()\n",
    "    print(f\"Min prob {i} = {np.min(segment).item()}\")\n",
    "    xs = np.arange(selected_frames_indices[i], \n",
    "                   selected_frames_indices[i+1])\n",
    "    plt.plot(xs, segment, '*')\n",
    "\n",
    "    \n",
    "plt_arr = []\n",
    "for i in range(item[1][idx].item()):\n",
    "    plt_arr.append(cur_vid_feat[i,item[2][idx][i]].item()) \n",
    "plt.plot(np.arange(item[1][idx].item()), plt_arr)\n",
    "\n",
    "\n",
    "loss_prob = torch.softmax(cur_vid_feat.unsqueeze(0), dim=2)\n",
    "es_loss, loss_arr = get_estimated_loss(loss_prob, torch.tensor([item_1[idx]]), [item[4][idx]])\n",
    "loss_arr = -loss_arr[0].detach().cpu().numpy()\n",
    "plt.plot(np.arange(selected_frames_indices[0] - 1, selected_frames_indices[-1] + 1), loss_arr/np.max(loss_arr), 'k+')\n",
    "\n",
    "plt.ylim([0, ymax])\n",
    "plt.xlim([0, item[1][idx].item()])"
   ]
  },
  {
   "cell_type": "code",
   "execution_count": 40,
   "metadata": {},
   "outputs": [
    {
     "name": "stdout",
     "output_type": "stream",
     "text": [
      "torch.Size([1, 1895, 48])\n"
     ]
    }
   ],
   "source": [
    "loss_prob = torch.softmax(cur_vid_feat.unsqueeze(0), dim=2)\n",
    "print(loss_prob.shape)\n",
    "es_loss, loss_arr = get_estimated_loss(loss_prob, torch.tensor([item_1[idx]]), [item[4][idx]], item_2[idx].unsqueeze(0))"
   ]
  },
  {
   "cell_type": "code",
   "execution_count": 43,
   "metadata": {},
   "outputs": [
    {
     "data": {
      "text/plain": [
       "torch.Size([1387])"
      ]
     },
     "execution_count": 43,
     "metadata": {},
     "output_type": "execute_result"
    }
   ],
   "source": [
    "loss_arr[0].shape"
   ]
  },
  {
   "cell_type": "code",
   "execution_count": 45,
   "metadata": {},
   "outputs": [
    {
     "data": {
      "text/plain": [
       "[<matplotlib.lines.Line2D at 0x7faf5b8ecb00>]"
      ]
     },
     "execution_count": 45,
     "metadata": {},
     "output_type": "execute_result"
    },
    {
     "data": {
      "image/png": "[encoded data removed]",
      "text/plain": [
       "<Figure size 432x288 with 1 Axes>"
      ]
     },
     "metadata": {
      "needs_background": "light"
     },
     "output_type": "display_data"
    }
   ],
   "source": [
    "selected_frames = loaded_vidid_selected_frames[cur_vidid + \".txt\"]\n",
    "plt.plot(np.arange(selected_frames[0] - 1, selected_frames[-1] + 1), loss_arr[0].detach().cpu().numpy())"
   ]
  },
  {
   "cell_type": "code",
   "execution_count": 44,
   "metadata": {},
   "outputs": [
    {
     "data": {
      "text/plain": [
       "tensor(3.3987, device='cuda:0', dtype=torch.float64)"
      ]
     },
     "execution_count": 44,
     "metadata": {},
     "output_type": "execute_result"
    }
   ],
   "source": [
    "es_loss"
   ]
  },
  {
   "cell_type": "code",
   "execution_count": 35,
   "metadata": {},
   "outputs": [
    {
     "data": {
      "text/plain": [
       "([75, 345, 1305, 1415, 1440, 1519],\n",
       " [73, 282, 455, 1312, 1434, 1458],\n",
       " tensor(1520, device='cuda:0', dtype=torch.int32))"
      ]
     },
     "execution_count": 35,
     "metadata": {},
     "output_type": "execute_result"
    }
   ],
   "source": [
    "video_id_boundary_frames[cur_vidid], loaded_vidid_selected_frames[cur_vidid + \".txt\"], item_1[idx]"
   ]
  },
  {
   "cell_type": "code",
   "execution_count": 41,
   "metadata": {},
   "outputs": [
    {
     "data": {
      "image/png": "[encoded data removed]",
      "text/plain": [
       "<Figure size 1296x360 with 1 Axes>"
      ]
     },
     "metadata": {
      "needs_background": "light"
     },
     "output_type": "display_data"
    }
   ],
   "source": [
    "plt_arr = []\n",
    "for i in range(item[1][idx].item()):\n",
    "    plt_arr.append(cur_vid_feat[i,item[2][idx][i]].item()) \n",
    "\n",
    "fig = plt.figure(figsize=(18, 5))\n",
    "plt.plot(np.arange(item[1][idx].item()), plt_arr)\n",
    "\n",
    "for pivot in video_id_boundary_frames[cur_vidid]:\n",
    "    plt.plot([pivot, pivot], [0, 14])"
   ]
  },
  {
   "cell_type": "code",
   "execution_count": 36,
   "metadata": {},
   "outputs": [
    {
     "data": {
      "text/plain": [
       "torch.Size([334, 334])"
      ]
     },
     "execution_count": 36,
     "metadata": {},
     "output_type": "execute_result"
    }
   ],
   "source": []
  },
  {
   "cell_type": "code",
   "execution_count": 37,
   "metadata": {},
   "outputs": [
    {
     "data": {
      "text/plain": [
       "torch.Size([334, 334])"
      ]
     },
     "execution_count": 37,
     "metadata": {},
     "output_type": "execute_result"
    }
   ],
   "source": [
    "cur_features_shortened = cur_vid_feat[:item[1][idx]]\n",
    "cur_features_shortened[:, item[2][idx][:item[1][idx]]].shape\n",
    "for"
   ]
  },
  {
   "cell_type": "code",
   "execution_count": 26,
   "metadata": {},
   "outputs": [
    {
     "data": {
      "text/plain": [
       "tensor([47, 47, 47, 47, 47, 47, 47,  4,  4,  4,  4,  4,  4,  4,  4])"
      ]
     },
     "execution_count": 26,
     "metadata": {},
     "output_type": "execute_result"
    }
   ],
   "source": [
    "item[2][idx][video_id_boundary_frames[cur_vidid][1]-6:video_id_boundary_frames[cur_vidid][1]+9]"
   ]
  },
  {
   "cell_type": "code",
   "execution_count": 25,
   "metadata": {},
   "outputs": [
    {
     "data": {
      "text/plain": [
       "6"
      ]
     },
     "execution_count": 25,
     "metadata": {},
     "output_type": "execute_result"
    }
   ],
   "source": [
    "video_id_boundary_frames[cur_vidid][0]-6,video_id_boundary_frames[cur_vidid][0]+9"
   ]
  },
  {
   "cell_type": "code",
   "execution_count": 27,
   "metadata": {},
   "outputs": [
    {
     "data": {
      "text/plain": [
       "tensor([[ 1.0794, 13.3350],\n",
       "        [ 1.0831, 13.5102],\n",
       "        [ 1.1767, 13.7662],\n",
       "        [ 1.3750, 14.0177],\n",
       "        [ 1.7298, 14.1727],\n",
       "        [ 2.1706, 14.0367],\n",
       "        [ 2.7338, 13.4563],\n",
       "        [ 4.5600, 12.1745],\n",
       "        [ 7.8450, 10.3246],\n",
       "        [11.0151,  8.3563],\n",
       "        [13.4775,  6.6546],\n",
       "        [14.1836,  5.2898],\n",
       "        [11.2142,  4.2791],\n",
       "        [ 5.9829,  3.5694],\n",
       "        [ 2.3440,  2.9389],\n",
       "        [ 0.7406,  2.3515]], device='cuda:0')"
      ]
     },
     "execution_count": 27,
     "metadata": {},
     "output_type": "execute_result"
    }
   ],
   "source": [
    "cur_vid_feat[video_id_boundary_frames[cur_vidid][1]-7:video_id_boundary_frames[cur_vidid][1]+9][:,[47,4]]"
   ]
  },
  {
   "cell_type": "code",
   "execution_count": 19,
   "metadata": {},
   "outputs": [],
   "source": [
    "def add_frames_and_get_classification_value(model_output, count_list, video_ids_list, labels_all, p_criterion):\n",
    "    new_selected_frames = {}\n",
    "#     new_selected_frames_probs_values = {}\n",
    "#     new_selected_frames_labels = {}\n",
    "    \n",
    "    labels_arr = []\n",
    "    probs_arr = []\n",
    "    \n",
    "    for i, video_id in enumerate(video_ids_list):\n",
    "        current_boundary_frames = boundaries_dict[video_id]\n",
    "        current_video_logits = model_output[i].T\n",
    "        current_video_count = count_list[i]\n",
    "        current_selected_frames = loaded_vidid_selected_frames[video_id]\n",
    "        labels = labels_all[i]\n",
    "        cur_seg_start = 0\n",
    "        for seg_num, ele in enumerate(current_boundary_frames):\n",
    "            cur_seg_end = ele + 1\n",
    "            total_seg_len = cur_seg_end - cur_seg_start\n",
    "            per_frames_far_from_boundary = int(0.3 * total_seg_len)\n",
    "            new_frames_start = cur_seg_start + per_frames_far_from_boundary\n",
    "            new_frames_end = cur_seg_end - per_frames_far_from_boundary\n",
    "            \n",
    "            frames_added = list(range(new_frames_start, new_frames_end))\n",
    "            frames_added.append(current_selected_frames[seg_num])\n",
    "            frames_added = list(set(frames_added))\n",
    "            frames_added.sort()\n",
    "            new_selected_frames[video_id] = frames_added\n",
    "\n",
    "            \n",
    "            labels_seg = torch.stack([labels[current_selected_frames[seg_num]]] * len(frames_added))\n",
    "            frames_added = torch.tensor(np.array(frames_added), dtype=torch.long, device=current_video_logits.device)\n",
    "            prob_seg = current_video_logits[frames_added, :]\n",
    "            \n",
    "            labels_arr.append(labels_seg)\n",
    "            probs_arr.append(prob_seg)\n",
    "            \n",
    "            cur_seg_start = cur_seg_end\n",
    "            \n",
    "    labels_arr = torch.cat(labels_arr)\n",
    "    probs_arr = torch.cat(probs_arr)\n",
    "    loss = p_criterion(probs_arr, labels_arr)\n",
    "    return loss"
   ]
  },
  {
   "cell_type": "code",
   "execution_count": 22,
   "metadata": {},
   "outputs": [],
   "source": [
    "def find_mask_for_this_class(video_len, weakly_labels_video, old_index_label_pair_list, \n",
    "                             cur_ele_searched, cur_index_searched):\n",
    "    searched_label_index = np.where(cur_ele_searched == np.array(weakly_labels_video))[0]\n",
    "    if len(searched_label_index) <= 1:\n",
    "        mask = torch.ones(video_len)\n",
    "        return mask\n",
    "    else:\n",
    "        start = 0\n",
    "        for i, index in enumerate(searched_label_index[:-1]):\n",
    "            cur_index_frame_selected = old_index_label_pair_list[index][0]\n",
    "            next_index = searched_label_index[i + 1]\n",
    "            next_index_frame_selected = old_index_label_pair_list[next_index][0]\n",
    "            \n",
    "            mid_select = (cur_index_frame_selected + next_index_frame_selected) // 2\n",
    "            \n",
    "            if index == cur_index_searched:\n",
    "                mask = torch.zeros(video_len)\n",
    "                mask[start: mid_select + 1] = 1\n",
    "                return mask\n",
    "            \n",
    "            start = mid_select\n",
    "        if searched_label_index[-1] == cur_index_searched:\n",
    "            mask = torch.zeros(video_len)\n",
    "            mask[start: video_len] = 1\n",
    "            return mask\n",
    "        else:\n",
    "            import pdb\n",
    "            pdb.set_trace()\n",
    "            return \"Error 1\"\n",
    "    return \"Error\""
   ]
  },
  {
   "cell_type": "code",
   "execution_count": 23,
   "metadata": {},
   "outputs": [
    {
     "data": {
      "text/plain": [
       "tensor([1., 1., 1., 1., 1., 1., 1., 1., 1., 1., 1., 1.])"
      ]
     },
     "execution_count": 23,
     "metadata": {},
     "output_type": "execute_result"
    }
   ],
   "source": [
    "# [2, 2, 2, 2, 3, 3, 4, 4, 3, 3, 2, 2, 2, 2]\n",
    "find_mask_for_this_class(12, [2, 3, 4, 3,  2], [3, 5, 7, 8, 10], 4, 2)"
   ]
  }
 ],
 "metadata": {
  "kernelspec": {
   "display_name": "Python 3",
   "language": "python",
   "name": "python3"
  },
  "language_info": {
   "codemirror_mode": {
    "name": "ipython",
    "version": 3
   },
   "file_extension": ".py",
   "mimetype": "text/x-python",
   "name": "python",
   "nbconvert_exporter": "python",
   "pygments_lexer": "ipython3",
   "version": "3.7.3"
  }
 },
 "nbformat": 4,
 "nbformat_minor": 4
}
