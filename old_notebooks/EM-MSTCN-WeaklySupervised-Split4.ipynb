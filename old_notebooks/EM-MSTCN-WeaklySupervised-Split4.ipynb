{
 "cells": [
  {
   "cell_type": "code",
   "execution_count": 1,
   "metadata": {},
   "outputs": [],
   "source": [
    "%load_ext autoreload\n",
    "%autoreload 2"
   ]
  },
  {
   "cell_type": "code",
   "execution_count": 2,
   "metadata": {},
   "outputs": [],
   "source": [
    "import wandb\n",
    "import os, sys\n",
    "import glob\n",
    "import numpy as np\n",
    "import torch\n",
    "import pandas as pd\n",
    "import random\n",
    "import torch.nn as nn\n",
    "import pickle\n",
    "import torch.nn.functional as F\n",
    "import scipy.stats\n",
    "from scipy.stats import binom\n",
    "from matplotlib import pyplot as plt"
   ]
  },
  {
   "cell_type": "code",
   "execution_count": 3,
   "metadata": {},
   "outputs": [],
   "source": [
    "from mstcn_model import *\n",
    "from utility.adaptive_data_loader import Breakfast, collate_fn_override\n",
    "from utils import calculate_mof, dotdict"
   ]
  },
  {
   "cell_type": "code",
   "execution_count": 4,
   "metadata": {},
   "outputs": [
    {
     "name": "stderr",
     "output_type": "stream",
     "text": [
      "Failed to detect the name of this notebook, you can set it manually with the WANDB_NOTEBOOK_NAME environment variable to enable code saving.\n",
      "\u001b[34m\u001b[1mwandb\u001b[0m: Currently logged in as: \u001b[33mdipika_singhania\u001b[0m (use `wandb login --relogin` to force relogin)\n"
     ]
    },
    {
     "data": {
      "text/plain": [
       "True"
      ]
     },
     "execution_count": 4,
     "metadata": {},
     "output_type": "execute_result"
    }
   ],
   "source": [
    "os.environ[\"WANDB_API_KEY\"] = \"992b3b1371ba79f48484cfca522b3786d7fa52c2\"\n",
    "wandb.login()"
   ]
  },
  {
   "cell_type": "code",
   "execution_count": 5,
   "metadata": {},
   "outputs": [],
   "source": [
    "seed = 42\n",
    "\n",
    "# Ensure deterministic behavior\n",
    "def set_seed():\n",
    "    torch.backends.cudnn.benchmark = False\n",
    "    torch.backends.cudnn.deterministic = True\n",
    "    random.seed(seed)\n",
    "    np.random.seed(seed)\n",
    "    torch.manual_seed(seed)\n",
    "    torch.cuda.manual_seed_all(seed)\n",
    "    torch.cuda.manual_seed(seed)\n",
    "set_seed()\n",
    "\n",
    "# Device configuration\n",
    "os.environ['CUDA_VISIBLE_DEVICES']='0'\n",
    "# os.environ['CUDA_LAUNCH_BLOCKING']='6'\n",
    "device = torch.device(\"cuda:0\" if torch.cuda.is_available() else \"cpu\")"
   ]
  },
  {
   "cell_type": "code",
   "execution_count": 6,
   "metadata": {},
   "outputs": [
    {
     "name": "stdout",
     "output_type": "stream",
     "text": [
      "{'epochs': 500, 'num_class': 48, 'batch_size': 8, 'learning_rate': 0.0005, 'weight_decay': 0, 'dataset': 'Breakfast', 'architecture': 'unet-ensemble', 'features_file_name': '/mnt/ssd/all_users/dipika/ms_tcn/data/breakfast/features/', 'chunk_size': 1, 'max_frames_per_video': 1200, 'feature_size': 2048, 'ground_truth_files_dir': '/mnt/ssd/all_users/dipika/ms_tcn/data/breakfast/groundTruth/', 'label_id_csv': '/mnt/ssd/all_users/dipika/ms_tcn/data/breakfast/mapping.csv', 'gamma': 0.1, 'step_size': 500, 'split': 4, 'output_dir': '/mnt/ssd/all_users/dipika/ms_tcn/data/breakfast//results/em-mstcn-weaksup-split4/', 'project_name': 'breakfast-split-4', 'train_split_file': '/mnt/ssd/all_users/dipika/ms_tcn/data/breakfast/splits/train.split4.bundle', 'test_split_file': '/mnt/ssd/all_users/dipika/ms_tcn/data/breakfast/splits/test.split4.bundle', 'all_files': '/mnt/ssd/all_users/dipika/ms_tcn/data/breakfast/splits/all_files.txt', 'cutoff': 8, 'data_per': 0.2, 'budget': 40, 'semi_supervised_split': '/mnt/ssd/all_users/dipika/ms_tcn/data/breakfast/semi_supervised/train.split4_amt0.2.bundle'}\n"
     ]
    }
   ],
   "source": [
    "config = dotdict(\n",
    "    epochs=500,\n",
    "    num_class=48,\n",
    "    batch_size=8,\n",
    "    learning_rate=5e-4,\n",
    "    weight_decay=0,\n",
    "    dataset=\"Breakfast\",\n",
    "    architecture=\"unet-ensemble\",\n",
    "    features_file_name=\"/mnt/ssd/all_users/dipika/ms_tcn/data/breakfast/features/\",\n",
    "    chunk_size=1,\n",
    "    max_frames_per_video=1200,\n",
    "    feature_size=2048,\n",
    "    ground_truth_files_dir=\"/mnt/ssd/all_users/dipika/ms_tcn/data/breakfast/groundTruth/\",\n",
    "    label_id_csv=\"/mnt/ssd/all_users/dipika/ms_tcn/data/breakfast/mapping.csv\",\n",
    "    gamma=0.1,\n",
    "    step_size=500,\n",
    "    split=4,\n",
    "#     output_dir=\"/mnt/data/ar-datasets/dipika/breakfast/ms_tcn/data/breakfast/results/unsuper-finetune-split2-0.05-data-llr/\",\n",
    "    output_dir=\"/mnt/ssd/all_users/dipika/ms_tcn/data/breakfast//results/em-mstcn-weaksup-split4/\",\n",
    "    project_name=\"breakfast-split-4\",\n",
    "    train_split_file=\"/mnt/ssd/all_users/dipika/ms_tcn/data/breakfast/splits/train.split{}.bundle\",\n",
    "    test_split_file=\"/mnt/ssd/all_users/dipika/ms_tcn/data/breakfast/splits/test.split{}.bundle\",\n",
    "    all_files=\"/mnt/ssd/all_users/dipika/ms_tcn/data/breakfast/splits/all_files.txt\",\n",
    "    cutoff=8,\n",
    "    data_per = 0.2,\n",
    "    budget=40,\n",
    "    semi_supervised_split=\"/mnt/ssd/all_users/dipika/ms_tcn/data/breakfast/semi_supervised/train.split{}_amt{}.bundle\")\n",
    "\n",
    "config.train_split_file = config.train_split_file.format(config.split)\n",
    "config.semi_supervised_split = config.semi_supervised_split.format(config.split, config.data_per)\n",
    "config.test_split_file = config.test_split_file.format(config.split)\n",
    "\n",
    "if not os.path.exists(config.output_dir):\n",
    "    os.mkdir(config.output_dir)\n",
    "\n",
    "train_split_file_list = set(open(config.train_split_file).read().split(\"\\n\")[0:-1])\n",
    "print(config)"
   ]
  },
  {
   "cell_type": "code",
   "execution_count": 7,
   "metadata": {},
   "outputs": [
    {
     "name": "stdout",
     "output_type": "stream",
     "text": [
      "Number of videos logged in train fold is 1136\n",
      "Number of videos not found in train fold is 0\n",
      "Number of videos logged in test fold is 576\n",
      "Number of videos not found in test fold is 0\n"
     ]
    }
   ],
   "source": [
    "traindataset = Breakfast(config, fold='train', fold_file_name=config.train_split_file)\n",
    "testdataset = Breakfast(config, fold='test', fold_file_name=config.test_split_file)"
   ]
  },
  {
   "cell_type": "code",
   "execution_count": 8,
   "metadata": {},
   "outputs": [],
   "source": [
    "def _init_fn(worker_id):\n",
    "    np.random.seed(int(seed))\n",
    "trainloader = torch.utils.data.DataLoader(dataset=traindataset,\n",
    "                                          batch_size=config.batch_size, \n",
    "                                          shuffle=True,\n",
    "                                          pin_memory=True, num_workers=4, \n",
    "                                          collate_fn=lambda x: collate_fn_override(x, config.max_frames_per_video),\n",
    "                                          worker_init_fn=_init_fn)\n",
    "testloader = torch.utils.data.DataLoader(dataset=testdataset,\n",
    "                                          batch_size=config.batch_size, \n",
    "                                          shuffle=False,\n",
    "                                          pin_memory=True, num_workers=4,\n",
    "                                          collate_fn=lambda x: collate_fn_override(x, config.max_frames_per_video),\n",
    "                                          worker_init_fn=_init_fn)"
   ]
  },
  {
   "cell_type": "code",
   "execution_count": 9,
   "metadata": {},
   "outputs": [],
   "source": [
    "# item = iter(trainloader).next()\n",
    "# print(item[0]) # -- data feature\n",
    "# print(item[1]) # -- valid count\n",
    "# item[2] # -- Actual labels\n",
    "# print(item[5]) # video names\n",
    "# video_id_boundary_frames"
   ]
  },
  {
   "cell_type": "code",
   "execution_count": 10,
   "metadata": {},
   "outputs": [],
   "source": [
    "loaded_vidid_selected_frames = np.load(\"/home/dipika16/ar/TimestampActionSeg/data/breakfast_annotation_all.npy\", \n",
    "                                       allow_pickle=True).item()\n",
    "\n",
    "video_id_boundary_frames = pickle.load(open(\"data/breakfast_boundary_annotations.pkl\", \"rb\"))\n",
    "video_id_boundary_frames = dict([(key[:-4], val) for key,val in video_id_boundary_frames.items()])\n",
    "\n",
    "weak_labels = pickle.load(open('data/breakfast_weaklysupervised_labels.pkl', 'rb'))\n",
    "weak_labels = dict([(key[:-4], val) for key,val in weak_labels.items()])\n",
    "\n",
    "loaded_mean_var_actions = pickle.load(open(\"data/breakfast_meanvar_actions.pkl\", \"rb\"))\n",
    "\n",
    "with open('/mnt/ssd/all_users/dipika/ms_tcn/data/breakfast/len_video.txt', 'r') as openf:\n",
    "    attributes = [item.strip().split()[::-1] for item in openf.readlines()]\n",
    "frame_id_dict = dict([(vidid[:-4], int(framecount)) for vidid,framecount in attributes])\n",
    "\n",
    "df=pd.read_csv(config.label_id_csv)\n",
    "label_id_to_label_name = {}\n",
    "label_name_to_label_id_dict = {}\n",
    "for i, ele in df.iterrows():\n",
    "    label_id_to_label_name[ele.label_id] = ele.label_name\n",
    "    label_name_to_label_id_dict[ele.label_name] = ele.label_id"
   ]
  },
  {
   "cell_type": "code",
   "execution_count": 11,
   "metadata": {},
   "outputs": [],
   "source": [
    "# weak_labels, loaded_mean_var_actions"
   ]
  },
  {
   "cell_type": "code",
   "execution_count": 12,
   "metadata": {},
   "outputs": [],
   "source": [
    "posterior_table = {}\n",
    "prior_table = {}"
   ]
  },
  {
   "cell_type": "code",
   "execution_count": 13,
   "metadata": {},
   "outputs": [],
   "source": [
    "# pickle.dump(prior_table, open('data/breakfast_lengthmodel_multinomial_prior.pkl', 'wb'))"
   ]
  },
  {
   "cell_type": "code",
   "execution_count": 14,
   "metadata": {},
   "outputs": [],
   "source": [
    "# for ele in weak_labels.keys():\n",
    "#     frame_count = frame_id_dict[ele]\n",
    "#     label_list = weak_labels[ele]\n",
    "#     mean_list = np.array([loaded_mean_var_actions[label][0] for label in label_list])\n",
    "#     total_mean = np.sum(mean_list)\n",
    "#     left_sum = np.cumsum(mean_list)\n",
    "#     relative_sum = left_sum / total_mean\n",
    "#     prob_id_ge_boundary = [binom.cdf(np.arange(frame_count)+1, frame_count, rel) for rel in relative_sum]\n",
    "#     prob_id_gt_boundary = [1] + [cdf - binom.pmf(np.arange(frame_count)+1, \n",
    "#                                                  frame_count,\n",
    "#                                                  rel) for rel,cdf in zip(relative_sum, prob_id_ge_boundary)]\n",
    "#     prob_id_gt_boundary[-1] = 0\n",
    "#     prior_table[ele] = np.stack([prob_id_gt_boundary[j-1] - prob_id_gt_boundary[j] \n",
    "#                                     for j in range(1,len(label_list)+1)], axis=0)\n",
    "\n",
    "prior_table = pickle.load(open('data/breakfast_lengthmodel_multinomial_prior.pkl', 'rb'))"
   ]
  },
  {
   "cell_type": "code",
   "execution_count": 15,
   "metadata": {},
   "outputs": [],
   "source": [
    "def generate_posterior_loss_weights(framewise_proba, ele):\n",
    "    '''\n",
    "    ele is video_id\n",
    "    '''\n",
    "    global posterior_table\n",
    "    frame_count = frame_id_dict[ele]\n",
    "    label_list = [label_name_to_label_id_dict[item] for item in weak_labels[ele]]\n",
    "    seqlen = len(label_list)\n",
    "    label_seq_prob = framewise_proba[:frame_count,label_list]\n",
    "    label_seq_logprob = torch.log(label_seq_prob + 1e-10)\n",
    "\n",
    "    left_probsum = torch.cumsum(label_seq_prob, dim=1)\n",
    "    right_probsum = torch.sum(label_seq_prob, dim=1, keepdim=True) - torch.cumsum(label_seq_prob, dim=1) + label_seq_prob\n",
    "\n",
    "    left_logprobsum = torch.log(torch.clip(left_probsum, min=1e-20))\n",
    "    right_logprobsum = torch.log(torch.clip(right_probsum, min=1e-20))\n",
    "\n",
    "    left_logprobsum_left_idsum = torch.cumsum(left_logprobsum, dim=0)\n",
    "    left_logprobsum_left_idsum -= left_logprobsum\n",
    "    right_logprobsum_right_idsum = torch.sum(right_logprobsum, dim=0, keepdim=True) - torch.cumsum(right_logprobsum, dim=0)\n",
    "\n",
    "    for k in range(seqlen):\n",
    "        left_logprobsum_left_idsum[:k,k] = -1000\n",
    "        remaining_labelcount = seqlen-k-1\n",
    "        if remaining_labelcount > 0:\n",
    "            right_logprobsum_right_idsum[-remaining_labelcount:,k] = -1000\n",
    "\n",
    "    loglikelihood = label_seq_logprob + 1*(left_logprobsum_left_idsum + right_logprobsum_right_idsum)/(frame_count)\n",
    "    posterior = loglikelihood.T + torch.log(torch.clip(torch.tensor(prior_table[ele]), min=1e-10))/20\n",
    "    posterior = torch.softmax(posterior/2, dim=0)\n",
    "    posterior_table[ele] = posterior"
   ]
  },
  {
   "cell_type": "code",
   "execution_count": 16,
   "metadata": {},
   "outputs": [
    {
     "name": "stdout",
     "output_type": "stream",
     "text": [
      "P26_cam02_P26_scrambledegg\n"
     ]
    },
    {
     "data": {
      "image/png": "[encoded data removed]",
      "text/plain": [
       "<Figure size 432x288 with 1 Axes>"
      ]
     },
     "metadata": {
      "needs_background": "light"
     },
     "output_type": "display_data"
    }
   ],
   "source": [
    "frame_count = 12000\n",
    "ele = list(weak_labels.keys())[0]\n",
    "print(ele)\n",
    "label_list = weak_labels[ele]\n",
    "mean_list = np.array([loaded_mean_var_actions[label][0] for label in label_list])\n",
    "total_mean = np.sum(mean_list)\n",
    "left_sum = np.cumsum(mean_list)\n",
    "relative_sum = left_sum/total_mean\n",
    "prob_id_ge_boundary = [binom.cdf(np.arange(frame_count)+1, frame_count, rel) for rel in relative_sum]\n",
    "prob_id_gt_boundary = [1] + [cdf - binom.pmf(np.arange(frame_count)+1, \n",
    "                                             frame_count,\n",
    "                                             rel) for rel,cdf in zip(relative_sum, prob_id_ge_boundary)]\n",
    "prob_id_gt_boundary[-1] = 0\n",
    "priors = np.stack([prob_id_gt_boundary[j-1] - prob_id_gt_boundary[j] \n",
    "                                for j in range(1,len(label_list)+1)], axis=0)\n",
    "priors = np.stack([priors, prob_id_ge_boundary], axis=0)\n",
    "\n",
    "for prior in priors[0]:\n",
    "    plt.plot(np.arange(12000), prior)"
   ]
  },
  {
   "cell_type": "code",
   "execution_count": 17,
   "metadata": {},
   "outputs": [
    {
     "name": "stdout",
     "output_type": "stream",
     "text": [
      "P26_cam02_P26_scrambledegg\n"
     ]
    }
   ],
   "source": [
    "frame_count = 12000\n",
    "ele = list(weak_labels.keys())[0]\n",
    "print(ele)\n",
    "boundary_probs = []\n",
    "label_list = weak_labels[ele]\n",
    "prob_boundary_le_id = 0\n",
    "\n",
    "posterior_id_between_boundary = priors[0]\n",
    "\n",
    "prob_boundary_le_id = 1 - np.cumsum(posterior_id_between_boundary, axis=0)\n",
    "prob_boundary_le_id = np.concatenate([np.zeros((len(label_list), 1)), prob_boundary_le_id], axis=1)\n",
    "frame_wise_proba = prob_boundary_le_id[:,1:] - prob_boundary_le_id[:,:-1]"
   ]
  },
  {
   "cell_type": "code",
   "execution_count": 18,
   "metadata": {},
   "outputs": [
    {
     "data": {
      "text/plain": [
       "array([  554.75554893,  1880.83252272,  3202.22802753,  4065.98680987,\n",
       "        5387.38231468,  6239.2061267 ,  7761.70125547, 10485.46502497,\n",
       "       11445.24445107,     0.        ])"
      ]
     },
     "execution_count": 18,
     "metadata": {},
     "output_type": "execute_result"
    },
    {
     "data": {
      "image/png": "[encoded data removed]",
      "text/plain": [
       "<Figure size 432x288 with 1 Axes>"
      ]
     },
     "metadata": {
      "needs_background": "light"
     },
     "output_type": "display_data"
    }
   ],
   "source": [
    "for proba in frame_wise_proba:\n",
    "    plt.plot(np.arange(12000), proba)\n",
    "\n",
    "np.sum(frame_wise_proba * np.arange(frame_count), axis=1)"
   ]
  },
  {
   "cell_type": "code",
   "execution_count": 19,
   "metadata": {},
   "outputs": [],
   "source": [
    "def get_estimated_boundaries():\n",
    "    estimated_boundary_dict = {}\n",
    "    for ele in weak_labels.keys():\n",
    "        if (ele + \".txt\") not in train_split_file_list:\n",
    "            continue\n",
    "        else:\n",
    "            frame_count = frame_id_dict[ele]\n",
    "            label_list = [label_name_to_label_id_dict[item] for item in weak_labels[ele]]\n",
    "            posterior_id_between_boundary = posterior_table[ele]\n",
    "\n",
    "            prob_boundary_le_id = 1 - np.cumsum(posterior_id_between_boundary, axis=0)\n",
    "            prob_boundary_le_id = np.concatenate([np.zeros((len(label_list), 1)), prob_boundary_le_id], axis=1)\n",
    "            frame_wise_proba = prob_boundary_le_id[:,1:] - prob_boundary_le_id[:,:-1]\n",
    "#             import pdb\n",
    "#             pdb.set_trace()\n",
    "            estimated_boundary_dict[ele] = np.sum(frame_wise_proba * np.arange(frame_count), axis=1)[:-1]\n",
    "            \n",
    "    return estimated_boundary_dict"
   ]
  },
  {
   "cell_type": "code",
   "execution_count": 20,
   "metadata": {},
   "outputs": [],
   "source": [
    "def get_estimated_loss(data_feat, data_count, video_ids, labels_all): #, loaded_vidid_selected_frames, boundaries_dict):\n",
    "    global posterior_table\n",
    "    loss_arr = []\n",
    "    device = data_feat.device\n",
    "    for iter_num in range(len(data_count)):\n",
    "        ele = video_ids[iter_num]\n",
    "        frame_count = frame_id_dict[ele]\n",
    "        label_list = [label_name_to_label_id_dict[item] for item in weak_labels[ele]]\n",
    "        label_list = torch.tensor(label_list).type(torch.long).to(device)\n",
    "        label_seq_logprob = torch.log(data_feat[iter_num][:frame_count, label_list] + 1e-10)\n",
    "        weights = posterior_table[ele].to(device).T\n",
    "        weighted_loss = torch.sum(weights * label_seq_logprob, dim=1)\n",
    "        loss_arr.append(weighted_loss)\n",
    "    return -torch.mean(torch.cat(loss_arr)), loss_arr"
   ]
  },
  {
   "cell_type": "code",
   "execution_count": 21,
   "metadata": {},
   "outputs": [],
   "source": [
    "def get_boundary_err():\n",
    "    err_list = []\n",
    "    correct = 0.0\n",
    "    total = 0.0\n",
    "    estimated_boundary_dict = get_estimated_boundaries()\n",
    "    for ele in video_id_boundary_frames.keys():\n",
    "        if ele + \".txt\" not in train_split_file_list:\n",
    "            continue\n",
    "        estimated_boundary_list = estimated_boundary_dict[ele]\n",
    "\n",
    "        estimated = np.array(estimated_boundary_list) #.detach().cpu().numpy()\n",
    "        if np.isnan(estimated).any():\n",
    "            print(ele)\n",
    "        actual = np.array(video_id_boundary_frames[ele][:-1])\n",
    "        if len(actual) != len(estimated):\n",
    "            print(ele)\n",
    "            continue\n",
    "\n",
    "        mse_err = (actual - estimated)**2\n",
    "        err_list.append(mse_err)\n",
    "\n",
    "    print(f\"Train Boundary avergage error = {np.sqrt(np.mean(np.concatenate(err_list))):.3f}\")"
   ]
  },
  {
   "cell_type": "code",
   "execution_count": 22,
   "metadata": {},
   "outputs": [],
   "source": [
    "pseudo_labels_dir = \"/mnt/ssd/all_users/dipika/ms_tcn/data/breakfast/length_segmentation_output/\"\n",
    "def get_single_random(output_p, video_ids):\n",
    "    # Generate target for only timestamps. Do not generate pseudo labels at first 30 epochs.\n",
    "    boundary_target_tensor = torch.ones((output_p.shape[0], output_p.shape[2]), dtype=torch.long, \n",
    "                                        device=output_p.device) * (-100)\n",
    "    for iter_num, cur_vidid in enumerate(video_ids):\n",
    "        pseudo_l = open(pseudo_labels_dir + cur_vidid + \".txt\").read().split(\"\\n\")[0:-1]\n",
    "        pseudo_l = [label_name_to_label_id_dict[ele] for ele in pseudo_l]\n",
    "        abc = torch.tensor(pseudo_l).to(torch.long).to(boundary_target_tensor.device)\n",
    "        frame_idx_tensor = torch.arange(0, len(pseudo_l), 1).to(device)\n",
    "        boundary_target_tensor[iter_num, frame_idx_tensor] = abc\n",
    "\n",
    "    return boundary_target_tensor"
   ]
  },
  {
   "cell_type": "code",
   "execution_count": 23,
   "metadata": {},
   "outputs": [],
   "source": [
    "set_seed()\n",
    "model = MultiStageModel(num_stages=4, num_layers=10, num_f_maps=64, dim=2048, num_classes=48).to(device)\n",
    "optimizer = torch.optim.Adam(model.parameters(), lr=3e-4)\n",
    "\n",
    "# Requires loaded_vidid_selected_frames, boundaries_dict\n",
    "ce_criterion = nn.CrossEntropyLoss(ignore_index=-100)\n",
    "mse_criterion = nn.MSELoss(reduction='none')"
   ]
  },
  {
   "cell_type": "code",
   "execution_count": 24,
   "metadata": {},
   "outputs": [
    {
     "data": {
      "text/plain": [
       "<All keys matched successfully>"
      ]
     },
     "execution_count": 24,
     "metadata": {},
     "output_type": "execute_result"
    }
   ],
   "source": [
    "loaded_file=torch.load(f\"/mnt/ssd/all_users/dipika/ms_tcn/data/breakfast//results/em-lenassum-mstcn-split4-slup15/\"\n",
    "                       f\"ms-tcn-initial-25-epochs.wt\")\n",
    "model.load_state_dict(loaded_file)"
   ]
  },
  {
   "cell_type": "code",
   "execution_count": 25,
   "metadata": {
    "scrolled": true
   },
   "outputs": [
    {
     "name": "stdout",
     "output_type": "stream",
     "text": [
      "Calculating Expectation\n",
      "Iter 0\n",
      "Iter 20\n",
      "Iter 40\n",
      "Iter 60\n",
      "Iter 80\n",
      "Iter 100\n",
      "Iter 120\n",
      "Iter 140\n",
      "Train Boundary avergage error = 289.099\n",
      "Calculating Validation Data Accuracy\n",
      "Validation:: Probability Accuracy 53.27077301158831\n"
     ]
    }
   ],
   "source": [
    "model.eval()\n",
    "print(\"Calculating Expectation\")\n",
    "correct = 0.0\n",
    "total = 0.0\n",
    "\n",
    "for i, item in enumerate(trainloader):\n",
    "    with torch.no_grad():\n",
    "        item_0 = item[0].to(device)\n",
    "        item_1 = item[1].to(device)\n",
    "        item_2 = item[2].to(device)\n",
    "        src_mask = torch.arange(item_2.shape[1], device=item_2.device)[None, :] < item_1[:, None]\n",
    "        src_mask_mse = src_mask.unsqueeze(1).to(torch.float32).to(device)\n",
    "\n",
    "        middle_pred, predictions = model(item_0, src_mask_mse)\n",
    "        prob = torch.softmax(predictions[-1], dim=1)\n",
    "        prob = prob.permute(0, 2, 1)\n",
    "        for j in range(len(prob)):\n",
    "            generate_posterior_loss_weights(prob[j].cpu(), item[4][j])\n",
    "\n",
    "        if i % 20 == 0:\n",
    "            print(f\"Iter {i}\")\n",
    "\n",
    "get_boundary_err()\n",
    "\n",
    "print(\"Calculating Validation Data Accuracy\")\n",
    "correct = 0.0\n",
    "total = 0.0\n",
    "for i, item in enumerate(testloader):\n",
    "    with torch.no_grad():\n",
    "        item_0 = item[0].to(device)\n",
    "        item_1 = item[1].to(device)\n",
    "        item_2 = item[2].to(device)\n",
    "        src_mask = torch.arange(item_2.shape[1], device=item_2.device)[None, :] < item_1[:, None]\n",
    "        src_mask_mse = src_mask.unsqueeze(1).to(torch.float32).to(device)\n",
    "\n",
    "        middle_pred, predictions = model(item_0, src_mask_mse)\n",
    "\n",
    "        pred = torch.argmax(predictions[-1], dim=1)\n",
    "        correct += float(torch.sum((pred == item_2) * src_mask).item())\n",
    "        total += float(torch.sum(src_mask).item())\n",
    "val_acc = correct * 100.0 / total\n",
    "print(f\"Validation:: Probability Accuracy {val_acc}\")"
   ]
  },
  {
   "cell_type": "code",
   "execution_count": 26,
   "metadata": {
    "scrolled": true
   },
   "outputs": [
    {
     "name": "stdout",
     "output_type": "stream",
     "text": [
      "Starting Training\n",
      "Training:: Epoch 26, Iteration 0, Current loss 0.6728747306543101 Accuracy 70.02769869969993\n",
      "Training:: Epoch 26, Iteration 10, Current loss 0.5908556280301864 Accuracy 64.17056682267291\n",
      "Training:: Epoch 26, Iteration 20, Current loss 0.5363656043520871 Accuracy 63.36248785228377\n",
      "Training:: Epoch 26, Iteration 30, Current loss 0.6274498419045987 Accuracy 51.179045467382096\n",
      "Training:: Epoch 26, Iteration 40, Current loss 0.6472014967899478 Accuracy 63.32094175960347\n",
      "Training:: Epoch 26, Iteration 50, Current loss 0.5995167707556361 Accuracy 57.35128324159427\n",
      "Training:: Epoch 26, Iteration 60, Current loss 0.5695283402697688 Accuracy 65.97106085944884\n",
      "Training:: Epoch 26, Iteration 70, Current loss 0.7320385204025714 Accuracy 60.616166428457994\n",
      "Training:: Epoch 26, Iteration 80, Current loss 0.5884578501915572 Accuracy 67.63744201961828\n",
      "Training:: Epoch 26, Iteration 90, Current loss 0.6007964117087292 Accuracy 56.565088646500996\n",
      "Training:: Epoch 26, Iteration 100, Current loss 0.6011312524581883 Accuracy 55.44389875330563\n",
      "Training:: Epoch 26, Iteration 110, Current loss 0.6067107118821162 Accuracy 58.528288788615065\n",
      "Training:: Epoch 26, Iteration 120, Current loss 0.6321855933596856 Accuracy 45.923155887960114\n",
      "Training:: Epoch 26, Iteration 130, Current loss 0.521334109949553 Accuracy 49.00912236552375\n",
      "Training:: Epoch 26, Iteration 140, Current loss 0.5628740638496733 Accuracy 53.872394188250155\n",
      "Calculating Validation Data Accuracy\n",
      "Validation:: Epoch 26, Probability Accuracy 53.544794410420984\n",
      "Starting Training\n",
      "Training:: Epoch 27, Iteration 0, Current loss 0.5566621069765809 Accuracy 61.23159048663076\n",
      "Training:: Epoch 27, Iteration 10, Current loss 0.6662760028618918 Accuracy 61.30976959286481\n",
      "Training:: Epoch 27, Iteration 20, Current loss 0.6788762053569317 Accuracy 71.0173542554297\n",
      "Training:: Epoch 27, Iteration 30, Current loss 0.584939040349252 Accuracy 61.71306969320801\n",
      "Training:: Epoch 27, Iteration 40, Current loss 0.5624216601361439 Accuracy 70.452935084755\n",
      "Training:: Epoch 27, Iteration 50, Current loss 0.6373564742340515 Accuracy 67.77044237666996\n",
      "Training:: Epoch 27, Iteration 60, Current loss 0.5465460794934961 Accuracy 66.48604269293925\n",
      "Training:: Epoch 27, Iteration 70, Current loss 0.57058545066184 Accuracy 65.14780479272346\n",
      "Training:: Epoch 27, Iteration 80, Current loss 0.734121737966855 Accuracy 62.642211956147\n",
      "Training:: Epoch 27, Iteration 90, Current loss 0.5856040736678706 Accuracy 56.65170199465818\n",
      "Training:: Epoch 27, Iteration 100, Current loss 0.9929401347103018 Accuracy 60.513178377798056\n",
      "Training:: Epoch 27, Iteration 110, Current loss 0.5010035557312215 Accuracy 63.444895458374816\n",
      "Training:: Epoch 27, Iteration 120, Current loss 0.5613005190818889 Accuracy 65.96147773918536\n",
      "Training:: Epoch 27, Iteration 130, Current loss 0.5449881035192277 Accuracy 67.97434930215013\n",
      "Training:: Epoch 27, Iteration 140, Current loss 0.5974138556074289 Accuracy 68.92414860681114\n",
      "Calculating Validation Data Accuracy\n",
      "Validation:: Epoch 27, Probability Accuracy 53.90435558402343\n",
      "Starting Training\n",
      "Training:: Epoch 28, Iteration 0, Current loss 0.4916556835671686 Accuracy 70.88970889708897\n",
      "Training:: Epoch 28, Iteration 10, Current loss 0.6630719122373057 Accuracy 59.50377562028047\n",
      "Training:: Epoch 28, Iteration 20, Current loss 0.4283179439029466 Accuracy 68.93558702603929\n",
      "Training:: Epoch 28, Iteration 30, Current loss 0.5505289229377842 Accuracy 57.93255412914351\n",
      "Training:: Epoch 28, Iteration 40, Current loss 0.5276276613017276 Accuracy 55.99026961281167\n",
      "Training:: Epoch 28, Iteration 50, Current loss 0.711634087617483 Accuracy 61.20327593448131\n",
      "Training:: Epoch 28, Iteration 60, Current loss 0.6518177696873527 Accuracy 66.6481717805027\n",
      "Training:: Epoch 28, Iteration 70, Current loss 0.5715222080418763 Accuracy 66.11774744027304\n",
      "Training:: Epoch 28, Iteration 80, Current loss 0.5409088743430835 Accuracy 59.281390046387294\n",
      "Training:: Epoch 28, Iteration 90, Current loss 0.7049289750939259 Accuracy 45.96760443307758\n",
      "Training:: Epoch 28, Iteration 100, Current loss 0.6339849856060644 Accuracy 52.00087469932211\n",
      "Training:: Epoch 28, Iteration 110, Current loss 0.6489962978397334 Accuracy 66.18665049770098\n",
      "Training:: Epoch 28, Iteration 120, Current loss 0.5125106705210765 Accuracy 65.62528630325241\n",
      "Training:: Epoch 28, Iteration 130, Current loss 0.611220000577708 Accuracy 60.01924364123159\n",
      "Training:: Epoch 28, Iteration 140, Current loss 0.49893867521745827 Accuracy 65.03242422848733\n",
      "Calculating Validation Data Accuracy\n",
      "Validation:: Epoch 28, Probability Accuracy 53.97036908737966\n",
      "Starting Training\n",
      "Training:: Epoch 29, Iteration 0, Current loss 0.631769147846909 Accuracy 62.35960358659745\n",
      "Training:: Epoch 29, Iteration 10, Current loss 0.615922525203639 Accuracy 64.91810223100819\n",
      "Training:: Epoch 29, Iteration 20, Current loss 0.6061941375548954 Accuracy 48.8300955243104\n",
      "Training:: Epoch 29, Iteration 30, Current loss 0.5089794639192137 Accuracy 65.89641927889977\n",
      "Training:: Epoch 29, Iteration 40, Current loss 0.5783408043400577 Accuracy 59.84014998273225\n",
      "Training:: Epoch 29, Iteration 50, Current loss 0.6374675947050432 Accuracy 62.19936250362214\n",
      "Training:: Epoch 29, Iteration 60, Current loss 0.6104834336199689 Accuracy 58.04834243807528\n",
      "Training:: Epoch 29, Iteration 70, Current loss 0.5178371171468396 Accuracy 72.72486772486772\n",
      "Training:: Epoch 29, Iteration 80, Current loss 0.6157181885524361 Accuracy 66.7763727697904\n",
      "Training:: Epoch 29, Iteration 90, Current loss 0.6229393202340096 Accuracy 59.179164120163605\n",
      "Training:: Epoch 29, Iteration 100, Current loss 0.5907823484888672 Accuracy 67.00570692194404\n",
      "Training:: Epoch 29, Iteration 110, Current loss 0.39630649541814816 Accuracy 70.0645491148463\n",
      "Training:: Epoch 29, Iteration 120, Current loss 0.49634207447376516 Accuracy 64.3102264927934\n",
      "Training:: Epoch 29, Iteration 130, Current loss 0.5367922625018081 Accuracy 55.77333507556949\n",
      "Training:: Epoch 29, Iteration 140, Current loss 0.5465978138304524 Accuracy 67.93505834601724\n",
      "Calculating Validation Data Accuracy\n",
      "Validation:: Epoch 29, Probability Accuracy 53.270282812305965\n",
      "Starting Training\n",
      "Training:: Epoch 30, Iteration 0, Current loss 0.596919628600729 Accuracy 63.37509588340578\n",
      "Training:: Epoch 30, Iteration 10, Current loss 0.6894317777844376 Accuracy 50.852090032154344\n",
      "Training:: Epoch 30, Iteration 20, Current loss 0.5013280694728207 Accuracy 67.723318835731\n",
      "Training:: Epoch 30, Iteration 30, Current loss 0.5510511163568679 Accuracy 68.89434341180409\n",
      "Training:: Epoch 30, Iteration 40, Current loss 0.6477003419363532 Accuracy 66.38072640992883\n",
      "Training:: Epoch 30, Iteration 50, Current loss 0.5100467390094253 Accuracy 71.61188004613611\n",
      "Training:: Epoch 30, Iteration 60, Current loss 0.5669839198520339 Accuracy 65.17216839108775\n",
      "Training:: Epoch 30, Iteration 70, Current loss 0.508514822103661 Accuracy 72.92278763662004\n",
      "Training:: Epoch 30, Iteration 80, Current loss 0.5130561588033757 Accuracy 58.368174331686305\n",
      "Training:: Epoch 30, Iteration 90, Current loss 0.5423447857168232 Accuracy 69.59719317185075\n",
      "Training:: Epoch 30, Iteration 100, Current loss 0.5546713142308438 Accuracy 68.7109927602563\n",
      "Training:: Epoch 30, Iteration 110, Current loss 0.5707030424193632 Accuracy 67.79966370405957\n",
      "Training:: Epoch 30, Iteration 120, Current loss 0.6023317670431785 Accuracy 58.803653450187426\n",
      "Training:: Epoch 30, Iteration 130, Current loss 0.5389172525672251 Accuracy 72.65767131594906\n",
      "Training:: Epoch 30, Iteration 140, Current loss 0.5229701486595382 Accuracy 67.95305700848314\n",
      "Calculating Expectation\n",
      "Epoch 30 iter 0\n",
      "Epoch 30 iter 20\n",
      "Epoch 30 iter 40\n",
      "Epoch 30 iter 60\n",
      "Epoch 30 iter 80\n",
      "Epoch 30 iter 100\n",
      "Epoch 30 iter 120\n",
      "Epoch 30 iter 140\n",
      "Train Boundary avergage error = 302.682\n",
      "Calculating Validation Data Accuracy\n",
      "Validation:: Epoch 30, Probability Accuracy 53.73156033699566\n",
      "Starting Training\n",
      "Training:: Epoch 31, Iteration 0, Current loss 1.802980941634082 Accuracy 68.0288177630802\n",
      "Training:: Epoch 31, Iteration 10, Current loss 1.3702767007867296 Accuracy 64.13781815205827\n",
      "Training:: Epoch 31, Iteration 20, Current loss 1.550105880204433 Accuracy 57.71603797982783\n",
      "Training:: Epoch 31, Iteration 30, Current loss 1.3634642418212632 Accuracy 64.28877361633275\n"
     ]
    },
    {
     "name": "stdout",
     "output_type": "stream",
     "text": [
      "Training:: Epoch 31, Iteration 40, Current loss 1.4823170588904824 Accuracy 62.725101065784635\n",
      "Training:: Epoch 31, Iteration 50, Current loss 1.5693680831684327 Accuracy 60.72982513750924\n",
      "Training:: Epoch 31, Iteration 60, Current loss 1.4827226306061578 Accuracy 65.08061344868266\n",
      "Training:: Epoch 31, Iteration 70, Current loss 1.5314342907468055 Accuracy 66.5476844224785\n",
      "Training:: Epoch 31, Iteration 80, Current loss 1.2776875384458604 Accuracy 59.52200303490137\n",
      "Training:: Epoch 31, Iteration 90, Current loss 1.3357386216773266 Accuracy 59.50840879689521\n",
      "Training:: Epoch 31, Iteration 100, Current loss 1.168005081442017 Accuracy 74.2446465239073\n",
      "Training:: Epoch 31, Iteration 110, Current loss 1.4672525292983802 Accuracy 66.5566521404768\n",
      "Training:: Epoch 31, Iteration 120, Current loss 1.6066804862349602 Accuracy 62.437168862926235\n",
      "Training:: Epoch 31, Iteration 130, Current loss 1.5396227668263627 Accuracy 58.27126750939529\n",
      "Training:: Epoch 31, Iteration 140, Current loss 1.352482450480973 Accuracy 63.55756142990185\n",
      "Calculating Validation Data Accuracy\n",
      "Validation:: Epoch 31, Probability Accuracy 54.02363740939483\n",
      "Starting Training\n",
      "Training:: Epoch 32, Iteration 0, Current loss 1.3561966721067606 Accuracy 67.27196652719665\n",
      "Training:: Epoch 32, Iteration 10, Current loss 1.3152236661142023 Accuracy 64.490489502823\n",
      "Training:: Epoch 32, Iteration 20, Current loss 1.2145724004452514 Accuracy 63.00493511241089\n",
      "Training:: Epoch 32, Iteration 30, Current loss 1.6418076929052987 Accuracy 56.524678837052065\n",
      "Training:: Epoch 32, Iteration 40, Current loss 1.5029659293977509 Accuracy 66.7205278394937\n",
      "Training:: Epoch 32, Iteration 50, Current loss 1.539043565916165 Accuracy 60.185019397194864\n",
      "Training:: Epoch 32, Iteration 60, Current loss 1.1297107532963842 Accuracy 60.05060444194546\n",
      "Training:: Epoch 32, Iteration 70, Current loss 1.336712792130339 Accuracy 66.97038724373576\n",
      "Training:: Epoch 32, Iteration 80, Current loss 1.271850077025557 Accuracy 63.3274231678487\n",
      "Training:: Epoch 32, Iteration 90, Current loss 1.2863732419013996 Accuracy 52.123275398674075\n",
      "Training:: Epoch 32, Iteration 100, Current loss 1.436816442643389 Accuracy 69.81734516598581\n",
      "Training:: Epoch 32, Iteration 110, Current loss 1.1915036760771969 Accuracy 63.20101821653011\n",
      "Training:: Epoch 32, Iteration 120, Current loss 1.3073825341807008 Accuracy 72.02018702686655\n",
      "Training:: Epoch 32, Iteration 130, Current loss 1.3584858892673766 Accuracy 67.73628700574174\n",
      "Training:: Epoch 32, Iteration 140, Current loss 1.429811565624981 Accuracy 65.29616258858137\n",
      "Calculating Validation Data Accuracy\n",
      "Validation:: Epoch 32, Probability Accuracy 53.89765619383133\n",
      "Starting Training\n",
      "Training:: Epoch 33, Iteration 0, Current loss 1.4662272595878585 Accuracy 64.54402515723271\n",
      "Training:: Epoch 33, Iteration 10, Current loss 1.4530337154110438 Accuracy 67.00748941712797\n",
      "Training:: Epoch 33, Iteration 20, Current loss 1.8001679045972594 Accuracy 61.132254995242626\n",
      "Training:: Epoch 33, Iteration 30, Current loss 1.5275324298133324 Accuracy 59.823706796566924\n",
      "Training:: Epoch 33, Iteration 40, Current loss 1.5415072976619975 Accuracy 68.63055922501101\n",
      "Training:: Epoch 33, Iteration 50, Current loss 1.4351359553881384 Accuracy 64.93309971328449\n",
      "Training:: Epoch 33, Iteration 60, Current loss 1.5725282580729916 Accuracy 71.97117034664227\n",
      "Training:: Epoch 33, Iteration 70, Current loss 1.2102099553839498 Accuracy 57.002782562607656\n",
      "Training:: Epoch 33, Iteration 80, Current loss 1.456588440399248 Accuracy 68.13742000673628\n",
      "Training:: Epoch 33, Iteration 90, Current loss 1.3265111462257357 Accuracy 65.88781988350023\n",
      "Training:: Epoch 33, Iteration 100, Current loss 1.1576165992901692 Accuracy 61.330272458164686\n",
      "Training:: Epoch 33, Iteration 110, Current loss 1.4497795814598446 Accuracy 63.63939677031897\n",
      "Training:: Epoch 33, Iteration 120, Current loss 1.6309367916815705 Accuracy 60.27150281047831\n",
      "Training:: Epoch 33, Iteration 130, Current loss 1.3214036831858196 Accuracy 62.2722005688402\n",
      "Training:: Epoch 33, Iteration 140, Current loss 1.2654537750173471 Accuracy 67.24325796785617\n",
      "Calculating Validation Data Accuracy\n",
      "Validation:: Epoch 33, Probability Accuracy 53.88254171595893\n",
      "Starting Training\n",
      "Training:: Epoch 34, Iteration 0, Current loss 1.4196423719612965 Accuracy 64.21111008411128\n",
      "Training:: Epoch 34, Iteration 10, Current loss 1.5695838358150382 Accuracy 64.34140336479278\n",
      "Training:: Epoch 34, Iteration 20, Current loss 1.4989028106801714 Accuracy 56.866812227074234\n",
      "Training:: Epoch 34, Iteration 30, Current loss 1.4516570296048907 Accuracy 62.55888162893177\n",
      "Training:: Epoch 34, Iteration 40, Current loss 1.4810150713815295 Accuracy 63.70512531045383\n",
      "Training:: Epoch 34, Iteration 50, Current loss 1.4204418111720551 Accuracy 61.985367952947925\n",
      "Training:: Epoch 34, Iteration 60, Current loss 1.4142077106747748 Accuracy 63.76518218623482\n",
      "Training:: Epoch 34, Iteration 70, Current loss 1.4210393089753517 Accuracy 71.67795422699673\n",
      "Training:: Epoch 34, Iteration 80, Current loss 1.5565103298659775 Accuracy 63.54681816324028\n",
      "Training:: Epoch 34, Iteration 90, Current loss 1.4141998377110578 Accuracy 68.4593837535014\n",
      "Training:: Epoch 34, Iteration 100, Current loss 1.1353981347007167 Accuracy 69.98795748468507\n",
      "Training:: Epoch 34, Iteration 110, Current loss 1.6139259390574872 Accuracy 62.98706971867902\n",
      "Training:: Epoch 34, Iteration 120, Current loss 1.4652044079938382 Accuracy 76.45042635010867\n",
      "Training:: Epoch 34, Iteration 130, Current loss 1.9297606033468633 Accuracy 61.705120990433315\n",
      "Training:: Epoch 34, Iteration 140, Current loss 1.2493510715310134 Accuracy 62.96856432969645\n",
      "Calculating Validation Data Accuracy\n",
      "Validation:: Epoch 34, Probability Accuracy 53.90067908940581\n",
      "Starting Training\n",
      "Training:: Epoch 35, Iteration 0, Current loss 1.2430218302547094 Accuracy 63.439153439153436\n",
      "Training:: Epoch 35, Iteration 10, Current loss 1.5605631012708445 Accuracy 64.67823720987757\n",
      "Training:: Epoch 35, Iteration 20, Current loss 1.233147033311797 Accuracy 64.14722031571722\n",
      "Training:: Epoch 35, Iteration 30, Current loss 1.456285780467989 Accuracy 59.7306212204508\n",
      "Training:: Epoch 35, Iteration 40, Current loss 1.2662723368277475 Accuracy 64.53042644944897\n",
      "Training:: Epoch 35, Iteration 50, Current loss 1.3155472192316455 Accuracy 66.4804469273743\n",
      "Training:: Epoch 35, Iteration 60, Current loss 1.470859537261963 Accuracy 61.81958365458751\n",
      "Training:: Epoch 35, Iteration 70, Current loss 1.2179555772916684 Accuracy 62.941690598077166\n",
      "Training:: Epoch 35, Iteration 80, Current loss 1.270950567786444 Accuracy 64.98610559745931\n",
      "Training:: Epoch 35, Iteration 90, Current loss 1.2205622814667278 Accuracy 69.10122164048866\n",
      "Training:: Epoch 35, Iteration 100, Current loss 1.480716130327155 Accuracy 56.86872796311364\n",
      "Training:: Epoch 35, Iteration 110, Current loss 1.1308875708863566 Accuracy 69.79735356713242\n",
      "Training:: Epoch 35, Iteration 120, Current loss 1.3582230711217596 Accuracy 59.06282183316169\n",
      "Training:: Epoch 35, Iteration 130, Current loss 1.5989976321206598 Accuracy 68.45071564692049\n",
      "Training:: Epoch 35, Iteration 140, Current loss 1.1534718839901232 Accuracy 73.20907060642502\n",
      "Calculating Expectation\n",
      "Epoch 35 iter 0\n",
      "Epoch 35 iter 20\n",
      "Epoch 35 iter 40\n",
      "Epoch 35 iter 60\n",
      "Epoch 35 iter 80\n",
      "Epoch 35 iter 100\n",
      "Epoch 35 iter 120\n",
      "Epoch 35 iter 140\n",
      "Train Boundary avergage error = 432.730\n",
      "Calculating Validation Data Accuracy\n",
      "Validation:: Epoch 35, Probability Accuracy 52.231223733488456\n",
      "Starting Training\n",
      "Training:: Epoch 36, Iteration 0, Current loss 2.7720057602456616 Accuracy 71.77518287973102\n",
      "Training:: Epoch 36, Iteration 10, Current loss 2.474361762647749 Accuracy 67.29285134037367\n",
      "Training:: Epoch 36, Iteration 20, Current loss 2.590933110336258 Accuracy 70.08389605074687\n",
      "Training:: Epoch 36, Iteration 30, Current loss 2.6452004314463253 Accuracy 56.52251079689996\n",
      "Training:: Epoch 36, Iteration 40, Current loss 2.6318144000153425 Accuracy 62.090880203368286\n",
      "Training:: Epoch 36, Iteration 50, Current loss 2.5661751754810984 Accuracy 59.503645668221544\n",
      "Training:: Epoch 36, Iteration 60, Current loss 2.2295462141189804 Accuracy 69.31693989071039\n",
      "Training:: Epoch 36, Iteration 70, Current loss 2.57154393198969 Accuracy 60.585978374607606\n"
     ]
    },
    {
     "name": "stdout",
     "output_type": "stream",
     "text": [
      "Training:: Epoch 36, Iteration 80, Current loss 2.8773040281244873 Accuracy 49.270400958534815\n",
      "Training:: Epoch 36, Iteration 90, Current loss 2.073344042364571 Accuracy 64.22882781828379\n",
      "Training:: Epoch 36, Iteration 100, Current loss 2.3524933143929183 Accuracy 70.7156096017359\n",
      "Training:: Epoch 36, Iteration 110, Current loss 2.1820480807604405 Accuracy 66.66438964410138\n",
      "Training:: Epoch 36, Iteration 120, Current loss 3.081304342300953 Accuracy 64.58110244250676\n",
      "Training:: Epoch 36, Iteration 130, Current loss 2.453682775023782 Accuracy 69.01379732209611\n",
      "Training:: Epoch 36, Iteration 140, Current loss 2.13107857398634 Accuracy 61.05398457583548\n",
      "Calculating Validation Data Accuracy\n",
      "Validation:: Epoch 36, Probability Accuracy 53.75361930470134\n",
      "Starting Training\n",
      "Training:: Epoch 37, Iteration 0, Current loss 2.9653257518676748 Accuracy 68.98159311952415\n",
      "Training:: Epoch 37, Iteration 10, Current loss 2.202508649232742 Accuracy 63.65910741667339\n",
      "Training:: Epoch 37, Iteration 20, Current loss 2.945063089295315 Accuracy 59.0625\n",
      "Training:: Epoch 37, Iteration 30, Current loss 2.4448295997438914 Accuracy 57.65222345095674\n",
      "Training:: Epoch 37, Iteration 40, Current loss 2.219120516756801 Accuracy 72.26596675415573\n",
      "Training:: Epoch 37, Iteration 50, Current loss 2.404785370662375 Accuracy 65.11156186612575\n",
      "Training:: Epoch 37, Iteration 60, Current loss 2.554556682277808 Accuracy 70.69216757741349\n",
      "Training:: Epoch 37, Iteration 70, Current loss 2.9652942389937142 Accuracy 59.28853754940712\n",
      "Training:: Epoch 37, Iteration 80, Current loss 2.7075904129563915 Accuracy 47.18890211519091\n",
      "Training:: Epoch 37, Iteration 90, Current loss 2.0874727636323236 Accuracy 73.2033349410873\n",
      "Training:: Epoch 37, Iteration 100, Current loss 2.6487354271327535 Accuracy 58.56119507294488\n",
      "Training:: Epoch 37, Iteration 110, Current loss 2.615845738782884 Accuracy 59.26633830772624\n",
      "Training:: Epoch 37, Iteration 120, Current loss 2.223862766540895 Accuracy 61.44001050144395\n",
      "Training:: Epoch 37, Iteration 130, Current loss 2.305062655872871 Accuracy 46.51360544217687\n",
      "Training:: Epoch 37, Iteration 140, Current loss 2.4040245075738484 Accuracy 74.68713396214784\n",
      "Calculating Validation Data Accuracy\n",
      "Validation:: Epoch 37, Probability Accuracy 52.776815534742056\n",
      "Starting Training\n",
      "Training:: Epoch 38, Iteration 0, Current loss 2.7600535362387366 Accuracy 57.90238968264003\n",
      "Training:: Epoch 38, Iteration 10, Current loss 2.5763051432500155 Accuracy 57.86401326699834\n",
      "Training:: Epoch 38, Iteration 20, Current loss 2.4775967184540724 Accuracy 65.32373244465603\n",
      "Training:: Epoch 38, Iteration 30, Current loss 2.462494803559137 Accuracy 56.19498984427894\n",
      "Training:: Epoch 38, Iteration 40, Current loss 2.4637577017934627 Accuracy 45.08631641880278\n",
      "Training:: Epoch 38, Iteration 50, Current loss 1.947889684129377 Accuracy 78.23622273249138\n",
      "Training:: Epoch 38, Iteration 60, Current loss 2.4294040060284887 Accuracy 61.2259702575263\n",
      "Training:: Epoch 38, Iteration 70, Current loss 2.590974126173571 Accuracy 71.75841999809178\n",
      "Training:: Epoch 38, Iteration 80, Current loss 2.7623000040686394 Accuracy 64.60236734326477\n",
      "Training:: Epoch 38, Iteration 90, Current loss 2.700458795712341 Accuracy 53.570153516601216\n",
      "Training:: Epoch 38, Iteration 100, Current loss 2.7654818538050607 Accuracy 60.47243308030364\n",
      "Training:: Epoch 38, Iteration 110, Current loss 2.4691035388540348 Accuracy 59.89553835504373\n",
      "Training:: Epoch 38, Iteration 120, Current loss 2.6114116128573364 Accuracy 53.80743510462357\n",
      "Training:: Epoch 38, Iteration 130, Current loss 2.760071546593128 Accuracy 58.65815564308026\n",
      "Training:: Epoch 38, Iteration 140, Current loss 2.5173481291274475 Accuracy 69.03231565791823\n",
      "Calculating Validation Data Accuracy\n",
      "Validation:: Epoch 38, Probability Accuracy 52.6277132530278\n",
      "Starting Training\n",
      "Training:: Epoch 39, Iteration 0, Current loss 2.1806465182486425 Accuracy 58.848235952958746\n",
      "Training:: Epoch 39, Iteration 10, Current loss 2.7116399525216552 Accuracy 58.281829419035844\n",
      "Training:: Epoch 39, Iteration 20, Current loss 2.8898173286720903 Accuracy 67.27287423213708\n",
      "Training:: Epoch 39, Iteration 30, Current loss 2.5171555743121177 Accuracy 71.60311905200467\n",
      "Training:: Epoch 39, Iteration 40, Current loss 2.236224447425744 Accuracy 69.00998573466477\n",
      "Training:: Epoch 39, Iteration 50, Current loss 2.6173038498322234 Accuracy 71.3972027304406\n",
      "Training:: Epoch 39, Iteration 60, Current loss 2.6418044717535483 Accuracy 61.47525197406433\n",
      "Training:: Epoch 39, Iteration 70, Current loss 2.939980221300412 Accuracy 61.96286472148541\n",
      "Training:: Epoch 39, Iteration 80, Current loss 2.205312962088869 Accuracy 63.84296513045599\n",
      "Training:: Epoch 39, Iteration 90, Current loss 2.3115545044803456 Accuracy 62.209180465311256\n",
      "Training:: Epoch 39, Iteration 100, Current loss 2.4812106669286313 Accuracy 54.886001982574214\n",
      "Training:: Epoch 39, Iteration 110, Current loss 2.4399324291755207 Accuracy 55.460868236013454\n",
      "Training:: Epoch 39, Iteration 120, Current loss 2.214952649143017 Accuracy 72.54098360655738\n",
      "Training:: Epoch 39, Iteration 130, Current loss 2.1641855652959574 Accuracy 59.71522005722851\n",
      "Training:: Epoch 39, Iteration 140, Current loss 2.377756367701653 Accuracy 59.87913379217727\n",
      "Calculating Validation Data Accuracy\n",
      "Validation:: Epoch 39, Probability Accuracy 52.31676350825823\n",
      "Starting Training\n",
      "Training:: Epoch 40, Iteration 0, Current loss 2.4578558900717056 Accuracy 55.654871444345126\n",
      "Training:: Epoch 40, Iteration 10, Current loss 2.2469250990579894 Accuracy 68.52180936995154\n",
      "Training:: Epoch 40, Iteration 20, Current loss 2.592874734149954 Accuracy 65.78326451504171\n",
      "Training:: Epoch 40, Iteration 30, Current loss 2.3537253043936808 Accuracy 53.42070072211821\n",
      "Training:: Epoch 40, Iteration 40, Current loss 2.3413461431979097 Accuracy 67.53406593406594\n",
      "Training:: Epoch 40, Iteration 50, Current loss 2.060558467212677 Accuracy 66.00363719027051\n",
      "Training:: Epoch 40, Iteration 60, Current loss 2.8602647336186875 Accuracy 52.21429224997713\n",
      "Training:: Epoch 40, Iteration 70, Current loss 2.5757097524257784 Accuracy 65.39843239712606\n",
      "Training:: Epoch 40, Iteration 80, Current loss 2.3797170807642742 Accuracy 57.84323718275405\n",
      "Training:: Epoch 40, Iteration 90, Current loss 2.633616099320043 Accuracy 68.66510538641687\n",
      "Training:: Epoch 40, Iteration 100, Current loss 2.463749207658434 Accuracy 72.91382833787466\n",
      "Training:: Epoch 40, Iteration 110, Current loss 2.521171438692834 Accuracy 67.38013698630137\n",
      "Training:: Epoch 40, Iteration 120, Current loss 2.02841919186801 Accuracy 63.94048429446659\n",
      "Training:: Epoch 40, Iteration 130, Current loss 2.2879470845502206 Accuracy 65.4105380748464\n",
      "Training:: Epoch 40, Iteration 140, Current loss 2.0950571470717003 Accuracy 69.26162853735227\n",
      "Calculating Expectation\n",
      "Epoch 40 iter 0\n",
      "Epoch 40 iter 20\n",
      "Epoch 40 iter 40\n",
      "Epoch 40 iter 60\n",
      "Epoch 40 iter 80\n",
      "Epoch 40 iter 100\n",
      "Epoch 40 iter 120\n",
      "Epoch 40 iter 140\n",
      "Train Boundary avergage error = 613.557\n",
      "Calculating Validation Data Accuracy\n",
      "Validation:: Epoch 40, Probability Accuracy 53.42567598481036\n",
      "Starting Training\n",
      "Training:: Epoch 41, Iteration 0, Current loss 3.124925481737474 Accuracy 72.08190685356243\n",
      "Training:: Epoch 41, Iteration 10, Current loss 3.856543149353598 Accuracy 75.38095752728844\n"
     ]
    },
    {
     "ename": "KeyboardInterrupt",
     "evalue": "",
     "output_type": "error",
     "traceback": [
      "\u001b[0;31m---------------------------------------------------------------------------\u001b[0m",
      "\u001b[0;31mKeyboardInterrupt\u001b[0m                         Traceback (most recent call last)",
      "\u001b[0;32m<ipython-input-26-c983d94f141d>\u001b[0m in \u001b[0;36m<module>\u001b[0;34m\u001b[0m\n\u001b[1;32m     13\u001b[0m         \u001b[0moptimizer\u001b[0m\u001b[0;34m.\u001b[0m\u001b[0mzero_grad\u001b[0m\u001b[0;34m(\u001b[0m\u001b[0;34m)\u001b[0m\u001b[0;34m\u001b[0m\u001b[0;34m\u001b[0m\u001b[0m\n\u001b[1;32m     14\u001b[0m \u001b[0;34m\u001b[0m\u001b[0m\n\u001b[0;32m---> 15\u001b[0;31m         \u001b[0mmiddle_pred\u001b[0m\u001b[0;34m,\u001b[0m \u001b[0mpredictions\u001b[0m \u001b[0;34m=\u001b[0m \u001b[0mmodel\u001b[0m\u001b[0;34m(\u001b[0m\u001b[0mitem_0\u001b[0m\u001b[0;34m,\u001b[0m \u001b[0msrc_mask_mse\u001b[0m\u001b[0;34m)\u001b[0m\u001b[0;34m\u001b[0m\u001b[0;34m\u001b[0m\u001b[0m\n\u001b[0m\u001b[1;32m     16\u001b[0m         \u001b[0mpsuedo_l\u001b[0m \u001b[0;34m=\u001b[0m \u001b[0mget_single_random\u001b[0m\u001b[0;34m(\u001b[0m\u001b[0mpredictions\u001b[0m\u001b[0;34m[\u001b[0m\u001b[0;34m-\u001b[0m\u001b[0;36m1\u001b[0m\u001b[0;34m]\u001b[0m\u001b[0;34m,\u001b[0m \u001b[0mitem\u001b[0m\u001b[0;34m[\u001b[0m\u001b[0;36m4\u001b[0m\u001b[0;34m]\u001b[0m\u001b[0;34m)\u001b[0m\u001b[0;34m\u001b[0m\u001b[0;34m\u001b[0m\u001b[0m\n\u001b[1;32m     17\u001b[0m \u001b[0;34m\u001b[0m\u001b[0m\n",
      "\u001b[0;32m~/anaconda3/envs/video_r/lib/python3.7/site-packages/torch/nn/modules/module.py\u001b[0m in \u001b[0;36m_call_impl\u001b[0;34m(self, *input, **kwargs)\u001b[0m\n\u001b[1;32m    725\u001b[0m             \u001b[0mresult\u001b[0m \u001b[0;34m=\u001b[0m \u001b[0mself\u001b[0m\u001b[0;34m.\u001b[0m\u001b[0m_slow_forward\u001b[0m\u001b[0;34m(\u001b[0m\u001b[0;34m*\u001b[0m\u001b[0minput\u001b[0m\u001b[0;34m,\u001b[0m \u001b[0;34m**\u001b[0m\u001b[0mkwargs\u001b[0m\u001b[0;34m)\u001b[0m\u001b[0;34m\u001b[0m\u001b[0;34m\u001b[0m\u001b[0m\n\u001b[1;32m    726\u001b[0m         \u001b[0;32melse\u001b[0m\u001b[0;34m:\u001b[0m\u001b[0;34m\u001b[0m\u001b[0;34m\u001b[0m\u001b[0m\n\u001b[0;32m--> 727\u001b[0;31m             \u001b[0mresult\u001b[0m \u001b[0;34m=\u001b[0m \u001b[0mself\u001b[0m\u001b[0;34m.\u001b[0m\u001b[0mforward\u001b[0m\u001b[0;34m(\u001b[0m\u001b[0;34m*\u001b[0m\u001b[0minput\u001b[0m\u001b[0;34m,\u001b[0m \u001b[0;34m**\u001b[0m\u001b[0mkwargs\u001b[0m\u001b[0;34m)\u001b[0m\u001b[0;34m\u001b[0m\u001b[0;34m\u001b[0m\u001b[0m\n\u001b[0m\u001b[1;32m    728\u001b[0m         for hook in itertools.chain(\n\u001b[1;32m    729\u001b[0m                 \u001b[0m_global_forward_hooks\u001b[0m\u001b[0;34m.\u001b[0m\u001b[0mvalues\u001b[0m\u001b[0;34m(\u001b[0m\u001b[0;34m)\u001b[0m\u001b[0;34m,\u001b[0m\u001b[0;34m\u001b[0m\u001b[0;34m\u001b[0m\u001b[0m\n",
      "\u001b[0;32m~/ar/single_frame_and_weakly_supervised/mstcn_model.py\u001b[0m in \u001b[0;36mforward\u001b[0;34m(self, x, mask)\u001b[0m\n\u001b[1;32m     15\u001b[0m \u001b[0;34m\u001b[0m\u001b[0m\n\u001b[1;32m     16\u001b[0m     \u001b[0;32mdef\u001b[0m \u001b[0mforward\u001b[0m\u001b[0;34m(\u001b[0m\u001b[0mself\u001b[0m\u001b[0;34m,\u001b[0m \u001b[0mx\u001b[0m\u001b[0;34m,\u001b[0m \u001b[0mmask\u001b[0m\u001b[0;34m)\u001b[0m\u001b[0;34m:\u001b[0m\u001b[0;34m\u001b[0m\u001b[0;34m\u001b[0m\u001b[0m\n\u001b[0;32m---> 17\u001b[0;31m         \u001b[0mmiddle_out\u001b[0m\u001b[0;34m,\u001b[0m \u001b[0mout\u001b[0m \u001b[0;34m=\u001b[0m \u001b[0mself\u001b[0m\u001b[0;34m.\u001b[0m\u001b[0mtower_stage\u001b[0m\u001b[0;34m(\u001b[0m\u001b[0mx\u001b[0m\u001b[0;34m,\u001b[0m \u001b[0mmask\u001b[0m\u001b[0;34m)\u001b[0m\u001b[0;34m\u001b[0m\u001b[0;34m\u001b[0m\u001b[0m\n\u001b[0m\u001b[1;32m     18\u001b[0m         \u001b[0moutputs\u001b[0m \u001b[0;34m=\u001b[0m \u001b[0mout\u001b[0m\u001b[0;34m.\u001b[0m\u001b[0munsqueeze\u001b[0m\u001b[0;34m(\u001b[0m\u001b[0;36m0\u001b[0m\u001b[0;34m)\u001b[0m\u001b[0;34m\u001b[0m\u001b[0;34m\u001b[0m\u001b[0m\n\u001b[1;32m     19\u001b[0m         \u001b[0;32mfor\u001b[0m \u001b[0ms\u001b[0m \u001b[0;32min\u001b[0m \u001b[0mself\u001b[0m\u001b[0;34m.\u001b[0m\u001b[0msingle_stages\u001b[0m\u001b[0;34m:\u001b[0m\u001b[0;34m\u001b[0m\u001b[0;34m\u001b[0m\u001b[0m\n",
      "\u001b[0;32m~/anaconda3/envs/video_r/lib/python3.7/site-packages/torch/nn/modules/module.py\u001b[0m in \u001b[0;36m_call_impl\u001b[0;34m(self, *input, **kwargs)\u001b[0m\n\u001b[1;32m    725\u001b[0m             \u001b[0mresult\u001b[0m \u001b[0;34m=\u001b[0m \u001b[0mself\u001b[0m\u001b[0;34m.\u001b[0m\u001b[0m_slow_forward\u001b[0m\u001b[0;34m(\u001b[0m\u001b[0;34m*\u001b[0m\u001b[0minput\u001b[0m\u001b[0;34m,\u001b[0m \u001b[0;34m**\u001b[0m\u001b[0mkwargs\u001b[0m\u001b[0;34m)\u001b[0m\u001b[0;34m\u001b[0m\u001b[0;34m\u001b[0m\u001b[0m\n\u001b[1;32m    726\u001b[0m         \u001b[0;32melse\u001b[0m\u001b[0;34m:\u001b[0m\u001b[0;34m\u001b[0m\u001b[0;34m\u001b[0m\u001b[0m\n\u001b[0;32m--> 727\u001b[0;31m             \u001b[0mresult\u001b[0m \u001b[0;34m=\u001b[0m \u001b[0mself\u001b[0m\u001b[0;34m.\u001b[0m\u001b[0mforward\u001b[0m\u001b[0;34m(\u001b[0m\u001b[0;34m*\u001b[0m\u001b[0minput\u001b[0m\u001b[0;34m,\u001b[0m \u001b[0;34m**\u001b[0m\u001b[0mkwargs\u001b[0m\u001b[0;34m)\u001b[0m\u001b[0;34m\u001b[0m\u001b[0;34m\u001b[0m\u001b[0m\n\u001b[0m\u001b[1;32m    728\u001b[0m         for hook in itertools.chain(\n\u001b[1;32m    729\u001b[0m                 \u001b[0m_global_forward_hooks\u001b[0m\u001b[0;34m.\u001b[0m\u001b[0mvalues\u001b[0m\u001b[0;34m(\u001b[0m\u001b[0;34m)\u001b[0m\u001b[0;34m,\u001b[0m\u001b[0;34m\u001b[0m\u001b[0;34m\u001b[0m\u001b[0m\n",
      "\u001b[0;32m~/ar/single_frame_and_weakly_supervised/mstcn_model.py\u001b[0m in \u001b[0;36mforward\u001b[0;34m(self, x, mask)\u001b[0m\n\u001b[1;32m     31\u001b[0m     \u001b[0;32mdef\u001b[0m \u001b[0mforward\u001b[0m\u001b[0;34m(\u001b[0m\u001b[0mself\u001b[0m\u001b[0;34m,\u001b[0m \u001b[0mx\u001b[0m\u001b[0;34m,\u001b[0m \u001b[0mmask\u001b[0m\u001b[0;34m)\u001b[0m\u001b[0;34m:\u001b[0m\u001b[0;34m\u001b[0m\u001b[0;34m\u001b[0m\u001b[0m\n\u001b[1;32m     32\u001b[0m         \u001b[0mout1\u001b[0m\u001b[0;34m,\u001b[0m \u001b[0mfinal_out1\u001b[0m \u001b[0;34m=\u001b[0m \u001b[0mself\u001b[0m\u001b[0;34m.\u001b[0m\u001b[0mstage1\u001b[0m\u001b[0;34m(\u001b[0m\u001b[0mx\u001b[0m\u001b[0;34m,\u001b[0m \u001b[0mmask\u001b[0m\u001b[0;34m)\u001b[0m\u001b[0;34m\u001b[0m\u001b[0;34m\u001b[0m\u001b[0m\n\u001b[0;32m---> 33\u001b[0;31m         \u001b[0mout2\u001b[0m\u001b[0;34m,\u001b[0m \u001b[0mfinal_out2\u001b[0m \u001b[0;34m=\u001b[0m \u001b[0mself\u001b[0m\u001b[0;34m.\u001b[0m\u001b[0mstage2\u001b[0m\u001b[0;34m(\u001b[0m\u001b[0mx\u001b[0m\u001b[0;34m,\u001b[0m \u001b[0mmask\u001b[0m\u001b[0;34m)\u001b[0m\u001b[0;34m\u001b[0m\u001b[0;34m\u001b[0m\u001b[0m\n\u001b[0m\u001b[1;32m     34\u001b[0m \u001b[0;34m\u001b[0m\u001b[0m\n\u001b[1;32m     35\u001b[0m         \u001b[0;32mreturn\u001b[0m \u001b[0mout1\u001b[0m \u001b[0;34m+\u001b[0m \u001b[0mout2\u001b[0m\u001b[0;34m,\u001b[0m \u001b[0mfinal_out1\u001b[0m \u001b[0;34m+\u001b[0m \u001b[0mfinal_out2\u001b[0m\u001b[0;34m\u001b[0m\u001b[0;34m\u001b[0m\u001b[0m\n",
      "\u001b[0;32m~/anaconda3/envs/video_r/lib/python3.7/site-packages/torch/nn/modules/module.py\u001b[0m in \u001b[0;36m_call_impl\u001b[0;34m(self, *input, **kwargs)\u001b[0m\n\u001b[1;32m    725\u001b[0m             \u001b[0mresult\u001b[0m \u001b[0;34m=\u001b[0m \u001b[0mself\u001b[0m\u001b[0;34m.\u001b[0m\u001b[0m_slow_forward\u001b[0m\u001b[0;34m(\u001b[0m\u001b[0;34m*\u001b[0m\u001b[0minput\u001b[0m\u001b[0;34m,\u001b[0m \u001b[0;34m**\u001b[0m\u001b[0mkwargs\u001b[0m\u001b[0;34m)\u001b[0m\u001b[0;34m\u001b[0m\u001b[0;34m\u001b[0m\u001b[0m\n\u001b[1;32m    726\u001b[0m         \u001b[0;32melse\u001b[0m\u001b[0;34m:\u001b[0m\u001b[0;34m\u001b[0m\u001b[0;34m\u001b[0m\u001b[0m\n\u001b[0;32m--> 727\u001b[0;31m             \u001b[0mresult\u001b[0m \u001b[0;34m=\u001b[0m \u001b[0mself\u001b[0m\u001b[0;34m.\u001b[0m\u001b[0mforward\u001b[0m\u001b[0;34m(\u001b[0m\u001b[0;34m*\u001b[0m\u001b[0minput\u001b[0m\u001b[0;34m,\u001b[0m \u001b[0;34m**\u001b[0m\u001b[0mkwargs\u001b[0m\u001b[0;34m)\u001b[0m\u001b[0;34m\u001b[0m\u001b[0;34m\u001b[0m\u001b[0m\n\u001b[0m\u001b[1;32m    728\u001b[0m         for hook in itertools.chain(\n\u001b[1;32m    729\u001b[0m                 \u001b[0m_global_forward_hooks\u001b[0m\u001b[0;34m.\u001b[0m\u001b[0mvalues\u001b[0m\u001b[0;34m(\u001b[0m\u001b[0;34m)\u001b[0m\u001b[0;34m,\u001b[0m\u001b[0;34m\u001b[0m\u001b[0;34m\u001b[0m\u001b[0m\n",
      "\u001b[0;32m~/ar/single_frame_and_weakly_supervised/mstcn_model.py\u001b[0m in \u001b[0;36mforward\u001b[0;34m(self, x, mask)\u001b[0m\n\u001b[1;32m     47\u001b[0m         \u001b[0mout\u001b[0m \u001b[0;34m=\u001b[0m \u001b[0mself\u001b[0m\u001b[0;34m.\u001b[0m\u001b[0mconv_1x1\u001b[0m\u001b[0;34m(\u001b[0m\u001b[0mx\u001b[0m\u001b[0;34m)\u001b[0m\u001b[0;34m\u001b[0m\u001b[0;34m\u001b[0m\u001b[0m\n\u001b[1;32m     48\u001b[0m         \u001b[0;32mfor\u001b[0m \u001b[0mlayer\u001b[0m \u001b[0;32min\u001b[0m \u001b[0mself\u001b[0m\u001b[0;34m.\u001b[0m\u001b[0mlayers\u001b[0m\u001b[0;34m:\u001b[0m\u001b[0;34m\u001b[0m\u001b[0;34m\u001b[0m\u001b[0m\n\u001b[0;32m---> 49\u001b[0;31m             \u001b[0mout\u001b[0m \u001b[0;34m=\u001b[0m \u001b[0mlayer\u001b[0m\u001b[0;34m(\u001b[0m\u001b[0mout\u001b[0m\u001b[0;34m,\u001b[0m \u001b[0mmask\u001b[0m\u001b[0;34m)\u001b[0m\u001b[0;34m\u001b[0m\u001b[0;34m\u001b[0m\u001b[0m\n\u001b[0m\u001b[1;32m     50\u001b[0m         \u001b[0mfinal_out\u001b[0m \u001b[0;34m=\u001b[0m \u001b[0mself\u001b[0m\u001b[0;34m.\u001b[0m\u001b[0mconv_out\u001b[0m\u001b[0;34m(\u001b[0m\u001b[0mout\u001b[0m\u001b[0;34m)\u001b[0m \u001b[0;34m*\u001b[0m \u001b[0mmask\u001b[0m\u001b[0;34m[\u001b[0m\u001b[0;34m:\u001b[0m\u001b[0;34m,\u001b[0m \u001b[0;36m0\u001b[0m\u001b[0;34m:\u001b[0m\u001b[0;36m1\u001b[0m\u001b[0;34m,\u001b[0m \u001b[0;34m:\u001b[0m\u001b[0;34m]\u001b[0m\u001b[0;34m\u001b[0m\u001b[0;34m\u001b[0m\u001b[0m\n\u001b[1;32m     51\u001b[0m         \u001b[0;32mreturn\u001b[0m \u001b[0mout\u001b[0m\u001b[0;34m,\u001b[0m \u001b[0mfinal_out\u001b[0m\u001b[0;34m\u001b[0m\u001b[0;34m\u001b[0m\u001b[0m\n",
      "\u001b[0;32m~/anaconda3/envs/video_r/lib/python3.7/site-packages/torch/nn/modules/module.py\u001b[0m in \u001b[0;36m_call_impl\u001b[0;34m(self, *input, **kwargs)\u001b[0m\n\u001b[1;32m    725\u001b[0m             \u001b[0mresult\u001b[0m \u001b[0;34m=\u001b[0m \u001b[0mself\u001b[0m\u001b[0;34m.\u001b[0m\u001b[0m_slow_forward\u001b[0m\u001b[0;34m(\u001b[0m\u001b[0;34m*\u001b[0m\u001b[0minput\u001b[0m\u001b[0;34m,\u001b[0m \u001b[0;34m**\u001b[0m\u001b[0mkwargs\u001b[0m\u001b[0;34m)\u001b[0m\u001b[0;34m\u001b[0m\u001b[0;34m\u001b[0m\u001b[0m\n\u001b[1;32m    726\u001b[0m         \u001b[0;32melse\u001b[0m\u001b[0;34m:\u001b[0m\u001b[0;34m\u001b[0m\u001b[0;34m\u001b[0m\u001b[0m\n\u001b[0;32m--> 727\u001b[0;31m             \u001b[0mresult\u001b[0m \u001b[0;34m=\u001b[0m \u001b[0mself\u001b[0m\u001b[0;34m.\u001b[0m\u001b[0mforward\u001b[0m\u001b[0;34m(\u001b[0m\u001b[0;34m*\u001b[0m\u001b[0minput\u001b[0m\u001b[0;34m,\u001b[0m \u001b[0;34m**\u001b[0m\u001b[0mkwargs\u001b[0m\u001b[0;34m)\u001b[0m\u001b[0;34m\u001b[0m\u001b[0;34m\u001b[0m\u001b[0m\n\u001b[0m\u001b[1;32m    728\u001b[0m         for hook in itertools.chain(\n\u001b[1;32m    729\u001b[0m                 \u001b[0m_global_forward_hooks\u001b[0m\u001b[0;34m.\u001b[0m\u001b[0mvalues\u001b[0m\u001b[0;34m(\u001b[0m\u001b[0;34m)\u001b[0m\u001b[0;34m,\u001b[0m\u001b[0;34m\u001b[0m\u001b[0;34m\u001b[0m\u001b[0m\n",
      "\u001b[0;32m~/ar/single_frame_and_weakly_supervised/mstcn_model.py\u001b[0m in \u001b[0;36mforward\u001b[0;34m(self, x, mask)\u001b[0m\n\u001b[1;32m     61\u001b[0m \u001b[0;34m\u001b[0m\u001b[0m\n\u001b[1;32m     62\u001b[0m     \u001b[0;32mdef\u001b[0m \u001b[0mforward\u001b[0m\u001b[0;34m(\u001b[0m\u001b[0mself\u001b[0m\u001b[0;34m,\u001b[0m \u001b[0mx\u001b[0m\u001b[0;34m,\u001b[0m \u001b[0mmask\u001b[0m\u001b[0;34m)\u001b[0m\u001b[0;34m:\u001b[0m\u001b[0;34m\u001b[0m\u001b[0;34m\u001b[0m\u001b[0m\n\u001b[0;32m---> 63\u001b[0;31m         \u001b[0mout\u001b[0m \u001b[0;34m=\u001b[0m \u001b[0mF\u001b[0m\u001b[0;34m.\u001b[0m\u001b[0mrelu\u001b[0m\u001b[0;34m(\u001b[0m\u001b[0mself\u001b[0m\u001b[0;34m.\u001b[0m\u001b[0mconv_dilated\u001b[0m\u001b[0;34m(\u001b[0m\u001b[0mx\u001b[0m\u001b[0;34m)\u001b[0m\u001b[0;34m)\u001b[0m\u001b[0;34m\u001b[0m\u001b[0;34m\u001b[0m\u001b[0m\n\u001b[0m\u001b[1;32m     64\u001b[0m         \u001b[0mout\u001b[0m \u001b[0;34m=\u001b[0m \u001b[0mself\u001b[0m\u001b[0;34m.\u001b[0m\u001b[0mconv_1x1\u001b[0m\u001b[0;34m(\u001b[0m\u001b[0mout\u001b[0m\u001b[0;34m)\u001b[0m\u001b[0;34m\u001b[0m\u001b[0;34m\u001b[0m\u001b[0m\n\u001b[1;32m     65\u001b[0m         \u001b[0mout\u001b[0m \u001b[0;34m=\u001b[0m \u001b[0mself\u001b[0m\u001b[0;34m.\u001b[0m\u001b[0mdropout\u001b[0m\u001b[0;34m(\u001b[0m\u001b[0mout\u001b[0m\u001b[0;34m)\u001b[0m\u001b[0;34m\u001b[0m\u001b[0;34m\u001b[0m\u001b[0m\n",
      "\u001b[0;32m~/anaconda3/envs/video_r/lib/python3.7/site-packages/torch/nn/modules/module.py\u001b[0m in \u001b[0;36m_call_impl\u001b[0;34m(self, *input, **kwargs)\u001b[0m\n\u001b[1;32m    725\u001b[0m             \u001b[0mresult\u001b[0m \u001b[0;34m=\u001b[0m \u001b[0mself\u001b[0m\u001b[0;34m.\u001b[0m\u001b[0m_slow_forward\u001b[0m\u001b[0;34m(\u001b[0m\u001b[0;34m*\u001b[0m\u001b[0minput\u001b[0m\u001b[0;34m,\u001b[0m \u001b[0;34m**\u001b[0m\u001b[0mkwargs\u001b[0m\u001b[0;34m)\u001b[0m\u001b[0;34m\u001b[0m\u001b[0;34m\u001b[0m\u001b[0m\n\u001b[1;32m    726\u001b[0m         \u001b[0;32melse\u001b[0m\u001b[0;34m:\u001b[0m\u001b[0;34m\u001b[0m\u001b[0;34m\u001b[0m\u001b[0m\n\u001b[0;32m--> 727\u001b[0;31m             \u001b[0mresult\u001b[0m \u001b[0;34m=\u001b[0m \u001b[0mself\u001b[0m\u001b[0;34m.\u001b[0m\u001b[0mforward\u001b[0m\u001b[0;34m(\u001b[0m\u001b[0;34m*\u001b[0m\u001b[0minput\u001b[0m\u001b[0;34m,\u001b[0m \u001b[0;34m**\u001b[0m\u001b[0mkwargs\u001b[0m\u001b[0;34m)\u001b[0m\u001b[0;34m\u001b[0m\u001b[0;34m\u001b[0m\u001b[0m\n\u001b[0m\u001b[1;32m    728\u001b[0m         for hook in itertools.chain(\n\u001b[1;32m    729\u001b[0m                 \u001b[0m_global_forward_hooks\u001b[0m\u001b[0;34m.\u001b[0m\u001b[0mvalues\u001b[0m\u001b[0;34m(\u001b[0m\u001b[0;34m)\u001b[0m\u001b[0;34m,\u001b[0m\u001b[0;34m\u001b[0m\u001b[0;34m\u001b[0m\u001b[0m\n",
      "\u001b[0;32m~/anaconda3/envs/video_r/lib/python3.7/site-packages/torch/nn/modules/conv.py\u001b[0m in \u001b[0;36mforward\u001b[0;34m(self, input)\u001b[0m\n\u001b[1;32m    257\u001b[0m                             _single(0), self.dilation, self.groups)\n\u001b[1;32m    258\u001b[0m         return F.conv1d(input, self.weight, self.bias, self.stride,\n\u001b[0;32m--> 259\u001b[0;31m                         self.padding, self.dilation, self.groups)\n\u001b[0m\u001b[1;32m    260\u001b[0m \u001b[0;34m\u001b[0m\u001b[0m\n\u001b[1;32m    261\u001b[0m \u001b[0;34m\u001b[0m\u001b[0m\n",
      "\u001b[0;31mKeyboardInterrupt\u001b[0m: "
     ]
    }
   ],
   "source": [
    "initialize_epoch = 25\n",
    "expectation_cal_gap = 5\n",
    "best_val_acc = 0\n",
    "for epoch in range(26, 1000):\n",
    "    print(\"Starting Training\")\n",
    "    model.train()\n",
    "    for i, item in enumerate(trainloader):\n",
    "        item_0 = item[0].to(device)\n",
    "        item_1 = item[1].to(device)\n",
    "        item_2 = item[2].to(device)\n",
    "        src_mask = torch.arange(item_2.shape[1], device=item_2.device)[None, :] < item_1[:, None]\n",
    "        src_mask_mse = src_mask.unsqueeze(1).to(torch.float32).to(device)\n",
    "        optimizer.zero_grad()\n",
    "        \n",
    "        middle_pred, predictions = model(item_0, src_mask_mse)\n",
    "        psuedo_l = get_single_random(predictions[-1], item[4])\n",
    "        \n",
    "        loss = 0\n",
    "        for p in predictions:\n",
    "            if epoch <= initialize_epoch:\n",
    "                loss += ce_criterion(p, psuedo_l)\n",
    "                loss += 0.15 * torch.mean(torch.clamp(mse_criterion(F.log_softmax(p[:, :, 1:], dim=1), \n",
    "                                                                    F.log_softmax(p.detach()[:, :, :-1], dim=1)), min=0,\n",
    "                                            max=16) * src_mask_mse[:, :, 1:])\n",
    "            else:\n",
    "                prob = torch.softmax(p, dim=1)\n",
    "                prob = prob.permute(0, 2, 1)\n",
    "                es_loss, _ = get_estimated_loss(prob, item_1, item[4], item_2)\n",
    "                loss += es_loss\n",
    "            \n",
    "        loss.backward()\n",
    "        optimizer.step()\n",
    "        \n",
    "        if i % 10 == 0:\n",
    "            with torch.no_grad():\n",
    "                pred = torch.argmax(predictions[-1], dim=1)\n",
    "                correct = float(torch.sum((pred == item_2) * src_mask).item())\n",
    "                total = float(torch.sum(src_mask).item())\n",
    "                print(f\"Training:: Epoch {epoch}, Iteration {i}, Current loss {loss.item()}\" +\n",
    "                      f\" Accuracy {correct * 100.0 / total}\")\n",
    "    if epoch == initialize_epoch:\n",
    "        torch.save(model.state_dict(), config.output_dir + \"ms-tcn-initial-15-epochs.wt\")\n",
    "    # Calculating Expectation Step\n",
    "    model.eval()\n",
    "    if (epoch >= initialize_epoch) and (epoch % expectation_cal_gap == 0):\n",
    "        print(\"Calculating Expectation\")\n",
    "        correct = 0.0\n",
    "        total = 0.0\n",
    "\n",
    "        for i, item in enumerate(trainloader):\n",
    "            with torch.no_grad():\n",
    "                item_0 = item[0].to(device)\n",
    "                item_1 = item[1].to(device)\n",
    "                item_2 = item[2].to(device)\n",
    "                src_mask = torch.arange(item_2.shape[1], device=item_2.device)[None, :] < item_1[:, None]\n",
    "                src_mask_mse = src_mask.unsqueeze(1).to(torch.float32).to(device)\n",
    "\n",
    "                middle_pred, predictions = model(item_0, src_mask_mse)\n",
    "                prob = torch.softmax(predictions[-1], dim=1)\n",
    "                prob = prob.permute(0, 2, 1)\n",
    "                for j in range(len(prob)):\n",
    "                    generate_posterior_loss_weights(prob[j].cpu(), item[4][j])\n",
    "                \n",
    "                if i % 20 == 0:\n",
    "                    print(f\"Epoch {epoch} iter {i}\")\n",
    "                    \n",
    "        get_boundary_err()\n",
    "\n",
    "    print(\"Calculating Validation Data Accuracy\")\n",
    "    correct = 0.0\n",
    "    total = 0.0\n",
    "    for i, item in enumerate(testloader):\n",
    "        with torch.no_grad():\n",
    "            item_0 = item[0].to(device)\n",
    "            item_1 = item[1].to(device)\n",
    "            item_2 = item[2].to(device)\n",
    "            src_mask = torch.arange(item_2.shape[1], device=item_2.device)[None, :] < item_1[:, None]\n",
    "            src_mask_mse = src_mask.unsqueeze(1).to(torch.float32).to(device)\n",
    "\n",
    "            middle_pred, predictions = model(item_0, src_mask_mse)\n",
    "\n",
    "            pred = torch.argmax(predictions[-1], dim=1)\n",
    "            correct += float(torch.sum((pred == item_2) * src_mask).item())\n",
    "            total += float(torch.sum(src_mask).item())\n",
    "    val_acc = correct * 100.0 / total\n",
    "    if val_acc > best_val_acc:\n",
    "        best_val_acc = val_acc\n",
    "        torch.save(model.state_dict(), config.output_dir + \"ms-tcn-emmax-best-model-fulllikelihood.wt\")\n",
    "    torch.save(model.state_dict(), config.output_dir + \"ms-tcn-emmax-last-model-fulllikelihood.wt\")\n",
    "    print(f\"Validation:: Epoch {epoch}, Probability Accuracy {val_acc}\")"
   ]
  },
  {
   "cell_type": "code",
   "execution_count": 32,
   "metadata": {},
   "outputs": [
    {
     "data": {
      "text/plain": [
       "<All keys matched successfully>"
      ]
     },
     "execution_count": 32,
     "metadata": {},
     "output_type": "execute_result"
    }
   ],
   "source": [
    "# model.load_state_dict(torch.load(f'/mnt/ssd/all_users/dipika/ms_tcn/data/breakfast//results/'\n",
    "#                                  f'mstcnnew-full-supervised-split1/ms-tcn-best-model.wt'))"
   ]
  },
  {
   "cell_type": "code",
   "execution_count": 27,
   "metadata": {},
   "outputs": [
    {
     "data": {
      "text/plain": [
       "55.559840260393855"
      ]
     },
     "execution_count": 27,
     "metadata": {},
     "output_type": "execute_result"
    }
   ],
   "source": [
    "best_val_acc"
   ]
  },
  {
   "cell_type": "code",
   "execution_count": 44,
   "metadata": {},
   "outputs": [
    {
     "name": "stdout",
     "output_type": "stream",
     "text": [
      "[222, 528, 772, 897, 1340, 1456, 1751, 2085, 5518, 5583, 5915, 5998]\n"
     ]
    },
    {
     "data": {
      "image/png": "[encoded data removed]",
      "text/plain": [
       "<Figure size 432x288 with 1 Axes>"
      ]
     },
     "metadata": {
      "needs_background": "light"
     },
     "output_type": "display_data"
    }
   ],
   "source": [
    "vidid = list(posterior_table.keys())[np.random.randint(len(posterior_table))]\n",
    "\n",
    "for proba in posterior_table[vidid]:\n",
    "    plt.plot(proba)\n",
    "    \n",
    "for proba in prior_table[vidid]:\n",
    "    plt.plot(2*proba)\n",
    "    \n",
    "for bd in video_id_boundary_frames[vidid]:\n",
    "    plt.plot([bd, bd], [0, 2])\n",
    "print(video_id_boundary_frames[vidid])"
   ]
  },
  {
   "cell_type": "code",
   "execution_count": 33,
   "metadata": {},
   "outputs": [
    {
     "name": "stdout",
     "output_type": "stream",
     "text": [
      "Calculating Validation Data Accuracy\n",
      "Validation:: Probability Accuracy 69.60005698208626\n"
     ]
    }
   ],
   "source": [
    "print(\"Calculating Validation Data Accuracy\")\n",
    "correct = 0.0\n",
    "total = 0.0\n",
    "for i, item in enumerate(testloader):\n",
    "    with torch.no_grad():\n",
    "        item_0 = item[0].to(device)\n",
    "        item_1 = item[1].to(device)\n",
    "        item_2 = item[2].to(device)\n",
    "        src_mask = torch.arange(item_2.shape[1], device=item_2.device)[None, :] < item_1[:, None]\n",
    "        src_mask_mse = src_mask.unsqueeze(1).to(torch.float32).to(device)\n",
    "\n",
    "        middle_pred, predictions = model(item_0, src_mask_mse)\n",
    "\n",
    "        pred = torch.argmax(predictions[-1], dim=1)\n",
    "        correct += float(torch.sum((pred == item_2) * src_mask).item())\n",
    "        total += float(torch.sum(src_mask).item())\n",
    "\n",
    "print(f\"Validation:: Probability Accuracy {correct * 100.0 / total}\")"
   ]
  },
  {
   "cell_type": "code",
   "execution_count": 107,
   "metadata": {},
   "outputs": [],
   "source": [
    "framewise_proba = prob[j].cpu()\n",
    "ele = item[4][j]\n",
    "frame_count = frame_id_dict[ele]\n",
    "label_list = [label_name_to_label_id_dict[item] for item in weak_labels[ele]]\n",
    "seqlen = len(label_list)\n",
    "label_seq_prob = framewise_proba[:frame_count,label_list]\n",
    "label_seq_logprob = torch.log(label_seq_prob + 1e-10)\n",
    "\n",
    "left_probsum = torch.cumsum(label_seq_prob, dim=1)\n",
    "right_probsum = torch.sum(label_seq_prob, dim=1, keepdim=True) - torch.cumsum(label_seq_prob, dim=1) + label_seq_prob\n",
    "\n",
    "left_logprobsum = torch.log(torch.clip(left_probsum, min=1e-20))\n",
    "right_logprobsum = torch.log(torch.clip(right_probsum, min=1e-20))\n",
    "\n",
    "left_logprobsum_left_idsum = torch.cumsum(left_logprobsum, dim=0)\n",
    "left_logprobsum_left_idsum -= left_logprobsum\n",
    "right_logprobsum_right_idsum = torch.sum(right_logprobsum, dim=0, keepdim=True) - torch.cumsum(right_logprobsum, dim=0)\n",
    "\n",
    "for k in range(seqlen):\n",
    "    left_logprobsum_left_idsum[:k,k] = -1000\n",
    "    remaining_labelcount = seqlen-k-1\n",
    "    if remaining_labelcount > 0:\n",
    "        right_logprobsum_right_idsum[-remaining_labelcount:,k] = -1000\n",
    "\n",
    "loglikelihood = label_seq_logprob + left_logprobsum_left_idsum + right_logprobsum_right_idsum\n",
    "posterior = loglikelihood.T + torch.log(torch.clip(torch.tensor(prior_table[ele]), min=1e-10))\n",
    "posterior = torch.softmax(posterior, dim=0)"
   ]
  },
  {
   "cell_type": "code",
   "execution_count": 116,
   "metadata": {
    "scrolled": true
   },
   "outputs": [
    {
     "name": "stdout",
     "output_type": "stream",
     "text": [
      "1 iteration done\n",
      "11 iteration done\n",
      "21 iteration done\n",
      "31 iteration done\n",
      "41 iteration done\n",
      "51 iteration done\n",
      "61 iteration done\n",
      "71 iteration done\n",
      "81 iteration done\n",
      "91 iteration done\n",
      "101 iteration done\n",
      "111 iteration done\n",
      "121 iteration done\n",
      "131 iteration done\n",
      "141 iteration done\n",
      "151 iteration done\n",
      "161 iteration done\n",
      "171 iteration done\n",
      "181 iteration done\n",
      "Train Boundary avergage error = 118.393\n"
     ]
    }
   ],
   "source": [
    "model.eval()\n",
    "for i, item in enumerate(trainloader):\n",
    "    with torch.no_grad():\n",
    "        item_0 = item[0].to(device)\n",
    "        item_1 = item[1].to(device)\n",
    "        item_2 = item[2].to(device)\n",
    "        src_mask = torch.arange(item_2.shape[1], device=item_2.device)[None, :] < item_1[:, None]\n",
    "        src_mask_mse = src_mask.unsqueeze(1).to(torch.float32).to(device)\n",
    "\n",
    "        middle_pred, predictions = model(item_0, src_mask_mse)\n",
    "        prob = torch.softmax(predictions[-1], dim=1)\n",
    "        prob = prob.permute(0, 2, 1)\n",
    "        for j in range(len(prob)):\n",
    "            generate_posterior_loss_weights(prob[j].cpu(), item[4][j])\n",
    "\n",
    "        if i%10==0:\n",
    "            print(f'{i+1} iteration done')\n",
    "get_boundary_err()"
   ]
  }
 ],
 "metadata": {
  "kernelspec": {
   "display_name": "Python 3",
   "language": "python",
   "name": "python3"
  },
  "language_info": {
   "codemirror_mode": {
    "name": "ipython",
    "version": 3
   },
   "file_extension": ".py",
   "mimetype": "text/x-python",
   "name": "python",
   "nbconvert_exporter": "python",
   "pygments_lexer": "ipython3",
   "version": "3.7.3"
  }
 },
 "nbformat": 4,
 "nbformat_minor": 4
}
