{
 "cells": [
  {
   "cell_type": "code",
   "execution_count": 1,
   "metadata": {},
   "outputs": [],
   "source": [
    "%load_ext autoreload\n",
    "%autoreload 2"
   ]
  },
  {
   "cell_type": "code",
   "execution_count": 2,
   "metadata": {},
   "outputs": [],
   "source": [
    "import wandb\n",
    "import os, sys\n",
    "import glob\n",
    "import numpy as np\n",
    "import torch\n",
    "import pandas as pd\n",
    "import random\n",
    "import torch.nn as nn\n",
    "import pickle\n",
    "import torch.nn.functional as F"
   ]
  },
  {
   "cell_type": "code",
   "execution_count": 3,
   "metadata": {},
   "outputs": [],
   "source": [
    "from mstcn_model import *\n",
    "from utility.adaptive_data_loader import Breakfast, collate_fn_override\n",
    "from utils import calculate_mof, dotdict"
   ]
  },
  {
   "cell_type": "code",
   "execution_count": 4,
   "metadata": {},
   "outputs": [
    {
     "name": "stderr",
     "output_type": "stream",
     "text": [
      "Failed to detect the name of this notebook, you can set it manually with the WANDB_NOTEBOOK_NAME environment variable to enable code saving.\n",
      "\u001b[34m\u001b[1mwandb\u001b[0m: Currently logged in as: \u001b[33mdipika_singhania\u001b[0m (use `wandb login --relogin` to force relogin)\n"
     ]
    },
    {
     "data": {
      "text/plain": [
       "True"
      ]
     },
     "execution_count": 4,
     "metadata": {},
     "output_type": "execute_result"
    }
   ],
   "source": [
    "os.environ[\"WANDB_API_KEY\"] = \"992b3b1371ba79f48484cfca522b3786d7fa52c2\"\n",
    "wandb.login()"
   ]
  },
  {
   "cell_type": "code",
   "execution_count": 5,
   "metadata": {},
   "outputs": [],
   "source": [
    "seed = 42\n",
    "\n",
    "# Ensure deterministic behavior\n",
    "def set_seed():\n",
    "    torch.backends.cudnn.benchmark = False\n",
    "    torch.backends.cudnn.deterministic = True\n",
    "    random.seed(seed)\n",
    "    np.random.seed(seed)\n",
    "    torch.manual_seed(seed)\n",
    "    torch.cuda.manual_seed_all(seed)\n",
    "    torch.cuda.manual_seed(seed)\n",
    "set_seed()\n",
    "\n",
    "# Device configuration\n",
    "os.environ['CUDA_VISIBLE_DEVICES']='4'\n",
    "# os.environ['CUDA_LAUNCH_BLOCKING']='6'\n",
    "device = torch.device(\"cuda:0\" if torch.cuda.is_available() else \"cpu\")"
   ]
  },
  {
   "cell_type": "code",
   "execution_count": 6,
   "metadata": {},
   "outputs": [
    {
     "name": "stdout",
     "output_type": "stream",
     "text": [
      "{'epochs': 500, 'num_class': 48, 'batch_size': 8, 'learning_rate': 0.0005, 'weight_decay': 0, 'dataset': 'Breakfast', 'architecture': 'unet-ensemble', 'features_file_name': '/mnt/ssd/all_users/dipika/ms_tcn/data/breakfast/features/', 'chunk_size': 1, 'max_frames_per_video': 1200, 'feature_size': 2048, 'ground_truth_files_dir': '/mnt/ssd/all_users/dipika/ms_tcn/data/breakfast/groundTruth/', 'label_id_csv': '/mnt/ssd/all_users/dipika/ms_tcn/data/breakfast/mapping.csv', 'gamma': 0.1, 'step_size': 500, 'split': 1, 'output_dir': '/mnt/ssd/all_users/dipika/ms_tcn/data/breakfast//results/em-lenassum-mstcn-split1-mask/', 'project_name': 'breakfast-split-1', 'train_split_file': '/mnt/ssd/all_users/dipika/ms_tcn/data/breakfast/splits/train.split1.bundle', 'test_split_file': '/mnt/ssd/all_users/dipika/ms_tcn/data/breakfast/splits/test.split1.bundle', 'all_files': '/mnt/ssd/all_users/dipika/ms_tcn/data/breakfast/splits/all_files.txt', 'cutoff': 8, 'data_per': 0.2, 'budget': 40, 'semi_supervised_split': '/mnt/ssd/all_users/dipika/ms_tcn/data/breakfast/semi_supervised/train.split1_amt0.2.bundle'}\n"
     ]
    }
   ],
   "source": [
    "config = dotdict(\n",
    "    epochs=500,\n",
    "    num_class=48,\n",
    "    batch_size=8,\n",
    "    learning_rate=5e-4,\n",
    "    weight_decay=0,\n",
    "    dataset=\"Breakfast\",\n",
    "    architecture=\"unet-ensemble\",\n",
    "    features_file_name=\"/mnt/ssd/all_users/dipika/ms_tcn/data/breakfast/features/\",\n",
    "    chunk_size=1,\n",
    "    max_frames_per_video=1200,\n",
    "    feature_size=2048,\n",
    "    ground_truth_files_dir=\"/mnt/ssd/all_users/dipika/ms_tcn/data/breakfast/groundTruth/\",\n",
    "    label_id_csv=\"/mnt/ssd/all_users/dipika/ms_tcn/data/breakfast/mapping.csv\",\n",
    "    gamma=0.1,\n",
    "    step_size=500,\n",
    "    split=1,\n",
    "#     output_dir=\"/mnt/data/ar-datasets/dipika/breakfast/ms_tcn/data/breakfast/results/unsuper-finetune-split2-0.05-data-llr/\",\n",
    "    output_dir=\"/mnt/ssd/all_users/dipika/ms_tcn/data/breakfast//results/em-lenassum-mstcn-split1-mask/\",\n",
    "    project_name=\"breakfast-split-1\",\n",
    "    train_split_file=\"/mnt/ssd/all_users/dipika/ms_tcn/data/breakfast/splits/train.split{}.bundle\",\n",
    "    test_split_file=\"/mnt/ssd/all_users/dipika/ms_tcn/data/breakfast/splits/test.split{}.bundle\",\n",
    "    all_files=\"/mnt/ssd/all_users/dipika/ms_tcn/data/breakfast/splits/all_files.txt\",\n",
    "    cutoff=8,\n",
    "    data_per = 0.2,\n",
    "    budget=40,\n",
    "    semi_supervised_split=\"/mnt/ssd/all_users/dipika/ms_tcn/data/breakfast/semi_supervised/train.split{}_amt{}.bundle\")\n",
    "\n",
    "config.train_split_file = config.train_split_file.format(config.split)\n",
    "config.semi_supervised_split = config.semi_supervised_split.format(config.split, config.data_per)\n",
    "config.test_split_file = config.test_split_file.format(config.split)\n",
    "\n",
    "if not os.path.exists(config.output_dir):\n",
    "    os.mkdir(config.output_dir)\n",
    "\n",
    "print(config)"
   ]
  },
  {
   "cell_type": "code",
   "execution_count": 7,
   "metadata": {},
   "outputs": [
    {
     "name": "stdout",
     "output_type": "stream",
     "text": [
      "Number of videos logged in train fold is 1460\n",
      "Number of videos not found in train fold is 0\n",
      "Number of videos logged in test fold is 252\n",
      "Number of videos not found in test fold is 0\n"
     ]
    }
   ],
   "source": [
    "traindataset = Breakfast(config, fold='train', fold_file_name=config.train_split_file)\n",
    "testdataset = Breakfast(config, fold='test', fold_file_name=config.test_split_file)"
   ]
  },
  {
   "cell_type": "code",
   "execution_count": 8,
   "metadata": {},
   "outputs": [],
   "source": [
    "def _init_fn(worker_id):\n",
    "    np.random.seed(int(seed))\n",
    "trainloader = torch.utils.data.DataLoader(dataset=traindataset,\n",
    "                                          batch_size=config.batch_size, \n",
    "                                          shuffle=True,\n",
    "                                          pin_memory=True, num_workers=4, \n",
    "                                          collate_fn=lambda x: collate_fn_override(x, config.max_frames_per_video),\n",
    "                                          worker_init_fn=_init_fn)\n",
    "testloader = torch.utils.data.DataLoader(dataset=testdataset,\n",
    "                                          batch_size=config.batch_size, \n",
    "                                          shuffle=False,\n",
    "                                          pin_memory=True, num_workers=4,\n",
    "                                          collate_fn=lambda x: collate_fn_override(x, config.max_frames_per_video),\n",
    "                                          worker_init_fn=_init_fn)"
   ]
  },
  {
   "cell_type": "code",
   "execution_count": 9,
   "metadata": {},
   "outputs": [],
   "source": [
    "df=pd.read_csv(config.label_id_csv)\n",
    "label_id_to_label_name = {}\n",
    "label_name_to_label_id_dict = {}\n",
    "for i, ele in df.iterrows():\n",
    "    label_id_to_label_name[ele.label_id] = ele.label_name\n",
    "    label_name_to_label_id_dict[ele.label_name] = ele.label_id"
   ]
  },
  {
   "cell_type": "code",
   "execution_count": 10,
   "metadata": {},
   "outputs": [],
   "source": [
    "# item = iter(trainloader).next()\n",
    "# print(item[0]) # -- data feature\n",
    "# print(item[1]) # -- valid count\n",
    "# item[2] # -- Actual labels\n",
    "# print(item[5]) # video names\n",
    "# video_id_boundary_frames"
   ]
  },
  {
   "cell_type": "code",
   "execution_count": 11,
   "metadata": {},
   "outputs": [],
   "source": [
    "# selected_frames_dict = pickle.load(open(\"data/breakfast_len_assum_annotations.pkl\", 'rb'))\n",
    "# loaded_vidid_selected_frames\n",
    "boundary_frames_dict = pickle.load(open(\"data/breakfast_boundary_annotations.pkl\", \"rb\"))\n",
    "# video_id_boundary_frames\n",
    "selected_frames_dict = None"
   ]
  },
  {
   "cell_type": "code",
   "execution_count": 12,
   "metadata": {},
   "outputs": [],
   "source": [
    "loaded_mean_var_actions = pickle.load(open(\"data/breakfast_meanvar_actions.pkl\", \"rb\"))\n",
    "def get_possion_prob(cur_len, cur_class):\n",
    "    mean_class, std_class = loaded_mean_var_actions[label_id_to_label_name[cur_class]]\n",
    "    mean_class = mean_class\n",
    "    prob = cur_len * torch.log(torch.tensor(mean_class, device=device) + 1e-5)\n",
    "    prob = prob - mean_class\n",
    "    factorials = torch.cumsum(torch.log(torch.arange(1, torch.max(cur_len)+1, 1).type(torch.float).to(device)), \n",
    "                              dim=0)[min(cur_len)-1:]\n",
    "    prob = prob - factorials\n",
    "    return prob\n",
    "\n",
    "# get_possion_prob(torch.arange(10, 21), 20)"
   ]
  },
  {
   "cell_type": "code",
   "execution_count": 13,
   "metadata": {},
   "outputs": [],
   "source": [
    "prob_video_each_segment_dict = {}"
   ]
  },
  {
   "cell_type": "code",
   "execution_count": 14,
   "metadata": {},
   "outputs": [],
   "source": [
    "def prob_vals_per_segment(selected_frames, cur_vid_feat, labels):\n",
    "    prob_each_segment = []\n",
    "    \n",
    "    log_probs = torch.log(cur_vid_feat + 1e-8)\n",
    "    cumsum_feat = torch.cumsum(log_probs, dim=0)\n",
    "    cur_boundary = 0\n",
    "    for i, cur_ele in enumerate(selected_frames[:-1]):\n",
    "\n",
    "        next_ele = selected_frames[i + 1]\n",
    "        label_cur_ele = labels[i]\n",
    "        label_next_ele = labels[i + 1]\n",
    "\n",
    "        indices = torch.arange(cur_ele, next_ele).to(cumsum_feat.device)\n",
    "        strt_index = cumsum_feat[cur_ele - 1, :][None, :] if cur_ele > 0 else 0\n",
    "        end_index = cumsum_feat[next_ele - 1, :][None, :]\n",
    "        left_sum = (cumsum_feat[indices, :] - strt_index)[:,label_cur_ele]\n",
    "        right_sum = (end_index - cumsum_feat[indices, :])[:,label_next_ele]\n",
    "\n",
    "        cur_boundary_len = indices - cur_boundary\n",
    "        len_prob = get_possion_prob(cur_boundary_len, label_cur_ele)\n",
    "\n",
    "        prob = torch.softmax((left_sum + right_sum + len_prob), dim=0)\n",
    "#         prob = torch.softmax((left_sum + right_sum), dim=0)\n",
    "\n",
    "        cur_boundary = round(np.sum(np.arange(cur_ele, next_ele, 1) * prob.detach().cpu().numpy()).item())\n",
    "        prob_each_segment.append(prob)\n",
    "    \n",
    "    return prob_each_segment"
   ]
  },
  {
   "cell_type": "code",
   "execution_count": 15,
   "metadata": {},
   "outputs": [],
   "source": [
    "def calculate_element_probb(data_feat, data_count, video_ids): #, loaded_vidid_selected_frames, boundaries_dict):\n",
    "    for iter_num in range(len(data_count)):\n",
    "        cur_vidid = video_ids[iter_num]\n",
    "        cur_vid_feat = data_feat[iter_num]\n",
    "        cur_vid_count = data_count[iter_num]\n",
    "        \n",
    "        selected_frames_indices_and_labels = selected_frames_dict[cur_vidid + \".txt\"]\n",
    "        selected_frames_indices = [ele[0] for ele in selected_frames_indices_and_labels]\n",
    "        selected_frames_labels = [label_name_to_label_id_dict[ele[1]] for ele in selected_frames_indices_and_labels]\n",
    "        prob_video = prob_vals_per_segment(selected_frames_indices, cur_vid_feat, selected_frames_labels)\n",
    "        prob_video_each_segment_dict[cur_vidid] = prob_video"
   ]
  },
  {
   "cell_type": "code",
   "execution_count": 16,
   "metadata": {},
   "outputs": [],
   "source": [
    "def get_estimated_loss(data_feat, data_count, video_ids): #, loaded_vidid_selected_frames, boundaries_dict):\n",
    "#     global prob_video_each_segment_dict, loaded_vidid_selected_frames\n",
    "    loss_arr = []\n",
    "    for iter_num in range(len(data_count)):\n",
    "        cur_vidid = video_ids[iter_num]\n",
    "        cur_vid_feat = data_feat[iter_num]\n",
    "        cur_vid_count = data_count[iter_num]\n",
    "        \n",
    "        selected_frames_indices_and_labels = selected_frames_dict[cur_vidid + \".txt\"]\n",
    "        selected_frames_indices = [ele[0] for ele in selected_frames_indices_and_labels]\n",
    "        selected_frames_labels = [label_name_to_label_id_dict[ele[1]] for ele in selected_frames_indices_and_labels]\n",
    "\n",
    "        prob_each_video = prob_video_each_segment_dict[cur_vidid]\n",
    "        \n",
    "        log_probs = torch.log(cur_vid_feat + 1e-8)\n",
    "        cumsum_feat = torch.cumsum(log_probs, dim=0)\n",
    "        \n",
    "        \n",
    "        current_vid_prob_arr = []\n",
    "        # Start segment log probability\n",
    "        start_ele_idx = selected_frames_indices[0]\n",
    "        if start_ele_idx > 0:\n",
    "            start_ele_label_idx = selected_frames_labels[0]\n",
    "            first_segment_prob = (cumsum_feat[start_ele_idx - 1, :])[start_ele_label_idx]\n",
    "            current_vid_prob_arr.append(first_segment_prob.unsqueeze(0))\n",
    "        \n",
    "        for i, cur_ele in enumerate(selected_frames_indices[:-1]):\n",
    "            next_ele = selected_frames_indices[i + 1]\n",
    "            label_cur_ele = selected_frames_labels[i]\n",
    "            label_next_ele = selected_frames_labels[i + 1]\n",
    "\n",
    "            indices = torch.arange(cur_ele, next_ele)\n",
    "            strt_index = cumsum_feat[cur_ele - 1, :][None, :] if cur_ele > 0 else 0\n",
    "            end_index = cumsum_feat[next_ele - 1, :][None, :]\n",
    "            left_sum = (cumsum_feat[indices, :] - strt_index)[:,label_cur_ele]\n",
    "            right_sum = (end_index - cumsum_feat[indices, :])[:,label_next_ele]\n",
    "            current_vid_prob_arr.append((left_sum + right_sum)  * (prob_each_video[i]))\n",
    "        \n",
    "        # End segment log probability\n",
    "        end_index = cur_vid_count.item() - 1\n",
    "        last_ele_label_idx = selected_frames_labels[-1]\n",
    "        last_segment_sum_prob = (cumsum_feat[end_index, :] - cumsum_feat[selected_frames_indices[-1] - 1, \\\n",
    "                                                                         :])[last_ele_label_idx]\n",
    "        current_vid_prob_arr.append(last_segment_sum_prob.unsqueeze(0))\n",
    "            \n",
    "        loss_arr.append(torch.cat(current_vid_prob_arr))\n",
    "    return -torch.mean(torch.cat(loss_arr)), loss_arr"
   ]
  },
  {
   "cell_type": "code",
   "execution_count": 17,
   "metadata": {},
   "outputs": [],
   "source": [
    "train_split_file_list = set(open(config.train_split_file).read().split(\"\\n\")[0:-1])\n",
    "\n",
    "def get_estimated_boundaries():\n",
    "    estimated_boundary_dict = {}\n",
    "    for video_id in train_split_file_list:\n",
    "        ele = video_id.split(\".txt\")[0]\n",
    "        estimated_boundary_probs = prob_video_each_segment_dict[ele]\n",
    "        \n",
    "        selected_frames_indices_and_labels = selected_frames_dict[video_id]\n",
    "        selected_frames_indices = [ele[0] for ele in selected_frames_indices_and_labels]\n",
    "        \n",
    "        boundary_list = []\n",
    "        for i, segment in enumerate(estimated_boundary_probs):\n",
    "            estimated_boundary = np.sum(np.arange(selected_frames_indices[i], selected_frames_indices[i + 1], 1) \\\n",
    "                                        * segment.detach().cpu().numpy())\n",
    "            estimated_boundary = round(estimated_boundary.item())\n",
    "            \n",
    "            if (estimated_boundary < selected_frames_indices[i]) or (estimated_boundary > selected_frames_indices[i + 1]):\n",
    "                print(\"Estimated value wrong\")\n",
    "                import pdb\n",
    "                pdb.set_trace()\n",
    "            boundary_list.append(estimated_boundary)\n",
    "\n",
    "        estimated_boundary_dict[ele] = boundary_list\n",
    "    return estimated_boundary_dict"
   ]
  },
  {
   "cell_type": "code",
   "execution_count": 18,
   "metadata": {},
   "outputs": [],
   "source": [
    "def get_boundary_err():\n",
    "    err_list = []\n",
    "    correct = 0.0\n",
    "    total = 0.0\n",
    "    estimated_boundar_dict = get_estimated_boundaries()\n",
    "    for video_id in train_split_file_list:\n",
    "        ele = video_id.split(\".txt\")[0]\n",
    "        estimated_boundary_probs = prob_video_each_segment_dict[ele]\n",
    "        estimated_boundary_list = estimated_boundar_dict[ele]\n",
    "        \n",
    "        estimated = np.array(estimated_boundary_list) #.detach().cpu().numpy()\n",
    "        actual = np.array(boundary_frames_dict[video_id][:-1])\n",
    "        if len(actual) != len(estimated):\n",
    "            print(ele)\n",
    "            continue\n",
    "        \n",
    "        mse_err = (actual - estimated)**2\n",
    "        err_list.append(mse_err)\n",
    "        \n",
    "        estimated_labels = []\n",
    "        actual_labels = []\n",
    "        start_v1 = 0\n",
    "        start_v2 = 0\n",
    "        for i, v1 in enumerate(estimated):\n",
    "            estimated_labels.extend([i] * (v1 - start_v1))\n",
    "            start_v1 = v1\n",
    "            v2 = actual[i]\n",
    "            actual_labels.extend([i] * (v2 - start_v2))\n",
    "            start_v2 = v2\n",
    "            \n",
    "        last_ele = boundary_frames_dict[video_id][-1]\n",
    "        estimated_labels.extend([i+1] * (last_ele - start_v1))\n",
    "        actual_labels.extend([i+1] * (last_ele - start_v2))\n",
    "        \n",
    "        correct += np.sum(np.array(actual_labels) == np.array(estimated_labels))\n",
    "        total += len(actual_labels)\n",
    "        \n",
    "    print(f\"Train Boundary avergage error = {np.sqrt(np.mean(np.concatenate(err_list))):.3f}\")\n",
    "    print(f\"Train From boundary avergage accuracy = {correct * 100.0 / total:.3f}\")"
   ]
  },
  {
   "cell_type": "code",
   "execution_count": 19,
   "metadata": {},
   "outputs": [],
   "source": [
    "set_seed()\n",
    "model = MultiStageModel(num_stages=4, num_layers=10, num_f_maps=64, dim=2048, num_classes=48).to(device)\n",
    "optimizer = torch.optim.Adam(model.parameters(), lr=5e-4)\n",
    "\n",
    "# Requires loaded_vidid_selected_frames, boundaries_dict\n",
    "ce_criterion = nn.CrossEntropyLoss(ignore_index=-100)\n",
    "mse_criterion = nn.MSELoss(reduction='none')"
   ]
  },
  {
   "cell_type": "code",
   "execution_count": 20,
   "metadata": {},
   "outputs": [
    {
     "data": {
      "text/plain": [
       "<All keys matched successfully>"
      ]
     },
     "execution_count": 20,
     "metadata": {},
     "output_type": "execute_result"
    }
   ],
   "source": [
    "loaded_file=torch.load(\"/mnt/ssd/all_users/dipika/ms_tcn/data/breakfast//results/em-lenassum-mstcn-split1-slup15/ms-tcn-initial-25-epochs.wt\")\n",
    "model.load_state_dict(loaded_file)"
   ]
  },
  {
   "cell_type": "code",
   "execution_count": 21,
   "metadata": {},
   "outputs": [],
   "source": [
    "pseudo_labels_dir = \"/mnt/ssd/all_users/dipika/ms_tcn/data/breakfast/length_segmentation_output/\"\n",
    "def get_single_random(output_p, video_ids):\n",
    "    # Generate target for only timestamps. Do not generate pseudo labels at first 30 epochs.\n",
    "    boundary_target_tensor = torch.ones((output_p.shape[0], output_p.shape[2]), dtype=torch.long, \n",
    "                                        device=output_p.device) * (-100)\n",
    "    for iter_num, cur_vidid in enumerate(video_ids):\n",
    "        pseudo_l = open(pseudo_labels_dir + cur_vidid + \".txt\").read().split(\"\\n\")[0:-1]\n",
    "        pseudo_l = [label_name_to_label_id_dict[ele] for ele in pseudo_l]\n",
    "        abc = torch.tensor(pseudo_l).to(torch.long).to(boundary_target_tensor.device)\n",
    "        frame_idx_tensor = torch.arange(0, len(pseudo_l), 1).to(device)\n",
    "        boundary_target_tensor[iter_num, frame_idx_tensor] = abc\n",
    "\n",
    "    return boundary_target_tensor"
   ]
  },
  {
   "cell_type": "code",
   "execution_count": 22,
   "metadata": {},
   "outputs": [],
   "source": [
    "weakly_labels = pickle.load(open(\"data/breakfast_weaklysupervised_labels.pkl\", \"rb\"))"
   ]
  },
  {
   "cell_type": "code",
   "execution_count": 23,
   "metadata": {},
   "outputs": [],
   "source": [
    "prior_probs = pickle.load(open('data/breakfast_lengthmodel_multinomial_prior.pkl', 'rb'))"
   ]
  },
  {
   "cell_type": "code",
   "execution_count": 24,
   "metadata": {},
   "outputs": [],
   "source": [
    "def get_boundary(labels_arr):\n",
    "    unique_ids = []\n",
    "\n",
    "    prev_ele = None\n",
    "    start = 0\n",
    "    for i, ele in enumerate(labels_arr):\n",
    "        if prev_ele is not None and prev_ele != ele:\n",
    "            unique_ids.append(i - 1)\n",
    "            start = i\n",
    "        prev_ele = ele\n",
    "\n",
    "    unique_ids.append(len(labels_arr) - 1)\n",
    "    return unique_ids\n",
    "\n",
    "def get_boundary_from_pseudo_data(psuedo_dir):\n",
    "    boundary_dict = {}\n",
    "    for filename in glob.glob(psuedo_dir + \"/*.txt\"):\n",
    "        video_id = filename.split(\"/\")[-1]\n",
    "        data = open(filename).read().split(\"\\n\")[0:-1]\n",
    "        data = np.array(data)\n",
    "        boundary = get_boundary(data)\n",
    "        boundary_dict[video_id.split(\".txt\")[0]] = boundary\n",
    "    return boundary_dict\n"
   ]
  },
  {
   "cell_type": "code",
   "execution_count": 31,
   "metadata": {},
   "outputs": [],
   "source": [
    "import copy\n",
    "def change_selected_frames(model):\n",
    "    global selected_frames_dict\n",
    "    new_selected_frame_dict = {}\n",
    "    if selected_frames_dict is None:\n",
    "        estimated_boundary_dict = get_boundary_from_pseudo_data(pseudo_labels_dir)\n",
    "    else:\n",
    "        estimated_boundary_dict = get_estimated_boundaries()\n",
    "    with torch.no_grad():\n",
    "        for train_idx, item in enumerate(trainloader):\n",
    "            item_0 = item[0].to(device)\n",
    "            item_1 = item[1].to(device)\n",
    "            item_2 = item[2].to(device)\n",
    "            src_mask = torch.arange(item_2.shape[1], device=item_2.device)[None, :] < item_1[:, None]\n",
    "            src_mask_mse = src_mask.unsqueeze(1).to(torch.float32).to(device)\n",
    "            if train_idx % 10 == 0:\n",
    "                print(f\"Completed {train_idx} videos selected frames calculation\")\n",
    "            middle_pred, predictions = model(item_0, src_mask_mse)\n",
    "\n",
    "            for idx, video_id in enumerate(item[4]):\n",
    "                start = 0\n",
    "                new_index_label_pair_list = []\n",
    "                weakly_labels_video = [label_name_to_label_id_dict[wl] for wl in weakly_labels[video_id + \".txt\"]]\n",
    "                cur_video_predictions = predictions[-1][idx][:, :item_1[idx]]\n",
    "                cur_preds_for_weakly_labels = torch.softmax(cur_video_predictions[weakly_labels_video], dim=0)\n",
    "                \n",
    "                estimated_boundary = estimated_boundary_dict[video_id]\n",
    "                estimated_boundary.append(item[1][idx].item())\n",
    "                start_mark = 0\n",
    "                for i, prob_class in enumerate(cur_preds_for_weakly_labels):\n",
    "                    expected_value_of_class = torch.argmax(prob_class[start_mark: estimated_boundary[i] + 1]).item() \\\n",
    "                                                + start_mark\n",
    "\n",
    "                    if i > 0 and expected_value_of_class <= new_index_label_pair_list[-1][0]:\n",
    "                        print(f\"start_mark = {start_mark}, Boundary End = {estimated_boundary[i] + 1}\"+\n",
    "                             f\"Expected argmax = {expected_value_of_class}\")\n",
    "                        print(new_index_label_pair_list)\n",
    "                        print(i)\n",
    "                        print(estimated_boundary)\n",
    "                        import pdb\n",
    "                        pdb.set_trace()\n",
    "                    new_index_label_pair_list.append((expected_value_of_class,\n",
    "                                                      label_id_to_label_name[weakly_labels_video[i]]))\n",
    "                    start_mark = expected_value_of_class + 1\n",
    "\n",
    "                    \n",
    "#                 final_list = new_index_label_pair_list\n",
    "#                 is_valid_list = True\n",
    "#                 for i in range(1, len(final_list) - 1, 1):\n",
    "#                     cur_ele = final_list[i]\n",
    "                    \n",
    "#                     if not (final_list[i - 1][0] < cur_ele[0] and cur_ele[0] < final_list[i + 1][0]):\n",
    "#                         is_valid_list  = False\n",
    "\n",
    "#                 if is_valid_list == False:\n",
    "#                     print(f\"Could not find expected solution for video {video_id}\")\n",
    "#                     print(final_list)\n",
    "#                     import pdb\n",
    "#                     pdb.set_trace()\n",
    "                \n",
    "                new_selected_frame_dict[video_id + \".txt\"] = new_index_label_pair_list\n",
    "                \n",
    "        return new_selected_frame_dict"
   ]
  },
  {
   "cell_type": "code",
   "execution_count": 32,
   "metadata": {},
   "outputs": [],
   "source": [
    "def get_new_selected_frame_acc(selected_frame_dict):\n",
    "    correct = 0.0\n",
    "    total = 0.0\n",
    "\n",
    "    for video_id in selected_frame_dict.keys():\n",
    "        ground_labels = open(config.ground_truth_files_dir + video_id).read().split(\"\\n\")[0:-1]\n",
    "        ground_labels = np.array(ground_labels)\n",
    "\n",
    "        selected_frames_index = [ele[0] for ele in selected_frame_dict[video_id]]\n",
    "        selected_frames_labels = np.array([ele[1] for ele in selected_frame_dict[video_id]])\n",
    "\n",
    "        ground_selected_labels = ground_labels[selected_frames_index]\n",
    "\n",
    "        correct += np.sum(ground_selected_labels == selected_frames_labels)\n",
    "        total += len(ground_selected_labels)\n",
    "\n",
    "    print(\"Total correct pivots labels selected = \", correct * 100.0 / total)\n"
   ]
  },
  {
   "cell_type": "code",
   "execution_count": 33,
   "metadata": {
    "scrolled": false
   },
   "outputs": [
    {
     "name": "stdout",
     "output_type": "stream",
     "text": [
      "Completed 0 videos selected frames calculation\n",
      "Completed 10 videos selected frames calculation\n",
      "Completed 20 videos selected frames calculation\n",
      "Completed 30 videos selected frames calculation\n",
      "Completed 40 videos selected frames calculation\n",
      "Completed 50 videos selected frames calculation\n",
      "Completed 60 videos selected frames calculation\n",
      "Completed 70 videos selected frames calculation\n",
      "Completed 80 videos selected frames calculation\n",
      "Completed 90 videos selected frames calculation\n",
      "Completed 100 videos selected frames calculation\n",
      "Completed 110 videos selected frames calculation\n",
      "Completed 120 videos selected frames calculation\n",
      "Completed 130 videos selected frames calculation\n",
      "Completed 140 videos selected frames calculation\n",
      "Completed 150 videos selected frames calculation\n",
      "Completed 160 videos selected frames calculation\n",
      "Completed 170 videos selected frames calculation\n",
      "Completed 180 videos selected frames calculation\n",
      "Total correct pivots labels selected =  61.60849772382397\n"
     ]
    }
   ],
   "source": [
    "# selected_frames_dict = None\n",
    "selected_frames_dict = change_selected_frames(model)\n",
    "get_new_selected_frame_acc(selected_frames_dict)"
   ]
  },
  {
   "cell_type": "code",
   "execution_count": 34,
   "metadata": {},
   "outputs": [
    {
     "name": "stdout",
     "output_type": "stream",
     "text": [
      "Calculating Expectation\n",
      "Completed iter 0\n",
      "Completed iter 10\n",
      "Completed iter 20\n",
      "Completed iter 30\n",
      "Completed iter 40\n",
      "Completed iter 50\n",
      "Completed iter 60\n",
      "Completed iter 70\n",
      "Completed iter 80\n",
      "Completed iter 90\n",
      "Completed iter 100\n",
      "Completed iter 110\n",
      "Completed iter 120\n",
      "Completed iter 130\n",
      "Completed iter 140\n",
      "Completed iter 150\n",
      "Completed iter 160\n",
      "Completed iter 170\n",
      "Completed iter 180\n",
      "Train Boundary avergage error = 322.838\n",
      "Train From boundary avergage accuracy = 59.585\n"
     ]
    }
   ],
   "source": [
    "# Initialize Expection Boundaries\n",
    "print(\"Calculating Expectation\")\n",
    "correct = 0.0\n",
    "total = 0.0\n",
    "model.eval()\n",
    "for i, item in enumerate(trainloader):\n",
    "    with torch.no_grad():\n",
    "        item_0 = item[0].to(device)\n",
    "        item_1 = item[1].to(device)\n",
    "        item_2 = item[2].to(device)\n",
    "        src_mask = torch.arange(item_2.shape[1], device=item_2.device)[None, :] < item_1[:, None]\n",
    "        src_mask_mse = src_mask.unsqueeze(1).to(torch.float32).to(device)\n",
    "\n",
    "        middle_pred, predictions = model(item_0, src_mask_mse)\n",
    "        prob = torch.softmax(predictions[-1], dim=1)\n",
    "        prob = prob.permute(0, 2, 1)\n",
    "        calculate_element_probb(prob, item_1, item[4])\n",
    "\n",
    "        if i % 10 == 0:\n",
    "            print(f\"Completed iter {i}\")\n",
    "\n",
    "get_boundary_err()"
   ]
  },
  {
   "cell_type": "code",
   "execution_count": 35,
   "metadata": {},
   "outputs": [
    {
     "data": {
      "text/plain": [
       "'/mnt/ssd/all_users/dipika/ms_tcn/data/breakfast//results/em-lenassum-mstcn-split1-mask/'"
      ]
     },
     "execution_count": 35,
     "metadata": {},
     "output_type": "execute_result"
    }
   ],
   "source": [
    "config.output_dir"
   ]
  },
  {
   "cell_type": "code",
   "execution_count": null,
   "metadata": {},
   "outputs": [
    {
     "name": "stdout",
     "output_type": "stream",
     "text": [
      "Starting Training\n",
      "Training:: Epoch 51, Iteration 0, Current loss 0.2037858103562408 Accuracy 70.46898323324191\n",
      "Training:: Epoch 51, Iteration 10, Current loss 0.2707902718869929 Accuracy 69.36304856238823\n",
      "Training:: Epoch 51, Iteration 20, Current loss 0.23164370393474776 Accuracy 66.29654847326245\n",
      "Training:: Epoch 51, Iteration 30, Current loss 0.1951396876877471 Accuracy 70.1696698671577\n",
      "Training:: Epoch 51, Iteration 40, Current loss 0.19164065124915455 Accuracy 72.44441930191775\n",
      "Training:: Epoch 51, Iteration 50, Current loss 0.18890983302525474 Accuracy 62.873314962389216\n",
      "Training:: Epoch 51, Iteration 60, Current loss 0.20868513870220298 Accuracy 58.804920913884004\n",
      "Training:: Epoch 51, Iteration 70, Current loss 0.18537585875234508 Accuracy 68.95187513548667\n",
      "Training:: Epoch 51, Iteration 80, Current loss 0.19734552736002522 Accuracy 68.6042167066987\n",
      "Training:: Epoch 51, Iteration 90, Current loss 0.20327750016208337 Accuracy 58.57477872758908\n",
      "Training:: Epoch 51, Iteration 100, Current loss 0.19112978227212066 Accuracy 61.07382550335571\n",
      "Training:: Epoch 51, Iteration 110, Current loss 0.1818406087989114 Accuracy 68.91975308641975\n",
      "Training:: Epoch 51, Iteration 120, Current loss 0.21617694318495484 Accuracy 65.78712905215544\n",
      "Training:: Epoch 51, Iteration 130, Current loss 0.20819037652574912 Accuracy 60.46353762606672\n",
      "Training:: Epoch 51, Iteration 140, Current loss 0.19654814143386573 Accuracy 65.32770848618244\n",
      "Training:: Epoch 51, Iteration 150, Current loss 0.21855943311480674 Accuracy 55.87178298168328\n",
      "Training:: Epoch 51, Iteration 160, Current loss 0.20891085662525785 Accuracy 60.84599910594546\n",
      "Training:: Epoch 51, Iteration 170, Current loss 0.2173760994448444 Accuracy 70.48600430636728\n",
      "Training:: Epoch 51, Iteration 180, Current loss 0.1897740710367729 Accuracy 64.53933844141282\n",
      "Calculating Validation Data Accuracy\n",
      "Validation:: Epoch 51, Probability Accuracy 56.71122349244789\n",
      "Starting Training\n",
      "Training:: Epoch 52, Iteration 0, Current loss 0.1928621479726966 Accuracy 57.0262229294956\n",
      "Training:: Epoch 52, Iteration 10, Current loss 0.23725517828357026 Accuracy 61.80855619136595\n",
      "Training:: Epoch 52, Iteration 20, Current loss 0.1791585034357743 Accuracy 65.08788598574822\n",
      "Training:: Epoch 52, Iteration 30, Current loss 0.2749412518432854 Accuracy 63.57753297436151\n",
      "Training:: Epoch 52, Iteration 40, Current loss 0.18648665121465532 Accuracy 68.83913193248364\n",
      "Training:: Epoch 52, Iteration 50, Current loss 0.23552096833783587 Accuracy 58.61134278565471\n",
      "Training:: Epoch 52, Iteration 60, Current loss 0.21817055381215383 Accuracy 63.97735314932767\n",
      "Training:: Epoch 52, Iteration 70, Current loss 0.1864013027130751 Accuracy 69.79301423027167\n",
      "Training:: Epoch 52, Iteration 80, Current loss 0.1838900132434303 Accuracy 64.78207005293389\n",
      "Training:: Epoch 52, Iteration 90, Current loss 0.1989632379975645 Accuracy 59.71322849213691\n",
      "Training:: Epoch 52, Iteration 100, Current loss 0.21827618622943631 Accuracy 69.29555895865238\n",
      "Training:: Epoch 52, Iteration 110, Current loss 0.23956341259201486 Accuracy 58.8124410933082\n",
      "Training:: Epoch 52, Iteration 120, Current loss 0.22807929822180917 Accuracy 70.41362096630415\n",
      "Training:: Epoch 52, Iteration 130, Current loss 0.22894605861388898 Accuracy 66.10135773611181\n",
      "Training:: Epoch 52, Iteration 140, Current loss 0.195049157034538 Accuracy 70.71828109739856\n",
      "Training:: Epoch 52, Iteration 150, Current loss 0.18520326994854822 Accuracy 66.2751677852349\n",
      "Training:: Epoch 52, Iteration 160, Current loss 0.27574413220533894 Accuracy 60.74596039363382\n",
      "Training:: Epoch 52, Iteration 170, Current loss 0.14108181766051703 Accuracy 66.02931073963819\n",
      "Training:: Epoch 52, Iteration 180, Current loss 0.19138234975182572 Accuracy 63.434427200568656\n",
      "Calculating Validation Data Accuracy\n",
      "Validation:: Epoch 52, Probability Accuracy 56.552544210580464\n",
      "Starting Training\n",
      "Training:: Epoch 53, Iteration 0, Current loss 0.20921060558204296 Accuracy 56.26415293064406\n",
      "Training:: Epoch 53, Iteration 10, Current loss 0.2177749130146227 Accuracy 62.06778500513523\n",
      "Training:: Epoch 53, Iteration 20, Current loss 0.18811116255151156 Accuracy 64.98661909009813\n",
      "Training:: Epoch 53, Iteration 30, Current loss 0.21401688194278132 Accuracy 70.60327792630478\n",
      "Training:: Epoch 53, Iteration 40, Current loss 0.18345829807088151 Accuracy 63.08014280438262\n",
      "Training:: Epoch 53, Iteration 50, Current loss 0.16711633511491666 Accuracy 63.540753724802805\n",
      "Training:: Epoch 53, Iteration 60, Current loss 0.1672561858927576 Accuracy 61.71592279855247\n",
      "Training:: Epoch 53, Iteration 70, Current loss 0.1695125588802936 Accuracy 72.32563911640605\n",
      "Training:: Epoch 53, Iteration 80, Current loss 0.18082507553206967 Accuracy 67.76353686635944\n",
      "Training:: Epoch 53, Iteration 90, Current loss 0.13293392064258822 Accuracy 64.80038948393378\n",
      "Training:: Epoch 53, Iteration 100, Current loss 0.1569345947326945 Accuracy 69.94608267323437\n",
      "Training:: Epoch 53, Iteration 110, Current loss 0.18516998528808368 Accuracy 66.83657465495608\n",
      "Training:: Epoch 53, Iteration 120, Current loss 0.2555949809106656 Accuracy 50.16383370878558\n",
      "Training:: Epoch 53, Iteration 130, Current loss 0.1735610120115629 Accuracy 54.851243339254\n",
      "Training:: Epoch 53, Iteration 140, Current loss 0.1554720020200559 Accuracy 69.71379559407728\n",
      "Training:: Epoch 53, Iteration 150, Current loss 0.21851681799823827 Accuracy 60.38382453735435\n",
      "Training:: Epoch 53, Iteration 160, Current loss 0.17400936977308853 Accuracy 60.51402869993575\n",
      "Training:: Epoch 53, Iteration 170, Current loss 0.25777294981394766 Accuracy 54.038319823139275\n",
      "Training:: Epoch 53, Iteration 180, Current loss 0.2069333549506753 Accuracy 66.85095425628597\n",
      "Calculating Validation Data Accuracy\n",
      "Validation:: Epoch 53, Probability Accuracy 56.25734534705652\n",
      "Starting Training\n",
      "Training:: Epoch 54, Iteration 0, Current loss 0.16057450661312486 Accuracy 73.85296628254375\n",
      "Training:: Epoch 54, Iteration 10, Current loss 0.15123274062289538 Accuracy 64.82184482184482\n",
      "Training:: Epoch 54, Iteration 20, Current loss 0.1441842056131956 Accuracy 76.81217006300733\n",
      "Training:: Epoch 54, Iteration 30, Current loss 0.17115803483817307 Accuracy 65.8276311502118\n",
      "Training:: Epoch 54, Iteration 40, Current loss 0.2343079352006631 Accuracy 63.35340340851107\n",
      "Training:: Epoch 54, Iteration 50, Current loss 0.194858901561548 Accuracy 69.90302470561072\n",
      "Training:: Epoch 54, Iteration 60, Current loss 0.22017981761481292 Accuracy 62.63378315495579\n",
      "Training:: Epoch 54, Iteration 70, Current loss 0.21595119709712388 Accuracy 58.383233532934135\n",
      "Training:: Epoch 54, Iteration 80, Current loss 0.1866976572979788 Accuracy 64.3303804064617\n",
      "Training:: Epoch 54, Iteration 90, Current loss 0.18575032454315582 Accuracy 62.03913217090377\n",
      "Training:: Epoch 54, Iteration 100, Current loss 0.2010917078745186 Accuracy 61.21200157915515\n",
      "Training:: Epoch 54, Iteration 110, Current loss 0.19912220269592282 Accuracy 55.62471706654595\n",
      "Training:: Epoch 54, Iteration 120, Current loss 0.18387853662758413 Accuracy 51.53014138580235\n",
      "Training:: Epoch 54, Iteration 130, Current loss 0.22099481158350665 Accuracy 68.94728278555158\n",
      "Training:: Epoch 54, Iteration 140, Current loss 0.150889032452185 Accuracy 64.07657657657657\n",
      "Training:: Epoch 54, Iteration 150, Current loss 0.17288837754054945 Accuracy 67.9865026482146\n",
      "Training:: Epoch 54, Iteration 160, Current loss 0.22840638463024132 Accuracy 59.40301183219792\n",
      "Training:: Epoch 54, Iteration 170, Current loss 0.2036369331019835 Accuracy 64.40302853814794\n",
      "Training:: Epoch 54, Iteration 180, Current loss 0.17999322356651648 Accuracy 60.261851015801355\n",
      "Calculating Validation Data Accuracy\n",
      "Validation:: Epoch 54, Probability Accuracy 56.6031949539197\n",
      "Starting Training\n",
      "Training:: Epoch 55, Iteration 0, Current loss 0.16388254995770138 Accuracy 72.35346889952153\n",
      "Training:: Epoch 55, Iteration 10, Current loss 0.1998552606225983 Accuracy 61.25354442344045\n",
      "Training:: Epoch 55, Iteration 20, Current loss 0.1852509365719259 Accuracy 66.77128034330366\n",
      "Training:: Epoch 55, Iteration 30, Current loss 0.19051685491011758 Accuracy 68.26220996268052\n",
      "Training:: Epoch 55, Iteration 40, Current loss 0.1816011504417008 Accuracy 55.74458683163942\n",
      "Training:: Epoch 55, Iteration 50, Current loss 0.1845604480765894 Accuracy 60.73519329149306\n"
     ]
    },
    {
     "name": "stdout",
     "output_type": "stream",
     "text": [
      "Training:: Epoch 55, Iteration 60, Current loss 0.18865869692143064 Accuracy 53.58575395601005\n",
      "Training:: Epoch 55, Iteration 70, Current loss 0.14636221758513226 Accuracy 68.15308785155118\n",
      "Training:: Epoch 55, Iteration 80, Current loss 0.16430312670408848 Accuracy 52.35964441262455\n",
      "Training:: Epoch 55, Iteration 90, Current loss 0.13929604275940705 Accuracy 63.81178812341037\n",
      "Training:: Epoch 55, Iteration 100, Current loss 0.17687271789618772 Accuracy 61.642129934812864\n",
      "Training:: Epoch 55, Iteration 110, Current loss 0.20668940555851947 Accuracy 64.58513864818025\n",
      "Training:: Epoch 55, Iteration 120, Current loss 0.23406303198827952 Accuracy 55.45247680728164\n",
      "Training:: Epoch 55, Iteration 130, Current loss 0.17489265909647214 Accuracy 53.386744355426075\n",
      "Training:: Epoch 55, Iteration 140, Current loss 0.15626137409442997 Accuracy 71.54190105293523\n",
      "Training:: Epoch 55, Iteration 150, Current loss 0.16736892980007548 Accuracy 60.49035883028987\n",
      "Training:: Epoch 55, Iteration 160, Current loss 0.19047334800006807 Accuracy 57.68685795253277\n",
      "Training:: Epoch 55, Iteration 170, Current loss 0.255500883347176 Accuracy 57.49597682652076\n",
      "Training:: Epoch 55, Iteration 180, Current loss 0.17144938203568577 Accuracy 73.73839833646092\n",
      "Calculating Validation Data Accuracy\n",
      "Validation:: Epoch 55, Probability Accuracy 56.49457285199299\n",
      "Calculating Expectation\n",
      "Epoch 55 iter 0\n",
      "Epoch 55 iter 10\n",
      "Epoch 55 iter 20\n",
      "Epoch 55 iter 30\n",
      "Epoch 55 iter 40\n",
      "Epoch 55 iter 50\n",
      "Epoch 55 iter 60\n",
      "Epoch 55 iter 70\n",
      "Epoch 55 iter 80\n",
      "Epoch 55 iter 90\n",
      "Epoch 55 iter 100\n",
      "Epoch 55 iter 110\n",
      "Epoch 55 iter 120\n",
      "Epoch 55 iter 130\n",
      "Epoch 55 iter 140\n",
      "Epoch 55 iter 150\n",
      "Epoch 55 iter 160\n",
      "Epoch 55 iter 170\n",
      "Epoch 55 iter 180\n",
      "Train Boundary avergage error = 322.894\n",
      "Train From boundary avergage accuracy = 59.587\n",
      "Starting Training\n",
      "Training:: Epoch 56, Iteration 0, Current loss 0.15763862787905839 Accuracy 65.70743405275779\n",
      "Training:: Epoch 56, Iteration 10, Current loss 0.15072203128244976 Accuracy 67.33997665858695\n",
      "Training:: Epoch 56, Iteration 20, Current loss 0.217053981192386 Accuracy 66.58283303585915\n",
      "Training:: Epoch 56, Iteration 30, Current loss 0.1420429492916133 Accuracy 63.685602720745685\n",
      "Training:: Epoch 56, Iteration 40, Current loss 0.16698156477628112 Accuracy 72.38115879208208\n",
      "Training:: Epoch 56, Iteration 50, Current loss 0.15143114451570136 Accuracy 72.32061347452985\n",
      "Training:: Epoch 56, Iteration 60, Current loss 0.22978054608550305 Accuracy 61.118991331757286\n",
      "Training:: Epoch 56, Iteration 70, Current loss 0.20770014453829314 Accuracy 64.50783259293898\n",
      "Training:: Epoch 56, Iteration 80, Current loss 0.1695490867597513 Accuracy 55.74066213921901\n",
      "Training:: Epoch 56, Iteration 90, Current loss 0.1274521026890072 Accuracy 72.42202815897345\n",
      "Training:: Epoch 56, Iteration 100, Current loss 0.19060287011215649 Accuracy 65.27069072806472\n",
      "Training:: Epoch 56, Iteration 110, Current loss 0.15696553359323254 Accuracy 51.72957986777565\n",
      "Training:: Epoch 56, Iteration 120, Current loss 0.20737659415413615 Accuracy 54.603960396039604\n",
      "Training:: Epoch 56, Iteration 130, Current loss 0.17768840321811147 Accuracy 49.65597160860433\n",
      "Training:: Epoch 56, Iteration 140, Current loss 0.23574418095937877 Accuracy 62.002361673414306\n",
      "Training:: Epoch 56, Iteration 150, Current loss 0.1676129006994609 Accuracy 65.98662663755458\n",
      "Training:: Epoch 56, Iteration 160, Current loss 0.16060196138173963 Accuracy 70.05868398052192\n",
      "Training:: Epoch 56, Iteration 170, Current loss 0.19194148627733673 Accuracy 70.53148570426241\n",
      "Training:: Epoch 56, Iteration 180, Current loss 0.14558907980956126 Accuracy 61.848819707037705\n",
      "Calculating Validation Data Accuracy\n",
      "Validation:: Epoch 56, Probability Accuracy 56.00013454103699\n",
      "Starting Training\n",
      "Training:: Epoch 57, Iteration 0, Current loss 0.17135432398551673 Accuracy 63.72564063219273\n",
      "Training:: Epoch 57, Iteration 10, Current loss 0.1725814706877753 Accuracy 69.53107129241327\n",
      "Training:: Epoch 57, Iteration 20, Current loss 0.15834282339548048 Accuracy 71.75772895197356\n",
      "Training:: Epoch 57, Iteration 30, Current loss 0.15156467915095698 Accuracy 71.73806378561993\n",
      "Training:: Epoch 57, Iteration 40, Current loss 0.22859083122401547 Accuracy 52.27529800748282\n",
      "Training:: Epoch 57, Iteration 50, Current loss 0.17924921876102037 Accuracy 68.44032218696607\n",
      "Training:: Epoch 57, Iteration 60, Current loss 0.15309222061411176 Accuracy 61.797695782368166\n",
      "Training:: Epoch 57, Iteration 70, Current loss 0.19441822815065501 Accuracy 53.593999583304395\n",
      "Training:: Epoch 57, Iteration 80, Current loss 0.16688411390053945 Accuracy 73.6750514159152\n",
      "Training:: Epoch 57, Iteration 90, Current loss 0.17074248869588382 Accuracy 66.0778473862586\n",
      "Training:: Epoch 57, Iteration 100, Current loss 0.1865390987468613 Accuracy 67.14560615779345\n",
      "Training:: Epoch 57, Iteration 110, Current loss 0.15116166139971673 Accuracy 67.42189517170152\n",
      "Training:: Epoch 57, Iteration 120, Current loss 0.14488267040782052 Accuracy 68.94961317198968\n",
      "Training:: Epoch 57, Iteration 130, Current loss 0.2142273545595813 Accuracy 60.566931872527284\n",
      "Training:: Epoch 57, Iteration 140, Current loss 0.16808437360779577 Accuracy 65.189007709525\n",
      "Training:: Epoch 57, Iteration 150, Current loss 0.2088936848381126 Accuracy 76.0162946618009\n",
      "Training:: Epoch 57, Iteration 160, Current loss 0.26599328777332554 Accuracy 62.842724978973926\n",
      "Training:: Epoch 57, Iteration 170, Current loss 0.16264565271914744 Accuracy 61.890932558889965\n",
      "Training:: Epoch 57, Iteration 180, Current loss 0.19466450561677628 Accuracy 62.7458197497108\n",
      "Calculating Validation Data Accuracy\n",
      "Validation:: Epoch 57, Probability Accuracy 56.50406986636909\n",
      "Starting Training\n",
      "Training:: Epoch 58, Iteration 0, Current loss 0.19253800050568343 Accuracy 63.28558366351722\n",
      "Training:: Epoch 58, Iteration 10, Current loss 0.21991167925532967 Accuracy 67.04133882852504\n",
      "Training:: Epoch 58, Iteration 20, Current loss 0.18946887346977534 Accuracy 63.87349010912062\n",
      "Training:: Epoch 58, Iteration 30, Current loss 0.17021133040321773 Accuracy 50.89903181189488\n",
      "Training:: Epoch 58, Iteration 40, Current loss 0.16729466583159797 Accuracy 65.71054799166626\n",
      "Training:: Epoch 58, Iteration 50, Current loss 0.2003292626781113 Accuracy 68.46464365256125\n",
      "Training:: Epoch 58, Iteration 60, Current loss 0.13447874799822332 Accuracy 67.4499791579825\n",
      "Training:: Epoch 58, Iteration 70, Current loss 0.14867801658768964 Accuracy 51.13957744135751\n",
      "Training:: Epoch 58, Iteration 80, Current loss 0.13211969520235683 Accuracy 63.66662287040687\n",
      "Training:: Epoch 58, Iteration 90, Current loss 0.19984640326711928 Accuracy 65.13171985435854\n",
      "Training:: Epoch 58, Iteration 100, Current loss 0.1767669325555528 Accuracy 65.95282095879988\n",
      "Training:: Epoch 58, Iteration 110, Current loss 0.17305367292881388 Accuracy 54.49403488758971\n",
      "Training:: Epoch 58, Iteration 120, Current loss 0.18608720821703595 Accuracy 71.06436603334626\n",
      "Training:: Epoch 58, Iteration 130, Current loss 0.19137388677940229 Accuracy 62.36933797909408\n",
      "Training:: Epoch 58, Iteration 140, Current loss 0.14915536602286794 Accuracy 69.48380825702154\n",
      "Training:: Epoch 58, Iteration 150, Current loss 0.16169160242419592 Accuracy 58.935896904653376\n",
      "Training:: Epoch 58, Iteration 160, Current loss 0.12786825486768386 Accuracy 71.45035346301344\n",
      "Training:: Epoch 58, Iteration 170, Current loss 0.2002971387851507 Accuracy 65.23542600896862\n",
      "Training:: Epoch 58, Iteration 180, Current loss 0.15172570649746103 Accuracy 70.19987886129618\n",
      "Calculating Validation Data Accuracy\n",
      "Validation:: Epoch 58, Probability Accuracy 55.39984409068066\n",
      "Starting Training\n",
      "Training:: Epoch 59, Iteration 0, Current loss 0.13849269050181076 Accuracy 65.29349828902343\n",
      "Training:: Epoch 59, Iteration 10, Current loss 0.3078735429974985 Accuracy 69.23646646916241\n",
      "Training:: Epoch 59, Iteration 20, Current loss 0.19520995359335822 Accuracy 59.98664886515354\n",
      "Training:: Epoch 59, Iteration 30, Current loss 0.3055908016358463 Accuracy 69.51053348705587\n",
      "Training:: Epoch 59, Iteration 40, Current loss 0.16839034236069086 Accuracy 67.50470219435736\n",
      "Training:: Epoch 59, Iteration 50, Current loss 0.1455371616537186 Accuracy 74.11811932359878\n",
      "Training:: Epoch 59, Iteration 60, Current loss 0.1523560741909804 Accuracy 74.2253799092165\n"
     ]
    },
    {
     "name": "stdout",
     "output_type": "stream",
     "text": [
      "Training:: Epoch 59, Iteration 70, Current loss 0.15203175439084893 Accuracy 70.20263375285485\n",
      "Training:: Epoch 59, Iteration 80, Current loss 0.19563525587182637 Accuracy 68.81208609271523\n",
      "Training:: Epoch 59, Iteration 90, Current loss 0.1716835147848865 Accuracy 57.363164202956455\n",
      "Training:: Epoch 59, Iteration 100, Current loss 0.19006723673806145 Accuracy 61.449547016557325\n",
      "Training:: Epoch 59, Iteration 110, Current loss 0.19169835488330014 Accuracy 55.600928817359275\n",
      "Training:: Epoch 59, Iteration 120, Current loss 0.1316165836564206 Accuracy 73.52986992756445\n",
      "Training:: Epoch 59, Iteration 130, Current loss 0.2228919167055832 Accuracy 60.24362328319163\n",
      "Training:: Epoch 59, Iteration 140, Current loss 0.13706317553777386 Accuracy 67.45577920097591\n",
      "Training:: Epoch 59, Iteration 150, Current loss 0.16907525673614157 Accuracy 64.048847784988\n",
      "Training:: Epoch 59, Iteration 160, Current loss 0.19196792888099706 Accuracy 64.6711166736198\n",
      "Training:: Epoch 59, Iteration 170, Current loss 0.17497838400637677 Accuracy 50.16465422612514\n",
      "Training:: Epoch 59, Iteration 180, Current loss 0.1699611068890308 Accuracy 70.51227125283064\n",
      "Calculating Validation Data Accuracy\n",
      "Validation:: Epoch 59, Probability Accuracy 56.32817724594497\n",
      "Starting Training\n",
      "Training:: Epoch 60, Iteration 0, Current loss 0.15883237023173827 Accuracy 64.04265632573922\n",
      "Training:: Epoch 60, Iteration 10, Current loss 0.17716075232919598 Accuracy 66.92883540225529\n",
      "Training:: Epoch 60, Iteration 20, Current loss 0.180601788273852 Accuracy 76.41719658677103\n",
      "Training:: Epoch 60, Iteration 30, Current loss 0.15896653090995314 Accuracy 75.82824928565913\n",
      "Training:: Epoch 60, Iteration 40, Current loss 0.13300393153123843 Accuracy 65.97400690212204\n",
      "Training:: Epoch 60, Iteration 50, Current loss 0.16602309539445786 Accuracy 68.20464898960402\n",
      "Training:: Epoch 60, Iteration 60, Current loss 0.260847975229499 Accuracy 63.97085946145334\n",
      "Training:: Epoch 60, Iteration 70, Current loss 0.21065185551594967 Accuracy 67.47599535196625\n",
      "Training:: Epoch 60, Iteration 80, Current loss 0.13977705972449125 Accuracy 62.91199851238901\n",
      "Training:: Epoch 60, Iteration 90, Current loss 0.18326522227158748 Accuracy 48.09995154703399\n",
      "Training:: Epoch 60, Iteration 100, Current loss 0.13550626488222572 Accuracy 58.85925655310987\n",
      "Training:: Epoch 60, Iteration 110, Current loss 0.21344975620316767 Accuracy 69.71784776902886\n",
      "Training:: Epoch 60, Iteration 120, Current loss 0.18824837147384826 Accuracy 56.72715695638332\n",
      "Training:: Epoch 60, Iteration 130, Current loss 0.15004601622768973 Accuracy 62.32533333333333\n",
      "Training:: Epoch 60, Iteration 140, Current loss 0.1408461144048713 Accuracy 51.88534051558292\n",
      "Training:: Epoch 60, Iteration 150, Current loss 0.12947987015638945 Accuracy 54.31569845137961\n",
      "Training:: Epoch 60, Iteration 160, Current loss 0.16177790035682504 Accuracy 70.27158887624005\n",
      "Training:: Epoch 60, Iteration 170, Current loss 0.11246150873358483 Accuracy 65.33375600036229\n",
      "Training:: Epoch 60, Iteration 180, Current loss 0.23054706890458293 Accuracy 61.09935580947007\n",
      "Calculating Validation Data Accuracy\n",
      "Validation:: Epoch 60, Probability Accuracy 55.50609193901334\n",
      "Calculating Expectation\n",
      "Epoch 60 iter 0\n",
      "Epoch 60 iter 10\n",
      "Epoch 60 iter 20\n",
      "Epoch 60 iter 30\n",
      "Epoch 60 iter 40\n",
      "Epoch 60 iter 50\n",
      "Epoch 60 iter 60\n",
      "Epoch 60 iter 70\n",
      "Epoch 60 iter 80\n",
      "Epoch 60 iter 90\n",
      "Epoch 60 iter 100\n",
      "Epoch 60 iter 110\n",
      "Epoch 60 iter 120\n",
      "Epoch 60 iter 130\n",
      "Epoch 60 iter 140\n",
      "Epoch 60 iter 150\n",
      "Epoch 60 iter 160\n",
      "Epoch 60 iter 170\n",
      "Epoch 60 iter 180\n",
      "Train Boundary avergage error = 322.995\n",
      "Train From boundary avergage accuracy = 59.614\n",
      "Starting Training\n",
      "Training:: Epoch 61, Iteration 0, Current loss 0.12824153926451612 Accuracy 65.01161440185831\n",
      "Training:: Epoch 61, Iteration 10, Current loss 0.18529594384554054 Accuracy 69.4887856132552\n",
      "Training:: Epoch 61, Iteration 20, Current loss 0.14692418850606392 Accuracy 53.86357915932545\n",
      "Training:: Epoch 61, Iteration 30, Current loss 0.1304020671031426 Accuracy 69.84387838948233\n",
      "Training:: Epoch 61, Iteration 40, Current loss 0.22984019111225534 Accuracy 61.911883124352926\n",
      "Training:: Epoch 61, Iteration 50, Current loss 0.1617503621559585 Accuracy 58.03616697650837\n",
      "Training:: Epoch 61, Iteration 60, Current loss 0.19146848737218036 Accuracy 64.33390039303103\n",
      "Training:: Epoch 61, Iteration 70, Current loss 0.15113410104676817 Accuracy 60.93169707734539\n",
      "Training:: Epoch 61, Iteration 80, Current loss 0.1645309913452502 Accuracy 57.474284187558446\n",
      "Training:: Epoch 61, Iteration 90, Current loss 0.1818071680709485 Accuracy 73.42870767763472\n",
      "Training:: Epoch 61, Iteration 100, Current loss 0.1659982759555162 Accuracy 60.557411377573914\n",
      "Training:: Epoch 61, Iteration 110, Current loss 0.22461456008738104 Accuracy 61.33712660028449\n",
      "Training:: Epoch 61, Iteration 120, Current loss 0.15453193224052433 Accuracy 64.8302561048243\n",
      "Training:: Epoch 61, Iteration 130, Current loss 0.18028182923046554 Accuracy 61.819097317586746\n",
      "Training:: Epoch 61, Iteration 140, Current loss 0.17858333899125536 Accuracy 57.93561519095827\n",
      "Training:: Epoch 61, Iteration 150, Current loss 0.23109610573746936 Accuracy 67.41063793398324\n",
      "Training:: Epoch 61, Iteration 160, Current loss 0.21606146691594813 Accuracy 68.86531365313652\n",
      "Training:: Epoch 61, Iteration 170, Current loss 0.12121355183088987 Accuracy 55.8633309145976\n",
      "Training:: Epoch 61, Iteration 180, Current loss 0.20607200644287804 Accuracy 59.14852906003348\n",
      "Calculating Validation Data Accuracy\n",
      "Validation:: Epoch 61, Probability Accuracy 55.4967927791034\n",
      "Starting Training\n",
      "Training:: Epoch 62, Iteration 0, Current loss 0.14705771885918464 Accuracy 64.71210518361795\n",
      "Training:: Epoch 62, Iteration 10, Current loss 0.21206200257903637 Accuracy 58.70344397693626\n",
      "Training:: Epoch 62, Iteration 20, Current loss 0.1804715423734535 Accuracy 76.87851839765032\n",
      "Training:: Epoch 62, Iteration 30, Current loss 0.20780915379746817 Accuracy 75.1895135818067\n",
      "Training:: Epoch 62, Iteration 40, Current loss 0.23561686184136071 Accuracy 61.15127540581094\n",
      "Training:: Epoch 62, Iteration 50, Current loss 0.14467994788833524 Accuracy 68.13722218514316\n",
      "Training:: Epoch 62, Iteration 60, Current loss 0.1485282130340884 Accuracy 59.396283042825814\n",
      "Training:: Epoch 62, Iteration 70, Current loss 0.1533662949129193 Accuracy 64.03\n",
      "Training:: Epoch 62, Iteration 80, Current loss 0.15612076112152143 Accuracy 76.25032961237585\n",
      "Training:: Epoch 62, Iteration 90, Current loss 0.23105740643639902 Accuracy 59.80091883614089\n",
      "Training:: Epoch 62, Iteration 100, Current loss 0.1485606526645949 Accuracy 46.29008792459991\n",
      "Training:: Epoch 62, Iteration 110, Current loss 0.16043446711398343 Accuracy 68.23317243939957\n",
      "Training:: Epoch 62, Iteration 120, Current loss 0.13031826709900643 Accuracy 57.85151389464952\n",
      "Training:: Epoch 62, Iteration 130, Current loss 0.1252317883977747 Accuracy 63.17765168048887\n",
      "Training:: Epoch 62, Iteration 140, Current loss 0.14013501826794983 Accuracy 58.607617518508604\n",
      "Training:: Epoch 62, Iteration 150, Current loss 0.20155679482943173 Accuracy 60.895627644569814\n",
      "Training:: Epoch 62, Iteration 160, Current loss 0.1841502155012632 Accuracy 48.85133350937417\n",
      "Training:: Epoch 62, Iteration 170, Current loss 0.18709027448970458 Accuracy 61.83339352353437\n",
      "Training:: Epoch 62, Iteration 180, Current loss 0.1731189214580851 Accuracy 53.563817191569974\n",
      "Calculating Validation Data Accuracy\n",
      "Validation:: Epoch 62, Probability Accuracy 56.304434710004706\n",
      "Starting Training\n",
      "Training:: Epoch 63, Iteration 0, Current loss 0.17731432897568358 Accuracy 71.25944584382871\n",
      "Training:: Epoch 63, Iteration 10, Current loss 0.13387553213278755 Accuracy 59.88240418118467\n",
      "Training:: Epoch 63, Iteration 20, Current loss 0.11964834818565133 Accuracy 69.4404085765861\n",
      "Training:: Epoch 63, Iteration 30, Current loss 0.15890960245207172 Accuracy 63.55752629100612\n",
      "Training:: Epoch 63, Iteration 40, Current loss 0.19024474145178782 Accuracy 65.73662869279784\n",
      "Training:: Epoch 63, Iteration 50, Current loss 0.19907710534220657 Accuracy 63.296856001389614\n",
      "Training:: Epoch 63, Iteration 60, Current loss 0.12035546288635209 Accuracy 69.35683517354063\n",
      "Training:: Epoch 63, Iteration 70, Current loss 0.14794638375903674 Accuracy 65.23344630482067\n"
     ]
    },
    {
     "name": "stdout",
     "output_type": "stream",
     "text": [
      "Training:: Epoch 63, Iteration 80, Current loss 0.13436843792909156 Accuracy 73.81866509155346\n",
      "Training:: Epoch 63, Iteration 90, Current loss 0.17937289516992364 Accuracy 65.59911651021535\n",
      "Training:: Epoch 63, Iteration 100, Current loss 0.18845440080704132 Accuracy 67.04882546300009\n",
      "Training:: Epoch 63, Iteration 110, Current loss 0.21080254177301055 Accuracy 54.46100519930676\n",
      "Training:: Epoch 63, Iteration 120, Current loss 0.16216461367731408 Accuracy 65.1551517229556\n",
      "Training:: Epoch 63, Iteration 130, Current loss 0.20391137242818358 Accuracy 65.75621687729311\n",
      "Training:: Epoch 63, Iteration 140, Current loss 0.18729224867547897 Accuracy 66.02818937477413\n",
      "Training:: Epoch 63, Iteration 150, Current loss 0.15022853470018216 Accuracy 68.59601865843243\n",
      "Training:: Epoch 63, Iteration 160, Current loss 0.238594644027659 Accuracy 57.094868527742385\n",
      "Training:: Epoch 63, Iteration 170, Current loss 0.16156603957922652 Accuracy 66.25957222075522\n",
      "Training:: Epoch 63, Iteration 180, Current loss 0.1375493574630608 Accuracy 65.70943075615973\n",
      "Calculating Validation Data Accuracy\n",
      "Validation:: Epoch 63, Probability Accuracy 55.299334021866876\n",
      "Starting Training\n",
      "Training:: Epoch 64, Iteration 0, Current loss 0.21045736127440534 Accuracy 64.00111711040775\n",
      "Training:: Epoch 64, Iteration 10, Current loss 0.16812742974061057 Accuracy 60.21363227751044\n",
      "Training:: Epoch 64, Iteration 20, Current loss 0.23623671795091153 Accuracy 56.51498197190103\n",
      "Training:: Epoch 64, Iteration 30, Current loss 0.1794725645995956 Accuracy 69.34235249906051\n",
      "Training:: Epoch 64, Iteration 40, Current loss 0.15387081005126935 Accuracy 54.5049292756108\n",
      "Training:: Epoch 64, Iteration 50, Current loss 0.18402046933245905 Accuracy 68.73947220662549\n",
      "Training:: Epoch 64, Iteration 60, Current loss 0.19566015448233406 Accuracy 64.50698080279233\n",
      "Training:: Epoch 64, Iteration 70, Current loss 0.1406294029226063 Accuracy 69.02247111363152\n",
      "Training:: Epoch 64, Iteration 80, Current loss 0.22128885431007128 Accuracy 60.68050045773573\n",
      "Training:: Epoch 64, Iteration 90, Current loss 0.19510101492362059 Accuracy 57.90068935803533\n",
      "Training:: Epoch 64, Iteration 100, Current loss 0.2234614230507022 Accuracy 59.006954310924996\n",
      "Training:: Epoch 64, Iteration 110, Current loss 0.16560051327779052 Accuracy 67.02600577906202\n",
      "Training:: Epoch 64, Iteration 120, Current loss 0.16102406158352126 Accuracy 68.62935268904671\n",
      "Training:: Epoch 64, Iteration 130, Current loss 0.2385051928516635 Accuracy 59.79706308690994\n",
      "Training:: Epoch 64, Iteration 140, Current loss 0.14158061116350068 Accuracy 69.92803663589446\n",
      "Training:: Epoch 64, Iteration 150, Current loss 0.19374755365738397 Accuracy 62.06470456077286\n",
      "Training:: Epoch 64, Iteration 160, Current loss 0.12035375159532939 Accuracy 70.27377220480669\n",
      "Training:: Epoch 64, Iteration 170, Current loss 0.17036751322937446 Accuracy 60.77434679334917\n",
      "Training:: Epoch 64, Iteration 180, Current loss 0.16623969860189416 Accuracy 71.71019759255053\n",
      "Calculating Validation Data Accuracy\n",
      "Validation:: Epoch 64, Probability Accuracy 55.4249716078841\n",
      "Starting Training\n",
      "Training:: Epoch 65, Iteration 0, Current loss 0.18703806738792528 Accuracy 63.447468539654665\n",
      "Training:: Epoch 65, Iteration 10, Current loss 0.15649840537273024 Accuracy 62.09471766848816\n",
      "Training:: Epoch 65, Iteration 20, Current loss 0.1640821888345533 Accuracy 64.40195057805052\n",
      "Training:: Epoch 65, Iteration 30, Current loss 0.17442450531369846 Accuracy 52.97219258050342\n",
      "Training:: Epoch 65, Iteration 40, Current loss 0.1907036428871739 Accuracy 67.40875214981845\n",
      "Training:: Epoch 65, Iteration 50, Current loss 0.20101502878471605 Accuracy 70.73335017260251\n",
      "Training:: Epoch 65, Iteration 60, Current loss 0.18676444443936163 Accuracy 60.304231262384896\n",
      "Training:: Epoch 65, Iteration 70, Current loss 0.14532734375494127 Accuracy 61.23308110412448\n",
      "Training:: Epoch 65, Iteration 80, Current loss 0.2291356687803196 Accuracy 68.47971466785555\n",
      "Training:: Epoch 65, Iteration 90, Current loss 0.15821888216231852 Accuracy 57.365967365967364\n",
      "Training:: Epoch 65, Iteration 100, Current loss 0.19168311491501616 Accuracy 65.59056340214185\n",
      "Training:: Epoch 65, Iteration 110, Current loss 0.19085109793063182 Accuracy 64.67894474863115\n",
      "Training:: Epoch 65, Iteration 120, Current loss 0.1929959339766626 Accuracy 63.53608739460147\n",
      "Training:: Epoch 65, Iteration 130, Current loss 0.45682991417270236 Accuracy 47.559529690742025\n",
      "Training:: Epoch 65, Iteration 140, Current loss 0.19787268814865094 Accuracy 69.42788626241864\n",
      "Training:: Epoch 65, Iteration 150, Current loss 0.22588579403662412 Accuracy 67.2478386167147\n",
      "Training:: Epoch 65, Iteration 160, Current loss 0.16738378864833342 Accuracy 49.28200427742133\n",
      "Training:: Epoch 65, Iteration 170, Current loss 0.16983828020742275 Accuracy 67.95183809401819\n",
      "Training:: Epoch 65, Iteration 180, Current loss 0.22777782411095973 Accuracy 55.28904712826759\n",
      "Calculating Validation Data Accuracy\n",
      "Validation:: Epoch 65, Probability Accuracy 55.58760797907491\n",
      "Calculating Expectation\n",
      "Epoch 65 iter 0\n",
      "Epoch 65 iter 10\n",
      "Epoch 65 iter 20\n",
      "Epoch 65 iter 30\n",
      "Epoch 65 iter 40\n",
      "Epoch 65 iter 50\n",
      "Epoch 65 iter 60\n",
      "Epoch 65 iter 70\n",
      "Epoch 65 iter 80\n",
      "Epoch 65 iter 90\n",
      "Epoch 65 iter 100\n",
      "Epoch 65 iter 110\n",
      "Epoch 65 iter 120\n",
      "Epoch 65 iter 130\n",
      "Epoch 65 iter 140\n",
      "Epoch 65 iter 150\n",
      "Epoch 65 iter 160\n",
      "Epoch 65 iter 170\n",
      "Epoch 65 iter 180\n",
      "Train Boundary avergage error = 322.819\n",
      "Train From boundary avergage accuracy = 59.622\n",
      "Starting Training\n",
      "Training:: Epoch 66, Iteration 0, Current loss 0.2118598663520589 Accuracy 64.23357664233576\n",
      "Training:: Epoch 66, Iteration 10, Current loss 0.15265538991298971 Accuracy 67.31519882898267\n",
      "Training:: Epoch 66, Iteration 20, Current loss 0.21395320918578656 Accuracy 59.682877914264225\n",
      "Training:: Epoch 66, Iteration 30, Current loss 0.21233258772380095 Accuracy 60.75597055126594\n",
      "Training:: Epoch 66, Iteration 40, Current loss 0.1276914656279805 Accuracy 61.904761904761905\n",
      "Training:: Epoch 66, Iteration 50, Current loss 0.20863521479480354 Accuracy 54.231889333818714\n",
      "Training:: Epoch 66, Iteration 60, Current loss 0.14282921528001516 Accuracy 69.64526701368807\n",
      "Training:: Epoch 66, Iteration 70, Current loss 0.21352130534620253 Accuracy 73.31717527817561\n",
      "Training:: Epoch 66, Iteration 80, Current loss 0.1772125336823025 Accuracy 61.79574515606678\n",
      "Training:: Epoch 66, Iteration 90, Current loss 0.1404594778305663 Accuracy 69.1338160364709\n",
      "Training:: Epoch 66, Iteration 100, Current loss 0.14232244557650875 Accuracy 65.07696840244532\n",
      "Training:: Epoch 66, Iteration 110, Current loss 0.22389629506263092 Accuracy 68.28942344406262\n",
      "Training:: Epoch 66, Iteration 120, Current loss 0.19782816479871757 Accuracy 62.27467114166622\n",
      "Training:: Epoch 66, Iteration 130, Current loss 0.20706514052618238 Accuracy 63.87683842979579\n",
      "Training:: Epoch 66, Iteration 140, Current loss 0.2234732201320739 Accuracy 64.85148514851485\n",
      "Training:: Epoch 66, Iteration 150, Current loss 0.2672466332461735 Accuracy 56.641093263006475\n",
      "Training:: Epoch 66, Iteration 160, Current loss 0.355198441263052 Accuracy 61.96816651362106\n",
      "Training:: Epoch 66, Iteration 170, Current loss 0.16007935075596896 Accuracy 70.97804945818282\n",
      "Training:: Epoch 66, Iteration 180, Current loss 0.1619201471190118 Accuracy 57.558930190389844\n",
      "Calculating Validation Data Accuracy\n",
      "Validation:: Epoch 66, Probability Accuracy 55.496990633569574\n",
      "Starting Training\n",
      "Training:: Epoch 67, Iteration 0, Current loss 0.2252328081639919 Accuracy 57.218074656188605\n",
      "Training:: Epoch 67, Iteration 10, Current loss 0.16229998913887997 Accuracy 71.930848675348\n",
      "Training:: Epoch 67, Iteration 20, Current loss 0.23019851391366097 Accuracy 58.02952450860452\n",
      "Training:: Epoch 67, Iteration 30, Current loss 0.23383715313276973 Accuracy 60.882386299194735\n",
      "Training:: Epoch 67, Iteration 40, Current loss 0.17813463160023946 Accuracy 64.58315446037606\n",
      "Training:: Epoch 67, Iteration 50, Current loss 0.2737805622335325 Accuracy 66.21972910110823\n",
      "Training:: Epoch 67, Iteration 60, Current loss 0.2473557109654102 Accuracy 54.08428021830545\n",
      "Training:: Epoch 67, Iteration 70, Current loss 0.24058715257253507 Accuracy 66.46640973324266\n",
      "Training:: Epoch 67, Iteration 80, Current loss 0.23091161376930347 Accuracy 69.62895098488319\n"
     ]
    },
    {
     "name": "stdout",
     "output_type": "stream",
     "text": [
      "Training:: Epoch 67, Iteration 90, Current loss 0.19877558058617495 Accuracy 66.5690223361406\n",
      "Training:: Epoch 67, Iteration 100, Current loss 0.22226328028744655 Accuracy 49.9607958443595\n",
      "Training:: Epoch 67, Iteration 110, Current loss 0.2312343474496183 Accuracy 65.19323219079727\n",
      "Training:: Epoch 67, Iteration 120, Current loss 0.24757808844582005 Accuracy 68.48065303509263\n",
      "Training:: Epoch 67, Iteration 130, Current loss 0.1805278646545052 Accuracy 66.18219272144655\n",
      "Training:: Epoch 67, Iteration 140, Current loss 0.2366229826046069 Accuracy 72.38187588152327\n",
      "Training:: Epoch 67, Iteration 150, Current loss 0.2023154989051436 Accuracy 67.75443204202233\n",
      "Training:: Epoch 67, Iteration 160, Current loss 0.18725056566732698 Accuracy 61.733581494283435\n",
      "Training:: Epoch 67, Iteration 170, Current loss 0.3028070138371494 Accuracy 64.51695131277084\n",
      "Training:: Epoch 67, Iteration 180, Current loss 0.19587254191920475 Accuracy 57.73144700918342\n",
      "Calculating Validation Data Accuracy\n",
      "Validation:: Epoch 67, Probability Accuracy 55.501936995223794\n",
      "Starting Training\n",
      "Training:: Epoch 68, Iteration 0, Current loss 0.18059658325450437 Accuracy 69.08159781495391\n",
      "Training:: Epoch 68, Iteration 10, Current loss 0.24559735742391695 Accuracy 56.68995422789689\n",
      "Training:: Epoch 68, Iteration 20, Current loss 0.17524640146081277 Accuracy 70.82608695652173\n",
      "Training:: Epoch 68, Iteration 30, Current loss 0.1709823466301693 Accuracy 65.65069754121835\n",
      "Training:: Epoch 68, Iteration 40, Current loss 0.2132063624019831 Accuracy 66.83206246123537\n",
      "Training:: Epoch 68, Iteration 50, Current loss 0.23833632867395704 Accuracy 60.05465159607502\n",
      "Training:: Epoch 68, Iteration 60, Current loss 0.2543166924856782 Accuracy 70.30571806001133\n",
      "Training:: Epoch 68, Iteration 70, Current loss 0.18918045358375862 Accuracy 63.21676859547332\n",
      "Training:: Epoch 68, Iteration 80, Current loss 2.006328251287524 Accuracy 68.82060247444863\n",
      "Training:: Epoch 68, Iteration 90, Current loss 2.217198550001001 Accuracy 61.569428588595805\n",
      "Training:: Epoch 68, Iteration 100, Current loss 3.0004764500280428 Accuracy 69.12416221742588\n",
      "Training:: Epoch 68, Iteration 110, Current loss 2.410396038412077 Accuracy 62.19483840967217\n",
      "Training:: Epoch 68, Iteration 120, Current loss 3.535945597461055 Accuracy 49.60629921259842\n",
      "Training:: Epoch 68, Iteration 130, Current loss 3.4270732562570925 Accuracy 44.910007199424044\n",
      "Training:: Epoch 68, Iteration 140, Current loss 1.2773692853352157 Accuracy 64.39339554917444\n",
      "Training:: Epoch 68, Iteration 150, Current loss 1.910046962934432 Accuracy 52.81343231804621\n",
      "Training:: Epoch 68, Iteration 160, Current loss 2.9353196154697834 Accuracy 66.62177878435453\n",
      "Training:: Epoch 68, Iteration 170, Current loss 1.3401376493686221 Accuracy 70.49629672829066\n",
      "Training:: Epoch 68, Iteration 180, Current loss 2.032600060595904 Accuracy 63.30973927067467\n",
      "Calculating Validation Data Accuracy\n",
      "Validation:: Epoch 68, Probability Accuracy 47.66650442600441\n",
      "Starting Training\n",
      "Training:: Epoch 69, Iteration 0, Current loss 2.1531128355959632 Accuracy 49.73201049150416\n",
      "Training:: Epoch 69, Iteration 10, Current loss 2.780474028535683 Accuracy 50.80613684811001\n",
      "Training:: Epoch 69, Iteration 20, Current loss 1.3897366542460625 Accuracy 48.04695405788302\n",
      "Training:: Epoch 69, Iteration 30, Current loss 1.029668804932614 Accuracy 66.16452991452991\n",
      "Training:: Epoch 69, Iteration 40, Current loss 1.1134416323259262 Accuracy 60.60215053763441\n",
      "Training:: Epoch 69, Iteration 50, Current loss 0.5210116681313706 Accuracy 69.31997297905878\n",
      "Training:: Epoch 69, Iteration 60, Current loss 0.4109200921163555 Accuracy 71.9212590245676\n",
      "Training:: Epoch 69, Iteration 70, Current loss 0.5286438212349689 Accuracy 69.98449753784425\n",
      "Training:: Epoch 69, Iteration 80, Current loss 0.467361669296982 Accuracy 54.92491728175108\n",
      "Training:: Epoch 69, Iteration 90, Current loss 0.5083312573608783 Accuracy 66.82096909943489\n",
      "Training:: Epoch 69, Iteration 100, Current loss 0.7539875049422478 Accuracy 69.21636550884749\n",
      "Training:: Epoch 69, Iteration 110, Current loss 0.6885128634039752 Accuracy 57.01818423148394\n",
      "Training:: Epoch 69, Iteration 120, Current loss 0.342142152266945 Accuracy 67.07123688704561\n",
      "Training:: Epoch 69, Iteration 130, Current loss 0.47448753276524386 Accuracy 67.61126022095999\n",
      "Training:: Epoch 69, Iteration 140, Current loss 0.34917920195564345 Accuracy 78.3334664855796\n",
      "Training:: Epoch 69, Iteration 150, Current loss 0.22506302606789444 Accuracy 73.78369039391845\n",
      "Training:: Epoch 69, Iteration 160, Current loss 0.3816563633237856 Accuracy 64.45055682275594\n",
      "Training:: Epoch 69, Iteration 170, Current loss 0.27302143193428935 Accuracy 71.4373112071273\n",
      "Training:: Epoch 69, Iteration 180, Current loss 0.29862799747512664 Accuracy 75.17757009345794\n",
      "Calculating Validation Data Accuracy\n",
      "Validation:: Epoch 69, Probability Accuracy 55.66853045573798\n",
      "Starting Training\n",
      "Training:: Epoch 70, Iteration 0, Current loss 0.369319970198559 Accuracy 62.1701749184702\n",
      "Training:: Epoch 70, Iteration 10, Current loss 0.3714982676423043 Accuracy 69.59617180205416\n",
      "Training:: Epoch 70, Iteration 20, Current loss 0.2852759963404979 Accuracy 65.15725653656688\n",
      "Training:: Epoch 70, Iteration 30, Current loss 0.3114103339490953 Accuracy 65.95223515003062\n",
      "Training:: Epoch 70, Iteration 40, Current loss 0.25732332436088556 Accuracy 67.94754351284895\n",
      "Training:: Epoch 70, Iteration 50, Current loss 0.29285128128102783 Accuracy 52.51377797773029\n",
      "Training:: Epoch 70, Iteration 60, Current loss 0.2610289103297079 Accuracy 60.08174386920981\n",
      "Training:: Epoch 70, Iteration 70, Current loss 0.29218596152197845 Accuracy 60.61996418979409\n",
      "Training:: Epoch 70, Iteration 80, Current loss 0.25447929057995133 Accuracy 64.07191694099772\n",
      "Training:: Epoch 70, Iteration 90, Current loss 0.3194732355685988 Accuracy 66.9543187396089\n",
      "Training:: Epoch 70, Iteration 100, Current loss 0.2576777648176843 Accuracy 48.644299229493804\n",
      "Training:: Epoch 70, Iteration 110, Current loss 0.26250570736903195 Accuracy 67.29580214773837\n",
      "Training:: Epoch 70, Iteration 120, Current loss 0.20987838785684992 Accuracy 65.20662028252161\n",
      "Training:: Epoch 70, Iteration 130, Current loss 0.24069458721757475 Accuracy 57.017137563686894\n",
      "Training:: Epoch 70, Iteration 140, Current loss 0.19911042298075854 Accuracy 70.37683021985588\n",
      "Training:: Epoch 70, Iteration 150, Current loss 0.2499124527368847 Accuracy 59.22518507870337\n",
      "Training:: Epoch 70, Iteration 160, Current loss 0.21906015077160393 Accuracy 66.00935660747523\n",
      "Training:: Epoch 70, Iteration 170, Current loss 0.3144057923244739 Accuracy 69.82492276004119\n",
      "Training:: Epoch 70, Iteration 180, Current loss 0.18523400628175396 Accuracy 77.2626931567329\n",
      "Calculating Validation Data Accuracy\n",
      "Validation:: Epoch 70, Probability Accuracy 57.29885125696942\n",
      "Calculating Expectation\n",
      "Epoch 70 iter 0\n",
      "Epoch 70 iter 10\n",
      "Epoch 70 iter 20\n",
      "Epoch 70 iter 30\n",
      "Epoch 70 iter 40\n",
      "Epoch 70 iter 50\n",
      "Epoch 70 iter 60\n",
      "Epoch 70 iter 70\n",
      "Epoch 70 iter 80\n",
      "Epoch 70 iter 90\n",
      "Epoch 70 iter 100\n",
      "Epoch 70 iter 110\n",
      "Epoch 70 iter 120\n",
      "Epoch 70 iter 130\n",
      "Epoch 70 iter 140\n",
      "Epoch 70 iter 150\n",
      "Epoch 70 iter 160\n",
      "Epoch 70 iter 170\n",
      "Epoch 70 iter 180\n",
      "Train Boundary avergage error = 322.642\n",
      "Train From boundary avergage accuracy = 59.647\n",
      "Starting Training\n",
      "Training:: Epoch 71, Iteration 0, Current loss 0.20467601566600757 Accuracy 70.33989617004603\n",
      "Training:: Epoch 71, Iteration 10, Current loss 0.22326625237419248 Accuracy 71.75266903914591\n",
      "Training:: Epoch 71, Iteration 20, Current loss 0.23761763082548837 Accuracy 67.7207492094381\n",
      "Training:: Epoch 71, Iteration 30, Current loss 0.17316922366773707 Accuracy 67.11752013051945\n",
      "Training:: Epoch 71, Iteration 40, Current loss 0.19980213254339682 Accuracy 71.12637662196053\n",
      "Training:: Epoch 71, Iteration 50, Current loss 0.18964298092125728 Accuracy 67.6234772978959\n",
      "Training:: Epoch 71, Iteration 60, Current loss 0.21188615646709805 Accuracy 63.16568047337278\n",
      "Training:: Epoch 71, Iteration 70, Current loss 0.2196185748061198 Accuracy 62.9089140216466\n",
      "Training:: Epoch 71, Iteration 80, Current loss 0.16325681422626087 Accuracy 66.67833085469337\n",
      "Training:: Epoch 71, Iteration 90, Current loss 0.1633715023741322 Accuracy 70.47088956753029\n"
     ]
    },
    {
     "name": "stdout",
     "output_type": "stream",
     "text": [
      "Training:: Epoch 71, Iteration 100, Current loss 0.21151469893466937 Accuracy 63.190184049079754\n",
      "Training:: Epoch 71, Iteration 110, Current loss 0.162703714827333 Accuracy 69.51455601417248\n",
      "Training:: Epoch 71, Iteration 120, Current loss 0.23780158698020848 Accuracy 69.72001577375923\n",
      "Training:: Epoch 71, Iteration 130, Current loss 0.22664519439493158 Accuracy 66.05315520181921\n",
      "Training:: Epoch 71, Iteration 140, Current loss 0.16766160768252852 Accuracy 76.52291408625155\n",
      "Training:: Epoch 71, Iteration 150, Current loss 0.2117825442191635 Accuracy 59.09009428888969\n",
      "Training:: Epoch 71, Iteration 160, Current loss 0.16678846327692515 Accuracy 62.58925314014697\n",
      "Training:: Epoch 71, Iteration 170, Current loss 0.19334276334376319 Accuracy 67.95872033023736\n",
      "Training:: Epoch 71, Iteration 180, Current loss 0.13611191840459091 Accuracy 67.36766321852147\n",
      "Calculating Validation Data Accuracy\n",
      "Validation:: Epoch 71, Probability Accuracy 57.291728496187346\n",
      "Starting Training\n",
      "Training:: Epoch 72, Iteration 0, Current loss 0.2119292180745451 Accuracy 68.4618268149444\n",
      "Training:: Epoch 72, Iteration 10, Current loss 0.16699321272896087 Accuracy 65.25964521983491\n",
      "Training:: Epoch 72, Iteration 20, Current loss 0.15881382828324303 Accuracy 60.510562509276205\n",
      "Training:: Epoch 72, Iteration 30, Current loss 0.14757761679524256 Accuracy 69.84478935698448\n",
      "Training:: Epoch 72, Iteration 40, Current loss 0.17506866872366927 Accuracy 45.574682663884545\n",
      "Training:: Epoch 72, Iteration 50, Current loss 0.14517305055389532 Accuracy 71.99909747292419\n",
      "Training:: Epoch 72, Iteration 60, Current loss 0.11614242641754256 Accuracy 65.27511034738367\n",
      "Training:: Epoch 72, Iteration 70, Current loss 0.1436016104576625 Accuracy 66.49897964026387\n",
      "Training:: Epoch 72, Iteration 80, Current loss 0.1900192380946421 Accuracy 60.11408708052944\n",
      "Training:: Epoch 72, Iteration 90, Current loss 0.18991973246872687 Accuracy 66.32753528060387\n",
      "Training:: Epoch 72, Iteration 100, Current loss 0.22050099958178523 Accuracy 63.34271819810596\n",
      "Training:: Epoch 72, Iteration 110, Current loss 0.17374696948829388 Accuracy 63.61325794906375\n",
      "Training:: Epoch 72, Iteration 120, Current loss 0.18703588927535264 Accuracy 63.73310132512381\n",
      "Training:: Epoch 72, Iteration 130, Current loss 0.16024880103977399 Accuracy 58.69377411737603\n",
      "Training:: Epoch 72, Iteration 140, Current loss 0.21618441037332012 Accuracy 56.77295341474446\n",
      "Training:: Epoch 72, Iteration 150, Current loss 0.1814488773165097 Accuracy 62.93218664652217\n",
      "Training:: Epoch 72, Iteration 160, Current loss 0.26637165079444775 Accuracy 61.192860252503266\n",
      "Training:: Epoch 72, Iteration 170, Current loss 0.1540047909923567 Accuracy 64.2345739738755\n",
      "Training:: Epoch 72, Iteration 180, Current loss 0.16674807972232664 Accuracy 62.91284657019772\n",
      "Calculating Validation Data Accuracy\n",
      "Validation:: Epoch 72, Probability Accuracy 57.34099425826339\n",
      "Starting Training\n",
      "Training:: Epoch 73, Iteration 0, Current loss 0.19030827217329851 Accuracy 56.7881419939577\n",
      "Training:: Epoch 73, Iteration 10, Current loss 0.22515540839693327 Accuracy 58.893246187363836\n",
      "Training:: Epoch 73, Iteration 20, Current loss 0.1855134247473833 Accuracy 64.80161012075905\n",
      "Training:: Epoch 73, Iteration 30, Current loss 0.1540129827949639 Accuracy 66.82606855691917\n",
      "Training:: Epoch 73, Iteration 40, Current loss 0.18996063380349915 Accuracy 51.88530852545953\n",
      "Training:: Epoch 73, Iteration 50, Current loss 0.17012243619310916 Accuracy 70.31667694838578\n",
      "Training:: Epoch 73, Iteration 60, Current loss 0.16620674173600453 Accuracy 71.6188938231732\n",
      "Training:: Epoch 73, Iteration 70, Current loss 0.19144560371047373 Accuracy 46.122559652928416\n",
      "Training:: Epoch 73, Iteration 80, Current loss 0.223537285841591 Accuracy 69.36573465941078\n",
      "Training:: Epoch 73, Iteration 90, Current loss 0.15744967809552243 Accuracy 67.50153294655912\n",
      "Training:: Epoch 73, Iteration 100, Current loss 0.1670218462761647 Accuracy 61.5278778745987\n",
      "Training:: Epoch 73, Iteration 110, Current loss 0.16597592394241673 Accuracy 64.94676030811056\n",
      "Training:: Epoch 73, Iteration 120, Current loss 0.15690763942546598 Accuracy 63.02199553713739\n",
      "Training:: Epoch 73, Iteration 130, Current loss 0.1372093255944301 Accuracy 71.868745391341\n",
      "Training:: Epoch 73, Iteration 140, Current loss 0.23180342522226283 Accuracy 50.57127312295974\n",
      "Training:: Epoch 73, Iteration 150, Current loss 0.19604128737129928 Accuracy 59.550561797752806\n",
      "Training:: Epoch 73, Iteration 160, Current loss 0.17503615622155702 Accuracy 63.336681581590724\n",
      "Training:: Epoch 73, Iteration 170, Current loss 0.13915772897463657 Accuracy 64.3675899050524\n",
      "Training:: Epoch 73, Iteration 180, Current loss 0.1626932805407233 Accuracy 72.25592308572736\n",
      "Calculating Validation Data Accuracy\n",
      "Validation:: Epoch 73, Probability Accuracy 57.08477272457471\n",
      "Starting Training\n",
      "Training:: Epoch 74, Iteration 0, Current loss 0.15761161303816948 Accuracy 56.38417410846295\n",
      "Training:: Epoch 74, Iteration 10, Current loss 0.13355002870802263 Accuracy 67.01476793248945\n",
      "Training:: Epoch 74, Iteration 20, Current loss 0.14508578364385605 Accuracy 60.085489833641404\n",
      "Training:: Epoch 74, Iteration 30, Current loss 0.16680444956701726 Accuracy 64.35525014316205\n",
      "Training:: Epoch 74, Iteration 40, Current loss 0.1824732956595324 Accuracy 68.04951804951806\n",
      "Training:: Epoch 74, Iteration 50, Current loss 0.203952383888261 Accuracy 64.45554630400592\n",
      "Training:: Epoch 74, Iteration 60, Current loss 0.15973490780432206 Accuracy 46.42740353172008\n",
      "Training:: Epoch 74, Iteration 70, Current loss 0.14267324021131136 Accuracy 58.96434512186302\n",
      "Training:: Epoch 74, Iteration 80, Current loss 0.2215388732050096 Accuracy 53.52688323585371\n",
      "Training:: Epoch 74, Iteration 90, Current loss 0.16081212436627434 Accuracy 62.75911365260901\n",
      "Training:: Epoch 74, Iteration 100, Current loss 0.12788565746695368 Accuracy 70.85509254325198\n",
      "Training:: Epoch 74, Iteration 110, Current loss 0.17184572619270316 Accuracy 53.540815739515615\n",
      "Training:: Epoch 74, Iteration 120, Current loss 0.15040589206698232 Accuracy 64.91183071497275\n",
      "Training:: Epoch 74, Iteration 130, Current loss 0.18011314707084036 Accuracy 64.7255123143448\n",
      "Training:: Epoch 74, Iteration 140, Current loss 0.17788798323931024 Accuracy 55.29889007831427\n",
      "Training:: Epoch 74, Iteration 150, Current loss 0.1125542985230294 Accuracy 68.7952987267385\n",
      "Training:: Epoch 74, Iteration 160, Current loss 0.18155643067205687 Accuracy 60.02751031636864\n",
      "Training:: Epoch 74, Iteration 170, Current loss 0.15902662814324658 Accuracy 70.84374290256643\n",
      "Training:: Epoch 74, Iteration 180, Current loss 0.19080459886549547 Accuracy 62.57624918883842\n",
      "Calculating Validation Data Accuracy\n",
      "Validation:: Epoch 74, Probability Accuracy 57.39579994539217\n",
      "Starting Training\n",
      "Training:: Epoch 75, Iteration 0, Current loss 0.14872462787939142 Accuracy 66.91760423560557\n",
      "Training:: Epoch 75, Iteration 10, Current loss 0.17960250293350172 Accuracy 65.68728845430613\n",
      "Training:: Epoch 75, Iteration 20, Current loss 0.13055761910864924 Accuracy 74.20617101802553\n",
      "Training:: Epoch 75, Iteration 30, Current loss 0.18827295201761104 Accuracy 63.55569345330437\n",
      "Training:: Epoch 75, Iteration 40, Current loss 0.14266758140503522 Accuracy 61.51128674929645\n",
      "Training:: Epoch 75, Iteration 50, Current loss 0.17559326415610743 Accuracy 66.02163258407977\n",
      "Training:: Epoch 75, Iteration 60, Current loss 0.2074537609906342 Accuracy 66.98293317905699\n",
      "Training:: Epoch 75, Iteration 70, Current loss 0.16545161723401125 Accuracy 64.41723569578527\n",
      "Training:: Epoch 75, Iteration 80, Current loss 0.1539010152727785 Accuracy 59.79746520874752\n",
      "Training:: Epoch 75, Iteration 90, Current loss 0.16817506586959194 Accuracy 71.27724900214922\n",
      "Training:: Epoch 75, Iteration 100, Current loss 0.16465111356775297 Accuracy 70.4092893815076\n",
      "Training:: Epoch 75, Iteration 110, Current loss 0.15452565320021172 Accuracy 57.55992501894468\n",
      "Training:: Epoch 75, Iteration 120, Current loss 0.16605115903427706 Accuracy 70.9168128519989\n",
      "Training:: Epoch 75, Iteration 130, Current loss 0.14689898272114768 Accuracy 62.42143565994046\n",
      "Training:: Epoch 75, Iteration 140, Current loss 0.2187066695323648 Accuracy 64.61471861471861\n",
      "Training:: Epoch 75, Iteration 150, Current loss 0.18455897382450748 Accuracy 64.89642879095211\n"
     ]
    },
    {
     "name": "stdout",
     "output_type": "stream",
     "text": [
      "Training:: Epoch 75, Iteration 160, Current loss 0.12943666473842758 Accuracy 51.480851562958186\n",
      "Training:: Epoch 75, Iteration 170, Current loss 0.1416241316318359 Accuracy 64.08868632198642\n",
      "Training:: Epoch 75, Iteration 180, Current loss 0.25212866378758847 Accuracy 66.93910096680953\n",
      "Calculating Validation Data Accuracy\n",
      "Validation:: Epoch 75, Probability Accuracy 56.766820597441345\n",
      "Updating selected frames again\n",
      "Completed 0 videos selected frames calculation\n",
      "Completed 10 videos selected frames calculation\n",
      "Completed 20 videos selected frames calculation\n",
      "Completed 30 videos selected frames calculation\n",
      "Completed 40 videos selected frames calculation\n",
      "Completed 50 videos selected frames calculation\n",
      "Completed 60 videos selected frames calculation\n",
      "Completed 70 videos selected frames calculation\n",
      "Completed 80 videos selected frames calculation\n",
      "Completed 90 videos selected frames calculation\n",
      "Completed 100 videos selected frames calculation\n",
      "Completed 110 videos selected frames calculation\n",
      "Completed 120 videos selected frames calculation\n",
      "Completed 130 videos selected frames calculation\n",
      "Completed 140 videos selected frames calculation\n",
      "Completed 150 videos selected frames calculation\n",
      "Completed 160 videos selected frames calculation\n",
      "Completed 170 videos selected frames calculation\n",
      "Completed 180 videos selected frames calculation\n",
      "Total correct pivots labels selected =  61.8715225088518\n",
      "Calculating Expectation\n",
      "Epoch 75 iter 0\n",
      "Epoch 75 iter 10\n",
      "Epoch 75 iter 20\n",
      "Epoch 75 iter 30\n",
      "Epoch 75 iter 40\n",
      "Epoch 75 iter 50\n",
      "Epoch 75 iter 60\n",
      "Epoch 75 iter 70\n",
      "Epoch 75 iter 80\n",
      "Epoch 75 iter 90\n",
      "Epoch 75 iter 100\n",
      "Epoch 75 iter 110\n",
      "Epoch 75 iter 120\n",
      "Epoch 75 iter 130\n",
      "Epoch 75 iter 140\n",
      "Epoch 75 iter 150\n",
      "Epoch 75 iter 160\n",
      "Epoch 75 iter 170\n",
      "Epoch 75 iter 180\n",
      "Train Boundary avergage error = 329.443\n",
      "Train From boundary avergage accuracy = 59.516\n",
      "Starting Training\n",
      "Training:: Epoch 76, Iteration 0, Current loss 0.13878878422990035 Accuracy 74.11447481308984\n",
      "Training:: Epoch 76, Iteration 10, Current loss 0.22726653052594992 Accuracy 68.9978711661279\n",
      "Training:: Epoch 76, Iteration 20, Current loss 0.13525564823622885 Accuracy 68.3270817704426\n",
      "Training:: Epoch 76, Iteration 30, Current loss 0.14918749410634127 Accuracy 61.224706006992264\n",
      "Training:: Epoch 76, Iteration 40, Current loss 0.17985224674939274 Accuracy 71.8355295532834\n",
      "Training:: Epoch 76, Iteration 50, Current loss 0.17551609343891247 Accuracy 47.71514445194136\n",
      "Training:: Epoch 76, Iteration 60, Current loss 0.1255175669372441 Accuracy 71.48281843326613\n",
      "Training:: Epoch 76, Iteration 70, Current loss 0.14636404245803913 Accuracy 59.32467900971838\n",
      "Training:: Epoch 76, Iteration 80, Current loss 0.1847755912747813 Accuracy 72.2004398967199\n",
      "Training:: Epoch 76, Iteration 90, Current loss 0.21455934814924338 Accuracy 66.61511423550088\n",
      "Training:: Epoch 76, Iteration 100, Current loss 0.18598549658270658 Accuracy 58.782249742002065\n",
      "Training:: Epoch 76, Iteration 110, Current loss 0.1882824615060512 Accuracy 71.73434980208181\n",
      "Training:: Epoch 76, Iteration 120, Current loss 0.37962317443842075 Accuracy 63.73323754789272\n",
      "Training:: Epoch 76, Iteration 130, Current loss 0.20027918973842235 Accuracy 68.49889367648771\n",
      "Training:: Epoch 76, Iteration 140, Current loss 0.29200157275051 Accuracy 57.51445086705202\n"
     ]
    }
   ],
   "source": [
    "initialize_epoch = 25\n",
    "expectation_cal_gap = 5\n",
    "best_val_acc = 0\n",
    "\n",
    "for epoch in range(51, 150):\n",
    "    print(\"Starting Training\")\n",
    "    model.train()\n",
    "    for i, item in enumerate(trainloader):\n",
    "        item_0 = item[0].to(device)\n",
    "        item_1 = item[1].to(device)\n",
    "        item_2 = item[2].to(device)\n",
    "        src_mask = torch.arange(item_2.shape[1], device=item_2.device)[None, :] < item_1[:, None]\n",
    "        src_mask_mse = src_mask.unsqueeze(1).to(torch.float32).to(device)\n",
    "        optimizer.zero_grad()\n",
    "        \n",
    "        middle_pred, predictions = model(item_0, src_mask_mse)\n",
    "        psuedo_l = get_single_random(predictions[-1], item[4])\n",
    "        \n",
    "        loss = 0\n",
    "        for p in predictions:\n",
    "            if epoch <= initialize_epoch:\n",
    "                loss += ce_criterion(p, psuedo_l)\n",
    "                loss += 0.15 * torch.mean(torch.clamp(mse_criterion(F.log_softmax(p[:, :, 1:], dim=1), \n",
    "                                                                    F.log_softmax(p.detach()[:, :, :-1], dim=1)), min=0,\n",
    "                                            max=16) * src_mask_mse[:, :, 1:])\n",
    "            else:\n",
    "                prob = torch.softmax(p, dim=1)\n",
    "                prob = prob.permute(0, 2, 1)\n",
    "                es_loss, _ = get_estimated_loss(prob, item_1, item[4])\n",
    "                loss += es_loss\n",
    "            \n",
    "\n",
    "        loss.backward()\n",
    "        optimizer.step()\n",
    "        \n",
    "        if i % 10 == 0:\n",
    "            with torch.no_grad():\n",
    "                pred = torch.argmax(predictions[-1], dim=1)\n",
    "                correct = float(torch.sum((pred == item_2) * src_mask).item())\n",
    "                total = float(torch.sum(src_mask).item())\n",
    "                print(f\"Training:: Epoch {epoch}, Iteration {i}, Current loss {loss.item()}\" +\n",
    "                      f\" Accuracy {correct * 100.0 / total}\")\n",
    "\n",
    "    # Calculating Expectation Step\n",
    "    model.eval()\n",
    "    \n",
    "    print(\"Calculating Validation Data Accuracy\")\n",
    "    correct = 0.0\n",
    "    total = 0.0\n",
    "    for i, item in enumerate(testloader):\n",
    "        with torch.no_grad():\n",
    "            item_0 = item[0].to(device)\n",
    "            item_1 = item[1].to(device)\n",
    "            item_2 = item[2].to(device)\n",
    "            src_mask = torch.arange(item_2.shape[1], device=item_2.device)[None, :] < item_1[:, None]\n",
    "            src_mask_mse = src_mask.unsqueeze(1).to(torch.float32).to(device)\n",
    "\n",
    "            middle_pred, predictions = model(item_0, src_mask_mse)\n",
    "\n",
    "            pred = torch.argmax(predictions[-1], dim=1)\n",
    "            correct += float(torch.sum((pred == item_2) * src_mask).item())\n",
    "            total += float(torch.sum(src_mask).item())\n",
    "\n",
    "    val_acc = correct * 100.0 / total\n",
    "    if val_acc > best_val_acc:\n",
    "        best_val_acc = val_acc\n",
    "        torch.save(model.state_dict(), config.output_dir + \"ms-tcn-emmax-best-model.wt\")\n",
    "    torch.save(model.state_dict(), config.output_dir + \"ms-tcn-emmax-last-model.wt\")\n",
    "    print(f\"Validation:: Epoch {epoch}, Probability Accuracy {val_acc}\")\n",
    "\n",
    "#     if (epoch == initialize_epoch) or ((epoch > initialize_epoch) and ((epoch % (3 * expectation_cal_gap)) == 0)):\n",
    "    if ((epoch >= 50) and ((epoch % 25) == 0)):\n",
    "        print(\"Updating selected frames again\")\n",
    "        torch.save(model.state_dict(), config.output_dir + f\"ms-tcn-initial-{initialize_epoch}-epochs.wt\")\n",
    "        selected_frames_dict = change_selected_frames(model)\n",
    "        get_new_selected_frame_acc(selected_frames_dict)\n",
    "\n",
    "#     if (epoch == initialize_epoch) or ((epoch > initialize_epoch) and (epoch % expectation_cal_gap == 0)):\n",
    "    if ((epoch > initialize_epoch) and (epoch % expectation_cal_gap == 0)):\n",
    "        print(\"Calculating Expectation\")\n",
    "        correct = 0.0\n",
    "        total = 0.0\n",
    "\n",
    "        for i, item in enumerate(trainloader):\n",
    "            with torch.no_grad():\n",
    "                item_0 = item[0].to(device)\n",
    "                item_1 = item[1].to(device)\n",
    "                item_2 = item[2].to(device)\n",
    "                src_mask = torch.arange(item_2.shape[1], device=item_2.device)[None, :] < item_1[:, None]\n",
    "                src_mask_mse = src_mask.unsqueeze(1).to(torch.float32).to(device)\n",
    "\n",
    "                middle_pred, predictions = model(item_0, src_mask_mse)\n",
    "                prob = torch.softmax(predictions[-1], dim=1)\n",
    "                prob = prob.permute(0, 2, 1)\n",
    "                calculate_element_probb(prob, item_1, item[4])\n",
    "                \n",
    "                if i % 10 == 0:\n",
    "                    print(f\"Epoch {epoch} iter {i}\")\n",
    "                    \n",
    "        get_boundary_err()\n",
    "\n"
   ]
  },
  {
   "cell_type": "code",
   "execution_count": 32,
   "metadata": {},
   "outputs": [
    {
     "name": "stdout",
     "output_type": "stream",
     "text": [
      "Validation:: Epoch 130, Probability Accuracy 51.43919338691232\n"
     ]
    }
   ],
   "source": [
    "print(f\"Validation:: Epoch {epoch}, Probability Accuracy {val_acc}\")"
   ]
  },
  {
   "cell_type": "code",
   "execution_count": 33,
   "metadata": {},
   "outputs": [
    {
     "data": {
      "text/plain": [
       "54.61000906173455"
      ]
     },
     "execution_count": 33,
     "metadata": {},
     "output_type": "execute_result"
    }
   ],
   "source": [
    "best_val_acc"
   ]
  },
  {
   "cell_type": "code",
   "execution_count": 24,
   "metadata": {},
   "outputs": [],
   "source": [
    "torch.save(model.state_dict(),\n",
    "\"/mnt/ssd/all_users/dipika/ms_tcn/data/breakfast//results/em-maximize-mstcn-speed/final-em-maximized.wt\")"
   ]
  },
  {
   "cell_type": "code",
   "execution_count": 24,
   "metadata": {},
   "outputs": [
    {
     "data": {
      "text/plain": [
       "'/mnt/ssd/all_users/dipika/ms_tcn/data/breakfast//results/em-maximize-mstcn-split1/'"
      ]
     },
     "execution_count": 24,
     "metadata": {},
     "output_type": "execute_result"
    }
   ],
   "source": [
    "config.output_dir"
   ]
  },
  {
   "cell_type": "code",
   "execution_count": 34,
   "metadata": {},
   "outputs": [
    {
     "data": {
      "text/plain": [
       "<All keys matched successfully>"
      ]
     },
     "execution_count": 34,
     "metadata": {},
     "output_type": "execute_result"
    }
   ],
   "source": [
    "model.load_state_dict(torch.load(config.output_dir + \"ms-tcn-emmax-best-model.wt\"))\n",
    "# model.load_state_dict(torch.load(config.output_dir + \"ms-tcn-initial-15-epochs.wt\"))"
   ]
  },
  {
   "cell_type": "code",
   "execution_count": 35,
   "metadata": {},
   "outputs": [
    {
     "name": "stdout",
     "output_type": "stream",
     "text": [
      "Calculating Validation Data Accuracy\n",
      "Validation:: Probability Accuracy 54.625639564561894\n"
     ]
    }
   ],
   "source": [
    "print(\"Calculating Validation Data Accuracy\")\n",
    "correct = 0.0\n",
    "total = 0.0\n",
    "for i, item in enumerate(testloader):\n",
    "    with torch.no_grad():\n",
    "        item_0 = item[0].to(device)\n",
    "        item_1 = item[1].to(device)\n",
    "        item_2 = item[2].to(device)\n",
    "        src_mask = torch.arange(item_2.shape[1], device=item_2.device)[None, :] < item_1[:, None]\n",
    "        src_mask_mse = src_mask.unsqueeze(1).to(torch.float32).to(device)\n",
    "\n",
    "        middle_pred, predictions = model(item_0, src_mask_mse)\n",
    "\n",
    "        pred = torch.argmax(predictions[-1], dim=1)\n",
    "        correct += float(torch.sum((pred == item_2) * src_mask).item())\n",
    "        total += float(torch.sum(src_mask).item())\n",
    "\n",
    "print(f\"Validation:: Probability Accuracy {correct * 100.0 / total}\")"
   ]
  },
  {
   "cell_type": "code",
   "execution_count": 36,
   "metadata": {},
   "outputs": [
    {
     "name": "stdout",
     "output_type": "stream",
     "text": [
      "1 iteration done\n",
      "11 iteration done\n",
      "21 iteration done\n",
      "31 iteration done\n",
      "41 iteration done\n",
      "51 iteration done\n",
      "61 iteration done\n",
      "71 iteration done\n",
      "81 iteration done\n",
      "91 iteration done\n",
      "101 iteration done\n",
      "111 iteration done\n",
      "121 iteration done\n",
      "131 iteration done\n",
      "141 iteration done\n",
      "151 iteration done\n",
      "161 iteration done\n",
      "171 iteration done\n",
      "181 iteration done\n",
      "Train Boundary avergage error = 307.224\n",
      "Train From boundary avergage accuracy = 57.704\n"
     ]
    }
   ],
   "source": [
    "model.eval()\n",
    "for i, item in enumerate(trainloader):\n",
    "    with torch.no_grad():\n",
    "        item_0 = item[0].to(device)\n",
    "        item_1 = item[1].to(device)\n",
    "        item_2 = item[2].to(device)\n",
    "        src_mask = torch.arange(item_2.shape[1], device=item_2.device)[None, :] < item_1[:, None]\n",
    "        src_mask_mse = src_mask.unsqueeze(1).to(torch.float32).to(device)\n",
    "\n",
    "        middle_pred, predictions = model(item_0, src_mask_mse)\n",
    "        prob = torch.softmax(predictions[-1], dim=1)\n",
    "        prob = prob.permute(0, 2, 1)\n",
    "        calculate_element_probb(prob, item_1, item[4])\n",
    "\n",
    "        if i % 10 == 0:\n",
    "            print(f'{i+1} iteration done')\n",
    "get_boundary_err()"
   ]
  },
  {
   "cell_type": "code",
   "execution_count": 26,
   "metadata": {},
   "outputs": [],
   "source": [
    "with torch.no_grad():\n",
    "    idx = 1\n",
    "\n",
    "    cur_vid_feat = torch.softmax(predictions[-1], dim=1).permute(0, 2, 1)[idx]\n",
    "    cur_vidid = item[4][idx]\n",
    "\n",
    "    selected_frames_indices_and_labels = selected_frames_dict[cur_vidid + \".txt\"]\n",
    "    selected_frames_indices = [ele[0] for ele in selected_frames_indices_and_labels]\n",
    "    selected_frames_labels = [label_name_to_label_id_dict[ele[1]] for ele in selected_frames_indices_and_labels]\n",
    "    \n",
    "    cumsum_feat = torch.cumsum(cur_vid_feat, dim=0)\n",
    "    prob_each_segment = prob_vals_per_segment(selected_frames_indices, cur_vid_feat, selected_frames_labels)\n"
   ]
  },
  {
   "cell_type": "code",
   "execution_count": 27,
   "metadata": {},
   "outputs": [
    {
     "data": {
      "text/plain": [
       "[64, 228, 481, 735, 1578, 2388, 2567, 2745]"
      ]
     },
     "execution_count": 27,
     "metadata": {},
     "output_type": "execute_result"
    }
   ],
   "source": [
    "selected_frames_indices"
   ]
  },
  {
   "cell_type": "code",
   "execution_count": 28,
   "metadata": {},
   "outputs": [
    {
     "data": {
      "text/plain": [
       "[88, 229, 578, 1128, 2241, 2479, 2720, 2810]"
      ]
     },
     "execution_count": 28,
     "metadata": {},
     "output_type": "execute_result"
    }
   ],
   "source": [
    "boundary_frames_dict[cur_vidid + \".txt\"]"
   ]
  },
  {
   "cell_type": "code",
   "execution_count": 29,
   "metadata": {},
   "outputs": [
    {
     "name": "stdout",
     "output_type": "stream",
     "text": [
      "Min prob 0 = 0.0\n",
      "Min prob 1 = 0.0\n",
      "Min prob 2 = 0.0\n",
      "Min prob 3 = 0.0\n",
      "Min prob 4 = 0.0\n",
      "Min prob 5 = 7.224189870987231e-126\n",
      "Min prob 6 = 4.631831900603335e-244\n"
     ]
    },
    {
     "data": {
      "text/plain": [
       "(0, 2811)"
      ]
     },
     "execution_count": 29,
     "metadata": {},
     "output_type": "execute_result"
    },
    {
     "data": {
      "image/png": "[encoded data removed]",
      "text/plain": [
       "<Figure size 1296x360 with 1 Axes>"
      ]
     },
     "metadata": {
      "needs_background": "light"
     },
     "output_type": "display_data"
    }
   ],
   "source": [
    "import matplotlib.pyplot as plt\n",
    "fig = plt.figure(figsize=(18, 5))\n",
    "\n",
    "ymax = 1\n",
    "\n",
    "plt.plot([0, item[1][idx].item()], [0, 0])\n",
    "\n",
    "for pivot in selected_frames_indices:\n",
    "    plt.plot([pivot, pivot], [0, ymax], '--')\n",
    "    \n",
    "for pivot in boundary_frames_dict[cur_vidid + \".txt\"]:\n",
    "    plt.plot([pivot, pivot], [0, ymax])\n",
    "    \n",
    "all_prob = []\n",
    "for i, segment in enumerate(prob_each_segment):\n",
    "    segment = segment.cpu().numpy()\n",
    "    print(f\"Min prob {i} = {np.min(segment).item()}\")\n",
    "    xs = np.arange(selected_frames_indices[i], \n",
    "                   selected_frames_indices[i+1])\n",
    "    plt.plot(xs, segment, '*')\n",
    "\n",
    "    \n",
    "plt_arr = []\n",
    "for i in range(item[1][idx].item()):\n",
    "    plt_arr.append(cur_vid_feat[i,item[2][idx][i]].item()) \n",
    "plt.plot(np.arange(item[1][idx].item()), plt_arr)\n",
    "\n",
    "\n",
    "loss_prob = torch.softmax(cur_vid_feat.unsqueeze(0), dim=2)\n",
    "es_loss, loss_arr = get_estimated_loss(loss_prob, torch.tensor([item_1[idx]]), [item[4][idx]])\n",
    "loss_arr = -loss_arr[0].detach().cpu().numpy()\n",
    "plt.plot(np.arange(selected_frames_indices[0] - 1, selected_frames_indices[-1] + 1), loss_arr/np.max(loss_arr), 'k+')\n",
    "\n",
    "plt.ylim([0, ymax])\n",
    "plt.xlim([0, item[1][idx].item()])"
   ]
  },
  {
   "cell_type": "code",
   "execution_count": 40,
   "metadata": {},
   "outputs": [
    {
     "name": "stdout",
     "output_type": "stream",
     "text": [
      "torch.Size([1, 1895, 48])\n"
     ]
    }
   ],
   "source": [
    "loss_prob = torch.softmax(cur_vid_feat.unsqueeze(0), dim=2)\n",
    "print(loss_prob.shape)\n",
    "es_loss, loss_arr = get_estimated_loss(loss_prob, torch.tensor([item_1[idx]]), [item[4][idx]], item_2[idx].unsqueeze(0))"
   ]
  },
  {
   "cell_type": "code",
   "execution_count": 43,
   "metadata": {},
   "outputs": [
    {
     "data": {
      "text/plain": [
       "torch.Size([1387])"
      ]
     },
     "execution_count": 43,
     "metadata": {},
     "output_type": "execute_result"
    }
   ],
   "source": [
    "loss_arr[0].shape"
   ]
  },
  {
   "cell_type": "code",
   "execution_count": 45,
   "metadata": {},
   "outputs": [
    {
     "data": {
      "text/plain": [
       "[<matplotlib.lines.Line2D at 0x7faf5b8ecb00>]"
      ]
     },
     "execution_count": 45,
     "metadata": {},
     "output_type": "execute_result"
    },
    {
     "data": {
      "image/png": "[encoded data removed]",
      "text/plain": [
       "<Figure size 432x288 with 1 Axes>"
      ]
     },
     "metadata": {
      "needs_background": "light"
     },
     "output_type": "display_data"
    }
   ],
   "source": [
    "selected_frames = loaded_vidid_selected_frames[cur_vidid + \".txt\"]\n",
    "plt.plot(np.arange(selected_frames[0] - 1, selected_frames[-1] + 1), loss_arr[0].detach().cpu().numpy())"
   ]
  },
  {
   "cell_type": "code",
   "execution_count": 44,
   "metadata": {},
   "outputs": [
    {
     "data": {
      "text/plain": [
       "tensor(3.3987, device='cuda:0', dtype=torch.float64)"
      ]
     },
     "execution_count": 44,
     "metadata": {},
     "output_type": "execute_result"
    }
   ],
   "source": [
    "es_loss"
   ]
  },
  {
   "cell_type": "code",
   "execution_count": 35,
   "metadata": {},
   "outputs": [
    {
     "data": {
      "text/plain": [
       "([75, 345, 1305, 1415, 1440, 1519],\n",
       " [73, 282, 455, 1312, 1434, 1458],\n",
       " tensor(1520, device='cuda:0', dtype=torch.int32))"
      ]
     },
     "execution_count": 35,
     "metadata": {},
     "output_type": "execute_result"
    }
   ],
   "source": [
    "video_id_boundary_frames[cur_vidid], loaded_vidid_selected_frames[cur_vidid + \".txt\"], item_1[idx]"
   ]
  },
  {
   "cell_type": "code",
   "execution_count": 41,
   "metadata": {},
   "outputs": [
    {
     "data": {
      "image/png": "[encoded data removed]",
      "text/plain": [
       "<Figure size 1296x360 with 1 Axes>"
      ]
     },
     "metadata": {
      "needs_background": "light"
     },
     "output_type": "display_data"
    }
   ],
   "source": [
    "plt_arr = []\n",
    "for i in range(item[1][idx].item()):\n",
    "    plt_arr.append(cur_vid_feat[i,item[2][idx][i]].item()) \n",
    "\n",
    "fig = plt.figure(figsize=(18, 5))\n",
    "plt.plot(np.arange(item[1][idx].item()), plt_arr)\n",
    "\n",
    "for pivot in video_id_boundary_frames[cur_vidid]:\n",
    "    plt.plot([pivot, pivot], [0, 14])"
   ]
  },
  {
   "cell_type": "code",
   "execution_count": 36,
   "metadata": {},
   "outputs": [
    {
     "data": {
      "text/plain": [
       "torch.Size([334, 334])"
      ]
     },
     "execution_count": 36,
     "metadata": {},
     "output_type": "execute_result"
    }
   ],
   "source": []
  },
  {
   "cell_type": "code",
   "execution_count": 37,
   "metadata": {},
   "outputs": [
    {
     "data": {
      "text/plain": [
       "torch.Size([334, 334])"
      ]
     },
     "execution_count": 37,
     "metadata": {},
     "output_type": "execute_result"
    }
   ],
   "source": [
    "cur_features_shortened = cur_vid_feat[:item[1][idx]]\n",
    "cur_features_shortened[:, item[2][idx][:item[1][idx]]].shape\n",
    "for"
   ]
  },
  {
   "cell_type": "code",
   "execution_count": 26,
   "metadata": {},
   "outputs": [
    {
     "data": {
      "text/plain": [
       "tensor([47, 47, 47, 47, 47, 47, 47,  4,  4,  4,  4,  4,  4,  4,  4])"
      ]
     },
     "execution_count": 26,
     "metadata": {},
     "output_type": "execute_result"
    }
   ],
   "source": [
    "item[2][idx][video_id_boundary_frames[cur_vidid][1]-6:video_id_boundary_frames[cur_vidid][1]+9]"
   ]
  },
  {
   "cell_type": "code",
   "execution_count": 25,
   "metadata": {},
   "outputs": [
    {
     "data": {
      "text/plain": [
       "6"
      ]
     },
     "execution_count": 25,
     "metadata": {},
     "output_type": "execute_result"
    }
   ],
   "source": [
    "video_id_boundary_frames[cur_vidid][0]-6,video_id_boundary_frames[cur_vidid][0]+9"
   ]
  },
  {
   "cell_type": "code",
   "execution_count": 27,
   "metadata": {},
   "outputs": [
    {
     "data": {
      "text/plain": [
       "tensor([[ 1.0794, 13.3350],\n",
       "        [ 1.0831, 13.5102],\n",
       "        [ 1.1767, 13.7662],\n",
       "        [ 1.3750, 14.0177],\n",
       "        [ 1.7298, 14.1727],\n",
       "        [ 2.1706, 14.0367],\n",
       "        [ 2.7338, 13.4563],\n",
       "        [ 4.5600, 12.1745],\n",
       "        [ 7.8450, 10.3246],\n",
       "        [11.0151,  8.3563],\n",
       "        [13.4775,  6.6546],\n",
       "        [14.1836,  5.2898],\n",
       "        [11.2142,  4.2791],\n",
       "        [ 5.9829,  3.5694],\n",
       "        [ 2.3440,  2.9389],\n",
       "        [ 0.7406,  2.3515]], device='cuda:0')"
      ]
     },
     "execution_count": 27,
     "metadata": {},
     "output_type": "execute_result"
    }
   ],
   "source": [
    "cur_vid_feat[video_id_boundary_frames[cur_vidid][1]-7:video_id_boundary_frames[cur_vidid][1]+9][:,[47,4]]"
   ]
  },
  {
   "cell_type": "code",
   "execution_count": 19,
   "metadata": {},
   "outputs": [],
   "source": [
    "def add_frames_and_get_classification_value(model_output, count_list, video_ids_list, labels_all, p_criterion):\n",
    "    new_selected_frames = {}\n",
    "#     new_selected_frames_probs_values = {}\n",
    "#     new_selected_frames_labels = {}\n",
    "    \n",
    "    labels_arr = []\n",
    "    probs_arr = []\n",
    "    \n",
    "    for i, video_id in enumerate(video_ids_list):\n",
    "        current_boundary_frames = boundaries_dict[video_id]\n",
    "        current_video_logits = model_output[i].T\n",
    "        current_video_count = count_list[i]\n",
    "        current_selected_frames = loaded_vidid_selected_frames[video_id]\n",
    "        labels = labels_all[i]\n",
    "        cur_seg_start = 0\n",
    "        for seg_num, ele in enumerate(current_boundary_frames):\n",
    "            cur_seg_end = ele + 1\n",
    "            total_seg_len = cur_seg_end - cur_seg_start\n",
    "            per_frames_far_from_boundary = int(0.3 * total_seg_len)\n",
    "            new_frames_start = cur_seg_start + per_frames_far_from_boundary\n",
    "            new_frames_end = cur_seg_end - per_frames_far_from_boundary\n",
    "            \n",
    "            frames_added = list(range(new_frames_start, new_frames_end))\n",
    "            frames_added.append(current_selected_frames[seg_num])\n",
    "            frames_added = list(set(frames_added))\n",
    "            frames_added.sort()\n",
    "            new_selected_frames[video_id] = frames_added\n",
    "\n",
    "            \n",
    "            labels_seg = torch.stack([labels[current_selected_frames[seg_num]]] * len(frames_added))\n",
    "            frames_added = torch.tensor(np.array(frames_added), dtype=torch.long, device=current_video_logits.device)\n",
    "            prob_seg = current_video_logits[frames_added, :]\n",
    "            \n",
    "            labels_arr.append(labels_seg)\n",
    "            probs_arr.append(prob_seg)\n",
    "            \n",
    "            cur_seg_start = cur_seg_end\n",
    "            \n",
    "    labels_arr = torch.cat(labels_arr)\n",
    "    probs_arr = torch.cat(probs_arr)\n",
    "    loss = p_criterion(probs_arr, labels_arr)\n",
    "    return loss"
   ]
  },
  {
   "cell_type": "code",
   "execution_count": 22,
   "metadata": {},
   "outputs": [],
   "source": [
    "def find_mask_for_this_class(video_len, weakly_labels_video, old_index_label_pair_list, \n",
    "                             cur_ele_searched, cur_index_searched):\n",
    "    searched_label_index = np.where(cur_ele_searched == np.array(weakly_labels_video))[0]\n",
    "    if len(searched_label_index) <= 1:\n",
    "        mask = torch.ones(video_len)\n",
    "        return mask\n",
    "    else:\n",
    "        start = 0\n",
    "        for i, index in enumerate(searched_label_index[:-1]):\n",
    "            cur_index_frame_selected = old_index_label_pair_list[index][0]\n",
    "            next_index = searched_label_index[i + 1]\n",
    "            next_index_frame_selected = old_index_label_pair_list[next_index][0]\n",
    "            \n",
    "            mid_select = (cur_index_frame_selected + next_index_frame_selected) // 2\n",
    "            \n",
    "            if index == cur_index_searched:\n",
    "                mask = torch.zeros(video_len)\n",
    "                mask[start: mid_select + 1] = 1\n",
    "                return mask\n",
    "            \n",
    "            start = mid_select\n",
    "        if searched_label_index[-1] == cur_index_searched:\n",
    "            mask = torch.zeros(video_len)\n",
    "            mask[start: video_len] = 1\n",
    "            return mask\n",
    "        else:\n",
    "            import pdb\n",
    "            pdb.set_trace()\n",
    "            return \"Error 1\"\n",
    "    return \"Error\""
   ]
  },
  {
   "cell_type": "code",
   "execution_count": 23,
   "metadata": {},
   "outputs": [
    {
     "data": {
      "text/plain": [
       "tensor([1., 1., 1., 1., 1., 1., 1., 1., 1., 1., 1., 1.])"
      ]
     },
     "execution_count": 23,
     "metadata": {},
     "output_type": "execute_result"
    }
   ],
   "source": [
    "# [2, 2, 2, 2, 3, 3, 4, 4, 3, 3, 2, 2, 2, 2]\n",
    "find_mask_for_this_class(12, [2, 3, 4, 3,  2], [3, 5, 7, 8, 10], 4, 2)"
   ]
  }
 ],
 "metadata": {
  "kernelspec": {
   "display_name": "Python 3",
   "language": "python",
   "name": "python3"
  },
  "language_info": {
   "codemirror_mode": {
    "name": "ipython",
    "version": 3
   },
   "file_extension": ".py",
   "mimetype": "text/x-python",
   "name": "python",
   "nbconvert_exporter": "python",
   "pygments_lexer": "ipython3",
   "version": "3.7.3"
  }
 },
 "nbformat": 4,
 "nbformat_minor": 4
}
