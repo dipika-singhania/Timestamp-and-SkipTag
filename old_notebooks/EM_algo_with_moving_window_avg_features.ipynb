{
 "cells": [
  {
   "cell_type": "code",
   "execution_count": 1,
   "metadata": {},
   "outputs": [],
   "source": [
    "%load_ext autoreload\n",
    "%autoreload 2"
   ]
  },
  {
   "cell_type": "code",
   "execution_count": 2,
   "metadata": {},
   "outputs": [],
   "source": [
    "import wandb\n",
    "import os, sys\n",
    "import glob\n",
    "import numpy as np\n",
    "import torch\n",
    "import pandas as pd\n",
    "import random\n",
    "import torch.nn as nn\n",
    "import pickle"
   ]
  },
  {
   "cell_type": "code",
   "execution_count": 3,
   "metadata": {},
   "outputs": [],
   "source": [
    "from model import C2F_TCN\n",
    "from dataset import AugmentDataset, collate_fn_override\n",
    "from utils import calculate_mof, dotdict"
   ]
  },
  {
   "cell_type": "code",
   "execution_count": 4,
   "metadata": {},
   "outputs": [
    {
     "name": "stderr",
     "output_type": "stream",
     "text": [
      "Failed to detect the name of this notebook, you can set it manually with the WANDB_NOTEBOOK_NAME environment variable to enable code saving.\n",
      "\u001b[34m\u001b[1mwandb\u001b[0m: Currently logged in as: \u001b[33mdipika_singhania\u001b[0m (use `wandb login --relogin` to force relogin)\n"
     ]
    },
    {
     "data": {
      "text/plain": [
       "True"
      ]
     },
     "execution_count": 4,
     "metadata": {},
     "output_type": "execute_result"
    }
   ],
   "source": [
    "os.environ[\"WANDB_API_KEY\"] = \"992b3b1371ba79f48484cfca522b3786d7fa52c2\"\n",
    "wandb.login()"
   ]
  },
  {
   "cell_type": "code",
   "execution_count": 5,
   "metadata": {},
   "outputs": [],
   "source": [
    "seed = 42\n",
    "\n",
    "# Ensure deterministic behavior\n",
    "def set_seed():\n",
    "    torch.backends.cudnn.benchmark = False\n",
    "    torch.backends.cudnn.deterministic = True\n",
    "    random.seed(seed)\n",
    "    np.random.seed(seed)\n",
    "    torch.manual_seed(seed)\n",
    "    torch.cuda.manual_seed_all(seed)\n",
    "    torch.cuda.manual_seed(seed)\n",
    "set_seed()\n",
    "\n",
    "# Device configuration\n",
    "os.environ['CUDA_VISIBLE_DEVICES']='4'\n",
    "# os.environ['CUDA_LAUNCH_BLOCKING']='6'\n",
    "device = torch.device(\"cuda:0\" if torch.cuda.is_available() else \"cpu\")"
   ]
  },
  {
   "cell_type": "code",
   "execution_count": 6,
   "metadata": {},
   "outputs": [
    {
     "name": "stdout",
     "output_type": "stream",
     "text": [
      "{'epochs': 500, 'num_class': 48, 'batch_size': 50, 'learning_rate': 0.0001, 'weight_decay': 0.003, 'dataset': 'Breakfast', 'architecture': 'unet-ensemble', 'features_file_name': '/mnt/ssd/all_users/dipika/ms_tcn/data/breakfast/features/', 'chunk_size': 10, 'max_frames_per_video': 1200, 'feature_size': 2048, 'ground_truth_files_dir': '/mnt/ssd/all_users/dipika/ms_tcn/data/breakfast/groundTruth/', 'label_id_csv': '/mnt/ssd/all_users/dipika/ms_tcn/data/breakfast/mapping.csv', 'gamma': 0.1, 'step_size': 500, 'split': 2, 'output_dir': '/mnt/ssd/all_users/dipika/ms_tcn/data/breakfast//results/em-maximize/', 'project_name': 'breakfast-split-2', 'train_split_file': '/mnt/ssd/all_users/dipika/ms_tcn/data/breakfast/splits/train.split2.bundle', 'test_split_file': '/mnt/ssd/all_users/dipika/ms_tcn/data/breakfast/splits/test.split2.bundle', 'all_files': '/mnt/ssd/all_users/dipika/ms_tcn/data/breakfast/splits/all_files.txt', 'cutoff': 8, 'data_per': 0.2, 'budget': 40, 'semi_supervised_split': '/mnt/ssd/all_users/dipika/ms_tcn/data/breakfast/semi_supervised/train.split2_amt0.2.bundle'}\n"
     ]
    }
   ],
   "source": [
    "config = dotdict(\n",
    "    epochs=500,\n",
    "    num_class=48,\n",
    "    batch_size=50,\n",
    "    learning_rate=1e-4,\n",
    "    weight_decay=3e-3,\n",
    "    dataset=\"Breakfast\",\n",
    "    architecture=\"unet-ensemble\",\n",
    "    features_file_name=\"/mnt/ssd/all_users/dipika/ms_tcn/data/breakfast/features/\",\n",
    "    chunk_size=10,\n",
    "    max_frames_per_video=1200,\n",
    "    feature_size=2048,\n",
    "    ground_truth_files_dir=\"/mnt/ssd/all_users/dipika/ms_tcn/data/breakfast/groundTruth/\",\n",
    "    label_id_csv=\"/mnt/ssd/all_users/dipika/ms_tcn/data/breakfast/mapping.csv\",\n",
    "    gamma=0.1,\n",
    "    step_size=500,\n",
    "    split=2,\n",
    "#     output_dir=\"/mnt/data/ar-datasets/dipika/breakfast/ms_tcn/data/breakfast/results/unsuper-finetune-split2-0.05-data-llr/\",\n",
    "    output_dir=\"/mnt/ssd/all_users/dipika/ms_tcn/data/breakfast//results/em-maximize/\",\n",
    "    project_name=\"breakfast-split-2\",\n",
    "    train_split_file=\"/mnt/ssd/all_users/dipika/ms_tcn/data/breakfast/splits/train.split{}.bundle\",\n",
    "    test_split_file=\"/mnt/ssd/all_users/dipika/ms_tcn/data/breakfast/splits/test.split{}.bundle\",\n",
    "    all_files=\"/mnt/ssd/all_users/dipika/ms_tcn/data/breakfast/splits/all_files.txt\",\n",
    "    cutoff=8,\n",
    "    data_per = 0.2,\n",
    "    budget=40,\n",
    "    semi_supervised_split=\"/mnt/ssd/all_users/dipika/ms_tcn/data/breakfast/semi_supervised/train.split{}_amt{}.bundle\")\n",
    "\n",
    "config.train_split_file = config.train_split_file.format(config.split)\n",
    "config.semi_supervised_split = config.semi_supervised_split.format(config.split, config.data_per)\n",
    "config.test_split_file = config.test_split_file.format(config.split)\n",
    "\n",
    "if not os.path.exists(config.output_dir):\n",
    "    os.mkdir(config.output_dir)\n",
    "\n",
    "print(config)"
   ]
  },
  {
   "cell_type": "code",
   "execution_count": 22,
   "metadata": {},
   "outputs": [
    {
     "name": "stdout",
     "output_type": "stream",
     "text": [
      "Number of videos logged in train fold is 1261\n",
      "Number of videos not found in train fold is 0\n",
      "Number of videos logged in test fold is 451\n",
      "Number of videos not found in test fold is 0\n"
     ]
    }
   ],
   "source": [
    "# traindataset = AugmentDataset(config, fold='train', fold_file_name=config.semi_supervised_split, augment=False)\n",
    "traindataset = AugmentDataset(config, fold='train', fold_file_name=config.train_split_file, augment=False)\n",
    "testdataset = AugmentDataset(config, fold='test', fold_file_name=config.test_split_file, augment=False)"
   ]
  },
  {
   "cell_type": "code",
   "execution_count": 8,
   "metadata": {},
   "outputs": [],
   "source": [
    "def _init_fn(worker_id):\n",
    "    np.random.seed(int(seed))\n",
    "trainloader = torch.utils.data.DataLoader(dataset=traindataset,\n",
    "                                          batch_size=config.batch_size, \n",
    "                                          shuffle=True,\n",
    "                                          pin_memory=True, num_workers=7, collate_fn=collate_fn_override,\n",
    "                                          worker_init_fn=_init_fn)"
   ]
  },
  {
   "cell_type": "code",
   "execution_count": 30,
   "metadata": {},
   "outputs": [],
   "source": [
    "def _init_fn(worker_id):\n",
    "    np.random.seed(int(seed))\n",
    "trainloader = torch.utils.data.DataLoader(dataset=traindataset,\n",
    "                                          batch_size=config.batch_size, \n",
    "                                          shuffle=True,\n",
    "                                          pin_memory=True, num_workers=4, collate_fn=collate_fn_override,\n",
    "                                          worker_init_fn=_init_fn)\n",
    "testloader = torch.utils.data.DataLoader(dataset=testdataset,\n",
    "                                          batch_size=config.batch_size, \n",
    "                                          shuffle=False,\n",
    "                                          pin_memory=True, num_workers=4, collate_fn=collate_fn_override,\n",
    "                                          worker_init_fn=_init_fn)"
   ]
  },
  {
   "cell_type": "code",
   "execution_count": 9,
   "metadata": {},
   "outputs": [],
   "source": [
    "# item = iter(trainloader).next()\n",
    "# print(item[0]) # -- data feature\n",
    "# print(item[1]) # -- valid count\n",
    "# item[2] # -- Actual labels\n",
    "# print(item[5]) # video names\n",
    "# video_id_boundary_frames"
   ]
  },
  {
   "cell_type": "code",
   "execution_count": 33,
   "metadata": {},
   "outputs": [],
   "source": [
    "loaded_vidid_selected_frames = pickle.load(open(\"dump_dir/breakfast_split2_selected_frames_dict.pkl\", \"rb\"))\n",
    "# loaded_vidid_selected_frames"
   ]
  },
  {
   "cell_type": "code",
   "execution_count": 34,
   "metadata": {},
   "outputs": [],
   "source": [
    "video_id_boundary_frames = pickle.load(open(\"dump_dir/breakfast_split2_boundary_frames_dict.pkl\", \"rb\"))\n",
    "# video_id_boundary_frames"
   ]
  },
  {
   "cell_type": "code",
   "execution_count": 12,
   "metadata": {},
   "outputs": [],
   "source": [
    "set_seed()\n",
    "model = C2F_TCN(n_channels=config.feature_size, n_classes=config.num_class).to(device)\n",
    "optimizer = torch.optim.Adam(model.parameters(), lr=1e-3, weight_decay=3e-3)\n",
    "\n",
    "# Requires loaded_vidid_selected_frames, boundaries_dict\n",
    "cos = nn.CosineSimilarity(dim=0, eps=1e-6)\n",
    "ce_criterion = nn.CrossEntropyLoss(ignore_index=-100)"
   ]
  },
  {
   "cell_type": "code",
   "execution_count": 13,
   "metadata": {},
   "outputs": [],
   "source": [
    "def prob_vals_per_segment(selected_frames, cur_vid_feat, cumsum_feat, cur_vid_count, window=2):\n",
    "    prob_each_segment = []\n",
    "    window = 5\n",
    "    \n",
    "    for i, cur_ele in enumerate(selected_frames[:-1]):\n",
    "\n",
    "        next_ele = selected_frames[i + 1]\n",
    "\n",
    "        distance = []\n",
    "        for j in range(cur_ele, next_ele):\n",
    "            leftmost = max(j - window, 0)\n",
    "            rightmost = min(j + window, cur_vid_count - 1)\n",
    "            avg_feature = torch.mean(cur_vid_feat[leftmost: rightmost+1], dim=0)\n",
    "            dist = cos(avg_feature, cur_vid_feat[leftmost]) + cos(avg_feature, cur_vid_feat[rightmost])\n",
    "#             dist = -torch.max(torch.abs(avg_feature - cur_vid_feat[leftmost]))\n",
    "#             dist += -torch.max(torch.abs(avg_feature - cur_vid_feat[rightmost+1]))\n",
    "            distance.append(dist)\n",
    "            \n",
    "        prob = torch.softmax(-torch.stack(distance)*10, dim=0)\n",
    "        prob_each_segment.append(prob)\n",
    "\n",
    "    return prob_each_segment"
   ]
  },
  {
   "cell_type": "code",
   "execution_count": 14,
   "metadata": {},
   "outputs": [],
   "source": [
    "boundaries_dict = {}"
   ]
  },
  {
   "cell_type": "code",
   "execution_count": 15,
   "metadata": {},
   "outputs": [],
   "source": [
    "def get_estimated_boundary(data_feat, data_count, video_ids, window=2): #, loaded_vidid_selected_frames, boundaries_dict):\n",
    "    global boundaries_dict\n",
    "    # Requires loaded_vidid_selected_frames, boundaries_dict\n",
    "    cos = nn.CosineSimilarity(dim=1, eps=1e-6)\n",
    "    for iter_num in range(len(data_count)):\n",
    "        cur_vidid = video_ids[iter_num]\n",
    "        cur_vid_feat = data_feat[iter_num]\n",
    "        cur_vid_count = data_count[iter_num]\n",
    "        \n",
    "        selected_frames = loaded_vidid_selected_frames[cur_vidid]\n",
    "        cumsum_feat = torch.cumsum(cur_vid_feat, dim=0)\n",
    "        prob_each_segment = prob_vals_per_segment(selected_frames, cur_vid_feat, cumsum_feat, cur_vid_count)\n",
    "        bound_list = []\n",
    "        for i, cur_seg_prob in enumerate(prob_each_segment):\n",
    "            sum_prob = torch.sum(cur_seg_prob)\n",
    "            \n",
    "            current_frame_index = torch.tensor(np.arange(selected_frames[i],\n",
    "                                                         selected_frames[i + 1], 1), \n",
    "                                               dtype=torch.long, device=cur_vid_feat.device)\n",
    "            sum_prob_ele = torch.sum(cur_seg_prob * current_frame_index)\n",
    "            expected_bound = sum_prob_ele / sum_prob\n",
    "        \n",
    "            bound_list.append(int(expected_bound.item() + 1e-3))\n",
    "\n",
    "        bound_list.append((cur_vid_count - 1).item())\n",
    "        boundaries_dict[cur_vidid] = torch.tensor(bound_list, dtype=torch.long, device=cur_vid_feat.device)"
   ]
  },
  {
   "cell_type": "code",
   "execution_count": 16,
   "metadata": {},
   "outputs": [],
   "source": [
    "def get_boundary_probabilities(data_feat, data_count, video_ids, p_boundary): #, loaded_vidid_selected_frames, boundaries_dict):\n",
    "    prob_list = []\n",
    "    for iter_num in range(len(data_count)):\n",
    "        cur_vidid = video_ids[iter_num]\n",
    "        cur_vid_feat = data_feat[iter_num]\n",
    "        cur_vid_count = data_count[iter_num]\n",
    "        \n",
    "        selected_frames = torch.tensor(loaded_vidid_selected_frames[cur_vidid], dtype=torch.long, \n",
    "                                       device=cur_vid_feat.device)\n",
    "        bound_list = p_boundary[cur_vidid].to(device)\n",
    "\n",
    "        cumsum_feat = torch.cumsum(cur_vid_feat, dim=0)\n",
    "        \n",
    "        avg_from_st_ele = (cumsum_feat[bound_list[:-1], :] - cumsum_feat[(selected_frames[:-1] - 1), :]) / \\\n",
    "                            ((bound_list[:-1] - (selected_frames[:-1] - 1))[:, None])\n",
    "            \n",
    "        avg_from_end_ele = cumsum_feat[selected_frames[1:], :] - cumsum_feat[(bound_list[:-1] - 1), :] / \\\n",
    "                               ((selected_frames[1:] - (bound_list[:-1] - 1))[:, None])\n",
    "        \n",
    "        dist_value_1 = cos(cur_vid_feat[selected_frames[:-1], :], avg_from_st_ele)\n",
    "        dist_value_2 = cos(cur_vid_feat[selected_frames[1:], :], avg_from_end_ele)\n",
    "#         dist_value_1 = torch.norm(cur_vid_feat[selected_frames[:-1], :] - avg_from_st_ele, dim=1)\n",
    "#         dist_value_2 = torch.norm(cur_vid_feat[selected_frames[1:], :] - avg_from_end_ele, dim=1)\n",
    "        \n",
    "        dist_value_1 = torch.exp(dist_value_1 / 0.1)\n",
    "        dist_value_2 = torch.exp(dist_value_2 / 0.1)\n",
    "\n",
    "        prob = dist_value_1 #/ (dist_value_1 + dist_value_2)\n",
    "#         prob = dist_value_2 / (dist_value_1 + dist_value_2)\n",
    "        if torch.any(torch.isnan(prob)):\n",
    "            import pdb\n",
    "            pdb.set_trace()\n",
    "        \n",
    "        sum_prob_list = []\n",
    "        prob_each_segment = prob_vals_per_segment(selected_frames, cur_vid_feat, cumsum_feat)\n",
    "        for i, cur_seg_prob in enumerate(prob_each_segment):\n",
    "            sum_prob = torch.sum(cur_seg_prob)\n",
    "            sum_prob_list.append(sum_prob)\n",
    "\n",
    "        final_prob = prob / torch.tensor(sum_prob_list, dtype=prob.dtype, device=prob.device)\n",
    "        prob_list.append(final_prob)\n",
    "        \n",
    "    return torch.cat(prob_list)"
   ]
  },
  {
   "cell_type": "code",
   "execution_count": 17,
   "metadata": {},
   "outputs": [],
   "source": [
    "def get_boundary_err():\n",
    "    err_list = []\n",
    "    for ele in boundaries_dict.keys():\n",
    "        estimated = boundaries_dict[ele].detach().cpu().numpy()\n",
    "        actual = np.array(video_id_boundary_frames[ele])\n",
    "        if len(actual) != len(estimated):\n",
    "            print(ele)\n",
    "            continue\n",
    "        \n",
    "        mse_err = (actual - estimated)**2\n",
    "        err_list.append(mse_err)\n",
    "    print(f\"Avergage error = {np.sqrt(np.mean(np.concatenate(err_list))):.3f}\")"
   ]
  },
  {
   "cell_type": "code",
   "execution_count": 27,
   "metadata": {},
   "outputs": [],
   "source": [
    "def get_classification_loss(features, labels_all, video_ids):\n",
    "    global ce_criterion\n",
    "    labels_arr = []\n",
    "    selected_probs_arr = []\n",
    "    for iter_num in range(len(features)):\n",
    "        cur_vid_feat = features[iter_num].T\n",
    "        cur_vidid = video_ids[iter_num]\n",
    "        labels = labels_all[iter_num]\n",
    "        \n",
    "        selected_frames = torch.tensor(loaded_vidid_selected_frames[cur_vidid], dtype=torch.long, \n",
    "                                       device=cur_vid_feat.device)\n",
    "        selected_labels = labels[selected_frames]\n",
    "        selected_probs = cur_vid_feat[selected_frames, :]\n",
    "        \n",
    "        labels_arr.append(selected_labels)\n",
    "        selected_probs_arr.append(selected_probs)\n",
    "        \n",
    "    labels_arr = torch.cat(labels_arr)\n",
    "    selected_probs_arr = torch.cat(selected_probs_arr)\n",
    "    \n",
    "    return ce_criterion(selected_probs_arr, labels_arr)"
   ]
  },
  {
   "cell_type": "code",
   "execution_count": 28,
   "metadata": {},
   "outputs": [
    {
     "name": "stderr",
     "output_type": "stream",
     "text": [
      "/home/dipika16/anaconda3/envs/video_r/lib/python3.7/site-packages/ipykernel_launcher.py:11: UserWarning: To copy construct from a tensor, it is recommended to use sourceTensor.clone().detach() or sourceTensor.clone().detach().requires_grad_(True), rather than torch.tensor(sourceTensor).\n",
      "  # This is added back by InteractiveShellApp.init_path()\n"
     ]
    },
    {
     "name": "stdout",
     "output_type": "stream",
     "text": [
      "Avergage error = 20.112\n",
      "Starting Maximization\n",
      "Current loss 5.865112781524658\n",
      "Calculating Expectation\n",
      "Avergage error = 20.208\n",
      "Starting Maximization\n",
      "Current loss 5.755773544311523\n",
      "Starting Maximization\n",
      "Current loss 5.732485771179199\n",
      "Starting Maximization\n",
      "Current loss 5.352148056030273\n",
      "Starting Maximization\n",
      "Current loss 5.064152717590332\n",
      "Starting Maximization\n",
      "Current loss 5.00228214263916\n",
      "Starting Maximization\n",
      "Current loss 4.6894426345825195\n",
      "Starting Maximization\n",
      "Current loss 4.816783428192139\n",
      "Starting Maximization\n",
      "Current loss 4.721427917480469\n",
      "Starting Maximization\n",
      "Current loss 4.450620651245117\n",
      "Starting Maximization\n",
      "Current loss 4.39108943939209\n",
      "Calculating Expectation\n",
      "Avergage error = 20.185\n",
      "Starting Maximization\n",
      "Current loss 4.473072052001953\n",
      "Starting Maximization\n",
      "Current loss 4.365487098693848\n",
      "Starting Maximization\n",
      "Current loss 4.183102130889893\n",
      "Starting Maximization\n",
      "Current loss 4.162242889404297\n",
      "Starting Maximization\n",
      "Current loss 3.819270372390747\n",
      "Starting Maximization\n",
      "Current loss 3.953507423400879\n",
      "Starting Maximization\n",
      "Current loss 3.9773788452148438\n",
      "Starting Maximization\n",
      "Current loss 3.7886064052581787\n",
      "Starting Maximization\n",
      "Current loss 3.5276529788970947\n",
      "Starting Maximization\n",
      "Current loss 3.6104836463928223\n",
      "Calculating Expectation\n",
      "Avergage error = 19.971\n",
      "Starting Maximization\n",
      "Current loss 3.6840062141418457\n",
      "Starting Maximization\n",
      "Current loss 3.38993501663208\n",
      "Starting Maximization\n",
      "Current loss 3.3740365505218506\n",
      "Starting Maximization\n",
      "Current loss 3.3565690517425537\n",
      "Starting Maximization\n",
      "Current loss 3.4671342372894287\n",
      "Starting Maximization\n",
      "Current loss 3.3785245418548584\n",
      "Starting Maximization\n",
      "Current loss 3.4785308837890625\n",
      "Starting Maximization\n",
      "Current loss 3.622549533843994\n",
      "Starting Maximization\n",
      "Current loss 3.3723320960998535\n",
      "Starting Maximization\n",
      "Current loss 3.3460171222686768\n",
      "Calculating Expectation\n",
      "Avergage error = 19.956\n",
      "Starting Maximization\n",
      "Current loss 3.327150583267212\n",
      "Starting Maximization\n",
      "Current loss 3.55696439743042\n",
      "Starting Maximization\n",
      "Current loss 3.5804412364959717\n",
      "Starting Maximization\n",
      "Current loss 3.616877555847168\n",
      "Starting Maximization\n",
      "Current loss 3.33453106880188\n",
      "Starting Maximization\n",
      "Current loss 3.4315648078918457\n",
      "Starting Maximization\n",
      "Current loss 3.257889986038208\n",
      "Starting Maximization\n",
      "Current loss 3.1707406044006348\n",
      "Starting Maximization\n",
      "Current loss 3.108433246612549\n",
      "Starting Maximization\n",
      "Current loss 3.01628041267395\n",
      "Calculating Expectation\n",
      "Avergage error = 20.030\n",
      "Starting Maximization\n",
      "Current loss 3.004364490509033\n",
      "Starting Maximization\n",
      "Current loss 3.119765043258667\n",
      "Starting Maximization\n",
      "Current loss 2.9445858001708984\n",
      "Starting Maximization\n",
      "Current loss 3.0518293380737305\n",
      "Starting Maximization\n",
      "Current loss 2.89442777633667\n",
      "Starting Maximization\n",
      "Current loss 2.9315152168273926\n",
      "Starting Maximization\n",
      "Current loss 2.946450710296631\n",
      "Starting Maximization\n",
      "Current loss 2.769810914993286\n",
      "Starting Maximization\n",
      "Current loss 2.8646397590637207\n",
      "Starting Maximization\n",
      "Current loss 2.918936014175415\n",
      "Calculating Expectation\n",
      "Avergage error = 19.928\n",
      "Starting Maximization\n",
      "Current loss 3.1843528747558594\n",
      "Starting Maximization\n",
      "Current loss 2.8897159099578857\n",
      "Starting Maximization\n",
      "Current loss 3.2217204570770264\n",
      "Starting Maximization\n",
      "Current loss 3.385744571685791\n",
      "Starting Maximization\n",
      "Current loss 3.289123058319092\n",
      "Starting Maximization\n",
      "Current loss 3.060670852661133\n",
      "Starting Maximization\n",
      "Current loss 2.954813003540039\n",
      "Starting Maximization\n",
      "Current loss 2.843250274658203\n",
      "Starting Maximization\n",
      "Current loss 2.8063013553619385\n",
      "Starting Maximization\n",
      "Current loss 2.7875778675079346\n",
      "Calculating Expectation\n",
      "Avergage error = 19.988\n",
      "Starting Maximization\n",
      "Current loss 2.6595237255096436\n",
      "Starting Maximization\n",
      "Current loss 2.6652045249938965\n",
      "Starting Maximization\n",
      "Current loss 2.6351237297058105\n",
      "Starting Maximization\n",
      "Current loss 2.6849281787872314\n",
      "Starting Maximization\n",
      "Current loss 2.6440327167510986\n",
      "Starting Maximization\n",
      "Current loss 2.6922953128814697\n",
      "Starting Maximization\n",
      "Current loss 2.6358847618103027\n",
      "Starting Maximization\n",
      "Current loss 2.714280366897583\n",
      "Starting Maximization\n",
      "Current loss 2.5360798835754395\n",
      "Starting Maximization\n",
      "Current loss 2.603071928024292\n",
      "Calculating Expectation\n",
      "Avergage error = 19.920\n",
      "Starting Maximization\n",
      "Current loss 2.646090269088745\n",
      "Starting Maximization\n",
      "Current loss 2.606037139892578\n",
      "Starting Maximization\n",
      "Current loss 2.6011669635772705\n",
      "Starting Maximization\n",
      "Current loss 2.4974377155303955\n",
      "Starting Maximization\n",
      "Current loss 2.6505701541900635\n",
      "Starting Maximization\n",
      "Current loss 2.5965077877044678\n",
      "Starting Maximization\n",
      "Current loss 2.743781328201294\n",
      "Starting Maximization\n",
      "Current loss 2.752922773361206\n",
      "Starting Maximization\n",
      "Current loss 2.7353570461273193\n",
      "Starting Maximization\n",
      "Current loss 2.6618075370788574\n",
      "Calculating Expectation\n",
      "Avergage error = 19.855\n",
      "Starting Maximization\n",
      "Current loss 2.5342488288879395\n",
      "Starting Maximization\n",
      "Current loss 2.5827724933624268\n",
      "Starting Maximization\n",
      "Current loss 2.4985477924346924\n",
      "Starting Maximization\n",
      "Current loss 2.5451841354370117\n",
      "Starting Maximization\n",
      "Current loss 2.6468586921691895\n",
      "Starting Maximization\n",
      "Current loss 2.457188367843628\n",
      "Starting Maximization\n",
      "Current loss 2.5233941078186035\n",
      "Starting Maximization\n",
      "Current loss 2.5883257389068604\n",
      "Starting Maximization\n",
      "Current loss 2.565250873565674\n",
      "Starting Maximization\n",
      "Current loss 2.5228803157806396\n",
      "Calculating Expectation\n",
      "Avergage error = 19.905\n",
      "Starting Maximization\n",
      "Current loss 2.553593158721924\n",
      "Starting Maximization\n",
      "Current loss 2.5679807662963867\n",
      "Starting Maximization\n",
      "Current loss 2.606584072113037\n",
      "Starting Maximization\n",
      "Current loss 2.486295461654663\n",
      "Starting Maximization\n",
      "Current loss 2.5482518672943115\n",
      "Starting Maximization\n",
      "Current loss 2.527451992034912\n",
      "Starting Maximization\n",
      "Current loss 2.4996848106384277\n",
      "Starting Maximization\n",
      "Current loss 2.524101495742798\n",
      "Starting Maximization\n",
      "Current loss 2.5516107082366943\n",
      "Starting Maximization\n",
      "Current loss 2.558800458908081\n",
      "Calculating Expectation\n",
      "Avergage error = 20.077\n",
      "Starting Maximization\n",
      "Current loss 2.4473202228546143\n",
      "Starting Maximization\n",
      "Current loss 2.5955169200897217\n",
      "Starting Maximization\n",
      "Current loss 2.5723814964294434\n",
      "Starting Maximization\n",
      "Current loss 2.4787936210632324\n",
      "Starting Maximization\n",
      "Current loss 2.715998888015747\n",
      "Starting Maximization\n",
      "Current loss 2.626840353012085\n",
      "Starting Maximization\n",
      "Current loss 2.571302890777588\n",
      "Starting Maximization\n",
      "Current loss 2.644163131713867\n",
      "Starting Maximization\n",
      "Current loss 2.5507335662841797\n",
      "Starting Maximization\n",
      "Current loss 2.717036485671997\n",
      "Calculating Expectation\n",
      "Avergage error = 20.101\n",
      "Starting Maximization\n",
      "Current loss 2.5863454341888428\n",
      "Starting Maximization\n",
      "Current loss 2.4915130138397217\n",
      "Starting Maximization\n",
      "Current loss 2.621616840362549\n",
      "Starting Maximization\n",
      "Current loss 2.5505998134613037\n",
      "Starting Maximization\n",
      "Current loss 2.553128957748413\n",
      "Starting Maximization\n",
      "Current loss 2.7174758911132812\n",
      "Starting Maximization\n",
      "Current loss 2.774289131164551\n",
      "Starting Maximization\n",
      "Current loss 2.7670249938964844\n",
      "Starting Maximization\n",
      "Current loss 2.6445682048797607\n",
      "Starting Maximization\n",
      "Current loss 2.5516886711120605\n",
      "Calculating Expectation\n",
      "Avergage error = 20.237\n",
      "Starting Maximization\n",
      "Current loss 2.488281011581421\n",
      "Starting Maximization\n",
      "Current loss 2.4317994117736816\n",
      "Starting Maximization\n",
      "Current loss 2.5133347511291504\n",
      "Starting Maximization\n",
      "Current loss 2.6617276668548584\n",
      "Starting Maximization\n",
      "Current loss 2.677480697631836\n",
      "Starting Maximization\n",
      "Current loss 2.6057567596435547\n",
      "Starting Maximization\n",
      "Current loss 2.7178726196289062\n",
      "Starting Maximization\n",
      "Current loss 2.6227307319641113\n",
      "Starting Maximization\n",
      "Current loss 2.6369917392730713\n",
      "Starting Maximization\n",
      "Current loss 2.6036360263824463\n",
      "Calculating Expectation\n",
      "Avergage error = 19.894\n",
      "Starting Maximization\n",
      "Current loss 2.506899118423462\n",
      "Starting Maximization\n",
      "Current loss 2.568363666534424\n",
      "Starting Maximization\n",
      "Current loss 2.614121198654175\n",
      "Starting Maximization\n",
      "Current loss 2.531175136566162\n",
      "Starting Maximization\n",
      "Current loss 2.6761438846588135\n",
      "Starting Maximization\n",
      "Current loss 2.728044271469116\n",
      "Starting Maximization\n",
      "Current loss 2.7865285873413086\n",
      "Starting Maximization\n",
      "Current loss 2.672376871109009\n",
      "Starting Maximization\n",
      "Current loss 2.746605634689331\n",
      "Starting Maximization\n"
     ]
    },
    {
     "name": "stdout",
     "output_type": "stream",
     "text": [
      "Current loss 2.60371470451355\n",
      "Calculating Expectation\n",
      "Avergage error = 20.055\n",
      "Starting Maximization\n",
      "Current loss 2.52912974357605\n",
      "Starting Maximization\n",
      "Current loss 2.6835691928863525\n",
      "Starting Maximization\n",
      "Current loss 2.741072177886963\n",
      "Starting Maximization\n",
      "Current loss 2.7119293212890625\n",
      "Starting Maximization\n",
      "Current loss 2.5977976322174072\n",
      "Starting Maximization\n",
      "Current loss 2.5738778114318848\n",
      "Starting Maximization\n",
      "Current loss 2.4984257221221924\n",
      "Starting Maximization\n",
      "Current loss 2.455995798110962\n",
      "Starting Maximization\n",
      "Current loss 2.5851333141326904\n",
      "Starting Maximization\n",
      "Current loss 2.5419442653656006\n",
      "Calculating Expectation\n",
      "Avergage error = 20.021\n",
      "Starting Maximization\n",
      "Current loss 2.509307384490967\n",
      "Starting Maximization\n",
      "Current loss 2.575324535369873\n",
      "Starting Maximization\n",
      "Current loss 2.7005209922790527\n",
      "Starting Maximization\n",
      "Current loss 2.565095901489258\n",
      "Starting Maximization\n",
      "Current loss 2.5789401531219482\n",
      "Starting Maximization\n",
      "Current loss 2.457075357437134\n",
      "Starting Maximization\n",
      "Current loss 2.550447940826416\n",
      "Starting Maximization\n",
      "Current loss 2.532252550125122\n",
      "Starting Maximization\n",
      "Current loss 2.58476185798645\n",
      "Starting Maximization\n",
      "Current loss 2.5186104774475098\n",
      "Calculating Expectation\n",
      "Avergage error = 20.007\n",
      "Starting Maximization\n",
      "Current loss 2.5343310832977295\n",
      "Starting Maximization\n",
      "Current loss 2.7264833450317383\n",
      "Starting Maximization\n",
      "Current loss 2.634915351867676\n",
      "Starting Maximization\n"
     ]
    },
    {
     "ename": "KeyboardInterrupt",
     "evalue": "",
     "output_type": "error",
     "traceback": [
      "\u001b[0;31m---------------------------------------------------------------------------\u001b[0m",
      "\u001b[0;31mKeyboardInterrupt\u001b[0m                         Traceback (most recent call last)",
      "\u001b[0;32m<ipython-input-28-b12b6bc2f6bb>\u001b[0m in \u001b[0;36m<module>\u001b[0;34m\u001b[0m\n\u001b[1;32m      6\u001b[0m \u001b[0;32mfor\u001b[0m \u001b[0mepoch\u001b[0m \u001b[0;32min\u001b[0m \u001b[0mrange\u001b[0m\u001b[0;34m(\u001b[0m\u001b[0;36m500\u001b[0m\u001b[0;34m)\u001b[0m\u001b[0;34m:\u001b[0m\u001b[0;34m\u001b[0m\u001b[0;34m\u001b[0m\u001b[0m\n\u001b[1;32m      7\u001b[0m     \u001b[0mprint\u001b[0m\u001b[0;34m(\u001b[0m\u001b[0;34m\"Starting Maximization\"\u001b[0m\u001b[0;34m)\u001b[0m\u001b[0;34m\u001b[0m\u001b[0;34m\u001b[0m\u001b[0m\n\u001b[0;32m----> 8\u001b[0;31m     \u001b[0;32mfor\u001b[0m \u001b[0mi\u001b[0m\u001b[0;34m,\u001b[0m \u001b[0mitem\u001b[0m \u001b[0;32min\u001b[0m \u001b[0menumerate\u001b[0m\u001b[0;34m(\u001b[0m\u001b[0mtrainloader\u001b[0m\u001b[0;34m)\u001b[0m\u001b[0;34m:\u001b[0m\u001b[0;34m\u001b[0m\u001b[0;34m\u001b[0m\u001b[0m\n\u001b[0m\u001b[1;32m      9\u001b[0m         \u001b[0mitem\u001b[0m\u001b[0;34m[\u001b[0m\u001b[0;36m0\u001b[0m\u001b[0;34m]\u001b[0m \u001b[0;34m=\u001b[0m \u001b[0mitem\u001b[0m\u001b[0;34m[\u001b[0m\u001b[0;36m0\u001b[0m\u001b[0;34m]\u001b[0m\u001b[0;34m.\u001b[0m\u001b[0mto\u001b[0m\u001b[0;34m(\u001b[0m\u001b[0mdevice\u001b[0m\u001b[0;34m)\u001b[0m\u001b[0;34m\u001b[0m\u001b[0;34m\u001b[0m\u001b[0m\n\u001b[1;32m     10\u001b[0m         \u001b[0mitem\u001b[0m\u001b[0;34m[\u001b[0m\u001b[0;36m1\u001b[0m\u001b[0;34m]\u001b[0m \u001b[0;34m=\u001b[0m \u001b[0mitem\u001b[0m\u001b[0;34m[\u001b[0m\u001b[0;36m1\u001b[0m\u001b[0;34m]\u001b[0m\u001b[0;34m.\u001b[0m\u001b[0mto\u001b[0m\u001b[0;34m(\u001b[0m\u001b[0mdevice\u001b[0m\u001b[0;34m)\u001b[0m\u001b[0;34m\u001b[0m\u001b[0;34m\u001b[0m\u001b[0m\n",
      "\u001b[0;32m~/anaconda3/envs/video_r/lib/python3.7/site-packages/torch/utils/data/dataloader.py\u001b[0m in \u001b[0;36m__next__\u001b[0;34m(self)\u001b[0m\n\u001b[1;32m    433\u001b[0m         \u001b[0;32mif\u001b[0m \u001b[0mself\u001b[0m\u001b[0;34m.\u001b[0m\u001b[0m_sampler_iter\u001b[0m \u001b[0;32mis\u001b[0m \u001b[0;32mNone\u001b[0m\u001b[0;34m:\u001b[0m\u001b[0;34m\u001b[0m\u001b[0;34m\u001b[0m\u001b[0m\n\u001b[1;32m    434\u001b[0m             \u001b[0mself\u001b[0m\u001b[0;34m.\u001b[0m\u001b[0m_reset\u001b[0m\u001b[0;34m(\u001b[0m\u001b[0;34m)\u001b[0m\u001b[0;34m\u001b[0m\u001b[0;34m\u001b[0m\u001b[0m\n\u001b[0;32m--> 435\u001b[0;31m         \u001b[0mdata\u001b[0m \u001b[0;34m=\u001b[0m \u001b[0mself\u001b[0m\u001b[0;34m.\u001b[0m\u001b[0m_next_data\u001b[0m\u001b[0;34m(\u001b[0m\u001b[0;34m)\u001b[0m\u001b[0;34m\u001b[0m\u001b[0;34m\u001b[0m\u001b[0m\n\u001b[0m\u001b[1;32m    436\u001b[0m         \u001b[0mself\u001b[0m\u001b[0;34m.\u001b[0m\u001b[0m_num_yielded\u001b[0m \u001b[0;34m+=\u001b[0m \u001b[0;36m1\u001b[0m\u001b[0;34m\u001b[0m\u001b[0;34m\u001b[0m\u001b[0m\n\u001b[1;32m    437\u001b[0m         \u001b[0;32mif\u001b[0m \u001b[0mself\u001b[0m\u001b[0;34m.\u001b[0m\u001b[0m_dataset_kind\u001b[0m \u001b[0;34m==\u001b[0m \u001b[0m_DatasetKind\u001b[0m\u001b[0;34m.\u001b[0m\u001b[0mIterable\u001b[0m \u001b[0;32mand\u001b[0m\u001b[0;31m \u001b[0m\u001b[0;31m\\\u001b[0m\u001b[0;34m\u001b[0m\u001b[0;34m\u001b[0m\u001b[0m\n",
      "\u001b[0;32m~/anaconda3/envs/video_r/lib/python3.7/site-packages/torch/utils/data/dataloader.py\u001b[0m in \u001b[0;36m_next_data\u001b[0;34m(self)\u001b[0m\n\u001b[1;32m   1066\u001b[0m \u001b[0;34m\u001b[0m\u001b[0m\n\u001b[1;32m   1067\u001b[0m             \u001b[0;32massert\u001b[0m \u001b[0;32mnot\u001b[0m \u001b[0mself\u001b[0m\u001b[0;34m.\u001b[0m\u001b[0m_shutdown\u001b[0m \u001b[0;32mand\u001b[0m \u001b[0mself\u001b[0m\u001b[0;34m.\u001b[0m\u001b[0m_tasks_outstanding\u001b[0m \u001b[0;34m>\u001b[0m \u001b[0;36m0\u001b[0m\u001b[0;34m\u001b[0m\u001b[0;34m\u001b[0m\u001b[0m\n\u001b[0;32m-> 1068\u001b[0;31m             \u001b[0midx\u001b[0m\u001b[0;34m,\u001b[0m \u001b[0mdata\u001b[0m \u001b[0;34m=\u001b[0m \u001b[0mself\u001b[0m\u001b[0;34m.\u001b[0m\u001b[0m_get_data\u001b[0m\u001b[0;34m(\u001b[0m\u001b[0;34m)\u001b[0m\u001b[0;34m\u001b[0m\u001b[0;34m\u001b[0m\u001b[0m\n\u001b[0m\u001b[1;32m   1069\u001b[0m             \u001b[0mself\u001b[0m\u001b[0;34m.\u001b[0m\u001b[0m_tasks_outstanding\u001b[0m \u001b[0;34m-=\u001b[0m \u001b[0;36m1\u001b[0m\u001b[0;34m\u001b[0m\u001b[0;34m\u001b[0m\u001b[0m\n\u001b[1;32m   1070\u001b[0m             \u001b[0;32mif\u001b[0m \u001b[0mself\u001b[0m\u001b[0;34m.\u001b[0m\u001b[0m_dataset_kind\u001b[0m \u001b[0;34m==\u001b[0m \u001b[0m_DatasetKind\u001b[0m\u001b[0;34m.\u001b[0m\u001b[0mIterable\u001b[0m\u001b[0;34m:\u001b[0m\u001b[0;34m\u001b[0m\u001b[0;34m\u001b[0m\u001b[0m\n",
      "\u001b[0;32m~/anaconda3/envs/video_r/lib/python3.7/site-packages/torch/utils/data/dataloader.py\u001b[0m in \u001b[0;36m_get_data\u001b[0;34m(self)\u001b[0m\n\u001b[1;32m   1022\u001b[0m         \u001b[0;32melif\u001b[0m \u001b[0mself\u001b[0m\u001b[0;34m.\u001b[0m\u001b[0m_pin_memory\u001b[0m\u001b[0;34m:\u001b[0m\u001b[0;34m\u001b[0m\u001b[0;34m\u001b[0m\u001b[0m\n\u001b[1;32m   1023\u001b[0m             \u001b[0;32mwhile\u001b[0m \u001b[0mself\u001b[0m\u001b[0;34m.\u001b[0m\u001b[0m_pin_memory_thread\u001b[0m\u001b[0;34m.\u001b[0m\u001b[0mis_alive\u001b[0m\u001b[0;34m(\u001b[0m\u001b[0;34m)\u001b[0m\u001b[0;34m:\u001b[0m\u001b[0;34m\u001b[0m\u001b[0;34m\u001b[0m\u001b[0m\n\u001b[0;32m-> 1024\u001b[0;31m                 \u001b[0msuccess\u001b[0m\u001b[0;34m,\u001b[0m \u001b[0mdata\u001b[0m \u001b[0;34m=\u001b[0m \u001b[0mself\u001b[0m\u001b[0;34m.\u001b[0m\u001b[0m_try_get_data\u001b[0m\u001b[0;34m(\u001b[0m\u001b[0;34m)\u001b[0m\u001b[0;34m\u001b[0m\u001b[0;34m\u001b[0m\u001b[0m\n\u001b[0m\u001b[1;32m   1025\u001b[0m                 \u001b[0;32mif\u001b[0m \u001b[0msuccess\u001b[0m\u001b[0;34m:\u001b[0m\u001b[0;34m\u001b[0m\u001b[0;34m\u001b[0m\u001b[0m\n\u001b[1;32m   1026\u001b[0m                     \u001b[0;32mreturn\u001b[0m \u001b[0mdata\u001b[0m\u001b[0;34m\u001b[0m\u001b[0;34m\u001b[0m\u001b[0m\n",
      "\u001b[0;32m~/anaconda3/envs/video_r/lib/python3.7/site-packages/torch/utils/data/dataloader.py\u001b[0m in \u001b[0;36m_try_get_data\u001b[0;34m(self, timeout)\u001b[0m\n\u001b[1;32m    870\u001b[0m         \u001b[0;31m#   (bool: whether successfully get data, any: data if successful else None)\u001b[0m\u001b[0;34m\u001b[0m\u001b[0;34m\u001b[0m\u001b[0;34m\u001b[0m\u001b[0m\n\u001b[1;32m    871\u001b[0m         \u001b[0;32mtry\u001b[0m\u001b[0;34m:\u001b[0m\u001b[0;34m\u001b[0m\u001b[0;34m\u001b[0m\u001b[0m\n\u001b[0;32m--> 872\u001b[0;31m             \u001b[0mdata\u001b[0m \u001b[0;34m=\u001b[0m \u001b[0mself\u001b[0m\u001b[0;34m.\u001b[0m\u001b[0m_data_queue\u001b[0m\u001b[0;34m.\u001b[0m\u001b[0mget\u001b[0m\u001b[0;34m(\u001b[0m\u001b[0mtimeout\u001b[0m\u001b[0;34m=\u001b[0m\u001b[0mtimeout\u001b[0m\u001b[0;34m)\u001b[0m\u001b[0;34m\u001b[0m\u001b[0;34m\u001b[0m\u001b[0m\n\u001b[0m\u001b[1;32m    873\u001b[0m             \u001b[0;32mreturn\u001b[0m \u001b[0;34m(\u001b[0m\u001b[0;32mTrue\u001b[0m\u001b[0;34m,\u001b[0m \u001b[0mdata\u001b[0m\u001b[0;34m)\u001b[0m\u001b[0;34m\u001b[0m\u001b[0;34m\u001b[0m\u001b[0m\n\u001b[1;32m    874\u001b[0m         \u001b[0;32mexcept\u001b[0m \u001b[0mException\u001b[0m \u001b[0;32mas\u001b[0m \u001b[0me\u001b[0m\u001b[0;34m:\u001b[0m\u001b[0;34m\u001b[0m\u001b[0;34m\u001b[0m\u001b[0m\n",
      "\u001b[0;32m~/anaconda3/envs/video_r/lib/python3.7/queue.py\u001b[0m in \u001b[0;36mget\u001b[0;34m(self, block, timeout)\u001b[0m\n\u001b[1;32m    177\u001b[0m                     \u001b[0;32mif\u001b[0m \u001b[0mremaining\u001b[0m \u001b[0;34m<=\u001b[0m \u001b[0;36m0.0\u001b[0m\u001b[0;34m:\u001b[0m\u001b[0;34m\u001b[0m\u001b[0;34m\u001b[0m\u001b[0m\n\u001b[1;32m    178\u001b[0m                         \u001b[0;32mraise\u001b[0m \u001b[0mEmpty\u001b[0m\u001b[0;34m\u001b[0m\u001b[0;34m\u001b[0m\u001b[0m\n\u001b[0;32m--> 179\u001b[0;31m                     \u001b[0mself\u001b[0m\u001b[0;34m.\u001b[0m\u001b[0mnot_empty\u001b[0m\u001b[0;34m.\u001b[0m\u001b[0mwait\u001b[0m\u001b[0;34m(\u001b[0m\u001b[0mremaining\u001b[0m\u001b[0;34m)\u001b[0m\u001b[0;34m\u001b[0m\u001b[0;34m\u001b[0m\u001b[0m\n\u001b[0m\u001b[1;32m    180\u001b[0m             \u001b[0mitem\u001b[0m \u001b[0;34m=\u001b[0m \u001b[0mself\u001b[0m\u001b[0;34m.\u001b[0m\u001b[0m_get\u001b[0m\u001b[0;34m(\u001b[0m\u001b[0;34m)\u001b[0m\u001b[0;34m\u001b[0m\u001b[0;34m\u001b[0m\u001b[0m\n\u001b[1;32m    181\u001b[0m             \u001b[0mself\u001b[0m\u001b[0;34m.\u001b[0m\u001b[0mnot_full\u001b[0m\u001b[0;34m.\u001b[0m\u001b[0mnotify\u001b[0m\u001b[0;34m(\u001b[0m\u001b[0;34m)\u001b[0m\u001b[0;34m\u001b[0m\u001b[0;34m\u001b[0m\u001b[0m\n",
      "\u001b[0;32m~/anaconda3/envs/video_r/lib/python3.7/threading.py\u001b[0m in \u001b[0;36mwait\u001b[0;34m(self, timeout)\u001b[0m\n\u001b[1;32m    298\u001b[0m             \u001b[0;32melse\u001b[0m\u001b[0;34m:\u001b[0m\u001b[0;34m\u001b[0m\u001b[0;34m\u001b[0m\u001b[0m\n\u001b[1;32m    299\u001b[0m                 \u001b[0;32mif\u001b[0m \u001b[0mtimeout\u001b[0m \u001b[0;34m>\u001b[0m \u001b[0;36m0\u001b[0m\u001b[0;34m:\u001b[0m\u001b[0;34m\u001b[0m\u001b[0;34m\u001b[0m\u001b[0m\n\u001b[0;32m--> 300\u001b[0;31m                     \u001b[0mgotit\u001b[0m \u001b[0;34m=\u001b[0m \u001b[0mwaiter\u001b[0m\u001b[0;34m.\u001b[0m\u001b[0macquire\u001b[0m\u001b[0;34m(\u001b[0m\u001b[0;32mTrue\u001b[0m\u001b[0;34m,\u001b[0m \u001b[0mtimeout\u001b[0m\u001b[0;34m)\u001b[0m\u001b[0;34m\u001b[0m\u001b[0;34m\u001b[0m\u001b[0m\n\u001b[0m\u001b[1;32m    301\u001b[0m                 \u001b[0;32melse\u001b[0m\u001b[0;34m:\u001b[0m\u001b[0;34m\u001b[0m\u001b[0;34m\u001b[0m\u001b[0m\n\u001b[1;32m    302\u001b[0m                     \u001b[0mgotit\u001b[0m \u001b[0;34m=\u001b[0m \u001b[0mwaiter\u001b[0m\u001b[0;34m.\u001b[0m\u001b[0macquire\u001b[0m\u001b[0;34m(\u001b[0m\u001b[0;32mFalse\u001b[0m\u001b[0;34m)\u001b[0m\u001b[0;34m\u001b[0m\u001b[0;34m\u001b[0m\u001b[0m\n",
      "\u001b[0;31mKeyboardInterrupt\u001b[0m: "
     ]
    }
   ],
   "source": [
    "for i, item in enumerate(trainloader):\n",
    "    with torch.no_grad():\n",
    "        get_estimated_boundary(item[0], item[1], item[5])\n",
    "get_boundary_err()\n",
    "\n",
    "for epoch in range(500):\n",
    "    print(\"Starting Maximization\")\n",
    "    for i, item in enumerate(trainloader):\n",
    "        item[0] = item[0].to(device)\n",
    "        item[1] = item[1].to(device)\n",
    "        \n",
    "        optimizer.zero_grad()\n",
    "        y, _, features = model(item[0].permute(0,2,1))\n",
    "        loss_ce = get_classification_loss(y, item[2].to(device), item[5])\n",
    "\n",
    "        features = features.permute(0, 2, 1)\n",
    "        frame_proba = get_boundary_probabilities(features, item[1], item[5], boundaries_dict)\n",
    "        loss_em = -torch.mean(torch.log(frame_proba + 1e-4))\n",
    "        \n",
    "        loss = loss_ce + loss_em\n",
    "        loss.backward()\n",
    "        optimizer.step()\n",
    "        if i%10==0:\n",
    "            print(f\"Current loss {loss.item()}\")\n",
    "            \n",
    "    if epoch % 10 == 0:\n",
    "        print(\"Calculating Expectation\")\n",
    "        for i, item in enumerate(trainloader):\n",
    "            with torch.no_grad():\n",
    "                item[0] = item[0].to(device)\n",
    "                item[1] = item[1].to(device)\n",
    "                _, _, features = model(item[0].permute(0,2,1))\n",
    "                features = features.permute(0,2,1)\n",
    "                get_estimated_boundary(features, item[1], item[5])\n",
    "        get_boundary_err()\n"
   ]
  },
  {
   "cell_type": "code",
   "execution_count": null,
   "metadata": {},
   "outputs": [],
   "source": [
    "def get_selected_labels(labels_arr):\n",
    "    unique_ids = []\n",
    "    \n",
    "    prev_ele = None\n",
    "    start = 0\n",
    "    for i, ele in enumerate(labels_arr):\n",
    "        if prev_ele is not None and prev_ele != ele:\n",
    "            select_item = np.random.randint(start, i, 1)[0]\n",
    "            unique_ids.append(select_item)\n",
    "            start = i\n",
    "        prev_ele = ele\n",
    "    \n",
    "    select_item = np.random.randint(start, len(labels_arr), 1)[0]\n",
    "    unique_ids.append(select_item)\n",
    "    return unique_ids\n",
    "# get_selected_labels(ab)"
   ]
  },
  {
   "cell_type": "code",
   "execution_count": null,
   "metadata": {},
   "outputs": [],
   "source": [
    "def get_boundary(labels_arr):\n",
    "    unique_ids = []\n",
    "    \n",
    "    prev_ele = None\n",
    "    start = 0\n",
    "    for i, ele in enumerate(labels_arr):\n",
    "        if prev_ele is not None and prev_ele != ele:\n",
    "            unique_ids.append(i - 1)\n",
    "            start = i\n",
    "        prev_ele = ele\n",
    "    \n",
    "    unique_ids.append(len(labels_arr) - 1)\n",
    "    return unique_ids\n",
    "# get_boundary(np.array([2, 2, 2, 2, 3, 3, 4, 4, 4, 1, 1, 1, 1]))"
   ]
  },
  {
   "cell_type": "code",
   "execution_count": 29,
   "metadata": {},
   "outputs": [
    {
     "name": "stderr",
     "output_type": "stream",
     "text": [
      "Traceback (most recent call last):\n",
      "  File \"/home/dipika16/anaconda3/envs/video_r/lib/python3.7/multiprocessing/queues.py\", line 232, in _feed\n",
      "    close()\n",
      "  File \"/home/dipika16/anaconda3/envs/video_r/lib/python3.7/multiprocessing/connection.py\", line 177, in close\n",
      "    self._close()\n",
      "  File \"/home/dipika16/anaconda3/envs/video_r/lib/python3.7/multiprocessing/connection.py\", line 361, in _close\n",
      "    _close(self._handle)\n",
      "OSError: [Errno 9] Bad file descriptor\n"
     ]
    }
   ],
   "source": [
    "loaded_vidid_selected_frames = {}\n",
    "for batch in trainloader:\n",
    "    count_all = batch[1]\n",
    "    labels_all = batch[2]\n",
    "    video_ids = batch[5]\n",
    "    for i, count in enumerate(count_all):\n",
    "        video_id = video_ids[i]\n",
    "        labels = labels_all[i][:count]\n",
    "        selected_ids = get_selected_labels(labels)\n",
    "\n",
    "        loaded_vidid_selected_frames[video_id] = selected_ids"
   ]
  },
  {
   "cell_type": "code",
   "execution_count": 14,
   "metadata": {},
   "outputs": [],
   "source": [
    "video_id_boundary_frames = {}\n",
    "for batch in trainloader:\n",
    "    count_all = batch[1]\n",
    "    labels_all = batch[2]\n",
    "    video_ids = batch[5]\n",
    "    for i, count in enumerate(count_all):\n",
    "        \n",
    "        labels = labels_all[i][:count]\n",
    "        selected_ids = get_boundary(labels)\n",
    "        video_id = video_ids[i]\n",
    "        video_id_boundary_frames[video_id] = selected_ids"
   ]
  },
  {
   "cell_type": "code",
   "execution_count": 16,
   "metadata": {},
   "outputs": [],
   "source": [
    "for ele in video_id_boundary_frames.keys():\n",
    "    if len(video_id_boundary_frames[ele]) != len(loaded_vidid_selected_frames[ele]):\n",
    "        print(ele)"
   ]
  },
  {
   "cell_type": "code",
   "execution_count": 15,
   "metadata": {},
   "outputs": [],
   "source": [
    "import pickle\n",
    "pickle.dump(video_id_boundary_frames, open(\"dump_dir/video_id_boundary_frames_dict.pkl\", \"wb\"))\n",
    "pickle.dump(loaded_vidid_selected_frames, open(\"dump_dir/loaded_vidid_selected_frames_dict.pkl\", \"wb\"))"
   ]
  },
  {
   "cell_type": "code",
   "execution_count": 41,
   "metadata": {},
   "outputs": [
    {
     "data": {
      "text/plain": [
       "<All keys matched successfully>"
      ]
     },
     "execution_count": 41,
     "metadata": {},
     "output_type": "execute_result"
    }
   ],
   "source": [
    "model = C2F_TCN(n_channels=config.feature_size, n_classes=config.num_class).to(device)\n",
    "model.load_state_dict(torch.load(f'/mnt/ssd/all_users/dipika/ms_tcn/data/breakfast/results/c2f-tcn-model/'\n",
    "                                 f'split2_c2ftcn_model.wt'))"
   ]
  },
  {
   "cell_type": "code",
   "execution_count": 43,
   "metadata": {
    "scrolled": true
   },
   "outputs": [
    {
     "name": "stdout",
     "output_type": "stream",
     "text": [
      "Avergage error = 49.585\n"
     ]
    }
   ],
   "source": [
    "model.eval()\n",
    "for i, item in enumerate(trainloader):\n",
    "    with torch.no_grad():\n",
    "        item[0] = item[0].to(device)\n",
    "        item[1] = item[1].to(device)\n",
    "        _, _, features = model(item[0].permute(0,2,1))\n",
    "#         _, _, features = model(item[0].permute(0,2,1))\n",
    "        features = features.permute(0,2,1)\n",
    "        get_estimated_boundary(features, item[1], item[5])\n",
    "get_boundary_err()"
   ]
  },
  {
   "cell_type": "code",
   "execution_count": 108,
   "metadata": {},
   "outputs": [
    {
     "data": {
      "text/plain": [
       "<All keys matched successfully>"
      ]
     },
     "execution_count": 108,
     "metadata": {},
     "output_type": "execute_result"
    }
   ],
   "source": [
    "from c2f_unsupervised_c2f_model_file import UNetSSLContrastive\n",
    "model = UNetSSLContrastive(2048, 48, 256).to(device)\n",
    "model.load_state_dict(torch.load(f'/mnt/ssd/all_users/dipika/ms_tcn/data/breakfast/results/'\n",
    "                                 f'cluster-100_chul_all_layer_model_split2_clustTypeKMEANS_fti3d_notimeFalse_lr0.001000/'\n",
    "                                 f'best_breakfast_unet.wt', map_location=device))"
   ]
  },
  {
   "cell_type": "code",
   "execution_count": 38,
   "metadata": {},
   "outputs": [
    {
     "name": "stdout",
     "output_type": "stream",
     "text": [
      "Avergage error = 48.193\n"
     ]
    }
   ],
   "source": [
    "model.eval()\n",
    "for i, item in enumerate(trainloader):\n",
    "    with torch.no_grad():\n",
    "        item[0] = item[0].to(device)\n",
    "        item[1] = item[1].to(device)\n",
    "        features, _  = model(item[0].permute(0,2,1), [1,1,1,1,1,1])\n",
    "#         _, _, features = model(item[0].permute(0,2,1))\n",
    "        features = features.permute(0,2,1)\n",
    "        get_estimated_boundary(features, item[1], item[5])\n",
    "get_boundary_err()"
   ]
  },
  {
   "cell_type": "code",
   "execution_count": 39,
   "metadata": {},
   "outputs": [],
   "source": [
    "with torch.no_grad():\n",
    "    idx = 0\n",
    "\n",
    "    cur_vid_feat = features[idx]\n",
    "    cur_vidid = item[5][idx]\n",
    "\n",
    "    selected_frames = torch.tensor(loaded_vidid_selected_frames[cur_vidid], dtype=torch.long, \n",
    "                                   device=cur_vid_feat.device)\n",
    "    bound_list = boundaries_dict[cur_vidid].to(device)\n",
    "\n",
    "    cumsum_feat = torch.cumsum(cur_vid_feat, dim=0)\n",
    "\n",
    "    prob_each_segment = prob_vals_per_segment(selected_frames, cur_vid_feat, cumsum_feat, item[1][idx])"
   ]
  },
  {
   "cell_type": "code",
   "execution_count": 40,
   "metadata": {},
   "outputs": [
    {
     "data": {
      "text/plain": [
       "[<matplotlib.lines.Line2D at 0x7f98294a9630>]"
      ]
     },
     "execution_count": 40,
     "metadata": {},
     "output_type": "execute_result"
    },
    {
     "data": {
      "image/png": "[encoded data removed]",
      "text/plain": [
       "<Figure size 1296x360 with 1 Axes>"
      ]
     },
     "metadata": {
      "needs_background": "light"
     },
     "output_type": "display_data"
    }
   ],
   "source": [
    "import matplotlib.pyplot as plt\n",
    "fig = plt.figure(figsize=(18, 5))\n",
    "\n",
    "plt.plot([0, item[1][idx].item()], [0, 0])\n",
    "\n",
    "for pivot in loaded_vidid_selected_frames[cur_vidid]:\n",
    "    plt.plot([pivot, pivot], [0, 1], '--')\n",
    "    \n",
    "for pivot in video_id_boundary_frames[cur_vidid]:\n",
    "    plt.plot([pivot, pivot], [0, 1])\n",
    "    \n",
    "all_prob = []\n",
    "for segment in prob_each_segment:\n",
    "    all_prob.append(segment/torch.sum(segment))\n",
    "\n",
    "all_prob = torch.cat(all_prob).cpu().numpy()\n",
    "xs = np.arange(loaded_vidid_selected_frames[cur_vidid][0], loaded_vidid_selected_frames[cur_vidid][-1])\n",
    "plt.plot(xs, all_prob, '-')"
   ]
  },
  {
   "cell_type": "code",
   "execution_count": 60,
   "metadata": {},
   "outputs": [],
   "source": [
    "from sklearn.cluster import KMeans"
   ]
  },
  {
   "cell_type": "code",
   "execution_count": 109,
   "metadata": {
    "scrolled": true
   },
   "outputs": [
    {
     "name": "stdout",
     "output_type": "stream",
     "text": [
      "Batch 0 done\n"
     ]
    },
    {
     "name": "stderr",
     "output_type": "stream",
     "text": [
      "/home/dipika16/anaconda3/envs/video_r/lib/python3.7/site-packages/torch/nn/functional.py:2952: UserWarning: nn.functional.upsample is deprecated. Use nn.functional.interpolate instead.\n",
      "  warnings.warn(\"nn.functional.upsample is deprecated. Use nn.functional.interpolate instead.\")\n"
     ]
    },
    {
     "name": "stdout",
     "output_type": "stream",
     "text": [
      "Batch 1 done\n"
     ]
    },
    {
     "name": "stderr",
     "output_type": "stream",
     "text": [
      "/home/dipika16/anaconda3/envs/video_r/lib/python3.7/site-packages/torch/nn/functional.py:2952: UserWarning: nn.functional.upsample is deprecated. Use nn.functional.interpolate instead.\n",
      "  warnings.warn(\"nn.functional.upsample is deprecated. Use nn.functional.interpolate instead.\")\n"
     ]
    },
    {
     "name": "stdout",
     "output_type": "stream",
     "text": [
      "Batch 2 done\n"
     ]
    },
    {
     "name": "stderr",
     "output_type": "stream",
     "text": [
      "/home/dipika16/anaconda3/envs/video_r/lib/python3.7/site-packages/torch/nn/functional.py:2952: UserWarning: nn.functional.upsample is deprecated. Use nn.functional.interpolate instead.\n",
      "  warnings.warn(\"nn.functional.upsample is deprecated. Use nn.functional.interpolate instead.\")\n"
     ]
    },
    {
     "name": "stdout",
     "output_type": "stream",
     "text": [
      "Batch 3 done\n"
     ]
    },
    {
     "name": "stderr",
     "output_type": "stream",
     "text": [
      "/home/dipika16/anaconda3/envs/video_r/lib/python3.7/site-packages/torch/nn/functional.py:2952: UserWarning: nn.functional.upsample is deprecated. Use nn.functional.interpolate instead.\n",
      "  warnings.warn(\"nn.functional.upsample is deprecated. Use nn.functional.interpolate instead.\")\n"
     ]
    },
    {
     "name": "stdout",
     "output_type": "stream",
     "text": [
      "Batch 4 done\n"
     ]
    },
    {
     "name": "stderr",
     "output_type": "stream",
     "text": [
      "/home/dipika16/anaconda3/envs/video_r/lib/python3.7/site-packages/torch/nn/functional.py:2952: UserWarning: nn.functional.upsample is deprecated. Use nn.functional.interpolate instead.\n",
      "  warnings.warn(\"nn.functional.upsample is deprecated. Use nn.functional.interpolate instead.\")\n"
     ]
    },
    {
     "name": "stdout",
     "output_type": "stream",
     "text": [
      "Batch 5 done\n"
     ]
    },
    {
     "name": "stderr",
     "output_type": "stream",
     "text": [
      "/home/dipika16/anaconda3/envs/video_r/lib/python3.7/site-packages/torch/nn/functional.py:2952: UserWarning: nn.functional.upsample is deprecated. Use nn.functional.interpolate instead.\n",
      "  warnings.warn(\"nn.functional.upsample is deprecated. Use nn.functional.interpolate instead.\")\n"
     ]
    },
    {
     "name": "stdout",
     "output_type": "stream",
     "text": [
      "Batch 6 done\n"
     ]
    },
    {
     "name": "stderr",
     "output_type": "stream",
     "text": [
      "/home/dipika16/anaconda3/envs/video_r/lib/python3.7/site-packages/torch/nn/functional.py:2952: UserWarning: nn.functional.upsample is deprecated. Use nn.functional.interpolate instead.\n",
      "  warnings.warn(\"nn.functional.upsample is deprecated. Use nn.functional.interpolate instead.\")\n"
     ]
    },
    {
     "name": "stdout",
     "output_type": "stream",
     "text": [
      "Batch 7 done\n"
     ]
    },
    {
     "name": "stderr",
     "output_type": "stream",
     "text": [
      "/home/dipika16/anaconda3/envs/video_r/lib/python3.7/site-packages/torch/nn/functional.py:2952: UserWarning: nn.functional.upsample is deprecated. Use nn.functional.interpolate instead.\n",
      "  warnings.warn(\"nn.functional.upsample is deprecated. Use nn.functional.interpolate instead.\")\n"
     ]
    },
    {
     "name": "stdout",
     "output_type": "stream",
     "text": [
      "Batch 8 done\n"
     ]
    },
    {
     "name": "stderr",
     "output_type": "stream",
     "text": [
      "/home/dipika16/anaconda3/envs/video_r/lib/python3.7/site-packages/torch/nn/functional.py:2952: UserWarning: nn.functional.upsample is deprecated. Use nn.functional.interpolate instead.\n",
      "  warnings.warn(\"nn.functional.upsample is deprecated. Use nn.functional.interpolate instead.\")\n"
     ]
    },
    {
     "name": "stdout",
     "output_type": "stream",
     "text": [
      "Batch 9 done\n"
     ]
    },
    {
     "name": "stderr",
     "output_type": "stream",
     "text": [
      "/home/dipika16/anaconda3/envs/video_r/lib/python3.7/site-packages/torch/nn/functional.py:2952: UserWarning: nn.functional.upsample is deprecated. Use nn.functional.interpolate instead.\n",
      "  warnings.warn(\"nn.functional.upsample is deprecated. Use nn.functional.interpolate instead.\")\n"
     ]
    },
    {
     "name": "stdout",
     "output_type": "stream",
     "text": [
      "Batch 10 done\n"
     ]
    },
    {
     "name": "stderr",
     "output_type": "stream",
     "text": [
      "/home/dipika16/anaconda3/envs/video_r/lib/python3.7/site-packages/torch/nn/functional.py:2952: UserWarning: nn.functional.upsample is deprecated. Use nn.functional.interpolate instead.\n",
      "  warnings.warn(\"nn.functional.upsample is deprecated. Use nn.functional.interpolate instead.\")\n"
     ]
    },
    {
     "name": "stdout",
     "output_type": "stream",
     "text": [
      "Batch 11 done\n"
     ]
    },
    {
     "name": "stderr",
     "output_type": "stream",
     "text": [
      "/home/dipika16/anaconda3/envs/video_r/lib/python3.7/site-packages/torch/nn/functional.py:2952: UserWarning: nn.functional.upsample is deprecated. Use nn.functional.interpolate instead.\n",
      "  warnings.warn(\"nn.functional.upsample is deprecated. Use nn.functional.interpolate instead.\")\n"
     ]
    },
    {
     "name": "stdout",
     "output_type": "stream",
     "text": [
      "Batch 12 done\n"
     ]
    },
    {
     "name": "stderr",
     "output_type": "stream",
     "text": [
      "/home/dipika16/anaconda3/envs/video_r/lib/python3.7/site-packages/torch/nn/functional.py:2952: UserWarning: nn.functional.upsample is deprecated. Use nn.functional.interpolate instead.\n",
      "  warnings.warn(\"nn.functional.upsample is deprecated. Use nn.functional.interpolate instead.\")\n"
     ]
    },
    {
     "name": "stdout",
     "output_type": "stream",
     "text": [
      "Batch 13 done\n"
     ]
    },
    {
     "name": "stderr",
     "output_type": "stream",
     "text": [
      "/home/dipika16/anaconda3/envs/video_r/lib/python3.7/site-packages/torch/nn/functional.py:2952: UserWarning: nn.functional.upsample is deprecated. Use nn.functional.interpolate instead.\n",
      "  warnings.warn(\"nn.functional.upsample is deprecated. Use nn.functional.interpolate instead.\")\n"
     ]
    },
    {
     "name": "stdout",
     "output_type": "stream",
     "text": [
      "Batch 14 done\n"
     ]
    },
    {
     "name": "stderr",
     "output_type": "stream",
     "text": [
      "/home/dipika16/anaconda3/envs/video_r/lib/python3.7/site-packages/torch/nn/functional.py:2952: UserWarning: nn.functional.upsample is deprecated. Use nn.functional.interpolate instead.\n",
      "  warnings.warn(\"nn.functional.upsample is deprecated. Use nn.functional.interpolate instead.\")\n"
     ]
    },
    {
     "name": "stdout",
     "output_type": "stream",
     "text": [
      "Batch 15 done\n"
     ]
    },
    {
     "name": "stderr",
     "output_type": "stream",
     "text": [
      "/home/dipika16/anaconda3/envs/video_r/lib/python3.7/site-packages/torch/nn/functional.py:2952: UserWarning: nn.functional.upsample is deprecated. Use nn.functional.interpolate instead.\n",
      "  warnings.warn(\"nn.functional.upsample is deprecated. Use nn.functional.interpolate instead.\")\n"
     ]
    },
    {
     "name": "stdout",
     "output_type": "stream",
     "text": [
      "Batch 16 done\n"
     ]
    },
    {
     "name": "stderr",
     "output_type": "stream",
     "text": [
      "/home/dipika16/anaconda3/envs/video_r/lib/python3.7/site-packages/torch/nn/functional.py:2952: UserWarning: nn.functional.upsample is deprecated. Use nn.functional.interpolate instead.\n",
      "  warnings.warn(\"nn.functional.upsample is deprecated. Use nn.functional.interpolate instead.\")\n"
     ]
    },
    {
     "name": "stdout",
     "output_type": "stream",
     "text": [
      "Batch 17 done\n"
     ]
    },
    {
     "name": "stderr",
     "output_type": "stream",
     "text": [
      "/home/dipika16/anaconda3/envs/video_r/lib/python3.7/site-packages/torch/nn/functional.py:2952: UserWarning: nn.functional.upsample is deprecated. Use nn.functional.interpolate instead.\n",
      "  warnings.warn(\"nn.functional.upsample is deprecated. Use nn.functional.interpolate instead.\")\n"
     ]
    },
    {
     "name": "stdout",
     "output_type": "stream",
     "text": [
      "Batch 18 done\n"
     ]
    },
    {
     "name": "stderr",
     "output_type": "stream",
     "text": [
      "/home/dipika16/anaconda3/envs/video_r/lib/python3.7/site-packages/torch/nn/functional.py:2952: UserWarning: nn.functional.upsample is deprecated. Use nn.functional.interpolate instead.\n",
      "  warnings.warn(\"nn.functional.upsample is deprecated. Use nn.functional.interpolate instead.\")\n"
     ]
    },
    {
     "name": "stdout",
     "output_type": "stream",
     "text": [
      "Batch 19 done\n"
     ]
    },
    {
     "name": "stderr",
     "output_type": "stream",
     "text": [
      "/home/dipika16/anaconda3/envs/video_r/lib/python3.7/site-packages/torch/nn/functional.py:2952: UserWarning: nn.functional.upsample is deprecated. Use nn.functional.interpolate instead.\n",
      "  warnings.warn(\"nn.functional.upsample is deprecated. Use nn.functional.interpolate instead.\")\n"
     ]
    },
    {
     "name": "stdout",
     "output_type": "stream",
     "text": [
      "Batch 20 done\n"
     ]
    },
    {
     "name": "stderr",
     "output_type": "stream",
     "text": [
      "/home/dipika16/anaconda3/envs/video_r/lib/python3.7/site-packages/torch/nn/functional.py:2952: UserWarning: nn.functional.upsample is deprecated. Use nn.functional.interpolate instead.\n",
      "  warnings.warn(\"nn.functional.upsample is deprecated. Use nn.functional.interpolate instead.\")\n"
     ]
    },
    {
     "name": "stdout",
     "output_type": "stream",
     "text": [
      "Batch 21 done\n"
     ]
    },
    {
     "name": "stderr",
     "output_type": "stream",
     "text": [
      "/home/dipika16/anaconda3/envs/video_r/lib/python3.7/site-packages/torch/nn/functional.py:2952: UserWarning: nn.functional.upsample is deprecated. Use nn.functional.interpolate instead.\n",
      "  warnings.warn(\"nn.functional.upsample is deprecated. Use nn.functional.interpolate instead.\")\n"
     ]
    },
    {
     "name": "stdout",
     "output_type": "stream",
     "text": [
      "Batch 22 done\n"
     ]
    },
    {
     "name": "stderr",
     "output_type": "stream",
     "text": [
      "/home/dipika16/anaconda3/envs/video_r/lib/python3.7/site-packages/torch/nn/functional.py:2952: UserWarning: nn.functional.upsample is deprecated. Use nn.functional.interpolate instead.\n",
      "  warnings.warn(\"nn.functional.upsample is deprecated. Use nn.functional.interpolate instead.\")\n"
     ]
    },
    {
     "name": "stdout",
     "output_type": "stream",
     "text": [
      "Batch 23 done\n"
     ]
    },
    {
     "name": "stderr",
     "output_type": "stream",
     "text": [
      "/home/dipika16/anaconda3/envs/video_r/lib/python3.7/site-packages/torch/nn/functional.py:2952: UserWarning: nn.functional.upsample is deprecated. Use nn.functional.interpolate instead.\n",
      "  warnings.warn(\"nn.functional.upsample is deprecated. Use nn.functional.interpolate instead.\")\n"
     ]
    },
    {
     "name": "stdout",
     "output_type": "stream",
     "text": [
      "Batch 24 done\n"
     ]
    },
    {
     "name": "stderr",
     "output_type": "stream",
     "text": [
      "/home/dipika16/anaconda3/envs/video_r/lib/python3.7/site-packages/torch/nn/functional.py:2952: UserWarning: nn.functional.upsample is deprecated. Use nn.functional.interpolate instead.\n",
      "  warnings.warn(\"nn.functional.upsample is deprecated. Use nn.functional.interpolate instead.\")\n"
     ]
    },
    {
     "name": "stdout",
     "output_type": "stream",
     "text": [
      "Batch 25 done\n"
     ]
    },
    {
     "name": "stderr",
     "output_type": "stream",
     "text": [
      "/home/dipika16/anaconda3/envs/video_r/lib/python3.7/site-packages/torch/nn/functional.py:2952: UserWarning: nn.functional.upsample is deprecated. Use nn.functional.interpolate instead.\n",
      "  warnings.warn(\"nn.functional.upsample is deprecated. Use nn.functional.interpolate instead.\")\n"
     ]
    },
    {
     "name": "stdout",
     "output_type": "stream",
     "text": [
      "Avergage error = 48.193\n"
     ]
    }
   ],
   "source": [
    "model.eval()\n",
    "gt_seg = 0\n",
    "pred_seg = 0\n",
    "err = []\n",
    "\n",
    "for i, item in enumerate(trainloader):\n",
    "    print(f'Batch {i} started')\n",
    "    with torch.no_grad():\n",
    "        item[0] = item[0].to(device)\n",
    "        item[1] = item[1].to(device)\n",
    "        features, _  = model(item[0].permute(0,2,1), [1,1,1,1,1,1])\n",
    "        features = features.permute(0,2,1)\n",
    "        \n",
    "        for j in range(len(features)):\n",
    "            vid_count = item[1][j].item()\n",
    "            vid_labels = item[2][j][:vid_count]\n",
    "            vid_feat = features[j][:vid_count]\n",
    "            segments = vid_labels[:-1][vid_labels[1:]!=vid_labels[:-1]]\n",
    "            segments = torch.cat([segments, vid_labels[-1].unsqueeze(dim=0)])\n",
    "            np_features = vid_feat.cpu().numpy()\n",
    "            \n",
    "            num_seg = len(segments)\n",
    "            \n",
    "            clust = KMeans(n_clusters=num_seg).fit(np_features)\n",
    "            cluster_labels = clust.labels_\n",
    "            cluster_centers = clust.cluster_centers_\n",
    "\n",
    "            nearest_points = [np.argmin(np.linalg.norm(np_features[cluster_labels==k] - cluster_centers[k][None,:], \n",
    "                                                       axis=-1)) for k in range(num_seg)]\n",
    "            actual_pos = [np.arange(vid_count)[cluster_labels==k][pt] for k,pt in enumerate(nearest_points)]\n",
    "\n",
    "            predicted_segment_arr = vid_labels[np.sort(actual_pos)]\n",
    "            num_predicted_segments = torch.sum(predicted_segment_arr[1:]!=predicted_segment_arr[:-1]) + 1\n",
    "            \n",
    "            gt_seg += num_seg\n",
    "            pred_seg += num_predicted_segments\n",
    "            err.append(num_seg - num_predicted_segments)\n",
    "\n",
    "#         get_estimated_boundary(features, item[1], item[5])\n",
    "# get_boundary_err()"
   ]
  },
  {
   "cell_type": "code",
   "execution_count": 111,
   "metadata": {},
   "outputs": [
    {
     "data": {
      "text/plain": [
       "((array([378., 413., 196., 196.,  37.,  18.,  15.,   2.,   2.,   4.]),\n",
       "  array([ 0. ,  1.3,  2.6,  3.9,  5.2,  6.5,  7.8,  9.1, 10.4, 11.7, 13. ]),\n",
       "  <a list of 10 Patch objects>),\n",
       " tensor(37.2266))"
      ]
     },
     "execution_count": 111,
     "metadata": {},
     "output_type": "execute_result"
    },
    {
     "data": {
      "image/png": "[encoded data removed]",
      "text/plain": [
       "<Figure size 432x288 with 1 Axes>"
      ]
     },
     "metadata": {
      "needs_background": "light"
     },
     "output_type": "display_data"
    }
   ],
   "source": [
    "plt.hist(err), 100*(gt_seg - pred_seg)/gt_seg"
   ]
  },
  {
   "cell_type": "code",
   "execution_count": 100,
   "metadata": {},
   "outputs": [],
   "source": [
    "j=2\n",
    "vid_count = item[1][j].item()\n",
    "vid_labels = item[2][j][:vid_count]\n",
    "vid_feat = features[j][:vid_count]\n",
    "segments = vid_labels[:-1][vid_labels[1:]!=vid_labels[:-1]]\n",
    "segments = torch.cat([segments, vid_labels[-1].unsqueeze(dim=0)])\n",
    "np_features = vid_feat.cpu().numpy()\n",
    "\n",
    "# clust = KMeans(n_clusters=len(segments)).fit(np_features)\n",
    "# cluster_labels = clust.labels_\n",
    "# cluster_centers = clust.cluster_centers_\n",
    "\n",
    "nearest_points = [np.argmin(np.linalg.norm(np_features[cluster_labels==k] - cluster_centers[k][None,:], axis=-1)) \n",
    "                  for k in range(len(segments))]\n",
    "actual_pos = [np.arange(vid_count)[cluster_labels==k][pt] for k,pt in enumerate(nearest_points)]\n",
    "\n",
    "predicted_segment_arr = vid_labels[np.sort(actual_pos)]\n",
    "num_predicted_segments = torch.sum(predicted_segment_arr[1:]!=predicted_segment_arr[:-1]) + 1"
   ]
  }
 ],
 "metadata": {
  "kernelspec": {
   "display_name": "Python 3",
   "language": "python",
   "name": "python3"
  },
  "language_info": {
   "codemirror_mode": {
    "name": "ipython",
    "version": 3
   },
   "file_extension": ".py",
   "mimetype": "text/x-python",
   "name": "python",
   "nbconvert_exporter": "python",
   "pygments_lexer": "ipython3",
   "version": "3.7.3"
  }
 },
 "nbformat": 4,
 "nbformat_minor": 4
}
