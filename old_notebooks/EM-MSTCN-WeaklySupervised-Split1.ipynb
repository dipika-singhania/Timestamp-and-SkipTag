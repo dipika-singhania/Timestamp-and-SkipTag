{
 "cells": [
  {
   "cell_type": "code",
   "execution_count": 1,
   "metadata": {},
   "outputs": [],
   "source": [
    "%load_ext autoreload\n",
    "%autoreload 2"
   ]
  },
  {
   "cell_type": "code",
   "execution_count": 2,
   "metadata": {},
   "outputs": [],
   "source": [
    "import wandb\n",
    "import os, sys\n",
    "import glob\n",
    "import numpy as np\n",
    "import torch\n",
    "import pandas as pd\n",
    "import random\n",
    "import torch.nn as nn\n",
    "import pickle\n",
    "import torch.nn.functional as F\n",
    "import scipy.stats\n",
    "from scipy.stats import binom\n",
    "from matplotlib import pyplot as plt"
   ]
  },
  {
   "cell_type": "code",
   "execution_count": 3,
   "metadata": {},
   "outputs": [],
   "source": [
    "from mstcn_model import *\n",
    "from utility.adaptive_data_loader import Breakfast, collate_fn_override\n",
    "from utils import calculate_mof, dotdict"
   ]
  },
  {
   "cell_type": "code",
   "execution_count": 4,
   "metadata": {},
   "outputs": [
    {
     "name": "stderr",
     "output_type": "stream",
     "text": [
      "Failed to detect the name of this notebook, you can set it manually with the WANDB_NOTEBOOK_NAME environment variable to enable code saving.\n",
      "\u001b[34m\u001b[1mwandb\u001b[0m: Currently logged in as: \u001b[33mdipika_singhania\u001b[0m (use `wandb login --relogin` to force relogin)\n"
     ]
    },
    {
     "data": {
      "text/plain": [
       "True"
      ]
     },
     "execution_count": 4,
     "metadata": {},
     "output_type": "execute_result"
    }
   ],
   "source": [
    "os.environ[\"WANDB_API_KEY\"] = \"992b3b1371ba79f48484cfca522b3786d7fa52c2\"\n",
    "wandb.login()"
   ]
  },
  {
   "cell_type": "code",
   "execution_count": 5,
   "metadata": {},
   "outputs": [],
   "source": [
    "seed = 42\n",
    "\n",
    "# Ensure deterministic behavior\n",
    "def set_seed():\n",
    "    torch.backends.cudnn.benchmark = False\n",
    "    torch.backends.cudnn.deterministic = True\n",
    "    random.seed(seed)\n",
    "    np.random.seed(seed)\n",
    "    torch.manual_seed(seed)\n",
    "    torch.cuda.manual_seed_all(seed)\n",
    "    torch.cuda.manual_seed(seed)\n",
    "set_seed()\n",
    "\n",
    "# Device configuration\n",
    "os.environ['CUDA_VISIBLE_DEVICES']='3'\n",
    "# os.environ['CUDA_LAUNCH_BLOCKING']='6'\n",
    "device = torch.device(\"cuda:0\" if torch.cuda.is_available() else \"cpu\")"
   ]
  },
  {
   "cell_type": "code",
   "execution_count": 6,
   "metadata": {},
   "outputs": [
    {
     "name": "stdout",
     "output_type": "stream",
     "text": [
      "{'epochs': 500, 'num_class': 48, 'batch_size': 8, 'learning_rate': 0.0005, 'weight_decay': 0, 'dataset': 'Breakfast', 'architecture': 'unet-ensemble', 'features_file_name': '/mnt/ssd/all_users/dipika/ms_tcn/data/breakfast/features/', 'chunk_size': 1, 'max_frames_per_video': 1200, 'feature_size': 2048, 'ground_truth_files_dir': '/mnt/ssd/all_users/dipika/ms_tcn/data/breakfast/groundTruth/', 'label_id_csv': '/mnt/ssd/all_users/dipika/ms_tcn/data/breakfast/mapping.csv', 'gamma': 0.1, 'step_size': 500, 'split': 1, 'output_dir': '/mnt/ssd/all_users/dipika/ms_tcn/data/breakfast//results/em-mstcn-weaksup-split1/', 'project_name': 'breakfast-split-1', 'train_split_file': '/mnt/ssd/all_users/dipika/ms_tcn/data/breakfast/splits/train.split1.bundle', 'test_split_file': '/mnt/ssd/all_users/dipika/ms_tcn/data/breakfast/splits/test.split1.bundle', 'all_files': '/mnt/ssd/all_users/dipika/ms_tcn/data/breakfast/splits/all_files.txt', 'cutoff': 8, 'data_per': 0.2, 'budget': 40, 'semi_supervised_split': '/mnt/ssd/all_users/dipika/ms_tcn/data/breakfast/semi_supervised/train.split1_amt0.2.bundle'}\n"
     ]
    }
   ],
   "source": [
    "config = dotdict(\n",
    "    epochs=500,\n",
    "    num_class=48,\n",
    "    batch_size=8,\n",
    "    learning_rate=5e-4,\n",
    "    weight_decay=0,\n",
    "    dataset=\"Breakfast\",\n",
    "    architecture=\"unet-ensemble\",\n",
    "    features_file_name=\"/mnt/ssd/all_users/dipika/ms_tcn/data/breakfast/features/\",\n",
    "    chunk_size=1,\n",
    "    max_frames_per_video=1200,\n",
    "    feature_size=2048,\n",
    "    ground_truth_files_dir=\"/mnt/ssd/all_users/dipika/ms_tcn/data/breakfast/groundTruth/\",\n",
    "    label_id_csv=\"/mnt/ssd/all_users/dipika/ms_tcn/data/breakfast/mapping.csv\",\n",
    "    gamma=0.1,\n",
    "    step_size=500,\n",
    "    split=1,\n",
    "#     output_dir=\"/mnt/data/ar-datasets/dipika/breakfast/ms_tcn/data/breakfast/results/unsuper-finetune-split2-0.05-data-llr/\",\n",
    "    output_dir=\"/mnt/ssd/all_users/dipika/ms_tcn/data/breakfast//results/em-mstcn-weaksup-split1/\",\n",
    "    project_name=\"breakfast-split-1\",\n",
    "    train_split_file=\"/mnt/ssd/all_users/dipika/ms_tcn/data/breakfast/splits/train.split{}.bundle\",\n",
    "    test_split_file=\"/mnt/ssd/all_users/dipika/ms_tcn/data/breakfast/splits/test.split{}.bundle\",\n",
    "    all_files=\"/mnt/ssd/all_users/dipika/ms_tcn/data/breakfast/splits/all_files.txt\",\n",
    "    cutoff=8,\n",
    "    data_per = 0.2,\n",
    "    budget=40,\n",
    "    semi_supervised_split=\"/mnt/ssd/all_users/dipika/ms_tcn/data/breakfast/semi_supervised/train.split{}_amt{}.bundle\")\n",
    "\n",
    "config.train_split_file = config.train_split_file.format(config.split)\n",
    "config.semi_supervised_split = config.semi_supervised_split.format(config.split, config.data_per)\n",
    "config.test_split_file = config.test_split_file.format(config.split)\n",
    "\n",
    "if not os.path.exists(config.output_dir):\n",
    "    os.mkdir(config.output_dir)\n",
    "\n",
    "train_split_file_list = set(open(config.train_split_file).read().split(\"\\n\")[0:-1])\n",
    "print(config)"
   ]
  },
  {
   "cell_type": "code",
   "execution_count": 7,
   "metadata": {},
   "outputs": [
    {
     "name": "stdout",
     "output_type": "stream",
     "text": [
      "Number of videos logged in train fold is 1460\n",
      "Number of videos not found in train fold is 0\n",
      "Number of videos logged in test fold is 252\n",
      "Number of videos not found in test fold is 0\n"
     ]
    }
   ],
   "source": [
    "traindataset = Breakfast(config, fold='train', fold_file_name=config.train_split_file)\n",
    "testdataset = Breakfast(config, fold='test', fold_file_name=config.test_split_file)"
   ]
  },
  {
   "cell_type": "code",
   "execution_count": 8,
   "metadata": {},
   "outputs": [],
   "source": [
    "def _init_fn(worker_id):\n",
    "    np.random.seed(int(seed))\n",
    "trainloader = torch.utils.data.DataLoader(dataset=traindataset,\n",
    "                                          batch_size=config.batch_size, \n",
    "                                          shuffle=True,\n",
    "                                          pin_memory=True, num_workers=4, \n",
    "                                          collate_fn=lambda x: collate_fn_override(x, config.max_frames_per_video),\n",
    "                                          worker_init_fn=_init_fn)\n",
    "testloader = torch.utils.data.DataLoader(dataset=testdataset,\n",
    "                                          batch_size=config.batch_size, \n",
    "                                          shuffle=False,\n",
    "                                          pin_memory=True, num_workers=4,\n",
    "                                          collate_fn=lambda x: collate_fn_override(x, config.max_frames_per_video),\n",
    "                                          worker_init_fn=_init_fn)"
   ]
  },
  {
   "cell_type": "code",
   "execution_count": 9,
   "metadata": {},
   "outputs": [],
   "source": [
    "# item = iter(trainloader).next()\n",
    "# print(item[0]) # -- data feature\n",
    "# print(item[1]) # -- valid count\n",
    "# item[2] # -- Actual labels\n",
    "# print(item[5]) # video names\n",
    "# video_id_boundary_frames"
   ]
  },
  {
   "cell_type": "code",
   "execution_count": 10,
   "metadata": {},
   "outputs": [],
   "source": [
    "loaded_vidid_selected_frames = np.load(\"/home/dipika16/ar/TimestampActionSeg/data/breakfast_annotation_all.npy\", \n",
    "                                       allow_pickle=True).item()\n",
    "\n",
    "video_id_boundary_frames = pickle.load(open(\"data/breakfast_boundary_annotations.pkl\", \"rb\"))\n",
    "video_id_boundary_frames = dict([(key[:-4], val) for key,val in video_id_boundary_frames.items()])\n",
    "\n",
    "weak_labels = pickle.load(open('data/breakfast_weaklysupervised_labels.pkl', 'rb'))\n",
    "weak_labels = dict([(key[:-4], val) for key,val in weak_labels.items()])\n",
    "\n",
    "loaded_mean_var_actions = pickle.load(open(\"data/breakfast_meanvar_actions.pkl\", \"rb\"))\n",
    "\n",
    "with open('/mnt/ssd/all_users/dipika/ms_tcn/data/breakfast/len_video.txt', 'r') as openf:\n",
    "    attributes = [item.strip().split()[::-1] for item in openf.readlines()]\n",
    "frame_id_dict = dict([(vidid[:-4], int(framecount)) for vidid,framecount in attributes])\n",
    "\n",
    "df=pd.read_csv(config.label_id_csv)\n",
    "label_id_to_label_name = {}\n",
    "label_name_to_label_id_dict = {}\n",
    "for i, ele in df.iterrows():\n",
    "    label_id_to_label_name[ele.label_id] = ele.label_name\n",
    "    label_name_to_label_id_dict[ele.label_name] = ele.label_id"
   ]
  },
  {
   "cell_type": "code",
   "execution_count": 11,
   "metadata": {},
   "outputs": [],
   "source": [
    "# weak_labels, loaded_mean_var_actions"
   ]
  },
  {
   "cell_type": "code",
   "execution_count": 12,
   "metadata": {},
   "outputs": [],
   "source": [
    "posterior_table = {}\n",
    "prior_table = {}"
   ]
  },
  {
   "cell_type": "code",
   "execution_count": 13,
   "metadata": {},
   "outputs": [],
   "source": [
    "# pickle.dump(prior_table, open('data/breakfast_lengthmodel_multinomial_prior.pkl', 'wb'))"
   ]
  },
  {
   "cell_type": "code",
   "execution_count": 14,
   "metadata": {},
   "outputs": [],
   "source": [
    "# for ele in weak_labels.keys():\n",
    "#     frame_count = frame_id_dict[ele]\n",
    "#     label_list = weak_labels[ele]\n",
    "#     mean_list = np.array([loaded_mean_var_actions[label][0] for label in label_list])\n",
    "#     total_mean = np.sum(mean_list)\n",
    "#     left_sum = np.cumsum(mean_list)\n",
    "#     relative_sum = left_sum / total_mean\n",
    "#     prob_id_ge_boundary = [binom.cdf(np.arange(frame_count)+1, frame_count, rel) for rel in relative_sum]\n",
    "#     prob_id_gt_boundary = [1] + [cdf - binom.pmf(np.arange(frame_count)+1, \n",
    "#                                                  frame_count,\n",
    "#                                                  rel) for rel,cdf in zip(relative_sum, prob_id_ge_boundary)]\n",
    "#     prob_id_gt_boundary[-1] = 0\n",
    "#     prior_table[ele] = np.stack([prob_id_gt_boundary[j-1] - prob_id_gt_boundary[j] \n",
    "#                                     for j in range(1,len(label_list)+1)], axis=0)\n",
    "\n",
    "prior_table = pickle.load(open('data/breakfast_lengthmodel_multinomial_prior.pkl', 'rb'))"
   ]
  },
  {
   "cell_type": "code",
   "execution_count": 15,
   "metadata": {},
   "outputs": [],
   "source": [
    "def generate_posterior_loss_weights(framewise_proba, ele):\n",
    "    '''\n",
    "    ele is video_id\n",
    "    '''\n",
    "    global posterior_table\n",
    "    frame_count = frame_id_dict[ele]\n",
    "    label_list = [label_name_to_label_id_dict[item] for item in weak_labels[ele]]\n",
    "    seqlen = len(label_list)\n",
    "    label_seq_prob = framewise_proba[:frame_count,label_list]\n",
    "    label_seq_logprob = torch.log(label_seq_prob + 1e-10)\n",
    "\n",
    "    left_probsum = torch.cumsum(label_seq_prob, dim=1)\n",
    "    right_probsum = torch.sum(label_seq_prob, dim=1, keepdim=True) - torch.cumsum(label_seq_prob, dim=1) + label_seq_prob\n",
    "\n",
    "    left_logprobsum = torch.log(torch.clip(left_probsum, min=1e-20))\n",
    "    right_logprobsum = torch.log(torch.clip(right_probsum, min=1e-20))\n",
    "\n",
    "    left_logprobsum_left_idsum = torch.cumsum(left_logprobsum, dim=0)\n",
    "    left_logprobsum_left_idsum -= left_logprobsum\n",
    "    right_logprobsum_right_idsum = torch.sum(right_logprobsum, dim=0, keepdim=True) - torch.cumsum(right_logprobsum, dim=0)\n",
    "\n",
    "    for k in range(seqlen):\n",
    "        left_logprobsum_left_idsum[:k,k] = -1000\n",
    "        remaining_labelcount = seqlen-k-1\n",
    "        if remaining_labelcount > 0:\n",
    "            right_logprobsum_right_idsum[-remaining_labelcount:,k] = -1000\n",
    "\n",
    "    loglikelihood = label_seq_logprob + 10*(left_logprobsum_left_idsum + right_logprobsum_right_idsum)/(frame_count)\n",
    "    posterior = loglikelihood.T + torch.log(torch.clip(torch.tensor(prior_table[ele]), min=1e-10))/10\n",
    "    posterior = torch.softmax(posterior/2, dim=0)\n",
    "    posterior_table[ele] = posterior"
   ]
  },
  {
   "cell_type": "code",
   "execution_count": 16,
   "metadata": {},
   "outputs": [
    {
     "name": "stdout",
     "output_type": "stream",
     "text": [
      "P26_cam02_P26_scrambledegg\n"
     ]
    },
    {
     "data": {
      "image/png": "[encoded data removed]",
      "text/plain": [
       "<Figure size 432x288 with 1 Axes>"
      ]
     },
     "metadata": {
      "needs_background": "light"
     },
     "output_type": "display_data"
    }
   ],
   "source": [
    "frame_count = 12000\n",
    "ele = list(weak_labels.keys())[0]\n",
    "print(ele)\n",
    "label_list = weak_labels[ele]\n",
    "mean_list = np.array([loaded_mean_var_actions[label][0] for label in label_list])\n",
    "total_mean = np.sum(mean_list)\n",
    "left_sum = np.cumsum(mean_list)\n",
    "relative_sum = left_sum/total_mean\n",
    "prob_id_ge_boundary = [binom.cdf(np.arange(frame_count)+1, frame_count, rel) for rel in relative_sum]\n",
    "prob_id_gt_boundary = [1] + [cdf - binom.pmf(np.arange(frame_count)+1, \n",
    "                                             frame_count,\n",
    "                                             rel) for rel,cdf in zip(relative_sum, prob_id_ge_boundary)]\n",
    "prob_id_gt_boundary[-1] = 0\n",
    "priors = np.stack([prob_id_gt_boundary[j-1] - prob_id_gt_boundary[j] \n",
    "                                for j in range(1,len(label_list)+1)], axis=0)\n",
    "priors = np.stack([priors, prob_id_ge_boundary], axis=0)\n",
    "\n",
    "for prior in priors[0]:\n",
    "    plt.plot(np.arange(12000), prior)"
   ]
  },
  {
   "cell_type": "code",
   "execution_count": 17,
   "metadata": {},
   "outputs": [
    {
     "name": "stdout",
     "output_type": "stream",
     "text": [
      "P26_cam02_P26_scrambledegg\n"
     ]
    }
   ],
   "source": [
    "frame_count = 12000\n",
    "ele = list(weak_labels.keys())[0]\n",
    "print(ele)\n",
    "boundary_probs = []\n",
    "label_list = weak_labels[ele]\n",
    "prob_boundary_le_id = 0\n",
    "\n",
    "posterior_id_between_boundary = priors[0]\n",
    "\n",
    "prob_boundary_le_id = 1 - np.cumsum(posterior_id_between_boundary, axis=0)\n",
    "prob_boundary_le_id = np.concatenate([np.zeros((len(label_list), 1)), prob_boundary_le_id], axis=1)\n",
    "frame_wise_proba = prob_boundary_le_id[:,1:] - prob_boundary_le_id[:,:-1]"
   ]
  },
  {
   "cell_type": "code",
   "execution_count": 18,
   "metadata": {},
   "outputs": [
    {
     "data": {
      "text/plain": [
       "array([  554.75554893,  1880.83252272,  3202.22802753,  4065.98680987,\n",
       "        5387.38231468,  6239.2061267 ,  7761.70125547, 10485.46502497,\n",
       "       11445.24445107,     0.        ])"
      ]
     },
     "execution_count": 18,
     "metadata": {},
     "output_type": "execute_result"
    },
    {
     "data": {
      "image/png": "[encoded data removed]",
      "text/plain": [
       "<Figure size 432x288 with 1 Axes>"
      ]
     },
     "metadata": {
      "needs_background": "light"
     },
     "output_type": "display_data"
    }
   ],
   "source": [
    "for proba in frame_wise_proba:\n",
    "    plt.plot(np.arange(12000), proba)\n",
    "\n",
    "np.sum(frame_wise_proba * np.arange(frame_count), axis=1)"
   ]
  },
  {
   "cell_type": "code",
   "execution_count": 19,
   "metadata": {},
   "outputs": [],
   "source": [
    "def get_estimated_boundaries():\n",
    "    estimated_boundary_dict = {}\n",
    "    for ele in weak_labels.keys():\n",
    "        if (ele + \".txt\") not in train_split_file_list:\n",
    "            continue\n",
    "        else:\n",
    "            frame_count = frame_id_dict[ele]\n",
    "            label_list = [label_name_to_label_id_dict[item] for item in weak_labels[ele]]\n",
    "            posterior_id_between_boundary = posterior_table[ele]\n",
    "\n",
    "            prob_boundary_le_id = 1 - np.cumsum(posterior_id_between_boundary, axis=0)\n",
    "            prob_boundary_le_id = np.concatenate([np.zeros((len(label_list), 1)), prob_boundary_le_id], axis=1)\n",
    "            frame_wise_proba = prob_boundary_le_id[:,1:] - prob_boundary_le_id[:,:-1]\n",
    "#             import pdb\n",
    "#             pdb.set_trace()\n",
    "            estimated_boundary_dict[ele] = np.sum(frame_wise_proba * np.arange(frame_count), axis=1)[:-1]\n",
    "            \n",
    "    return estimated_boundary_dict"
   ]
  },
  {
   "cell_type": "code",
   "execution_count": 20,
   "metadata": {},
   "outputs": [],
   "source": [
    "def get_estimated_loss(data_feat, data_count, video_ids, labels_all): #, loaded_vidid_selected_frames, boundaries_dict):\n",
    "    global posterior_table\n",
    "    loss_arr = []\n",
    "    device = data_feat.device\n",
    "    for iter_num in range(len(data_count)):\n",
    "        ele = video_ids[iter_num]\n",
    "        frame_count = frame_id_dict[ele]\n",
    "        label_list = [label_name_to_label_id_dict[item] for item in weak_labels[ele]]\n",
    "        label_list = torch.tensor(label_list).type(torch.long).to(device)\n",
    "        label_seq_logprob = torch.log(data_feat[iter_num][:frame_count, label_list] + 1e-10)\n",
    "        weights = posterior_table[ele].to(device).T\n",
    "        weighted_loss = torch.sum(weights * label_seq_logprob, dim=1)\n",
    "        loss_arr.append(weighted_loss)\n",
    "    return -torch.mean(torch.cat(loss_arr)), loss_arr"
   ]
  },
  {
   "cell_type": "code",
   "execution_count": 21,
   "metadata": {},
   "outputs": [],
   "source": [
    "def get_boundary_err():\n",
    "    err_list = []\n",
    "    correct = 0.0\n",
    "    total = 0.0\n",
    "    estimated_boundary_dict = get_estimated_boundaries()\n",
    "    for ele in video_id_boundary_frames.keys():\n",
    "        if ele + \".txt\" not in train_split_file_list:\n",
    "            continue\n",
    "        estimated_boundary_list = estimated_boundary_dict[ele]\n",
    "\n",
    "        estimated = np.array(estimated_boundary_list) #.detach().cpu().numpy()\n",
    "        if np.isnan(estimated).any():\n",
    "            print(ele)\n",
    "        actual = np.array(video_id_boundary_frames[ele][:-1])\n",
    "        if len(actual) != len(estimated):\n",
    "            print(ele)\n",
    "            continue\n",
    "\n",
    "        mse_err = (actual - estimated)**2\n",
    "        err_list.append(mse_err)\n",
    "\n",
    "    print(f\"Train Boundary avergage error = {np.sqrt(np.mean(np.concatenate(err_list))):.3f}\")"
   ]
  },
  {
   "cell_type": "code",
   "execution_count": 22,
   "metadata": {},
   "outputs": [],
   "source": [
    "pseudo_labels_dir = \"/mnt/ssd/all_users/dipika/ms_tcn/data/breakfast/length_segmentation_output/\"\n",
    "def get_single_random(output_p, video_ids):\n",
    "    # Generate target for only timestamps. Do not generate pseudo labels at first 30 epochs.\n",
    "    boundary_target_tensor = torch.ones((output_p.shape[0], output_p.shape[2]), dtype=torch.long, \n",
    "                                        device=output_p.device) * (-100)\n",
    "    for iter_num, cur_vidid in enumerate(video_ids):\n",
    "        pseudo_l = open(pseudo_labels_dir + cur_vidid + \".txt\").read().split(\"\\n\")[0:-1]\n",
    "        pseudo_l = [label_name_to_label_id_dict[ele] for ele in pseudo_l]\n",
    "        abc = torch.tensor(pseudo_l).to(torch.long).to(boundary_target_tensor.device)\n",
    "        frame_idx_tensor = torch.arange(0, len(pseudo_l), 1).to(device)\n",
    "        boundary_target_tensor[iter_num, frame_idx_tensor] = abc\n",
    "\n",
    "    return boundary_target_tensor"
   ]
  },
  {
   "cell_type": "code",
   "execution_count": 23,
   "metadata": {},
   "outputs": [],
   "source": [
    "set_seed()\n",
    "model = MultiStageModel(num_stages=4, num_layers=10, num_f_maps=64, dim=2048, num_classes=48).to(device)\n",
    "optimizer = torch.optim.Adam(model.parameters(), lr=3e-4)\n",
    "\n",
    "# Requires loaded_vidid_selected_frames, boundaries_dict\n",
    "ce_criterion = nn.CrossEntropyLoss(ignore_index=-100)\n",
    "mse_criterion = nn.MSELoss(reduction='none')"
   ]
  },
  {
   "cell_type": "code",
   "execution_count": 24,
   "metadata": {},
   "outputs": [
    {
     "data": {
      "text/plain": [
       "<All keys matched successfully>"
      ]
     },
     "execution_count": 24,
     "metadata": {},
     "output_type": "execute_result"
    }
   ],
   "source": [
    "loaded_file=torch.load(f\"/mnt/ssd/all_users/dipika/ms_tcn/data/breakfast//results/em-lenassum-mstcn-split1-slup15/\"\n",
    "                       f\"ms-tcn-initial-25-epochs.wt\")\n",
    "model.load_state_dict(loaded_file)"
   ]
  },
  {
   "cell_type": "code",
   "execution_count": 25,
   "metadata": {
    "scrolled": true
   },
   "outputs": [
    {
     "name": "stdout",
     "output_type": "stream",
     "text": [
      "Calculating Expectation\n",
      "Iter 0\n",
      "Iter 20\n",
      "Iter 40\n",
      "Iter 60\n",
      "Iter 80\n",
      "Iter 100\n",
      "Iter 120\n",
      "Iter 140\n",
      "Iter 160\n",
      "Iter 180\n",
      "Train Boundary avergage error = 309.020\n",
      "Calculating Validation Data Accuracy\n",
      "Validation:: Probability Accuracy 56.05137884777473\n"
     ]
    }
   ],
   "source": [
    "model.eval()\n",
    "print(\"Calculating Expectation\")\n",
    "correct = 0.0\n",
    "total = 0.0\n",
    "\n",
    "for i, item in enumerate(trainloader):\n",
    "    with torch.no_grad():\n",
    "        item_0 = item[0].to(device)\n",
    "        item_1 = item[1].to(device)\n",
    "        item_2 = item[2].to(device)\n",
    "        src_mask = torch.arange(item_2.shape[1], device=item_2.device)[None, :] < item_1[:, None]\n",
    "        src_mask_mse = src_mask.unsqueeze(1).to(torch.float32).to(device)\n",
    "\n",
    "        middle_pred, predictions = model(item_0, src_mask_mse)\n",
    "        prob = torch.softmax(predictions[-1], dim=1)\n",
    "        prob = prob.permute(0, 2, 1)\n",
    "        for j in range(len(prob)):\n",
    "            generate_posterior_loss_weights(prob[j].cpu(), item[4][j])\n",
    "\n",
    "        if i % 20 == 0:\n",
    "            print(f\"Iter {i}\")\n",
    "\n",
    "get_boundary_err()\n",
    "\n",
    "print(\"Calculating Validation Data Accuracy\")\n",
    "correct = 0.0\n",
    "total = 0.0\n",
    "for i, item in enumerate(testloader):\n",
    "    with torch.no_grad():\n",
    "        item_0 = item[0].to(device)\n",
    "        item_1 = item[1].to(device)\n",
    "        item_2 = item[2].to(device)\n",
    "        src_mask = torch.arange(item_2.shape[1], device=item_2.device)[None, :] < item_1[:, None]\n",
    "        src_mask_mse = src_mask.unsqueeze(1).to(torch.float32).to(device)\n",
    "\n",
    "        middle_pred, predictions = model(item_0, src_mask_mse)\n",
    "\n",
    "        pred = torch.argmax(predictions[-1], dim=1)\n",
    "        correct += float(torch.sum((pred == item_2) * src_mask).item())\n",
    "        total += float(torch.sum(src_mask).item())\n",
    "val_acc = correct * 100.0 / total\n",
    "print(f\"Validation:: Probability Accuracy {val_acc}\")"
   ]
  },
  {
   "cell_type": "code",
   "execution_count": 26,
   "metadata": {},
   "outputs": [
    {
     "name": "stdout",
     "output_type": "stream",
     "text": [
      "Starting Training\n",
      "Training:: Epoch 26, Iteration 0, Current loss 0.5319774263852478 Accuracy 64.16195190947666\n",
      "Training:: Epoch 26, Iteration 10, Current loss 0.5575429797419457 Accuracy 66.52900688298918\n",
      "Training:: Epoch 26, Iteration 20, Current loss 0.5395698483049407 Accuracy 74.04473698889943\n",
      "Training:: Epoch 26, Iteration 30, Current loss 0.524175038237952 Accuracy 67.61730731579978\n",
      "Training:: Epoch 26, Iteration 40, Current loss 0.539702897958026 Accuracy 66.53367302792867\n",
      "Training:: Epoch 26, Iteration 50, Current loss 0.4394306557914818 Accuracy 64.61538461538461\n",
      "Training:: Epoch 26, Iteration 60, Current loss 0.44206975255218234 Accuracy 65.04817119959075\n",
      "Training:: Epoch 26, Iteration 70, Current loss 0.5192081883102792 Accuracy 61.86664110061838\n",
      "Training:: Epoch 26, Iteration 80, Current loss 0.5487144674959612 Accuracy 59.293688980240105\n",
      "Training:: Epoch 26, Iteration 90, Current loss 0.44932770621129153 Accuracy 60.771510604797626\n",
      "Training:: Epoch 26, Iteration 100, Current loss 0.5670464516721229 Accuracy 72.0043386424616\n",
      "Training:: Epoch 26, Iteration 110, Current loss 0.4753605374900017 Accuracy 70.92400998929718\n",
      "Training:: Epoch 26, Iteration 120, Current loss 0.42757924389544066 Accuracy 58.7415623889788\n",
      "Training:: Epoch 26, Iteration 130, Current loss 0.5995693708585754 Accuracy 52.41919020074855\n",
      "Training:: Epoch 26, Iteration 140, Current loss 0.633348870668084 Accuracy 61.11007809594645\n",
      "Training:: Epoch 26, Iteration 150, Current loss 0.5707120022373644 Accuracy 61.31252868288205\n",
      "Training:: Epoch 26, Iteration 160, Current loss 0.548790205385261 Accuracy 59.51068804275217\n",
      "Training:: Epoch 26, Iteration 170, Current loss 0.5234521240230787 Accuracy 69.40715039975863\n",
      "Training:: Epoch 26, Iteration 180, Current loss 0.4715023273954641 Accuracy 61.798190133307386\n",
      "Calculating Validation Data Accuracy\n",
      "Validation:: Epoch 26, Probability Accuracy 56.67185045368029\n",
      "Starting Training\n",
      "Training:: Epoch 27, Iteration 0, Current loss 0.5229020666350505 Accuracy 49.4257191927866\n",
      "Training:: Epoch 27, Iteration 10, Current loss 0.4560291692635653 Accuracy 62.50525683388405\n",
      "Training:: Epoch 27, Iteration 20, Current loss 0.5278265967043526 Accuracy 55.840346850293294\n",
      "Training:: Epoch 27, Iteration 30, Current loss 0.4239836534667362 Accuracy 66.76724137931035\n",
      "Training:: Epoch 27, Iteration 40, Current loss 0.4242441662466321 Accuracy 67.6471955016497\n",
      "Training:: Epoch 27, Iteration 50, Current loss 0.47795214412535564 Accuracy 59.76162097735399\n",
      "Training:: Epoch 27, Iteration 60, Current loss 0.47296987217268777 Accuracy 63.02793692643107\n",
      "Training:: Epoch 27, Iteration 70, Current loss 0.4380652733209712 Accuracy 62.79712193241681\n",
      "Training:: Epoch 27, Iteration 80, Current loss 0.43778388464139023 Accuracy 55.245411102675185\n",
      "Training:: Epoch 27, Iteration 90, Current loss 0.4982171786379844 Accuracy 67.41609644835451\n",
      "Training:: Epoch 27, Iteration 100, Current loss 0.583801412264344 Accuracy 67.00379266750949\n",
      "Training:: Epoch 27, Iteration 110, Current loss 0.560506170358594 Accuracy 65.57446808510639\n",
      "Training:: Epoch 27, Iteration 120, Current loss 0.44294688156761186 Accuracy 66.11158875967239\n",
      "Training:: Epoch 27, Iteration 130, Current loss 0.8560962282939315 Accuracy 61.663126425930294\n",
      "Training:: Epoch 27, Iteration 140, Current loss 0.47898013871622586 Accuracy 66.87956906502501\n",
      "Training:: Epoch 27, Iteration 150, Current loss 0.43380522038091024 Accuracy 64.90437059122974\n",
      "Training:: Epoch 27, Iteration 160, Current loss 0.5421058453767408 Accuracy 68.15567076201974\n",
      "Training:: Epoch 27, Iteration 170, Current loss 0.4381689525056801 Accuracy 48.95847608606277\n",
      "Training:: Epoch 27, Iteration 180, Current loss 0.40820082819035847 Accuracy 64.33780630105018\n",
      "Calculating Validation Data Accuracy\n",
      "Validation:: Epoch 27, Probability Accuracy 55.686733066625514\n",
      "Starting Training\n",
      "Training:: Epoch 28, Iteration 0, Current loss 0.4750716030668203 Accuracy 52.43078155509939\n",
      "Training:: Epoch 28, Iteration 10, Current loss 0.5317394566896083 Accuracy 65.0009169264625\n",
      "Training:: Epoch 28, Iteration 20, Current loss 0.405042569596769 Accuracy 67.65563257109542\n",
      "Training:: Epoch 28, Iteration 30, Current loss 0.45505108384283205 Accuracy 73.02545060725613\n",
      "Training:: Epoch 28, Iteration 40, Current loss 0.4321084808834323 Accuracy 69.89996033669738\n",
      "Training:: Epoch 28, Iteration 50, Current loss 0.4898719164863064 Accuracy 63.04026597709642\n",
      "Training:: Epoch 28, Iteration 60, Current loss 0.5130850532297193 Accuracy 69.96514229228448\n",
      "Training:: Epoch 28, Iteration 70, Current loss 0.5310681339700654 Accuracy 64.68830059777967\n",
      "Training:: Epoch 28, Iteration 80, Current loss 0.5860176693170197 Accuracy 64.1326257764614\n",
      "Training:: Epoch 28, Iteration 90, Current loss 0.4121619556566579 Accuracy 61.79118058037891\n",
      "Training:: Epoch 28, Iteration 100, Current loss 0.43232725069743505 Accuracy 42.24290992849945\n",
      "Training:: Epoch 28, Iteration 110, Current loss 0.4841676883367688 Accuracy 63.889925373134325\n",
      "Training:: Epoch 28, Iteration 120, Current loss 0.4943943050935866 Accuracy 67.91434307383449\n",
      "Training:: Epoch 28, Iteration 130, Current loss 0.4467778372382456 Accuracy 74.86259462822773\n",
      "Training:: Epoch 28, Iteration 140, Current loss 0.4906680096022476 Accuracy 59.07747119466343\n",
      "Training:: Epoch 28, Iteration 150, Current loss 0.5182148334539828 Accuracy 60.877827499540246\n",
      "Training:: Epoch 28, Iteration 160, Current loss 0.3950774434082593 Accuracy 62.593094109681786\n",
      "Training:: Epoch 28, Iteration 170, Current loss 0.5125438695604302 Accuracy 66.5635696317374\n",
      "Training:: Epoch 28, Iteration 180, Current loss 0.46386597453470757 Accuracy 50.814828933574766\n",
      "Calculating Validation Data Accuracy\n",
      "Validation:: Epoch 28, Probability Accuracy 56.05691877282746\n",
      "Starting Training\n",
      "Training:: Epoch 29, Iteration 0, Current loss 0.42532650127757 Accuracy 61.38728323699422\n",
      "Training:: Epoch 29, Iteration 10, Current loss 0.47422209182036096 Accuracy 67.34774066797642\n",
      "Training:: Epoch 29, Iteration 20, Current loss 0.49481711501402437 Accuracy 60.70386933696286\n",
      "Training:: Epoch 29, Iteration 30, Current loss 0.5067313673877114 Accuracy 65.5672491061987\n",
      "Training:: Epoch 29, Iteration 40, Current loss 0.5688905522706783 Accuracy 72.69796861695657\n",
      "Training:: Epoch 29, Iteration 50, Current loss 0.398772001421857 Accuracy 67.59748740593321\n",
      "Training:: Epoch 29, Iteration 60, Current loss 0.3982126555526956 Accuracy 62.51274036828158\n",
      "Training:: Epoch 29, Iteration 70, Current loss 0.5176982864680667 Accuracy 60.72146975995709\n",
      "Training:: Epoch 29, Iteration 80, Current loss 0.40356116398830194 Accuracy 63.2787308138785\n",
      "Training:: Epoch 29, Iteration 90, Current loss 0.39694544251654573 Accuracy 70.88275465458989\n",
      "Training:: Epoch 29, Iteration 100, Current loss 0.48907727243913224 Accuracy 64.99966300465053\n",
      "Training:: Epoch 29, Iteration 110, Current loss 0.4298793755384015 Accuracy 69.68060394889663\n",
      "Training:: Epoch 29, Iteration 120, Current loss 0.38680503606461314 Accuracy 70.79204835794853\n",
      "Training:: Epoch 29, Iteration 130, Current loss 0.46028641268230686 Accuracy 63.70022092562171\n",
      "Training:: Epoch 29, Iteration 140, Current loss 0.4975980827693845 Accuracy 66.86088856518572\n",
      "Training:: Epoch 29, Iteration 150, Current loss 0.4214373126859289 Accuracy 70.21710984961658\n",
      "Training:: Epoch 29, Iteration 160, Current loss 0.3639568369789352 Accuracy 55.34895568008151\n",
      "Training:: Epoch 29, Iteration 170, Current loss 0.39519459663811535 Accuracy 58.6825099020221\n",
      "Training:: Epoch 29, Iteration 180, Current loss 0.5103578477198949 Accuracy 64.65389185977422\n",
      "Calculating Validation Data Accuracy\n",
      "Validation:: Epoch 29, Probability Accuracy 55.95660655847985\n",
      "Starting Training\n",
      "Training:: Epoch 30, Iteration 0, Current loss 0.4215546733780484 Accuracy 57.62584169138767\n",
      "Training:: Epoch 30, Iteration 10, Current loss 0.4126501778759818 Accuracy 69.92206767288152\n",
      "Training:: Epoch 30, Iteration 20, Current loss 0.47125017630276195 Accuracy 64.56157163392429\n",
      "Training:: Epoch 30, Iteration 30, Current loss 0.47780260230492755 Accuracy 61.64939792775133\n",
      "Training:: Epoch 30, Iteration 40, Current loss 0.5151341180571066 Accuracy 65.05096623486939\n",
      "Training:: Epoch 30, Iteration 50, Current loss 0.5285266996897346 Accuracy 53.475319083499926\n"
     ]
    },
    {
     "name": "stdout",
     "output_type": "stream",
     "text": [
      "Training:: Epoch 30, Iteration 60, Current loss 0.4966322704498987 Accuracy 66.16999072356215\n",
      "Training:: Epoch 30, Iteration 70, Current loss 0.4418064980354209 Accuracy 56.39876446005693\n",
      "Training:: Epoch 30, Iteration 80, Current loss 0.40610668277467316 Accuracy 63.050268423621276\n",
      "Training:: Epoch 30, Iteration 90, Current loss 0.3953537172621906 Accuracy 72.81940233867475\n",
      "Training:: Epoch 30, Iteration 100, Current loss 0.40880629281357084 Accuracy 63.9692378328742\n",
      "Training:: Epoch 30, Iteration 110, Current loss 0.3865002142355772 Accuracy 60.790481400437635\n",
      "Training:: Epoch 30, Iteration 120, Current loss 0.5998401439597564 Accuracy 64.63481603514552\n",
      "Training:: Epoch 30, Iteration 130, Current loss 0.40042103556749975 Accuracy 56.53359298928919\n",
      "Training:: Epoch 30, Iteration 140, Current loss 0.428867426651179 Accuracy 61.49482484076433\n",
      "Training:: Epoch 30, Iteration 150, Current loss 0.4106316429248536 Accuracy 71.31296963229737\n",
      "Training:: Epoch 30, Iteration 160, Current loss 0.3695785721962304 Accuracy 69.88694259789412\n",
      "Training:: Epoch 30, Iteration 170, Current loss 0.5029118232583012 Accuracy 57.276119402985074\n",
      "Training:: Epoch 30, Iteration 180, Current loss 0.43620199786227826 Accuracy 60.09336155892091\n",
      "Calculating Expectation\n",
      "Epoch 30 iter 0\n",
      "Epoch 30 iter 20\n",
      "Epoch 30 iter 40\n",
      "Epoch 30 iter 60\n",
      "Epoch 30 iter 80\n",
      "Epoch 30 iter 100\n",
      "Epoch 30 iter 120\n",
      "Epoch 30 iter 140\n",
      "Epoch 30 iter 160\n",
      "Epoch 30 iter 180\n",
      "Train Boundary avergage error = 365.187\n",
      "Calculating Validation Data Accuracy\n",
      "Validation:: Epoch 30, Probability Accuracy 55.498573469298925\n",
      "Starting Training\n",
      "Training:: Epoch 31, Iteration 0, Current loss 1.3903250599801475 Accuracy 59.429190751445084\n",
      "Training:: Epoch 31, Iteration 10, Current loss 1.6461122114002116 Accuracy 68.66550137338137\n",
      "Training:: Epoch 31, Iteration 20, Current loss 1.5780100452792782 Accuracy 57.221343544493465\n",
      "Training:: Epoch 31, Iteration 30, Current loss 1.3026240019182365 Accuracy 66.77455899012786\n",
      "Training:: Epoch 31, Iteration 40, Current loss 1.2188391774249012 Accuracy 66.7871459551817\n",
      "Training:: Epoch 31, Iteration 50, Current loss 1.2951427502469373 Accuracy 68.01498127340824\n",
      "Training:: Epoch 31, Iteration 60, Current loss 1.3293217484872792 Accuracy 67.93664616556904\n",
      "Training:: Epoch 31, Iteration 70, Current loss 1.332286810469837 Accuracy 69.47316834109287\n",
      "Training:: Epoch 31, Iteration 80, Current loss 1.431675570687443 Accuracy 72.20386154113758\n",
      "Training:: Epoch 31, Iteration 90, Current loss 1.3783117548297725 Accuracy 71.33568904593639\n",
      "Training:: Epoch 31, Iteration 100, Current loss 1.4570329637469381 Accuracy 58.081104907434614\n",
      "Training:: Epoch 31, Iteration 110, Current loss 1.3082086365949948 Accuracy 62.62428755668345\n",
      "Training:: Epoch 31, Iteration 120, Current loss 1.5571818929958603 Accuracy 59.83259832598326\n",
      "Training:: Epoch 31, Iteration 130, Current loss 1.0596195760705467 Accuracy 69.03676694013977\n",
      "Training:: Epoch 31, Iteration 140, Current loss 1.1766811711031515 Accuracy 61.83786108522686\n",
      "Training:: Epoch 31, Iteration 150, Current loss 1.3333341554817233 Accuracy 63.601514434453385\n",
      "Training:: Epoch 31, Iteration 160, Current loss 1.1217142131477198 Accuracy 69.13737117040802\n",
      "Training:: Epoch 31, Iteration 170, Current loss 1.3637148916928497 Accuracy 67.93836483478108\n",
      "Training:: Epoch 31, Iteration 180, Current loss 1.3372038137201465 Accuracy 62.90022172949002\n",
      "Calculating Validation Data Accuracy\n",
      "Validation:: Epoch 31, Probability Accuracy 55.636280177752454\n",
      "Starting Training\n",
      "Training:: Epoch 32, Iteration 0, Current loss 1.634769754130614 Accuracy 56.736677466204895\n",
      "Training:: Epoch 32, Iteration 10, Current loss 1.320249449864229 Accuracy 60.65550611005156\n",
      "Training:: Epoch 32, Iteration 20, Current loss 1.3602877956951267 Accuracy 64.63610463610463\n",
      "Training:: Epoch 32, Iteration 30, Current loss 1.2765417577305063 Accuracy 56.72302490009222\n",
      "Training:: Epoch 32, Iteration 40, Current loss 1.1956515714475255 Accuracy 56.78515537670467\n",
      "Training:: Epoch 32, Iteration 50, Current loss 1.3159061606307396 Accuracy 68.78749722242797\n",
      "Training:: Epoch 32, Iteration 60, Current loss 1.5696161752029685 Accuracy 67.04256093124772\n",
      "Training:: Epoch 32, Iteration 70, Current loss 1.2502761235033788 Accuracy 72.99423703332498\n",
      "Training:: Epoch 32, Iteration 80, Current loss 1.1490257289387034 Accuracy 70.14063011010575\n",
      "Training:: Epoch 32, Iteration 90, Current loss 1.321217137444934 Accuracy 70.88947539010047\n",
      "Training:: Epoch 32, Iteration 100, Current loss 1.4191339448014268 Accuracy 58.6203007518797\n",
      "Training:: Epoch 32, Iteration 110, Current loss 1.4427562285142552 Accuracy 67.10402015324865\n",
      "Training:: Epoch 32, Iteration 120, Current loss 1.0773509779519446 Accuracy 68.25396825396825\n",
      "Training:: Epoch 32, Iteration 130, Current loss 1.111072302017707 Accuracy 52.63846928499496\n",
      "Training:: Epoch 32, Iteration 140, Current loss 1.2852367342992508 Accuracy 64.15931970236979\n",
      "Training:: Epoch 32, Iteration 150, Current loss 1.2864499046287305 Accuracy 65.54429801173154\n",
      "Training:: Epoch 32, Iteration 160, Current loss 1.340303682323313 Accuracy 59.97310623038996\n",
      "Training:: Epoch 32, Iteration 170, Current loss 1.37016059912458 Accuracy 70.0508675353634\n",
      "Training:: Epoch 32, Iteration 180, Current loss 1.2052116869251424 Accuracy 63.44839274617253\n",
      "Calculating Validation Data Accuracy\n",
      "Validation:: Epoch 32, Probability Accuracy 55.80069723913878\n",
      "Starting Training\n",
      "Training:: Epoch 33, Iteration 0, Current loss 1.222929522873567 Accuracy 69.17828412584763\n",
      "Training:: Epoch 33, Iteration 10, Current loss 1.4084007147999416 Accuracy 70.29004217230398\n",
      "Training:: Epoch 33, Iteration 20, Current loss 1.3959530096224706 Accuracy 48.103401986729565\n",
      "Training:: Epoch 33, Iteration 30, Current loss 1.1984944078769688 Accuracy 68.11931047840403\n",
      "Training:: Epoch 33, Iteration 40, Current loss 1.0994050269306603 Accuracy 59.06108492745587\n",
      "Training:: Epoch 33, Iteration 50, Current loss 1.2579509009391276 Accuracy 67.15570517007487\n",
      "Training:: Epoch 33, Iteration 60, Current loss 1.6538785181786744 Accuracy 59.386135406543566\n",
      "Training:: Epoch 33, Iteration 70, Current loss 1.3632825201376932 Accuracy 58.64274124272215\n",
      "Training:: Epoch 33, Iteration 80, Current loss 0.9866946162394143 Accuracy 52.798833819241985\n",
      "Training:: Epoch 33, Iteration 90, Current loss 1.1890250438497267 Accuracy 63.532958750171304\n",
      "Training:: Epoch 33, Iteration 100, Current loss 1.1435783624906453 Accuracy 60.21375464684015\n",
      "Training:: Epoch 33, Iteration 110, Current loss 1.2326139480318148 Accuracy 54.477301124531444\n",
      "Training:: Epoch 33, Iteration 120, Current loss 1.2372777783943043 Accuracy 65.97868760515985\n",
      "Training:: Epoch 33, Iteration 130, Current loss 1.2965769060163657 Accuracy 60.3575463547551\n",
      "Training:: Epoch 33, Iteration 140, Current loss 1.0413240738284648 Accuracy 59.26117856085283\n",
      "Training:: Epoch 33, Iteration 150, Current loss 1.3025293377052503 Accuracy 71.91183294663573\n",
      "Training:: Epoch 33, Iteration 160, Current loss 1.2327664225396326 Accuracy 58.792258493230335\n",
      "Training:: Epoch 33, Iteration 170, Current loss 1.3009955169205165 Accuracy 73.58430298882044\n",
      "Training:: Epoch 33, Iteration 180, Current loss 1.4211182568378906 Accuracy 51.19442143054405\n",
      "Calculating Validation Data Accuracy\n",
      "Validation:: Epoch 33, Probability Accuracy 55.206738131699844\n",
      "Starting Training\n",
      "Training:: Epoch 34, Iteration 0, Current loss 1.0147309596473617 Accuracy 63.0006022282445\n",
      "Training:: Epoch 34, Iteration 10, Current loss 1.2150434745850833 Accuracy 64.17303012503147\n",
      "Training:: Epoch 34, Iteration 20, Current loss 1.219082883219045 Accuracy 68.03217637419931\n",
      "Training:: Epoch 34, Iteration 30, Current loss 1.1214527713567533 Accuracy 58.84034299714169\n",
      "Training:: Epoch 34, Iteration 40, Current loss 0.9880077734884706 Accuracy 57.48402704546864\n",
      "Training:: Epoch 34, Iteration 50, Current loss 1.2452798257491988 Accuracy 56.40814777327935\n",
      "Training:: Epoch 34, Iteration 60, Current loss 1.2747309385604833 Accuracy 53.56060606060606\n",
      "Training:: Epoch 34, Iteration 70, Current loss 1.4147984851347946 Accuracy 63.735768958641536\n",
      "Training:: Epoch 34, Iteration 80, Current loss 1.0852408515931415 Accuracy 65.18684126477164\n",
      "Training:: Epoch 34, Iteration 90, Current loss 1.180422613320491 Accuracy 41.826493093510884\n"
     ]
    },
    {
     "name": "stdout",
     "output_type": "stream",
     "text": [
      "Training:: Epoch 34, Iteration 100, Current loss 1.406813741190817 Accuracy 58.38655462184874\n",
      "Training:: Epoch 34, Iteration 110, Current loss 1.1889482294868257 Accuracy 57.031522624171224\n",
      "Training:: Epoch 34, Iteration 120, Current loss 1.137491486049629 Accuracy 58.57871360421122\n",
      "Training:: Epoch 34, Iteration 130, Current loss 0.8811377928423857 Accuracy 68.31819605386784\n",
      "Training:: Epoch 34, Iteration 140, Current loss 1.4540423252178454 Accuracy 59.86206896551724\n",
      "Training:: Epoch 34, Iteration 150, Current loss 1.3591850753679158 Accuracy 67.20736338121182\n",
      "Training:: Epoch 34, Iteration 160, Current loss 1.3975380127380497 Accuracy 62.48583301851152\n",
      "Training:: Epoch 34, Iteration 170, Current loss 1.4165925166002435 Accuracy 57.473432685656796\n",
      "Training:: Epoch 34, Iteration 180, Current loss 1.1789206360665938 Accuracy 66.60653247246486\n",
      "Calculating Validation Data Accuracy\n",
      "Validation:: Epoch 34, Probability Accuracy 54.89511734748388\n",
      "Starting Training\n",
      "Training:: Epoch 35, Iteration 0, Current loss 1.4426746026283326 Accuracy 54.72181551976574\n",
      "Training:: Epoch 35, Iteration 10, Current loss 1.1024801510743518 Accuracy 69.54845303354084\n",
      "Training:: Epoch 35, Iteration 20, Current loss 1.3523749827470182 Accuracy 58.38885523924894\n",
      "Training:: Epoch 35, Iteration 30, Current loss 1.1043160293967924 Accuracy 65.89192330040675\n",
      "Training:: Epoch 35, Iteration 40, Current loss 1.2362155261021293 Accuracy 72.46992215145082\n",
      "Training:: Epoch 35, Iteration 50, Current loss 1.2098198335511268 Accuracy 72.61422005947553\n",
      "Training:: Epoch 35, Iteration 60, Current loss 1.187321932459533 Accuracy 60.45020870602266\n",
      "Training:: Epoch 35, Iteration 70, Current loss 1.1240095000241557 Accuracy 71.98061780738946\n",
      "Training:: Epoch 35, Iteration 80, Current loss 0.8199685273763647 Accuracy 71.76631831420251\n",
      "Training:: Epoch 35, Iteration 90, Current loss 1.356110740712107 Accuracy 65.13986013986013\n",
      "Training:: Epoch 35, Iteration 100, Current loss 1.4241197920569173 Accuracy 54.278622401489294\n",
      "Training:: Epoch 35, Iteration 110, Current loss 1.0281522467127397 Accuracy 66.30276564774381\n",
      "Training:: Epoch 35, Iteration 120, Current loss 0.9495175850216847 Accuracy 69.55326460481099\n",
      "Training:: Epoch 35, Iteration 130, Current loss 1.3288789935638508 Accuracy 71.5445496083551\n",
      "Training:: Epoch 35, Iteration 140, Current loss 1.3159030445293372 Accuracy 61.9845513963161\n",
      "Training:: Epoch 35, Iteration 150, Current loss 1.223719145128248 Accuracy 72.96966731898239\n",
      "Training:: Epoch 35, Iteration 160, Current loss 1.2411836750472356 Accuracy 63.255633255633256\n",
      "Training:: Epoch 35, Iteration 170, Current loss 1.3731235574639427 Accuracy 70.33552151714078\n",
      "Training:: Epoch 35, Iteration 180, Current loss 1.3622348227368144 Accuracy 65.43360283530845\n",
      "Calculating Expectation\n",
      "Epoch 35 iter 0\n",
      "Epoch 35 iter 20\n",
      "Epoch 35 iter 40\n",
      "Epoch 35 iter 60\n",
      "Epoch 35 iter 80\n",
      "Epoch 35 iter 100\n",
      "Epoch 35 iter 120\n",
      "Epoch 35 iter 140\n",
      "Epoch 35 iter 160\n",
      "Epoch 35 iter 180\n",
      "Train Boundary avergage error = 483.082\n",
      "Calculating Validation Data Accuracy\n",
      "Validation:: Epoch 35, Probability Accuracy 54.612185460862406\n",
      "Starting Training\n",
      "Training:: Epoch 36, Iteration 0, Current loss 2.521457800069584 Accuracy 64.67277237168479\n",
      "Training:: Epoch 36, Iteration 10, Current loss 2.61636596179105 Accuracy 60.18672649634508\n",
      "Training:: Epoch 36, Iteration 20, Current loss 2.47287895930939 Accuracy 62.73968916100384\n",
      "Training:: Epoch 36, Iteration 30, Current loss 2.6675424225881006 Accuracy 63.67311579555299\n",
      "Training:: Epoch 36, Iteration 40, Current loss 2.4387158489500855 Accuracy 60.99564197116997\n",
      "Training:: Epoch 36, Iteration 50, Current loss 2.9019759087508192 Accuracy 61.638806948541465\n",
      "Training:: Epoch 36, Iteration 60, Current loss 2.025567417035488 Accuracy 75.3199268738574\n",
      "Training:: Epoch 36, Iteration 70, Current loss 2.250227709409047 Accuracy 51.904047976011995\n",
      "Training:: Epoch 36, Iteration 80, Current loss 2.139046835061358 Accuracy 56.77301255230125\n",
      "Training:: Epoch 36, Iteration 90, Current loss 1.9308024862179651 Accuracy 71.80045069546973\n",
      "Training:: Epoch 36, Iteration 100, Current loss 2.2250891499658394 Accuracy 60.55118110236221\n",
      "Training:: Epoch 36, Iteration 110, Current loss 2.5908456724202202 Accuracy 60.95696739418574\n",
      "Training:: Epoch 36, Iteration 120, Current loss 2.8516135957722417 Accuracy 63.51438652288426\n",
      "Training:: Epoch 36, Iteration 130, Current loss 2.4078505409943736 Accuracy 69.46268656716418\n",
      "Training:: Epoch 36, Iteration 140, Current loss 2.727568323523175 Accuracy 66.98582756875317\n",
      "Training:: Epoch 36, Iteration 150, Current loss 2.2378252425063665 Accuracy 74.30493772241992\n",
      "Training:: Epoch 36, Iteration 160, Current loss 2.558712477389228 Accuracy 68.78512753999135\n",
      "Training:: Epoch 36, Iteration 170, Current loss 2.345204194069337 Accuracy 68.15870570107859\n",
      "Training:: Epoch 36, Iteration 180, Current loss 2.4152683788805582 Accuracy 59.285231497127405\n",
      "Calculating Validation Data Accuracy\n",
      "Validation:: Epoch 36, Probability Accuracy 54.0174349355588\n",
      "Starting Training\n",
      "Training:: Epoch 37, Iteration 0, Current loss 2.5076503870617564 Accuracy 54.515983112183356\n",
      "Training:: Epoch 37, Iteration 10, Current loss 2.6756013827604925 Accuracy 67.5594485201113\n",
      "Training:: Epoch 37, Iteration 20, Current loss 2.3228088573433485 Accuracy 57.65677806984604\n",
      "Training:: Epoch 37, Iteration 30, Current loss 2.7536206286206495 Accuracy 69.89622880283473\n",
      "Training:: Epoch 37, Iteration 40, Current loss 2.5373012762481078 Accuracy 62.1202040363717\n",
      "Training:: Epoch 37, Iteration 50, Current loss 2.1731320439301864 Accuracy 59.56363636363636\n",
      "Training:: Epoch 37, Iteration 60, Current loss 2.6973418374262508 Accuracy 62.981926392718044\n",
      "Training:: Epoch 37, Iteration 70, Current loss 2.342825095066411 Accuracy 66.93541614176534\n",
      "Training:: Epoch 37, Iteration 80, Current loss 2.010668028771719 Accuracy 68.73184898354307\n",
      "Training:: Epoch 37, Iteration 90, Current loss 2.4210216703714518 Accuracy 52.27285529206331\n",
      "Training:: Epoch 37, Iteration 100, Current loss 2.148093587664372 Accuracy 78.19508031349422\n",
      "Training:: Epoch 37, Iteration 110, Current loss 2.7398105478658783 Accuracy 62.25232511120097\n",
      "Training:: Epoch 37, Iteration 120, Current loss 2.4873237277955638 Accuracy 68.15154899284444\n",
      "Training:: Epoch 37, Iteration 130, Current loss 2.488587937744439 Accuracy 69.63004305533408\n",
      "Training:: Epoch 37, Iteration 140, Current loss 2.7813515008161596 Accuracy 60.166196538842726\n",
      "Training:: Epoch 37, Iteration 150, Current loss 2.1102087811896144 Accuracy 62.20083246618106\n",
      "Training:: Epoch 37, Iteration 160, Current loss 2.370693179137318 Accuracy 68.87074113101511\n",
      "Training:: Epoch 37, Iteration 170, Current loss 2.680871342021034 Accuracy 59.045981951009885\n",
      "Training:: Epoch 37, Iteration 180, Current loss 2.379356891058575 Accuracy 69.71697169716971\n",
      "Calculating Validation Data Accuracy\n",
      "Validation:: Epoch 37, Probability Accuracy 55.10167741016418\n",
      "Starting Training\n",
      "Training:: Epoch 38, Iteration 0, Current loss 2.1541582152990304 Accuracy 68.37957974137932\n",
      "Training:: Epoch 38, Iteration 10, Current loss 2.479218926896194 Accuracy 56.419546636937945\n",
      "Training:: Epoch 38, Iteration 20, Current loss 1.8868167707153822 Accuracy 59.27953381599859\n",
      "Training:: Epoch 38, Iteration 30, Current loss 2.439069643934003 Accuracy 69.92350020131526\n",
      "Training:: Epoch 38, Iteration 40, Current loss 2.358825612059963 Accuracy 65.62897886427298\n",
      "Training:: Epoch 38, Iteration 50, Current loss 2.469227683164797 Accuracy 57.019016929151725\n",
      "Training:: Epoch 38, Iteration 60, Current loss 2.2947301215450695 Accuracy 60.94202898550725\n",
      "Training:: Epoch 38, Iteration 70, Current loss 2.192351594686213 Accuracy 58.009455393872415\n",
      "Training:: Epoch 38, Iteration 80, Current loss 2.4346256026651942 Accuracy 67.54100005015296\n",
      "Training:: Epoch 38, Iteration 90, Current loss 2.2586181131406926 Accuracy 63.63738548867532\n",
      "Training:: Epoch 38, Iteration 100, Current loss 1.8664367988528154 Accuracy 66.61445688777508\n",
      "Training:: Epoch 38, Iteration 110, Current loss 1.8769900803070019 Accuracy 62.703596527490696\n",
      "Training:: Epoch 38, Iteration 120, Current loss 2.2645374714109874 Accuracy 55.24834019665518\n",
      "Training:: Epoch 38, Iteration 130, Current loss 2.181671985387214 Accuracy 63.071008593396655\n"
     ]
    },
    {
     "name": "stdout",
     "output_type": "stream",
     "text": [
      "Training:: Epoch 38, Iteration 140, Current loss 5.2742611824691865 Accuracy 61.654900083762115\n",
      "Training:: Epoch 38, Iteration 150, Current loss 3.211456843334882 Accuracy 71.4358251057828\n",
      "Training:: Epoch 38, Iteration 160, Current loss 2.6238758257582444 Accuracy 67.08003215064875\n",
      "Training:: Epoch 38, Iteration 170, Current loss 2.5255302351611877 Accuracy 58.32761830116586\n",
      "Training:: Epoch 38, Iteration 180, Current loss 3.290009453882801 Accuracy 63.25063760723394\n",
      "Calculating Validation Data Accuracy\n",
      "Validation:: Epoch 38, Probability Accuracy 52.031569658621905\n",
      "Starting Training\n",
      "Training:: Epoch 39, Iteration 0, Current loss 2.8371287814201995 Accuracy 61.99955761999558\n",
      "Training:: Epoch 39, Iteration 10, Current loss 2.7369778815525305 Accuracy 68.18273837640866\n",
      "Training:: Epoch 39, Iteration 20, Current loss 2.4246780621948183 Accuracy 59.94089199355185\n",
      "Training:: Epoch 39, Iteration 30, Current loss 3.1582092142602383 Accuracy 64.63673553932992\n",
      "Training:: Epoch 39, Iteration 40, Current loss 2.3877254535712096 Accuracy 68.95389024698643\n",
      "Training:: Epoch 39, Iteration 50, Current loss 2.756903277716632 Accuracy 64.60741811175338\n",
      "Training:: Epoch 39, Iteration 60, Current loss 2.693153208981826 Accuracy 63.262208344175555\n",
      "Training:: Epoch 39, Iteration 70, Current loss 2.529177182562212 Accuracy 50.45226829947119\n",
      "Training:: Epoch 39, Iteration 80, Current loss 2.4551145546740947 Accuracy 68.64043630697311\n",
      "Training:: Epoch 39, Iteration 90, Current loss 2.3986382643077153 Accuracy 61.19372301788529\n",
      "Training:: Epoch 39, Iteration 100, Current loss 2.152078023844605 Accuracy 79.24182829241828\n",
      "Training:: Epoch 39, Iteration 110, Current loss 1.8065118169324277 Accuracy 72.79538904899135\n",
      "Training:: Epoch 39, Iteration 120, Current loss 2.512375063501487 Accuracy 58.04820693709583\n",
      "Training:: Epoch 39, Iteration 130, Current loss 2.2416761646390846 Accuracy 56.34016704631739\n",
      "Training:: Epoch 39, Iteration 140, Current loss 2.554703380070098 Accuracy 58.62140601628719\n",
      "Training:: Epoch 39, Iteration 150, Current loss 2.3954949690576623 Accuracy 59.74393530997305\n",
      "Training:: Epoch 39, Iteration 160, Current loss 2.2997448580261675 Accuracy 59.59730117409552\n",
      "Training:: Epoch 39, Iteration 170, Current loss 1.8761854383200782 Accuracy 72.37620678916225\n",
      "Training:: Epoch 39, Iteration 180, Current loss 2.1468043787616202 Accuracy 60.18106262986049\n",
      "Calculating Validation Data Accuracy\n",
      "Validation:: Epoch 39, Probability Accuracy 54.66837612925436\n",
      "Starting Training\n",
      "Training:: Epoch 40, Iteration 0, Current loss 2.3225233697445944 Accuracy 68.26888543038429\n",
      "Training:: Epoch 40, Iteration 10, Current loss 2.524100407253254 Accuracy 66.00008947344875\n",
      "Training:: Epoch 40, Iteration 20, Current loss 2.5726316122170356 Accuracy 68.24161995195058\n",
      "Training:: Epoch 40, Iteration 30, Current loss 2.2637366618169517 Accuracy 60.92761362976722\n",
      "Training:: Epoch 40, Iteration 40, Current loss 2.0167756221629114 Accuracy 65.3830313014827\n",
      "Training:: Epoch 40, Iteration 50, Current loss 1.880902014127007 Accuracy 67.23376529356403\n",
      "Training:: Epoch 40, Iteration 60, Current loss 1.9471335452605405 Accuracy 63.53149130151642\n",
      "Training:: Epoch 40, Iteration 70, Current loss 2.0775594480024915 Accuracy 59.796999117387465\n",
      "Training:: Epoch 40, Iteration 80, Current loss 2.468496025570114 Accuracy 65.8993399339934\n",
      "Training:: Epoch 40, Iteration 90, Current loss 2.601469056743862 Accuracy 69.58149891199838\n",
      "Training:: Epoch 40, Iteration 100, Current loss 2.3015027317123313 Accuracy 56.680377818403414\n",
      "Training:: Epoch 40, Iteration 110, Current loss 2.2205079697061394 Accuracy 60.61257850813043\n",
      "Training:: Epoch 40, Iteration 120, Current loss 2.038370096296656 Accuracy 65.74733480081143\n",
      "Training:: Epoch 40, Iteration 130, Current loss 2.536445400269464 Accuracy 64.23504300332726\n",
      "Training:: Epoch 40, Iteration 140, Current loss 2.7415428944985747 Accuracy 66.03712894035475\n",
      "Training:: Epoch 40, Iteration 150, Current loss 1.9734044603061904 Accuracy 57.70511656070239\n",
      "Training:: Epoch 40, Iteration 160, Current loss 2.5805237079502317 Accuracy 67.90591805766313\n",
      "Training:: Epoch 40, Iteration 170, Current loss 2.3686180945380206 Accuracy 76.8665783079302\n",
      "Training:: Epoch 40, Iteration 180, Current loss 2.0537879181771865 Accuracy 61.36787361397311\n",
      "Calculating Expectation\n",
      "Epoch 40 iter 0\n"
     ]
    },
    {
     "ename": "KeyboardInterrupt",
     "evalue": "",
     "output_type": "error",
     "traceback": [
      "\u001b[0;31m---------------------------------------------------------------------------\u001b[0m",
      "\u001b[0;31mKeyboardInterrupt\u001b[0m                         Traceback (most recent call last)",
      "\u001b[0;32m<ipython-input-26-c983d94f141d>\u001b[0m in \u001b[0;36m<module>\u001b[0;34m\u001b[0m\n\u001b[1;32m     56\u001b[0m                 \u001b[0msrc_mask_mse\u001b[0m \u001b[0;34m=\u001b[0m \u001b[0msrc_mask\u001b[0m\u001b[0;34m.\u001b[0m\u001b[0munsqueeze\u001b[0m\u001b[0;34m(\u001b[0m\u001b[0;36m1\u001b[0m\u001b[0;34m)\u001b[0m\u001b[0;34m.\u001b[0m\u001b[0mto\u001b[0m\u001b[0;34m(\u001b[0m\u001b[0mtorch\u001b[0m\u001b[0;34m.\u001b[0m\u001b[0mfloat32\u001b[0m\u001b[0;34m)\u001b[0m\u001b[0;34m.\u001b[0m\u001b[0mto\u001b[0m\u001b[0;34m(\u001b[0m\u001b[0mdevice\u001b[0m\u001b[0;34m)\u001b[0m\u001b[0;34m\u001b[0m\u001b[0;34m\u001b[0m\u001b[0m\n\u001b[1;32m     57\u001b[0m \u001b[0;34m\u001b[0m\u001b[0m\n\u001b[0;32m---> 58\u001b[0;31m                 \u001b[0mmiddle_pred\u001b[0m\u001b[0;34m,\u001b[0m \u001b[0mpredictions\u001b[0m \u001b[0;34m=\u001b[0m \u001b[0mmodel\u001b[0m\u001b[0;34m(\u001b[0m\u001b[0mitem_0\u001b[0m\u001b[0;34m,\u001b[0m \u001b[0msrc_mask_mse\u001b[0m\u001b[0;34m)\u001b[0m\u001b[0;34m\u001b[0m\u001b[0;34m\u001b[0m\u001b[0m\n\u001b[0m\u001b[1;32m     59\u001b[0m                 \u001b[0mprob\u001b[0m \u001b[0;34m=\u001b[0m \u001b[0mtorch\u001b[0m\u001b[0;34m.\u001b[0m\u001b[0msoftmax\u001b[0m\u001b[0;34m(\u001b[0m\u001b[0mpredictions\u001b[0m\u001b[0;34m[\u001b[0m\u001b[0;34m-\u001b[0m\u001b[0;36m1\u001b[0m\u001b[0;34m]\u001b[0m\u001b[0;34m,\u001b[0m \u001b[0mdim\u001b[0m\u001b[0;34m=\u001b[0m\u001b[0;36m1\u001b[0m\u001b[0;34m)\u001b[0m\u001b[0;34m\u001b[0m\u001b[0;34m\u001b[0m\u001b[0m\n\u001b[1;32m     60\u001b[0m                 \u001b[0mprob\u001b[0m \u001b[0;34m=\u001b[0m \u001b[0mprob\u001b[0m\u001b[0;34m.\u001b[0m\u001b[0mpermute\u001b[0m\u001b[0;34m(\u001b[0m\u001b[0;36m0\u001b[0m\u001b[0;34m,\u001b[0m \u001b[0;36m2\u001b[0m\u001b[0;34m,\u001b[0m \u001b[0;36m1\u001b[0m\u001b[0;34m)\u001b[0m\u001b[0;34m\u001b[0m\u001b[0;34m\u001b[0m\u001b[0m\n",
      "\u001b[0;32m~/anaconda3/envs/video_r/lib/python3.7/site-packages/torch/nn/modules/module.py\u001b[0m in \u001b[0;36m_call_impl\u001b[0;34m(self, *input, **kwargs)\u001b[0m\n\u001b[1;32m    725\u001b[0m             \u001b[0mresult\u001b[0m \u001b[0;34m=\u001b[0m \u001b[0mself\u001b[0m\u001b[0;34m.\u001b[0m\u001b[0m_slow_forward\u001b[0m\u001b[0;34m(\u001b[0m\u001b[0;34m*\u001b[0m\u001b[0minput\u001b[0m\u001b[0;34m,\u001b[0m \u001b[0;34m**\u001b[0m\u001b[0mkwargs\u001b[0m\u001b[0;34m)\u001b[0m\u001b[0;34m\u001b[0m\u001b[0;34m\u001b[0m\u001b[0m\n\u001b[1;32m    726\u001b[0m         \u001b[0;32melse\u001b[0m\u001b[0;34m:\u001b[0m\u001b[0;34m\u001b[0m\u001b[0;34m\u001b[0m\u001b[0m\n\u001b[0;32m--> 727\u001b[0;31m             \u001b[0mresult\u001b[0m \u001b[0;34m=\u001b[0m \u001b[0mself\u001b[0m\u001b[0;34m.\u001b[0m\u001b[0mforward\u001b[0m\u001b[0;34m(\u001b[0m\u001b[0;34m*\u001b[0m\u001b[0minput\u001b[0m\u001b[0;34m,\u001b[0m \u001b[0;34m**\u001b[0m\u001b[0mkwargs\u001b[0m\u001b[0;34m)\u001b[0m\u001b[0;34m\u001b[0m\u001b[0;34m\u001b[0m\u001b[0m\n\u001b[0m\u001b[1;32m    728\u001b[0m         for hook in itertools.chain(\n\u001b[1;32m    729\u001b[0m                 \u001b[0m_global_forward_hooks\u001b[0m\u001b[0;34m.\u001b[0m\u001b[0mvalues\u001b[0m\u001b[0;34m(\u001b[0m\u001b[0;34m)\u001b[0m\u001b[0;34m,\u001b[0m\u001b[0;34m\u001b[0m\u001b[0;34m\u001b[0m\u001b[0m\n",
      "\u001b[0;32m~/ar/single_frame_and_weakly_supervised/mstcn_model.py\u001b[0m in \u001b[0;36mforward\u001b[0;34m(self, x, mask)\u001b[0m\n\u001b[1;32m     15\u001b[0m \u001b[0;34m\u001b[0m\u001b[0m\n\u001b[1;32m     16\u001b[0m     \u001b[0;32mdef\u001b[0m \u001b[0mforward\u001b[0m\u001b[0;34m(\u001b[0m\u001b[0mself\u001b[0m\u001b[0;34m,\u001b[0m \u001b[0mx\u001b[0m\u001b[0;34m,\u001b[0m \u001b[0mmask\u001b[0m\u001b[0;34m)\u001b[0m\u001b[0;34m:\u001b[0m\u001b[0;34m\u001b[0m\u001b[0;34m\u001b[0m\u001b[0m\n\u001b[0;32m---> 17\u001b[0;31m         \u001b[0mmiddle_out\u001b[0m\u001b[0;34m,\u001b[0m \u001b[0mout\u001b[0m \u001b[0;34m=\u001b[0m \u001b[0mself\u001b[0m\u001b[0;34m.\u001b[0m\u001b[0mtower_stage\u001b[0m\u001b[0;34m(\u001b[0m\u001b[0mx\u001b[0m\u001b[0;34m,\u001b[0m \u001b[0mmask\u001b[0m\u001b[0;34m)\u001b[0m\u001b[0;34m\u001b[0m\u001b[0;34m\u001b[0m\u001b[0m\n\u001b[0m\u001b[1;32m     18\u001b[0m         \u001b[0moutputs\u001b[0m \u001b[0;34m=\u001b[0m \u001b[0mout\u001b[0m\u001b[0;34m.\u001b[0m\u001b[0munsqueeze\u001b[0m\u001b[0;34m(\u001b[0m\u001b[0;36m0\u001b[0m\u001b[0;34m)\u001b[0m\u001b[0;34m\u001b[0m\u001b[0;34m\u001b[0m\u001b[0m\n\u001b[1;32m     19\u001b[0m         \u001b[0;32mfor\u001b[0m \u001b[0ms\u001b[0m \u001b[0;32min\u001b[0m \u001b[0mself\u001b[0m\u001b[0;34m.\u001b[0m\u001b[0msingle_stages\u001b[0m\u001b[0;34m:\u001b[0m\u001b[0;34m\u001b[0m\u001b[0;34m\u001b[0m\u001b[0m\n",
      "\u001b[0;32m~/anaconda3/envs/video_r/lib/python3.7/site-packages/torch/nn/modules/module.py\u001b[0m in \u001b[0;36m_call_impl\u001b[0;34m(self, *input, **kwargs)\u001b[0m\n\u001b[1;32m    725\u001b[0m             \u001b[0mresult\u001b[0m \u001b[0;34m=\u001b[0m \u001b[0mself\u001b[0m\u001b[0;34m.\u001b[0m\u001b[0m_slow_forward\u001b[0m\u001b[0;34m(\u001b[0m\u001b[0;34m*\u001b[0m\u001b[0minput\u001b[0m\u001b[0;34m,\u001b[0m \u001b[0;34m**\u001b[0m\u001b[0mkwargs\u001b[0m\u001b[0;34m)\u001b[0m\u001b[0;34m\u001b[0m\u001b[0;34m\u001b[0m\u001b[0m\n\u001b[1;32m    726\u001b[0m         \u001b[0;32melse\u001b[0m\u001b[0;34m:\u001b[0m\u001b[0;34m\u001b[0m\u001b[0;34m\u001b[0m\u001b[0m\n\u001b[0;32m--> 727\u001b[0;31m             \u001b[0mresult\u001b[0m \u001b[0;34m=\u001b[0m \u001b[0mself\u001b[0m\u001b[0;34m.\u001b[0m\u001b[0mforward\u001b[0m\u001b[0;34m(\u001b[0m\u001b[0;34m*\u001b[0m\u001b[0minput\u001b[0m\u001b[0;34m,\u001b[0m \u001b[0;34m**\u001b[0m\u001b[0mkwargs\u001b[0m\u001b[0;34m)\u001b[0m\u001b[0;34m\u001b[0m\u001b[0;34m\u001b[0m\u001b[0m\n\u001b[0m\u001b[1;32m    728\u001b[0m         for hook in itertools.chain(\n\u001b[1;32m    729\u001b[0m                 \u001b[0m_global_forward_hooks\u001b[0m\u001b[0;34m.\u001b[0m\u001b[0mvalues\u001b[0m\u001b[0;34m(\u001b[0m\u001b[0;34m)\u001b[0m\u001b[0;34m,\u001b[0m\u001b[0;34m\u001b[0m\u001b[0;34m\u001b[0m\u001b[0m\n",
      "\u001b[0;32m~/ar/single_frame_and_weakly_supervised/mstcn_model.py\u001b[0m in \u001b[0;36mforward\u001b[0;34m(self, x, mask)\u001b[0m\n\u001b[1;32m     30\u001b[0m \u001b[0;34m\u001b[0m\u001b[0m\n\u001b[1;32m     31\u001b[0m     \u001b[0;32mdef\u001b[0m \u001b[0mforward\u001b[0m\u001b[0;34m(\u001b[0m\u001b[0mself\u001b[0m\u001b[0;34m,\u001b[0m \u001b[0mx\u001b[0m\u001b[0;34m,\u001b[0m \u001b[0mmask\u001b[0m\u001b[0;34m)\u001b[0m\u001b[0;34m:\u001b[0m\u001b[0;34m\u001b[0m\u001b[0;34m\u001b[0m\u001b[0m\n\u001b[0;32m---> 32\u001b[0;31m         \u001b[0mout1\u001b[0m\u001b[0;34m,\u001b[0m \u001b[0mfinal_out1\u001b[0m \u001b[0;34m=\u001b[0m \u001b[0mself\u001b[0m\u001b[0;34m.\u001b[0m\u001b[0mstage1\u001b[0m\u001b[0;34m(\u001b[0m\u001b[0mx\u001b[0m\u001b[0;34m,\u001b[0m \u001b[0mmask\u001b[0m\u001b[0;34m)\u001b[0m\u001b[0;34m\u001b[0m\u001b[0;34m\u001b[0m\u001b[0m\n\u001b[0m\u001b[1;32m     33\u001b[0m         \u001b[0mout2\u001b[0m\u001b[0;34m,\u001b[0m \u001b[0mfinal_out2\u001b[0m \u001b[0;34m=\u001b[0m \u001b[0mself\u001b[0m\u001b[0;34m.\u001b[0m\u001b[0mstage2\u001b[0m\u001b[0;34m(\u001b[0m\u001b[0mx\u001b[0m\u001b[0;34m,\u001b[0m \u001b[0mmask\u001b[0m\u001b[0;34m)\u001b[0m\u001b[0;34m\u001b[0m\u001b[0;34m\u001b[0m\u001b[0m\n\u001b[1;32m     34\u001b[0m \u001b[0;34m\u001b[0m\u001b[0m\n",
      "\u001b[0;32m~/anaconda3/envs/video_r/lib/python3.7/site-packages/torch/nn/modules/module.py\u001b[0m in \u001b[0;36m_call_impl\u001b[0;34m(self, *input, **kwargs)\u001b[0m\n\u001b[1;32m    725\u001b[0m             \u001b[0mresult\u001b[0m \u001b[0;34m=\u001b[0m \u001b[0mself\u001b[0m\u001b[0;34m.\u001b[0m\u001b[0m_slow_forward\u001b[0m\u001b[0;34m(\u001b[0m\u001b[0;34m*\u001b[0m\u001b[0minput\u001b[0m\u001b[0;34m,\u001b[0m \u001b[0;34m**\u001b[0m\u001b[0mkwargs\u001b[0m\u001b[0;34m)\u001b[0m\u001b[0;34m\u001b[0m\u001b[0;34m\u001b[0m\u001b[0m\n\u001b[1;32m    726\u001b[0m         \u001b[0;32melse\u001b[0m\u001b[0;34m:\u001b[0m\u001b[0;34m\u001b[0m\u001b[0;34m\u001b[0m\u001b[0m\n\u001b[0;32m--> 727\u001b[0;31m             \u001b[0mresult\u001b[0m \u001b[0;34m=\u001b[0m \u001b[0mself\u001b[0m\u001b[0;34m.\u001b[0m\u001b[0mforward\u001b[0m\u001b[0;34m(\u001b[0m\u001b[0;34m*\u001b[0m\u001b[0minput\u001b[0m\u001b[0;34m,\u001b[0m \u001b[0;34m**\u001b[0m\u001b[0mkwargs\u001b[0m\u001b[0;34m)\u001b[0m\u001b[0;34m\u001b[0m\u001b[0;34m\u001b[0m\u001b[0m\n\u001b[0m\u001b[1;32m    728\u001b[0m         for hook in itertools.chain(\n\u001b[1;32m    729\u001b[0m                 \u001b[0m_global_forward_hooks\u001b[0m\u001b[0;34m.\u001b[0m\u001b[0mvalues\u001b[0m\u001b[0;34m(\u001b[0m\u001b[0;34m)\u001b[0m\u001b[0;34m,\u001b[0m\u001b[0;34m\u001b[0m\u001b[0;34m\u001b[0m\u001b[0m\n",
      "\u001b[0;32m~/ar/single_frame_and_weakly_supervised/mstcn_model.py\u001b[0m in \u001b[0;36mforward\u001b[0;34m(self, x, mask)\u001b[0m\n\u001b[1;32m     47\u001b[0m         \u001b[0mout\u001b[0m \u001b[0;34m=\u001b[0m \u001b[0mself\u001b[0m\u001b[0;34m.\u001b[0m\u001b[0mconv_1x1\u001b[0m\u001b[0;34m(\u001b[0m\u001b[0mx\u001b[0m\u001b[0;34m)\u001b[0m\u001b[0;34m\u001b[0m\u001b[0;34m\u001b[0m\u001b[0m\n\u001b[1;32m     48\u001b[0m         \u001b[0;32mfor\u001b[0m \u001b[0mlayer\u001b[0m \u001b[0;32min\u001b[0m \u001b[0mself\u001b[0m\u001b[0;34m.\u001b[0m\u001b[0mlayers\u001b[0m\u001b[0;34m:\u001b[0m\u001b[0;34m\u001b[0m\u001b[0;34m\u001b[0m\u001b[0m\n\u001b[0;32m---> 49\u001b[0;31m             \u001b[0mout\u001b[0m \u001b[0;34m=\u001b[0m \u001b[0mlayer\u001b[0m\u001b[0;34m(\u001b[0m\u001b[0mout\u001b[0m\u001b[0;34m,\u001b[0m \u001b[0mmask\u001b[0m\u001b[0;34m)\u001b[0m\u001b[0;34m\u001b[0m\u001b[0;34m\u001b[0m\u001b[0m\n\u001b[0m\u001b[1;32m     50\u001b[0m         \u001b[0mfinal_out\u001b[0m \u001b[0;34m=\u001b[0m \u001b[0mself\u001b[0m\u001b[0;34m.\u001b[0m\u001b[0mconv_out\u001b[0m\u001b[0;34m(\u001b[0m\u001b[0mout\u001b[0m\u001b[0;34m)\u001b[0m \u001b[0;34m*\u001b[0m \u001b[0mmask\u001b[0m\u001b[0;34m[\u001b[0m\u001b[0;34m:\u001b[0m\u001b[0;34m,\u001b[0m \u001b[0;36m0\u001b[0m\u001b[0;34m:\u001b[0m\u001b[0;36m1\u001b[0m\u001b[0;34m,\u001b[0m \u001b[0;34m:\u001b[0m\u001b[0;34m]\u001b[0m\u001b[0;34m\u001b[0m\u001b[0;34m\u001b[0m\u001b[0m\n\u001b[1;32m     51\u001b[0m         \u001b[0;32mreturn\u001b[0m \u001b[0mout\u001b[0m\u001b[0;34m,\u001b[0m \u001b[0mfinal_out\u001b[0m\u001b[0;34m\u001b[0m\u001b[0;34m\u001b[0m\u001b[0m\n",
      "\u001b[0;32m~/anaconda3/envs/video_r/lib/python3.7/site-packages/torch/nn/modules/module.py\u001b[0m in \u001b[0;36m_call_impl\u001b[0;34m(self, *input, **kwargs)\u001b[0m\n\u001b[1;32m    725\u001b[0m             \u001b[0mresult\u001b[0m \u001b[0;34m=\u001b[0m \u001b[0mself\u001b[0m\u001b[0;34m.\u001b[0m\u001b[0m_slow_forward\u001b[0m\u001b[0;34m(\u001b[0m\u001b[0;34m*\u001b[0m\u001b[0minput\u001b[0m\u001b[0;34m,\u001b[0m \u001b[0;34m**\u001b[0m\u001b[0mkwargs\u001b[0m\u001b[0;34m)\u001b[0m\u001b[0;34m\u001b[0m\u001b[0;34m\u001b[0m\u001b[0m\n\u001b[1;32m    726\u001b[0m         \u001b[0;32melse\u001b[0m\u001b[0;34m:\u001b[0m\u001b[0;34m\u001b[0m\u001b[0;34m\u001b[0m\u001b[0m\n\u001b[0;32m--> 727\u001b[0;31m             \u001b[0mresult\u001b[0m \u001b[0;34m=\u001b[0m \u001b[0mself\u001b[0m\u001b[0;34m.\u001b[0m\u001b[0mforward\u001b[0m\u001b[0;34m(\u001b[0m\u001b[0;34m*\u001b[0m\u001b[0minput\u001b[0m\u001b[0;34m,\u001b[0m \u001b[0;34m**\u001b[0m\u001b[0mkwargs\u001b[0m\u001b[0;34m)\u001b[0m\u001b[0;34m\u001b[0m\u001b[0;34m\u001b[0m\u001b[0m\n\u001b[0m\u001b[1;32m    728\u001b[0m         for hook in itertools.chain(\n\u001b[1;32m    729\u001b[0m                 \u001b[0m_global_forward_hooks\u001b[0m\u001b[0;34m.\u001b[0m\u001b[0mvalues\u001b[0m\u001b[0;34m(\u001b[0m\u001b[0;34m)\u001b[0m\u001b[0;34m,\u001b[0m\u001b[0;34m\u001b[0m\u001b[0;34m\u001b[0m\u001b[0m\n",
      "\u001b[0;32m~/ar/single_frame_and_weakly_supervised/mstcn_model.py\u001b[0m in \u001b[0;36mforward\u001b[0;34m(self, x, mask)\u001b[0m\n\u001b[1;32m     61\u001b[0m \u001b[0;34m\u001b[0m\u001b[0m\n\u001b[1;32m     62\u001b[0m     \u001b[0;32mdef\u001b[0m \u001b[0mforward\u001b[0m\u001b[0;34m(\u001b[0m\u001b[0mself\u001b[0m\u001b[0;34m,\u001b[0m \u001b[0mx\u001b[0m\u001b[0;34m,\u001b[0m \u001b[0mmask\u001b[0m\u001b[0;34m)\u001b[0m\u001b[0;34m:\u001b[0m\u001b[0;34m\u001b[0m\u001b[0;34m\u001b[0m\u001b[0m\n\u001b[0;32m---> 63\u001b[0;31m         \u001b[0mout\u001b[0m \u001b[0;34m=\u001b[0m \u001b[0mF\u001b[0m\u001b[0;34m.\u001b[0m\u001b[0mrelu\u001b[0m\u001b[0;34m(\u001b[0m\u001b[0mself\u001b[0m\u001b[0;34m.\u001b[0m\u001b[0mconv_dilated\u001b[0m\u001b[0;34m(\u001b[0m\u001b[0mx\u001b[0m\u001b[0;34m)\u001b[0m\u001b[0;34m)\u001b[0m\u001b[0;34m\u001b[0m\u001b[0;34m\u001b[0m\u001b[0m\n\u001b[0m\u001b[1;32m     64\u001b[0m         \u001b[0mout\u001b[0m \u001b[0;34m=\u001b[0m \u001b[0mself\u001b[0m\u001b[0;34m.\u001b[0m\u001b[0mconv_1x1\u001b[0m\u001b[0;34m(\u001b[0m\u001b[0mout\u001b[0m\u001b[0;34m)\u001b[0m\u001b[0;34m\u001b[0m\u001b[0;34m\u001b[0m\u001b[0m\n\u001b[1;32m     65\u001b[0m         \u001b[0mout\u001b[0m \u001b[0;34m=\u001b[0m \u001b[0mself\u001b[0m\u001b[0;34m.\u001b[0m\u001b[0mdropout\u001b[0m\u001b[0;34m(\u001b[0m\u001b[0mout\u001b[0m\u001b[0;34m)\u001b[0m\u001b[0;34m\u001b[0m\u001b[0;34m\u001b[0m\u001b[0m\n",
      "\u001b[0;32m~/anaconda3/envs/video_r/lib/python3.7/site-packages/torch/nn/modules/module.py\u001b[0m in \u001b[0;36m_call_impl\u001b[0;34m(self, *input, **kwargs)\u001b[0m\n\u001b[1;32m    725\u001b[0m             \u001b[0mresult\u001b[0m \u001b[0;34m=\u001b[0m \u001b[0mself\u001b[0m\u001b[0;34m.\u001b[0m\u001b[0m_slow_forward\u001b[0m\u001b[0;34m(\u001b[0m\u001b[0;34m*\u001b[0m\u001b[0minput\u001b[0m\u001b[0;34m,\u001b[0m \u001b[0;34m**\u001b[0m\u001b[0mkwargs\u001b[0m\u001b[0;34m)\u001b[0m\u001b[0;34m\u001b[0m\u001b[0;34m\u001b[0m\u001b[0m\n\u001b[1;32m    726\u001b[0m         \u001b[0;32melse\u001b[0m\u001b[0;34m:\u001b[0m\u001b[0;34m\u001b[0m\u001b[0;34m\u001b[0m\u001b[0m\n\u001b[0;32m--> 727\u001b[0;31m             \u001b[0mresult\u001b[0m \u001b[0;34m=\u001b[0m \u001b[0mself\u001b[0m\u001b[0;34m.\u001b[0m\u001b[0mforward\u001b[0m\u001b[0;34m(\u001b[0m\u001b[0;34m*\u001b[0m\u001b[0minput\u001b[0m\u001b[0;34m,\u001b[0m \u001b[0;34m**\u001b[0m\u001b[0mkwargs\u001b[0m\u001b[0;34m)\u001b[0m\u001b[0;34m\u001b[0m\u001b[0;34m\u001b[0m\u001b[0m\n\u001b[0m\u001b[1;32m    728\u001b[0m         for hook in itertools.chain(\n\u001b[1;32m    729\u001b[0m                 \u001b[0m_global_forward_hooks\u001b[0m\u001b[0;34m.\u001b[0m\u001b[0mvalues\u001b[0m\u001b[0;34m(\u001b[0m\u001b[0;34m)\u001b[0m\u001b[0;34m,\u001b[0m\u001b[0;34m\u001b[0m\u001b[0;34m\u001b[0m\u001b[0m\n",
      "\u001b[0;32m~/anaconda3/envs/video_r/lib/python3.7/site-packages/torch/nn/modules/conv.py\u001b[0m in \u001b[0;36mforward\u001b[0;34m(self, input)\u001b[0m\n\u001b[1;32m    257\u001b[0m                             _single(0), self.dilation, self.groups)\n\u001b[1;32m    258\u001b[0m         return F.conv1d(input, self.weight, self.bias, self.stride,\n\u001b[0;32m--> 259\u001b[0;31m                         self.padding, self.dilation, self.groups)\n\u001b[0m\u001b[1;32m    260\u001b[0m \u001b[0;34m\u001b[0m\u001b[0m\n\u001b[1;32m    261\u001b[0m \u001b[0;34m\u001b[0m\u001b[0m\n",
      "\u001b[0;31mKeyboardInterrupt\u001b[0m: "
     ]
    }
   ],
   "source": [
    "initialize_epoch = 25\n",
    "expectation_cal_gap = 5\n",
    "best_val_acc = 0\n",
    "for epoch in range(26, 1000):\n",
    "    print(\"Starting Training\")\n",
    "    model.train()\n",
    "    for i, item in enumerate(trainloader):\n",
    "        item_0 = item[0].to(device)\n",
    "        item_1 = item[1].to(device)\n",
    "        item_2 = item[2].to(device)\n",
    "        src_mask = torch.arange(item_2.shape[1], device=item_2.device)[None, :] < item_1[:, None]\n",
    "        src_mask_mse = src_mask.unsqueeze(1).to(torch.float32).to(device)\n",
    "        optimizer.zero_grad()\n",
    "        \n",
    "        middle_pred, predictions = model(item_0, src_mask_mse)\n",
    "        psuedo_l = get_single_random(predictions[-1], item[4])\n",
    "        \n",
    "        loss = 0\n",
    "        for p in predictions:\n",
    "            if epoch <= initialize_epoch:\n",
    "                loss += ce_criterion(p, psuedo_l)\n",
    "                loss += 0.15 * torch.mean(torch.clamp(mse_criterion(F.log_softmax(p[:, :, 1:], dim=1), \n",
    "                                                                    F.log_softmax(p.detach()[:, :, :-1], dim=1)), min=0,\n",
    "                                            max=16) * src_mask_mse[:, :, 1:])\n",
    "            else:\n",
    "                prob = torch.softmax(p, dim=1)\n",
    "                prob = prob.permute(0, 2, 1)\n",
    "                es_loss, _ = get_estimated_loss(prob, item_1, item[4], item_2)\n",
    "                loss += es_loss\n",
    "            \n",
    "        loss.backward()\n",
    "        optimizer.step()\n",
    "        \n",
    "        if i % 10 == 0:\n",
    "            with torch.no_grad():\n",
    "                pred = torch.argmax(predictions[-1], dim=1)\n",
    "                correct = float(torch.sum((pred == item_2) * src_mask).item())\n",
    "                total = float(torch.sum(src_mask).item())\n",
    "                print(f\"Training:: Epoch {epoch}, Iteration {i}, Current loss {loss.item()}\" +\n",
    "                      f\" Accuracy {correct * 100.0 / total}\")\n",
    "    if epoch == initialize_epoch:\n",
    "        torch.save(model.state_dict(), config.output_dir + \"ms-tcn-initial-15-epochs.wt\")\n",
    "    # Calculating Expectation Step\n",
    "    model.eval()\n",
    "    if (epoch >= initialize_epoch) and (epoch % expectation_cal_gap == 0):\n",
    "        print(\"Calculating Expectation\")\n",
    "        correct = 0.0\n",
    "        total = 0.0\n",
    "\n",
    "        for i, item in enumerate(trainloader):\n",
    "            with torch.no_grad():\n",
    "                item_0 = item[0].to(device)\n",
    "                item_1 = item[1].to(device)\n",
    "                item_2 = item[2].to(device)\n",
    "                src_mask = torch.arange(item_2.shape[1], device=item_2.device)[None, :] < item_1[:, None]\n",
    "                src_mask_mse = src_mask.unsqueeze(1).to(torch.float32).to(device)\n",
    "\n",
    "                middle_pred, predictions = model(item_0, src_mask_mse)\n",
    "                prob = torch.softmax(predictions[-1], dim=1)\n",
    "                prob = prob.permute(0, 2, 1)\n",
    "                for j in range(len(prob)):\n",
    "                    generate_posterior_loss_weights(prob[j].cpu(), item[4][j])\n",
    "                \n",
    "                if i % 20 == 0:\n",
    "                    print(f\"Epoch {epoch} iter {i}\")\n",
    "                    \n",
    "        get_boundary_err()\n",
    "\n",
    "    print(\"Calculating Validation Data Accuracy\")\n",
    "    correct = 0.0\n",
    "    total = 0.0\n",
    "    for i, item in enumerate(testloader):\n",
    "        with torch.no_grad():\n",
    "            item_0 = item[0].to(device)\n",
    "            item_1 = item[1].to(device)\n",
    "            item_2 = item[2].to(device)\n",
    "            src_mask = torch.arange(item_2.shape[1], device=item_2.device)[None, :] < item_1[:, None]\n",
    "            src_mask_mse = src_mask.unsqueeze(1).to(torch.float32).to(device)\n",
    "\n",
    "            middle_pred, predictions = model(item_0, src_mask_mse)\n",
    "\n",
    "            pred = torch.argmax(predictions[-1], dim=1)\n",
    "            correct += float(torch.sum((pred == item_2) * src_mask).item())\n",
    "            total += float(torch.sum(src_mask).item())\n",
    "    val_acc = correct * 100.0 / total\n",
    "    if val_acc > best_val_acc:\n",
    "        best_val_acc = val_acc\n",
    "        torch.save(model.state_dict(), config.output_dir + \"ms-tcn-emmax-best-model-fulllikelihood.wt\")\n",
    "    torch.save(model.state_dict(), config.output_dir + \"ms-tcn-emmax-last-model-fulllikelihood.wt\")\n",
    "    print(f\"Validation:: Epoch {epoch}, Probability Accuracy {val_acc}\")"
   ]
  },
  {
   "cell_type": "code",
   "execution_count": 32,
   "metadata": {},
   "outputs": [
    {
     "data": {
      "text/plain": [
       "<All keys matched successfully>"
      ]
     },
     "execution_count": 32,
     "metadata": {},
     "output_type": "execute_result"
    }
   ],
   "source": [
    "# model.load_state_dict(torch.load(f'/mnt/ssd/all_users/dipika/ms_tcn/data/breakfast//results/'\n",
    "#                                  f'mstcnnew-full-supervised-split1/ms-tcn-best-model.wt'))"
   ]
  },
  {
   "cell_type": "code",
   "execution_count": 40,
   "metadata": {},
   "outputs": [
    {
     "data": {
      "image/png": "[encoded data removed]",
      "text/plain": [
       "<Figure size 432x288 with 1 Axes>"
      ]
     },
     "metadata": {
      "needs_background": "light"
     },
     "output_type": "display_data"
    }
   ],
   "source": [
    "for proba in posterior_table['P25_cam01_P25_sandwich']:\n",
    "    plt.plot(proba)"
   ]
  },
  {
   "cell_type": "code",
   "execution_count": 33,
   "metadata": {},
   "outputs": [
    {
     "name": "stdout",
     "output_type": "stream",
     "text": [
      "Calculating Validation Data Accuracy\n",
      "Validation:: Probability Accuracy 69.60005698208626\n"
     ]
    }
   ],
   "source": [
    "print(\"Calculating Validation Data Accuracy\")\n",
    "correct = 0.0\n",
    "total = 0.0\n",
    "for i, item in enumerate(testloader):\n",
    "    with torch.no_grad():\n",
    "        item_0 = item[0].to(device)\n",
    "        item_1 = item[1].to(device)\n",
    "        item_2 = item[2].to(device)\n",
    "        src_mask = torch.arange(item_2.shape[1], device=item_2.device)[None, :] < item_1[:, None]\n",
    "        src_mask_mse = src_mask.unsqueeze(1).to(torch.float32).to(device)\n",
    "\n",
    "        middle_pred, predictions = model(item_0, src_mask_mse)\n",
    "\n",
    "        pred = torch.argmax(predictions[-1], dim=1)\n",
    "        correct += float(torch.sum((pred == item_2) * src_mask).item())\n",
    "        total += float(torch.sum(src_mask).item())\n",
    "\n",
    "print(f\"Validation:: Probability Accuracy {correct * 100.0 / total}\")"
   ]
  },
  {
   "cell_type": "code",
   "execution_count": 107,
   "metadata": {},
   "outputs": [],
   "source": [
    "framewise_proba = prob[j].cpu()\n",
    "ele = item[4][j]\n",
    "frame_count = frame_id_dict[ele]\n",
    "label_list = [label_name_to_label_id_dict[item] for item in weak_labels[ele]]\n",
    "seqlen = len(label_list)\n",
    "label_seq_prob = framewise_proba[:frame_count,label_list]\n",
    "label_seq_logprob = torch.log(label_seq_prob + 1e-10)\n",
    "\n",
    "left_probsum = torch.cumsum(label_seq_prob, dim=1)\n",
    "right_probsum = torch.sum(label_seq_prob, dim=1, keepdim=True) - torch.cumsum(label_seq_prob, dim=1) + label_seq_prob\n",
    "\n",
    "left_logprobsum = torch.log(torch.clip(left_probsum, min=1e-20))\n",
    "right_logprobsum = torch.log(torch.clip(right_probsum, min=1e-20))\n",
    "\n",
    "left_logprobsum_left_idsum = torch.cumsum(left_logprobsum, dim=0)\n",
    "left_logprobsum_left_idsum -= left_logprobsum\n",
    "right_logprobsum_right_idsum = torch.sum(right_logprobsum, dim=0, keepdim=True) - torch.cumsum(right_logprobsum, dim=0)\n",
    "\n",
    "for k in range(seqlen):\n",
    "    left_logprobsum_left_idsum[:k,k] = -1000\n",
    "    remaining_labelcount = seqlen-k-1\n",
    "    if remaining_labelcount > 0:\n",
    "        right_logprobsum_right_idsum[-remaining_labelcount:,k] = -1000\n",
    "\n",
    "loglikelihood = label_seq_logprob + left_logprobsum_left_idsum + right_logprobsum_right_idsum\n",
    "posterior = loglikelihood.T + torch.log(torch.clip(torch.tensor(prior_table[ele]), min=1e-10))\n",
    "posterior = torch.softmax(posterior, dim=0)"
   ]
  },
  {
   "cell_type": "code",
   "execution_count": 116,
   "metadata": {
    "scrolled": true
   },
   "outputs": [
    {
     "name": "stdout",
     "output_type": "stream",
     "text": [
      "1 iteration done\n",
      "11 iteration done\n",
      "21 iteration done\n",
      "31 iteration done\n",
      "41 iteration done\n",
      "51 iteration done\n",
      "61 iteration done\n",
      "71 iteration done\n",
      "81 iteration done\n",
      "91 iteration done\n",
      "101 iteration done\n",
      "111 iteration done\n",
      "121 iteration done\n",
      "131 iteration done\n",
      "141 iteration done\n",
      "151 iteration done\n",
      "161 iteration done\n",
      "171 iteration done\n",
      "181 iteration done\n",
      "Train Boundary avergage error = 118.393\n"
     ]
    }
   ],
   "source": [
    "model.eval()\n",
    "for i, item in enumerate(trainloader):\n",
    "    with torch.no_grad():\n",
    "        item_0 = item[0].to(device)\n",
    "        item_1 = item[1].to(device)\n",
    "        item_2 = item[2].to(device)\n",
    "        src_mask = torch.arange(item_2.shape[1], device=item_2.device)[None, :] < item_1[:, None]\n",
    "        src_mask_mse = src_mask.unsqueeze(1).to(torch.float32).to(device)\n",
    "\n",
    "        middle_pred, predictions = model(item_0, src_mask_mse)\n",
    "        prob = torch.softmax(predictions[-1], dim=1)\n",
    "        prob = prob.permute(0, 2, 1)\n",
    "        for j in range(len(prob)):\n",
    "            generate_posterior_loss_weights(prob[j].cpu(), item[4][j])\n",
    "\n",
    "        if i%10==0:\n",
    "            print(f'{i+1} iteration done')\n",
    "get_boundary_err()"
   ]
  }
 ],
 "metadata": {
  "kernelspec": {
   "display_name": "Python 3",
   "language": "python",
   "name": "python3"
  },
  "language_info": {
   "codemirror_mode": {
    "name": "ipython",
    "version": 3
   },
   "file_extension": ".py",
   "mimetype": "text/x-python",
   "name": "python",
   "nbconvert_exporter": "python",
   "pygments_lexer": "ipython3",
   "version": "3.7.3"
  }
 },
 "nbformat": 4,
 "nbformat_minor": 4
}
