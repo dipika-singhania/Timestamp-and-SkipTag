{
 "cells": [
  {
   "cell_type": "code",
   "execution_count": 1,
   "metadata": {},
   "outputs": [],
   "source": [
    "%load_ext autoreload\n",
    "%autoreload 2"
   ]
  },
  {
   "cell_type": "code",
   "execution_count": 2,
   "metadata": {},
   "outputs": [],
   "source": [
    "import wandb\n",
    "import os, sys\n",
    "import glob\n",
    "import numpy as np\n",
    "import torch\n",
    "import pandas as pd\n",
    "import random\n",
    "import torch.nn as nn\n",
    "import pickle\n",
    "import torch.nn.functional as F\n",
    "import scipy.stats\n",
    "from scipy.stats import binom\n",
    "from matplotlib import pyplot as plt"
   ]
  },
  {
   "cell_type": "code",
   "execution_count": 3,
   "metadata": {},
   "outputs": [],
   "source": [
    "from mstcn_model import *\n",
    "from utility.adaptive_data_loader import Breakfast, collate_fn_override\n",
    "from utils import calculate_mof, dotdict"
   ]
  },
  {
   "cell_type": "code",
   "execution_count": 4,
   "metadata": {},
   "outputs": [
    {
     "name": "stderr",
     "output_type": "stream",
     "text": [
      "Failed to detect the name of this notebook, you can set it manually with the WANDB_NOTEBOOK_NAME environment variable to enable code saving.\n",
      "\u001b[34m\u001b[1mwandb\u001b[0m: Currently logged in as: \u001b[33mdipika_singhania\u001b[0m (use `wandb login --relogin` to force relogin)\n"
     ]
    },
    {
     "data": {
      "text/plain": [
       "True"
      ]
     },
     "execution_count": 4,
     "metadata": {},
     "output_type": "execute_result"
    }
   ],
   "source": [
    "os.environ[\"WANDB_API_KEY\"] = \"992b3b1371ba79f48484cfca522b3786d7fa52c2\"\n",
    "wandb.login()"
   ]
  },
  {
   "cell_type": "code",
   "execution_count": 5,
   "metadata": {},
   "outputs": [],
   "source": [
    "seed = 42\n",
    "\n",
    "# Ensure deterministic behavior\n",
    "def set_seed():\n",
    "    torch.backends.cudnn.benchmark = False\n",
    "    torch.backends.cudnn.deterministic = True\n",
    "    random.seed(seed)\n",
    "    np.random.seed(seed)\n",
    "    torch.manual_seed(seed)\n",
    "    torch.cuda.manual_seed_all(seed)\n",
    "    torch.cuda.manual_seed(seed)\n",
    "set_seed()\n",
    "\n",
    "# Device configuration\n",
    "os.environ['CUDA_VISIBLE_DEVICES']='2'\n",
    "# os.environ['CUDA_LAUNCH_BLOCKING']='6'\n",
    "device = torch.device(\"cuda:0\" if torch.cuda.is_available() else \"cpu\")"
   ]
  },
  {
   "cell_type": "code",
   "execution_count": 6,
   "metadata": {},
   "outputs": [
    {
     "name": "stdout",
     "output_type": "stream",
     "text": [
      "{'epochs': 500, 'num_class': 48, 'batch_size': 8, 'learning_rate': 0.0005, 'weight_decay': 0, 'dataset': 'Breakfast', 'architecture': 'unet-ensemble', 'features_file_name': '/mnt/ssd/all_users/dipika/ms_tcn/data/breakfast/features/', 'chunk_size': 1, 'max_frames_per_video': 1200, 'feature_size': 2048, 'ground_truth_files_dir': '/mnt/ssd/all_users/dipika/ms_tcn/data/breakfast/groundTruth/', 'label_id_csv': '/mnt/ssd/all_users/dipika/ms_tcn/data/breakfast/mapping.csv', 'gamma': 0.1, 'step_size': 500, 'split': 3, 'output_dir': '/mnt/ssd/all_users/dipika/ms_tcn/data/breakfast//results/em-mstcn-weaksup-split3/', 'project_name': 'breakfast-split-3', 'train_split_file': '/mnt/ssd/all_users/dipika/ms_tcn/data/breakfast/splits/train.split3.bundle', 'test_split_file': '/mnt/ssd/all_users/dipika/ms_tcn/data/breakfast/splits/test.split3.bundle', 'all_files': '/mnt/ssd/all_users/dipika/ms_tcn/data/breakfast/splits/all_files.txt', 'cutoff': 8, 'data_per': 0.2, 'budget': 40, 'semi_supervised_split': '/mnt/ssd/all_users/dipika/ms_tcn/data/breakfast/semi_supervised/train.split3_amt0.2.bundle'}\n"
     ]
    }
   ],
   "source": [
    "config = dotdict(\n",
    "    epochs=500,\n",
    "    num_class=48,\n",
    "    batch_size=8,\n",
    "    learning_rate=5e-4,\n",
    "    weight_decay=0,\n",
    "    dataset=\"Breakfast\",\n",
    "    architecture=\"unet-ensemble\",\n",
    "    features_file_name=\"/mnt/ssd/all_users/dipika/ms_tcn/data/breakfast/features/\",\n",
    "    chunk_size=1,\n",
    "    max_frames_per_video=1200,\n",
    "    feature_size=2048,\n",
    "    ground_truth_files_dir=\"/mnt/ssd/all_users/dipika/ms_tcn/data/breakfast/groundTruth/\",\n",
    "    label_id_csv=\"/mnt/ssd/all_users/dipika/ms_tcn/data/breakfast/mapping.csv\",\n",
    "    gamma=0.1,\n",
    "    step_size=500,\n",
    "    split=3,\n",
    "#     output_dir=\"/mnt/data/ar-datasets/dipika/breakfast/ms_tcn/data/breakfast/results/unsuper-finetune-split2-0.05-data-llr/\",\n",
    "    output_dir=\"/mnt/ssd/all_users/dipika/ms_tcn/data/breakfast//results/em-mstcn-weaksup-split3/\",\n",
    "    project_name=\"breakfast-split-3\",\n",
    "    train_split_file=\"/mnt/ssd/all_users/dipika/ms_tcn/data/breakfast/splits/train.split{}.bundle\",\n",
    "    test_split_file=\"/mnt/ssd/all_users/dipika/ms_tcn/data/breakfast/splits/test.split{}.bundle\",\n",
    "    all_files=\"/mnt/ssd/all_users/dipika/ms_tcn/data/breakfast/splits/all_files.txt\",\n",
    "    cutoff=8,\n",
    "    data_per = 0.2,\n",
    "    budget=40,\n",
    "    semi_supervised_split=\"/mnt/ssd/all_users/dipika/ms_tcn/data/breakfast/semi_supervised/train.split{}_amt{}.bundle\")\n",
    "\n",
    "config.train_split_file = config.train_split_file.format(config.split)\n",
    "config.semi_supervised_split = config.semi_supervised_split.format(config.split, config.data_per)\n",
    "config.test_split_file = config.test_split_file.format(config.split)\n",
    "\n",
    "if not os.path.exists(config.output_dir):\n",
    "    os.mkdir(config.output_dir)\n",
    "\n",
    "train_split_file_list = set(open(config.train_split_file).read().split(\"\\n\")[0:-1])\n",
    "print(config)"
   ]
  },
  {
   "cell_type": "code",
   "execution_count": 7,
   "metadata": {},
   "outputs": [
    {
     "name": "stdout",
     "output_type": "stream",
     "text": [
      "Number of videos logged in train fold is 1279\n",
      "Number of videos not found in train fold is 0\n",
      "Number of videos logged in test fold is 433\n",
      "Number of videos not found in test fold is 0\n"
     ]
    }
   ],
   "source": [
    "traindataset = Breakfast(config, fold='train', fold_file_name=config.train_split_file)\n",
    "testdataset = Breakfast(config, fold='test', fold_file_name=config.test_split_file)"
   ]
  },
  {
   "cell_type": "code",
   "execution_count": 8,
   "metadata": {},
   "outputs": [],
   "source": [
    "def _init_fn(worker_id):\n",
    "    np.random.seed(int(seed))\n",
    "trainloader = torch.utils.data.DataLoader(dataset=traindataset,\n",
    "                                          batch_size=config.batch_size, \n",
    "                                          shuffle=True,\n",
    "                                          pin_memory=True, num_workers=4, \n",
    "                                          collate_fn=lambda x: collate_fn_override(x, config.max_frames_per_video),\n",
    "                                          worker_init_fn=_init_fn)\n",
    "testloader = torch.utils.data.DataLoader(dataset=testdataset,\n",
    "                                          batch_size=config.batch_size, \n",
    "                                          shuffle=False,\n",
    "                                          pin_memory=True, num_workers=4,\n",
    "                                          collate_fn=lambda x: collate_fn_override(x, config.max_frames_per_video),\n",
    "                                          worker_init_fn=_init_fn)"
   ]
  },
  {
   "cell_type": "code",
   "execution_count": 9,
   "metadata": {},
   "outputs": [],
   "source": [
    "# item = iter(trainloader).next()\n",
    "# print(item[0]) # -- data feature\n",
    "# print(item[1]) # -- valid count\n",
    "# item[2] # -- Actual labels\n",
    "# print(item[5]) # video names\n",
    "# video_id_boundary_frames"
   ]
  },
  {
   "cell_type": "code",
   "execution_count": 10,
   "metadata": {},
   "outputs": [],
   "source": [
    "loaded_vidid_selected_frames = np.load(\"/home/dipika16/ar/TimestampActionSeg/data/breakfast_annotation_all.npy\", \n",
    "                                       allow_pickle=True).item()\n",
    "\n",
    "video_id_boundary_frames = pickle.load(open(\"data/breakfast_boundary_annotations.pkl\", \"rb\"))\n",
    "video_id_boundary_frames = dict([(key[:-4], val) for key,val in video_id_boundary_frames.items()])\n",
    "\n",
    "weak_labels = pickle.load(open('data/breakfast_weaklysupervised_labels.pkl', 'rb'))\n",
    "weak_labels = dict([(key[:-4], val) for key,val in weak_labels.items()])\n",
    "\n",
    "loaded_mean_var_actions = pickle.load(open(\"data/breakfast_meanvar_actions.pkl\", \"rb\"))\n",
    "\n",
    "with open('/mnt/ssd/all_users/dipika/ms_tcn/data/breakfast/len_video.txt', 'r') as openf:\n",
    "    attributes = [item.strip().split()[::-1] for item in openf.readlines()]\n",
    "frame_id_dict = dict([(vidid[:-4], int(framecount)) for vidid,framecount in attributes])\n",
    "\n",
    "df=pd.read_csv(config.label_id_csv)\n",
    "label_id_to_label_name = {}\n",
    "label_name_to_label_id_dict = {}\n",
    "for i, ele in df.iterrows():\n",
    "    label_id_to_label_name[ele.label_id] = ele.label_name\n",
    "    label_name_to_label_id_dict[ele.label_name] = ele.label_id"
   ]
  },
  {
   "cell_type": "code",
   "execution_count": 11,
   "metadata": {},
   "outputs": [],
   "source": [
    "# weak_labels, loaded_mean_var_actions"
   ]
  },
  {
   "cell_type": "code",
   "execution_count": 12,
   "metadata": {},
   "outputs": [],
   "source": [
    "posterior_table = {}\n",
    "prior_table = {}"
   ]
  },
  {
   "cell_type": "code",
   "execution_count": 13,
   "metadata": {},
   "outputs": [],
   "source": [
    "# pickle.dump(prior_table, open('data/breakfast_lengthmodel_multinomial_prior.pkl', 'wb'))"
   ]
  },
  {
   "cell_type": "code",
   "execution_count": 14,
   "metadata": {},
   "outputs": [],
   "source": [
    "# for ele in weak_labels.keys():\n",
    "#     frame_count = frame_id_dict[ele]\n",
    "#     label_list = weak_labels[ele]\n",
    "#     mean_list = np.array([loaded_mean_var_actions[label][0] for label in label_list])\n",
    "#     total_mean = np.sum(mean_list)\n",
    "#     left_sum = np.cumsum(mean_list)\n",
    "#     relative_sum = left_sum / total_mean\n",
    "#     prob_id_ge_boundary = [binom.cdf(np.arange(frame_count)+1, frame_count, rel) for rel in relative_sum]\n",
    "#     prob_id_gt_boundary = [1] + [cdf - binom.pmf(np.arange(frame_count)+1, \n",
    "#                                                  frame_count,\n",
    "#                                                  rel) for rel,cdf in zip(relative_sum, prob_id_ge_boundary)]\n",
    "#     prob_id_gt_boundary[-1] = 0\n",
    "#     prior_table[ele] = np.stack([prob_id_gt_boundary[j-1] - prob_id_gt_boundary[j] \n",
    "#                                     for j in range(1,len(label_list)+1)], axis=0)\n",
    "\n",
    "prior_table = pickle.load(open('data/breakfast_lengthmodel_multinomial_prior.pkl', 'rb'))"
   ]
  },
  {
   "cell_type": "code",
   "execution_count": 15,
   "metadata": {},
   "outputs": [],
   "source": [
    "def generate_posterior_loss_weights(framewise_proba, ele):\n",
    "    '''\n",
    "    ele is video_id\n",
    "    '''\n",
    "    global posterior_table\n",
    "    frame_count = frame_id_dict[ele]\n",
    "    label_list = [label_name_to_label_id_dict[item] for item in weak_labels[ele]]\n",
    "    seqlen = len(label_list)\n",
    "    label_seq_prob = framewise_proba[:frame_count,label_list]\n",
    "    label_seq_logprob = torch.log(label_seq_prob + 1e-10)\n",
    "\n",
    "    left_probsum = torch.cumsum(label_seq_prob, dim=1)\n",
    "    right_probsum = torch.sum(label_seq_prob, dim=1, keepdim=True) - torch.cumsum(label_seq_prob, dim=1) + label_seq_prob\n",
    "\n",
    "    left_logprobsum = torch.log(torch.clip(left_probsum, min=1e-20))\n",
    "    right_logprobsum = torch.log(torch.clip(right_probsum, min=1e-20))\n",
    "\n",
    "    left_logprobsum_left_idsum = torch.cumsum(left_logprobsum, dim=0)\n",
    "    left_logprobsum_left_idsum -= left_logprobsum\n",
    "    right_logprobsum_right_idsum = torch.sum(right_logprobsum, dim=0, keepdim=True) - torch.cumsum(right_logprobsum, dim=0)\n",
    "\n",
    "    for k in range(seqlen):\n",
    "        left_logprobsum_left_idsum[:k,k] = -1000\n",
    "        remaining_labelcount = seqlen-k-1\n",
    "        if remaining_labelcount > 0:\n",
    "            right_logprobsum_right_idsum[-remaining_labelcount:,k] = -1000\n",
    "\n",
    "    loglikelihood = label_seq_logprob + 1*(left_logprobsum_left_idsum + right_logprobsum_right_idsum)/(frame_count)\n",
    "    posterior = loglikelihood.T + torch.log(torch.clip(torch.tensor(prior_table[ele]), min=1e-10))/20\n",
    "    posterior = torch.softmax(posterior/2, dim=0)\n",
    "    posterior_table[ele] = posterior"
   ]
  },
  {
   "cell_type": "code",
   "execution_count": 16,
   "metadata": {},
   "outputs": [
    {
     "name": "stdout",
     "output_type": "stream",
     "text": [
      "P26_cam02_P26_scrambledegg\n"
     ]
    },
    {
     "data": {
      "image/png": "[encoded data removed]",
      "text/plain": [
       "<Figure size 432x288 with 1 Axes>"
      ]
     },
     "metadata": {
      "needs_background": "light"
     },
     "output_type": "display_data"
    }
   ],
   "source": [
    "frame_count = 12000\n",
    "ele = list(weak_labels.keys())[0]\n",
    "print(ele)\n",
    "label_list = weak_labels[ele]\n",
    "mean_list = np.array([loaded_mean_var_actions[label][0] for label in label_list])\n",
    "total_mean = np.sum(mean_list)\n",
    "left_sum = np.cumsum(mean_list)\n",
    "relative_sum = left_sum/total_mean\n",
    "prob_id_ge_boundary = [binom.cdf(np.arange(frame_count)+1, frame_count, rel) for rel in relative_sum]\n",
    "prob_id_gt_boundary = [1] + [cdf - binom.pmf(np.arange(frame_count)+1, \n",
    "                                             frame_count,\n",
    "                                             rel) for rel,cdf in zip(relative_sum, prob_id_ge_boundary)]\n",
    "prob_id_gt_boundary[-1] = 0\n",
    "priors = np.stack([prob_id_gt_boundary[j-1] - prob_id_gt_boundary[j] \n",
    "                                for j in range(1,len(label_list)+1)], axis=0)\n",
    "priors = np.stack([priors, prob_id_ge_boundary], axis=0)\n",
    "\n",
    "for prior in priors[0]:\n",
    "    plt.plot(np.arange(12000), prior)"
   ]
  },
  {
   "cell_type": "code",
   "execution_count": 17,
   "metadata": {},
   "outputs": [
    {
     "name": "stdout",
     "output_type": "stream",
     "text": [
      "P26_cam02_P26_scrambledegg\n"
     ]
    }
   ],
   "source": [
    "frame_count = 12000\n",
    "ele = list(weak_labels.keys())[0]\n",
    "print(ele)\n",
    "boundary_probs = []\n",
    "label_list = weak_labels[ele]\n",
    "prob_boundary_le_id = 0\n",
    "\n",
    "posterior_id_between_boundary = priors[0]\n",
    "\n",
    "prob_boundary_le_id = 1 - np.cumsum(posterior_id_between_boundary, axis=0)\n",
    "prob_boundary_le_id = np.concatenate([np.zeros((len(label_list), 1)), prob_boundary_le_id], axis=1)\n",
    "frame_wise_proba = prob_boundary_le_id[:,1:] - prob_boundary_le_id[:,:-1]"
   ]
  },
  {
   "cell_type": "code",
   "execution_count": 18,
   "metadata": {},
   "outputs": [
    {
     "data": {
      "text/plain": [
       "array([  554.75554893,  1880.83252272,  3202.22802753,  4065.98680987,\n",
       "        5387.38231468,  6239.2061267 ,  7761.70125547, 10485.46502497,\n",
       "       11445.24445107,     0.        ])"
      ]
     },
     "execution_count": 18,
     "metadata": {},
     "output_type": "execute_result"
    },
    {
     "data": {
      "image/png": "[encoded data removed]",
      "text/plain": [
       "<Figure size 432x288 with 1 Axes>"
      ]
     },
     "metadata": {
      "needs_background": "light"
     },
     "output_type": "display_data"
    }
   ],
   "source": [
    "for proba in frame_wise_proba:\n",
    "    plt.plot(np.arange(12000), proba)\n",
    "\n",
    "np.sum(frame_wise_proba * np.arange(frame_count), axis=1)"
   ]
  },
  {
   "cell_type": "code",
   "execution_count": 19,
   "metadata": {},
   "outputs": [],
   "source": [
    "def get_estimated_boundaries():\n",
    "    estimated_boundary_dict = {}\n",
    "    for ele in weak_labels.keys():\n",
    "        if (ele + \".txt\") not in train_split_file_list:\n",
    "            continue\n",
    "        else:\n",
    "            frame_count = frame_id_dict[ele]\n",
    "            label_list = [label_name_to_label_id_dict[item] for item in weak_labels[ele]]\n",
    "            posterior_id_between_boundary = posterior_table[ele]\n",
    "\n",
    "            prob_boundary_le_id = 1 - np.cumsum(posterior_id_between_boundary, axis=0)\n",
    "            prob_boundary_le_id = np.concatenate([np.zeros((len(label_list), 1)), prob_boundary_le_id], axis=1)\n",
    "            frame_wise_proba = prob_boundary_le_id[:,1:] - prob_boundary_le_id[:,:-1]\n",
    "#             import pdb\n",
    "#             pdb.set_trace()\n",
    "            estimated_boundary_dict[ele] = np.sum(frame_wise_proba * np.arange(frame_count), axis=1)[:-1]\n",
    "            \n",
    "    return estimated_boundary_dict"
   ]
  },
  {
   "cell_type": "code",
   "execution_count": 20,
   "metadata": {},
   "outputs": [],
   "source": [
    "def get_estimated_loss(data_feat, data_count, video_ids, labels_all): #, loaded_vidid_selected_frames, boundaries_dict):\n",
    "    global posterior_table\n",
    "    loss_arr = []\n",
    "    device = data_feat.device\n",
    "    for iter_num in range(len(data_count)):\n",
    "        ele = video_ids[iter_num]\n",
    "        frame_count = frame_id_dict[ele]\n",
    "        label_list = [label_name_to_label_id_dict[item] for item in weak_labels[ele]]\n",
    "        label_list = torch.tensor(label_list).type(torch.long).to(device)\n",
    "        label_seq_logprob = torch.log(data_feat[iter_num][:frame_count, label_list] + 1e-10)\n",
    "        weights = posterior_table[ele].to(device).T\n",
    "        weighted_loss = torch.sum(weights * label_seq_logprob, dim=1)\n",
    "        loss_arr.append(weighted_loss)\n",
    "    return -torch.mean(torch.cat(loss_arr)), loss_arr"
   ]
  },
  {
   "cell_type": "code",
   "execution_count": 21,
   "metadata": {},
   "outputs": [],
   "source": [
    "def get_boundary_err():\n",
    "    err_list = []\n",
    "    correct = 0.0\n",
    "    total = 0.0\n",
    "    estimated_boundary_dict = get_estimated_boundaries()\n",
    "    for ele in video_id_boundary_frames.keys():\n",
    "        if ele + \".txt\" not in train_split_file_list:\n",
    "            continue\n",
    "        estimated_boundary_list = estimated_boundary_dict[ele]\n",
    "\n",
    "        estimated = np.array(estimated_boundary_list) #.detach().cpu().numpy()\n",
    "        if np.isnan(estimated).any():\n",
    "            print(ele)\n",
    "        actual = np.array(video_id_boundary_frames[ele][:-1])\n",
    "        if len(actual) != len(estimated):\n",
    "            print(ele)\n",
    "            continue\n",
    "\n",
    "        mse_err = (actual - estimated)**2\n",
    "        err_list.append(mse_err)\n",
    "\n",
    "    print(f\"Train Boundary avergage error = {np.sqrt(np.mean(np.concatenate(err_list))):.3f}\")"
   ]
  },
  {
   "cell_type": "code",
   "execution_count": 22,
   "metadata": {},
   "outputs": [],
   "source": [
    "pseudo_labels_dir = \"/mnt/ssd/all_users/dipika/ms_tcn/data/breakfast/length_segmentation_output/\"\n",
    "def get_single_random(output_p, video_ids):\n",
    "    # Generate target for only timestamps. Do not generate pseudo labels at first 30 epochs.\n",
    "    boundary_target_tensor = torch.ones((output_p.shape[0], output_p.shape[2]), dtype=torch.long, \n",
    "                                        device=output_p.device) * (-100)\n",
    "    for iter_num, cur_vidid in enumerate(video_ids):\n",
    "        pseudo_l = open(pseudo_labels_dir + cur_vidid + \".txt\").read().split(\"\\n\")[0:-1]\n",
    "        pseudo_l = [label_name_to_label_id_dict[ele] for ele in pseudo_l]\n",
    "        abc = torch.tensor(pseudo_l).to(torch.long).to(boundary_target_tensor.device)\n",
    "        frame_idx_tensor = torch.arange(0, len(pseudo_l), 1).to(device)\n",
    "        boundary_target_tensor[iter_num, frame_idx_tensor] = abc\n",
    "\n",
    "    return boundary_target_tensor"
   ]
  },
  {
   "cell_type": "code",
   "execution_count": 23,
   "metadata": {},
   "outputs": [],
   "source": [
    "set_seed()\n",
    "model = MultiStageModel(num_stages=4, num_layers=10, num_f_maps=64, dim=2048, num_classes=48).to(device)\n",
    "optimizer = torch.optim.Adam(model.parameters(), lr=3e-4)\n",
    "\n",
    "# Requires loaded_vidid_selected_frames, boundaries_dict\n",
    "ce_criterion = nn.CrossEntropyLoss(ignore_index=-100)\n",
    "mse_criterion = nn.MSELoss(reduction='none')"
   ]
  },
  {
   "cell_type": "code",
   "execution_count": 24,
   "metadata": {},
   "outputs": [
    {
     "data": {
      "text/plain": [
       "<All keys matched successfully>"
      ]
     },
     "execution_count": 24,
     "metadata": {},
     "output_type": "execute_result"
    }
   ],
   "source": [
    "loaded_file=torch.load(f\"/mnt/ssd/all_users/dipika/ms_tcn/data/breakfast//results/em-lenassum-mstcn-split3-slup15/\"\n",
    "                       f\"ms-tcn-initial-25-epochs.wt\")\n",
    "model.load_state_dict(loaded_file)"
   ]
  },
  {
   "cell_type": "code",
   "execution_count": 25,
   "metadata": {
    "scrolled": true
   },
   "outputs": [
    {
     "name": "stdout",
     "output_type": "stream",
     "text": [
      "Calculating Expectation\n",
      "Iter 0\n",
      "Iter 20\n",
      "Iter 40\n",
      "Iter 60\n",
      "Iter 80\n",
      "Iter 100\n",
      "Iter 120\n",
      "Iter 140\n",
      "Train Boundary avergage error = 313.391\n",
      "Calculating Validation Data Accuracy\n",
      "Validation:: Probability Accuracy 54.776368435444\n"
     ]
    }
   ],
   "source": [
    "model.eval()\n",
    "print(\"Calculating Expectation\")\n",
    "correct = 0.0\n",
    "total = 0.0\n",
    "\n",
    "for i, item in enumerate(trainloader):\n",
    "    with torch.no_grad():\n",
    "        item_0 = item[0].to(device)\n",
    "        item_1 = item[1].to(device)\n",
    "        item_2 = item[2].to(device)\n",
    "        src_mask = torch.arange(item_2.shape[1], device=item_2.device)[None, :] < item_1[:, None]\n",
    "        src_mask_mse = src_mask.unsqueeze(1).to(torch.float32).to(device)\n",
    "\n",
    "        middle_pred, predictions = model(item_0, src_mask_mse)\n",
    "        prob = torch.softmax(predictions[-1], dim=1)\n",
    "        prob = prob.permute(0, 2, 1)\n",
    "        for j in range(len(prob)):\n",
    "            generate_posterior_loss_weights(prob[j].cpu(), item[4][j])\n",
    "\n",
    "        if i % 20 == 0:\n",
    "            print(f\"Iter {i}\")\n",
    "\n",
    "get_boundary_err()\n",
    "\n",
    "print(\"Calculating Validation Data Accuracy\")\n",
    "correct = 0.0\n",
    "total = 0.0\n",
    "for i, item in enumerate(testloader):\n",
    "    with torch.no_grad():\n",
    "        item_0 = item[0].to(device)\n",
    "        item_1 = item[1].to(device)\n",
    "        item_2 = item[2].to(device)\n",
    "        src_mask = torch.arange(item_2.shape[1], device=item_2.device)[None, :] < item_1[:, None]\n",
    "        src_mask_mse = src_mask.unsqueeze(1).to(torch.float32).to(device)\n",
    "\n",
    "        middle_pred, predictions = model(item_0, src_mask_mse)\n",
    "\n",
    "        pred = torch.argmax(predictions[-1], dim=1)\n",
    "        correct += float(torch.sum((pred == item_2) * src_mask).item())\n",
    "        total += float(torch.sum(src_mask).item())\n",
    "val_acc = correct * 100.0 / total\n",
    "print(f\"Validation:: Probability Accuracy {val_acc}\")"
   ]
  },
  {
   "cell_type": "code",
   "execution_count": 26,
   "metadata": {},
   "outputs": [
    {
     "name": "stdout",
     "output_type": "stream",
     "text": [
      "Starting Training\n",
      "Training:: Epoch 26, Iteration 0, Current loss 0.9850942167875645 Accuracy 57.00719159137009\n",
      "Training:: Epoch 26, Iteration 10, Current loss 0.8089960856907088 Accuracy 59.3910149750416\n",
      "Training:: Epoch 26, Iteration 20, Current loss 0.7767251430032314 Accuracy 70.0066181336863\n",
      "Training:: Epoch 26, Iteration 30, Current loss 0.6538714008887425 Accuracy 63.2979696359978\n",
      "Training:: Epoch 26, Iteration 40, Current loss 0.734196155245455 Accuracy 61.66067795142647\n",
      "Training:: Epoch 26, Iteration 50, Current loss 0.664328531859349 Accuracy 58.47207769684356\n",
      "Training:: Epoch 26, Iteration 60, Current loss 0.7020353008407959 Accuracy 62.99831833020081\n",
      "Training:: Epoch 26, Iteration 70, Current loss 0.6604551867133219 Accuracy 61.09981515711645\n",
      "Training:: Epoch 26, Iteration 80, Current loss 0.7498601610594046 Accuracy 71.08584484822109\n",
      "Training:: Epoch 26, Iteration 90, Current loss 0.5888418176372106 Accuracy 59.81019407123054\n",
      "Training:: Epoch 26, Iteration 100, Current loss 0.7147988327920175 Accuracy 63.45217734508617\n",
      "Training:: Epoch 26, Iteration 110, Current loss 0.49832991277160393 Accuracy 67.0679012345679\n",
      "Training:: Epoch 26, Iteration 120, Current loss 0.6167142780056828 Accuracy 75.83075855980832\n",
      "Training:: Epoch 26, Iteration 130, Current loss 0.7322195852323954 Accuracy 46.89449541284404\n",
      "Training:: Epoch 26, Iteration 140, Current loss 0.7287216370314726 Accuracy 68.35685242764889\n",
      "Training:: Epoch 26, Iteration 150, Current loss 0.6387987131094977 Accuracy 59.83314930683352\n",
      "Calculating Validation Data Accuracy\n",
      "Validation:: Epoch 26, Probability Accuracy 55.131723595292435\n",
      "Starting Training\n",
      "Training:: Epoch 27, Iteration 0, Current loss 0.7149406757796208 Accuracy 67.36836963954283\n",
      "Training:: Epoch 27, Iteration 10, Current loss 0.7527998491877773 Accuracy 55.22957069451351\n",
      "Training:: Epoch 27, Iteration 20, Current loss 0.43490970762845804 Accuracy 69.61174173957053\n",
      "Training:: Epoch 27, Iteration 30, Current loss 0.8028019029335465 Accuracy 61.995555874130886\n",
      "Training:: Epoch 27, Iteration 40, Current loss 0.7770634781164849 Accuracy 68.4621433385756\n",
      "Training:: Epoch 27, Iteration 50, Current loss 0.556330132521246 Accuracy 63.783338482133665\n",
      "Training:: Epoch 27, Iteration 60, Current loss 0.8399531105680452 Accuracy 66.27397416197142\n",
      "Training:: Epoch 27, Iteration 70, Current loss 0.8247230646469548 Accuracy 63.62623486592884\n",
      "Training:: Epoch 27, Iteration 80, Current loss 0.5434125354416688 Accuracy 61.08550947260625\n",
      "Training:: Epoch 27, Iteration 90, Current loss 0.6788500128311867 Accuracy 61.2799690641918\n",
      "Training:: Epoch 27, Iteration 100, Current loss 0.7200744100326714 Accuracy 64.03513775597513\n",
      "Training:: Epoch 27, Iteration 110, Current loss 0.8050145970573661 Accuracy 62.145517043826985\n",
      "Training:: Epoch 27, Iteration 120, Current loss 0.6198044648107783 Accuracy 55.63043904992475\n",
      "Training:: Epoch 27, Iteration 130, Current loss 0.5626517865912699 Accuracy 65.10565635005337\n",
      "Training:: Epoch 27, Iteration 140, Current loss 0.617872194643122 Accuracy 59.32022990136947\n",
      "Training:: Epoch 27, Iteration 150, Current loss 0.6452242881252324 Accuracy 69.12686927158707\n",
      "Calculating Validation Data Accuracy\n",
      "Validation:: Epoch 27, Probability Accuracy 55.07301856574461\n",
      "Starting Training\n",
      "Training:: Epoch 28, Iteration 0, Current loss 0.6184899151260342 Accuracy 70.93988708070408\n",
      "Training:: Epoch 28, Iteration 10, Current loss 0.4859078703341786 Accuracy 66.8947198969736\n",
      "Training:: Epoch 28, Iteration 20, Current loss 0.5442226716251684 Accuracy 63.61658932714617\n",
      "Training:: Epoch 28, Iteration 30, Current loss 0.5595928353800053 Accuracy 57.366812227074234\n",
      "Training:: Epoch 28, Iteration 40, Current loss 0.5521261863967144 Accuracy 63.65296803652968\n",
      "Training:: Epoch 28, Iteration 50, Current loss 0.7471025846826115 Accuracy 57.949498794569216\n",
      "Training:: Epoch 28, Iteration 60, Current loss 0.7942725479801922 Accuracy 61.533827338996325\n",
      "Training:: Epoch 28, Iteration 70, Current loss 0.47523881974453486 Accuracy 69.62640736949847\n",
      "Training:: Epoch 28, Iteration 80, Current loss 0.6311660802128736 Accuracy 60.778198915703115\n",
      "Training:: Epoch 28, Iteration 90, Current loss 0.5602412191426325 Accuracy 63.64615752932727\n",
      "Training:: Epoch 28, Iteration 100, Current loss 0.6817130563643545 Accuracy 58.964525407478426\n",
      "Training:: Epoch 28, Iteration 110, Current loss 0.6798098121056155 Accuracy 59.05069450588339\n",
      "Training:: Epoch 28, Iteration 120, Current loss 0.5387733487557649 Accuracy 63.4390554462322\n",
      "Training:: Epoch 28, Iteration 130, Current loss 0.5621541584992795 Accuracy 66.36206470733515\n",
      "Training:: Epoch 28, Iteration 140, Current loss 0.6312078462414386 Accuracy 61.18262689691261\n",
      "Training:: Epoch 28, Iteration 150, Current loss 0.8736943603977398 Accuracy 62.432889608001766\n",
      "Calculating Validation Data Accuracy\n",
      "Validation:: Epoch 28, Probability Accuracy 54.08239909375506\n",
      "Starting Training\n",
      "Training:: Epoch 29, Iteration 0, Current loss 0.7643093166347505 Accuracy 66.4980202375715\n",
      "Training:: Epoch 29, Iteration 10, Current loss 0.6921321854299607 Accuracy 65.59160551049311\n",
      "Training:: Epoch 29, Iteration 20, Current loss 0.59481250908667 Accuracy 69.22952477249747\n",
      "Training:: Epoch 29, Iteration 30, Current loss 0.7314650546169534 Accuracy 68.31292243860001\n",
      "Training:: Epoch 29, Iteration 40, Current loss 0.6220426976515171 Accuracy 64.91027109583811\n",
      "Training:: Epoch 29, Iteration 50, Current loss 0.6892541357677076 Accuracy 63.76232573954437\n",
      "Training:: Epoch 29, Iteration 60, Current loss 0.7014971374055059 Accuracy 58.07665562236675\n",
      "Training:: Epoch 29, Iteration 70, Current loss 0.5489827666256071 Accuracy 64.68554861730598\n",
      "Training:: Epoch 29, Iteration 80, Current loss 0.8068572688044845 Accuracy 60.70217005007808\n",
      "Training:: Epoch 29, Iteration 90, Current loss 0.877693071257588 Accuracy 56.76192296664436\n",
      "Training:: Epoch 29, Iteration 100, Current loss 1.1049362527059308 Accuracy 61.214502343534605\n",
      "Training:: Epoch 29, Iteration 110, Current loss 1.008901295990525 Accuracy 58.97863553331745\n",
      "Training:: Epoch 29, Iteration 120, Current loss 0.7967311343207464 Accuracy 56.05985531661877\n",
      "Training:: Epoch 29, Iteration 130, Current loss 0.7271611203024317 Accuracy 67.24023459112537\n",
      "Training:: Epoch 29, Iteration 140, Current loss 0.6505977203788076 Accuracy 68.08721506442022\n",
      "Training:: Epoch 29, Iteration 150, Current loss 0.8327856836638113 Accuracy 59.979386443555235\n",
      "Calculating Validation Data Accuracy\n",
      "Validation:: Epoch 29, Probability Accuracy 54.88953744677764\n",
      "Starting Training\n",
      "Training:: Epoch 30, Iteration 0, Current loss 0.7821007936062472 Accuracy 63.22145267270467\n",
      "Training:: Epoch 30, Iteration 10, Current loss 0.5916921277959621 Accuracy 66.98074837310195\n",
      "Training:: Epoch 30, Iteration 20, Current loss 0.7365295285425503 Accuracy 66.09204327794171\n",
      "Training:: Epoch 30, Iteration 30, Current loss 0.6991539584943294 Accuracy 57.51456656140195\n",
      "Training:: Epoch 30, Iteration 40, Current loss 0.841646987474493 Accuracy 70.83876941206178\n",
      "Training:: Epoch 30, Iteration 50, Current loss 0.7770488902170873 Accuracy 61.336548084796654\n",
      "Training:: Epoch 30, Iteration 60, Current loss 0.7183321364941488 Accuracy 65.31766325727773\n",
      "Training:: Epoch 30, Iteration 70, Current loss 0.7016967076632021 Accuracy 54.892496709082934\n",
      "Training:: Epoch 30, Iteration 80, Current loss 0.7733684074000372 Accuracy 41.775054009964286\n",
      "Training:: Epoch 30, Iteration 90, Current loss 0.7042399737663547 Accuracy 52.391638124483286\n",
      "Training:: Epoch 30, Iteration 100, Current loss 0.5765636046117077 Accuracy 69.65247463008107\n",
      "Training:: Epoch 30, Iteration 110, Current loss 0.6802927114891648 Accuracy 45.62303082720702\n",
      "Training:: Epoch 30, Iteration 120, Current loss 0.5448347319557251 Accuracy 63.535712678338356\n",
      "Training:: Epoch 30, Iteration 130, Current loss 0.7782506052524165 Accuracy 62.63712313839448\n",
      "Training:: Epoch 30, Iteration 140, Current loss 0.4843531768519405 Accuracy 58.78585652010118\n",
      "Training:: Epoch 30, Iteration 150, Current loss 0.5727196512438882 Accuracy 66.46880678376742\n",
      "Calculating Expectation\n",
      "Epoch 30 iter 0\n",
      "Epoch 30 iter 20\n",
      "Epoch 30 iter 40\n",
      "Epoch 30 iter 60\n",
      "Epoch 30 iter 80\n",
      "Epoch 30 iter 100\n",
      "Epoch 30 iter 120\n",
      "Epoch 30 iter 140\n"
     ]
    },
    {
     "name": "stdout",
     "output_type": "stream",
     "text": [
      "Train Boundary avergage error = 339.572\n",
      "Calculating Validation Data Accuracy\n",
      "Validation:: Epoch 30, Probability Accuracy 54.903599868304305\n",
      "Starting Training\n",
      "Training:: Epoch 31, Iteration 0, Current loss 1.5939193473405422 Accuracy 65.18334907145105\n",
      "Training:: Epoch 31, Iteration 10, Current loss 1.2929745536748156 Accuracy 58.65615358244772\n",
      "Training:: Epoch 31, Iteration 20, Current loss 1.7274923850659456 Accuracy 49.82642061026859\n",
      "Training:: Epoch 31, Iteration 30, Current loss 1.5718633778006688 Accuracy 68.99991889042096\n",
      "Training:: Epoch 31, Iteration 40, Current loss 1.407408138792277 Accuracy 53.73406193078324\n",
      "Training:: Epoch 31, Iteration 50, Current loss 1.2777789411939533 Accuracy 66.80971320912707\n",
      "Training:: Epoch 31, Iteration 60, Current loss 1.6413635766922263 Accuracy 58.02418862238873\n",
      "Training:: Epoch 31, Iteration 70, Current loss 1.5231343251043294 Accuracy 61.60412067696836\n",
      "Training:: Epoch 31, Iteration 80, Current loss 1.54086656112341 Accuracy 69.64045375889252\n",
      "Training:: Epoch 31, Iteration 90, Current loss 1.4748917991554267 Accuracy 52.6615257917197\n",
      "Training:: Epoch 31, Iteration 100, Current loss 1.4605764929644427 Accuracy 57.34752141188684\n",
      "Training:: Epoch 31, Iteration 110, Current loss 1.6305966073663016 Accuracy 57.992604331748545\n",
      "Training:: Epoch 31, Iteration 120, Current loss 1.9626138822203711 Accuracy 69.63592369590907\n",
      "Training:: Epoch 31, Iteration 130, Current loss 1.8454939421700323 Accuracy 50.1567743000165\n",
      "Training:: Epoch 31, Iteration 140, Current loss 1.4710119575558789 Accuracy 65.86466964096027\n",
      "Training:: Epoch 31, Iteration 150, Current loss 1.6109960957648344 Accuracy 70.48567153872713\n",
      "Calculating Validation Data Accuracy\n",
      "Validation:: Epoch 31, Probability Accuracy 55.31721363162036\n",
      "Starting Training\n",
      "Training:: Epoch 32, Iteration 0, Current loss 1.5487385756978886 Accuracy 47.84148500946449\n",
      "Training:: Epoch 32, Iteration 10, Current loss 1.7988145054861528 Accuracy 66.60111934654364\n",
      "Training:: Epoch 32, Iteration 20, Current loss 1.5494286610796444 Accuracy 64.46168768186227\n",
      "Training:: Epoch 32, Iteration 30, Current loss 1.428160911181704 Accuracy 63.57187565199249\n",
      "Training:: Epoch 32, Iteration 40, Current loss 1.4614855476301638 Accuracy 73.62259829494846\n",
      "Training:: Epoch 32, Iteration 50, Current loss 1.698157445437852 Accuracy 60.03488277764257\n",
      "Training:: Epoch 32, Iteration 60, Current loss 1.7768607429254817 Accuracy 69.12382331643737\n",
      "Training:: Epoch 32, Iteration 70, Current loss 1.2982448994626437 Accuracy 60.049790356394126\n",
      "Training:: Epoch 32, Iteration 80, Current loss 1.4973098187091254 Accuracy 74.08799123219039\n",
      "Training:: Epoch 32, Iteration 90, Current loss 1.310650266529022 Accuracy 68.40731070496084\n",
      "Training:: Epoch 32, Iteration 100, Current loss 1.4665137174290446 Accuracy 52.37055622535762\n",
      "Training:: Epoch 32, Iteration 110, Current loss 1.5986511617744439 Accuracy 59.12768707808685\n",
      "Training:: Epoch 32, Iteration 120, Current loss 1.469915510523445 Accuracy 59.57234655439841\n",
      "Training:: Epoch 32, Iteration 130, Current loss 1.627290192459953 Accuracy 68.19693036389306\n",
      "Training:: Epoch 32, Iteration 140, Current loss 1.3059539625737349 Accuracy 53.2514450867052\n",
      "Training:: Epoch 32, Iteration 150, Current loss 1.7198338027828122 Accuracy 66.31111111111112\n",
      "Calculating Validation Data Accuracy\n",
      "Validation:: Epoch 32, Probability Accuracy 54.12715330829627\n",
      "Starting Training\n",
      "Training:: Epoch 33, Iteration 0, Current loss 1.665858382523103 Accuracy 61.2\n",
      "Training:: Epoch 33, Iteration 10, Current loss 1.6030636412058903 Accuracy 48.332724521212754\n",
      "Training:: Epoch 33, Iteration 20, Current loss 1.3931567468104222 Accuracy 65.38169942263953\n",
      "Training:: Epoch 33, Iteration 30, Current loss 1.8608761464742976 Accuracy 63.59494812810104\n",
      "Training:: Epoch 33, Iteration 40, Current loss 1.575175664193218 Accuracy 60.8068149816953\n",
      "Training:: Epoch 33, Iteration 50, Current loss 1.6175104782510854 Accuracy 61.39490836165116\n",
      "Training:: Epoch 33, Iteration 60, Current loss 1.589241384839819 Accuracy 52.93056807935076\n",
      "Training:: Epoch 33, Iteration 70, Current loss 1.4066568794591625 Accuracy 63.54378818737271\n",
      "Training:: Epoch 33, Iteration 80, Current loss 1.6233753189741116 Accuracy 55.91649341649342\n",
      "Training:: Epoch 33, Iteration 90, Current loss 1.5695409371777254 Accuracy 57.553646215621086\n",
      "Training:: Epoch 33, Iteration 100, Current loss 1.3290849364852715 Accuracy 60.536147954418084\n",
      "Training:: Epoch 33, Iteration 110, Current loss 1.4940293439830048 Accuracy 53.718711898443665\n",
      "Training:: Epoch 33, Iteration 120, Current loss 1.3602599998733789 Accuracy 68.1117840824567\n",
      "Training:: Epoch 33, Iteration 130, Current loss 1.408901846545904 Accuracy 61.201955938798044\n",
      "Training:: Epoch 33, Iteration 140, Current loss 1.7420173005799011 Accuracy 57.95357569551118\n",
      "Training:: Epoch 33, Iteration 150, Current loss 1.6475411423544624 Accuracy 69.28482301175544\n",
      "Calculating Validation Data Accuracy\n",
      "Validation:: Epoch 33, Probability Accuracy 54.447464020848095\n",
      "Starting Training\n",
      "Training:: Epoch 34, Iteration 0, Current loss 1.25271499468785 Accuracy 69.58511050794881\n",
      "Training:: Epoch 34, Iteration 10, Current loss 1.597423680371631 Accuracy 70.14567669172932\n",
      "Training:: Epoch 34, Iteration 20, Current loss 1.4740091155893666 Accuracy 60.81849404023204\n",
      "Training:: Epoch 34, Iteration 30, Current loss 1.3634345397678582 Accuracy 66.35129576306046\n",
      "Training:: Epoch 34, Iteration 40, Current loss 1.0554718267253194 Accuracy 58.28231488968465\n",
      "Training:: Epoch 34, Iteration 50, Current loss 1.4110073972013963 Accuracy 70.33970276008493\n",
      "Training:: Epoch 34, Iteration 60, Current loss 1.4182032105467515 Accuracy 65.55555555555556\n",
      "Training:: Epoch 34, Iteration 70, Current loss 1.4354420832784802 Accuracy 68.84838442419222\n",
      "Training:: Epoch 34, Iteration 80, Current loss 1.377952839930759 Accuracy 60.917046358573806\n",
      "Training:: Epoch 34, Iteration 90, Current loss 1.2447660751500902 Accuracy 55.04216713519039\n",
      "Training:: Epoch 34, Iteration 100, Current loss 1.4257128329314717 Accuracy 65.63330380868025\n",
      "Training:: Epoch 34, Iteration 110, Current loss 1.1441866521394877 Accuracy 71.55140186915888\n",
      "Training:: Epoch 34, Iteration 120, Current loss 1.4558244328460679 Accuracy 69.30896924462746\n",
      "Training:: Epoch 34, Iteration 130, Current loss 1.5981851027413927 Accuracy 66.77623074934446\n",
      "Training:: Epoch 34, Iteration 140, Current loss 1.611118876969797 Accuracy 57.754310784613814\n",
      "Training:: Epoch 34, Iteration 150, Current loss 1.4794030587536267 Accuracy 47.587495752633366\n",
      "Calculating Validation Data Accuracy\n",
      "Validation:: Epoch 34, Probability Accuracy 53.56342877550907\n",
      "Starting Training\n",
      "Training:: Epoch 35, Iteration 0, Current loss 1.064053004296553 Accuracy 60.30022357074417\n",
      "Training:: Epoch 35, Iteration 10, Current loss 1.577760787503017 Accuracy 60.48024786986832\n",
      "Training:: Epoch 35, Iteration 20, Current loss 1.4698384140536374 Accuracy 64.31761139541706\n",
      "Training:: Epoch 35, Iteration 30, Current loss 1.5076509966232179 Accuracy 67.91573452647278\n",
      "Training:: Epoch 35, Iteration 40, Current loss 1.460893288365369 Accuracy 62.175674964475554\n",
      "Training:: Epoch 35, Iteration 50, Current loss 1.6564405915377232 Accuracy 65.17401021711366\n",
      "Training:: Epoch 35, Iteration 60, Current loss 1.5271591303505208 Accuracy 61.642302120374026\n",
      "Training:: Epoch 35, Iteration 70, Current loss 1.4628914247538851 Accuracy 75.41644879360574\n",
      "Training:: Epoch 35, Iteration 80, Current loss 1.4873255691259826 Accuracy 58.10744810744811\n",
      "Training:: Epoch 35, Iteration 90, Current loss 1.6456401502654587 Accuracy 68.48636384683059\n",
      "Training:: Epoch 35, Iteration 100, Current loss 1.0482892798404881 Accuracy 57.614318228843366\n",
      "Training:: Epoch 35, Iteration 110, Current loss 1.5977440572885744 Accuracy 71.84806034482759\n",
      "Training:: Epoch 35, Iteration 120, Current loss 1.2214983274098135 Accuracy 65.58773424190801\n",
      "Training:: Epoch 35, Iteration 130, Current loss 1.5542099087276289 Accuracy 68.01897321428571\n",
      "Training:: Epoch 35, Iteration 140, Current loss 1.358143706582848 Accuracy 67.70113003879237\n",
      "Training:: Epoch 35, Iteration 150, Current loss 1.4872902586041459 Accuracy 66.99039841077143\n",
      "Calculating Expectation\n",
      "Epoch 35 iter 0\n",
      "Epoch 35 iter 20\n"
     ]
    },
    {
     "name": "stdout",
     "output_type": "stream",
     "text": [
      "Epoch 35 iter 40\n",
      "Epoch 35 iter 60\n",
      "Epoch 35 iter 80\n",
      "Epoch 35 iter 100\n",
      "Epoch 35 iter 120\n",
      "Epoch 35 iter 140\n",
      "Train Boundary avergage error = 486.559\n",
      "Calculating Validation Data Accuracy\n",
      "Validation:: Epoch 35, Probability Accuracy 54.51208419595873\n",
      "Starting Training\n",
      "Training:: Epoch 36, Iteration 0, Current loss 2.539405789594375 Accuracy 58.97535332643916\n",
      "Training:: Epoch 36, Iteration 10, Current loss 2.142827806010482 Accuracy 60.51692629014011\n",
      "Training:: Epoch 36, Iteration 20, Current loss 2.14872664901595 Accuracy 66.94214876033058\n",
      "Training:: Epoch 36, Iteration 30, Current loss 2.7035217398106166 Accuracy 67.63944160192028\n",
      "Training:: Epoch 36, Iteration 40, Current loss 2.83017712628639 Accuracy 57.92095493209268\n",
      "Training:: Epoch 36, Iteration 50, Current loss 2.6281738552385088 Accuracy 71.00845338730801\n",
      "Training:: Epoch 36, Iteration 60, Current loss 2.336091468879601 Accuracy 65.7929341632331\n",
      "Training:: Epoch 36, Iteration 70, Current loss 3.4147214091380707 Accuracy 45.01620984379605\n",
      "Training:: Epoch 36, Iteration 80, Current loss 5.937505894997565 Accuracy 42.13528002737539\n",
      "Training:: Epoch 36, Iteration 90, Current loss 4.781745418701387 Accuracy 56.7241958982405\n",
      "Training:: Epoch 36, Iteration 100, Current loss 2.8250848859555173 Accuracy 54.58518361880595\n",
      "Training:: Epoch 36, Iteration 110, Current loss 4.10770318946255 Accuracy 64.96032761709752\n",
      "Training:: Epoch 36, Iteration 120, Current loss 4.354904025183133 Accuracy 58.14928950522171\n",
      "Training:: Epoch 36, Iteration 130, Current loss 3.337998069092803 Accuracy 59.83216783216783\n",
      "Training:: Epoch 36, Iteration 140, Current loss 3.7676177826440598 Accuracy 59.680491817473374\n",
      "Training:: Epoch 36, Iteration 150, Current loss 3.019916585048862 Accuracy 68.7401159725883\n",
      "Calculating Validation Data Accuracy\n",
      "Validation:: Epoch 36, Probability Accuracy 53.25483674756279\n",
      "Starting Training\n",
      "Training:: Epoch 37, Iteration 0, Current loss 3.5520993192984425 Accuracy 60.14547278655631\n",
      "Training:: Epoch 37, Iteration 10, Current loss 2.799288753285926 Accuracy 69.36053700759584\n",
      "Training:: Epoch 37, Iteration 20, Current loss 2.9073934301999014 Accuracy 71.27188203675456\n",
      "Training:: Epoch 37, Iteration 30, Current loss 2.982133379155827 Accuracy 64.4996458565213\n",
      "Training:: Epoch 37, Iteration 40, Current loss 2.855081006460199 Accuracy 59.323498351947265\n",
      "Training:: Epoch 37, Iteration 50, Current loss 2.827101789995863 Accuracy 57.12661722513939\n",
      "Training:: Epoch 37, Iteration 60, Current loss 2.997190619224453 Accuracy 53.70113347212584\n",
      "Training:: Epoch 37, Iteration 70, Current loss 2.887488710498535 Accuracy 67.56602263633246\n",
      "Training:: Epoch 37, Iteration 80, Current loss 2.534922172761359 Accuracy 67.80842679599878\n",
      "Training:: Epoch 37, Iteration 90, Current loss 2.58540182648792 Accuracy 63.75548339315217\n",
      "Training:: Epoch 37, Iteration 100, Current loss 2.496286393177429 Accuracy 63.474264705882355\n",
      "Training:: Epoch 37, Iteration 110, Current loss 2.8998213102974093 Accuracy 68.244531688166\n",
      "Training:: Epoch 37, Iteration 120, Current loss 2.6774482351954547 Accuracy 54.34106673044726\n",
      "Training:: Epoch 37, Iteration 130, Current loss 2.3945889007135635 Accuracy 56.72514619883041\n",
      "Training:: Epoch 37, Iteration 140, Current loss 2.5636406463431283 Accuracy 54.589595375722546\n",
      "Training:: Epoch 37, Iteration 150, Current loss 2.3745345386653445 Accuracy 59.16854656783757\n",
      "Calculating Validation Data Accuracy\n",
      "Validation:: Epoch 37, Probability Accuracy 54.93072025267716\n",
      "Starting Training\n",
      "Training:: Epoch 38, Iteration 0, Current loss 2.3654423323256153 Accuracy 66.18204315211507\n",
      "Training:: Epoch 38, Iteration 10, Current loss 2.762834744827625 Accuracy 63.17141961767471\n",
      "Training:: Epoch 38, Iteration 20, Current loss 2.332453850426412 Accuracy 57.03655774830152\n",
      "Training:: Epoch 38, Iteration 30, Current loss 2.410581229332556 Accuracy 62.92354474370113\n",
      "Training:: Epoch 38, Iteration 40, Current loss 2.7415729686595043 Accuracy 57.21180620011138\n",
      "Training:: Epoch 38, Iteration 50, Current loss 2.280460910377231 Accuracy 55.953477660064486\n",
      "Training:: Epoch 38, Iteration 60, Current loss 2.5791026196318767 Accuracy 68.99849962490623\n",
      "Training:: Epoch 38, Iteration 70, Current loss 2.7704330368250525 Accuracy 57.18279047156052\n",
      "Training:: Epoch 38, Iteration 80, Current loss 2.7249579268378494 Accuracy 56.690031152647975\n",
      "Training:: Epoch 38, Iteration 90, Current loss 2.6586198216018597 Accuracy 63.54257973164318\n",
      "Training:: Epoch 38, Iteration 100, Current loss 2.3304364285710646 Accuracy 70.88405356055995\n",
      "Training:: Epoch 38, Iteration 110, Current loss 2.5421497256158583 Accuracy 58.21720787522373\n",
      "Training:: Epoch 38, Iteration 120, Current loss 2.4712084903355445 Accuracy 66.46739886000277\n",
      "Training:: Epoch 38, Iteration 130, Current loss 2.2769698845204234 Accuracy 49.76516504597473\n",
      "Training:: Epoch 38, Iteration 140, Current loss 2.428358355214187 Accuracy 68.95098828923724\n",
      "Training:: Epoch 38, Iteration 150, Current loss 2.5654790351012062 Accuracy 54.984688669615515\n",
      "Calculating Validation Data Accuracy\n",
      "Validation:: Epoch 38, Probability Accuracy 54.42190612775598\n",
      "Starting Training\n",
      "Training:: Epoch 39, Iteration 0, Current loss 2.5260215091120877 Accuracy 71.86529896072345\n",
      "Training:: Epoch 39, Iteration 10, Current loss 2.3562238013742833 Accuracy 60.07447248655358\n",
      "Training:: Epoch 39, Iteration 20, Current loss 2.154464374344944 Accuracy 71.64581328200192\n",
      "Training:: Epoch 39, Iteration 30, Current loss 2.528252435438465 Accuracy 48.28285755687582\n",
      "Training:: Epoch 39, Iteration 40, Current loss 2.763555049921144 Accuracy 53.72535334147618\n",
      "Training:: Epoch 39, Iteration 50, Current loss 2.4665504921185017 Accuracy 70.70335034390948\n",
      "Training:: Epoch 39, Iteration 60, Current loss 2.418498431476208 Accuracy 60.324936855758075\n",
      "Training:: Epoch 39, Iteration 70, Current loss 2.6346749330729557 Accuracy 53.35254508103173\n",
      "Training:: Epoch 39, Iteration 80, Current loss 2.0491746710390903 Accuracy 60.066582117945465\n",
      "Training:: Epoch 39, Iteration 90, Current loss 2.7431904377359433 Accuracy 56.99720111955218\n",
      "Training:: Epoch 39, Iteration 100, Current loss 3.1218406882759675 Accuracy 53.461827284105134\n",
      "Training:: Epoch 39, Iteration 110, Current loss 2.0146302205473976 Accuracy 65.77894473618404\n",
      "Training:: Epoch 39, Iteration 120, Current loss 2.547894649941188 Accuracy 75.80975379285002\n",
      "Training:: Epoch 39, Iteration 130, Current loss 2.7872799484625688 Accuracy 53.07165455620068\n",
      "Training:: Epoch 39, Iteration 140, Current loss 2.468481226836948 Accuracy 55.67811934900543\n",
      "Training:: Epoch 39, Iteration 150, Current loss 2.7991795730367306 Accuracy 63.9102044707116\n",
      "Calculating Validation Data Accuracy\n",
      "Validation:: Epoch 39, Probability Accuracy 54.186304763924305\n",
      "Starting Training\n",
      "Training:: Epoch 40, Iteration 0, Current loss 2.857706961091596 Accuracy 68.43179168286048\n",
      "Training:: Epoch 40, Iteration 10, Current loss 2.7350842719715764 Accuracy 63.340497390236415\n",
      "Training:: Epoch 40, Iteration 20, Current loss 2.319466252726778 Accuracy 64.97404844290658\n",
      "Training:: Epoch 40, Iteration 30, Current loss 2.2922861566998014 Accuracy 72.6169553937568\n",
      "Training:: Epoch 40, Iteration 40, Current loss 2.387353492363022 Accuracy 71.91927141893412\n",
      "Training:: Epoch 40, Iteration 50, Current loss 1.8007853661551845 Accuracy 66.72722553854139\n",
      "Training:: Epoch 40, Iteration 60, Current loss 2.4795047576886624 Accuracy 64.57835512881783\n",
      "Training:: Epoch 40, Iteration 70, Current loss 2.493510412241027 Accuracy 55.66446318668794\n",
      "Training:: Epoch 40, Iteration 80, Current loss 2.4263400233015653 Accuracy 60.78420082911101\n",
      "Training:: Epoch 40, Iteration 90, Current loss 2.631343905006961 Accuracy 62.591502528111086\n",
      "Training:: Epoch 40, Iteration 100, Current loss 2.3326783483647904 Accuracy 67.6989175315255\n",
      "Training:: Epoch 40, Iteration 110, Current loss 2.6125338643321396 Accuracy 60.433429889496836\n",
      "Training:: Epoch 40, Iteration 120, Current loss 2.46392223195573 Accuracy 66.45442089143225\n",
      "Training:: Epoch 40, Iteration 130, Current loss 2.4849386970432987 Accuracy 61.71446694757827\n",
      "Training:: Epoch 40, Iteration 140, Current loss 2.3346930648159767 Accuracy 57.31239729779076\n",
      "Training:: Epoch 40, Iteration 150, Current loss 2.255320680360718 Accuracy 65.46132764920829\n"
     ]
    },
    {
     "name": "stdout",
     "output_type": "stream",
     "text": [
      "Calculating Expectation\n",
      "Epoch 40 iter 0\n",
      "Epoch 40 iter 20\n",
      "Epoch 40 iter 40\n",
      "Epoch 40 iter 60\n",
      "Epoch 40 iter 80\n",
      "Epoch 40 iter 100\n",
      "Epoch 40 iter 120\n",
      "Epoch 40 iter 140\n",
      "Train Boundary avergage error = 671.357\n",
      "Calculating Validation Data Accuracy\n",
      "Validation:: Epoch 40, Probability Accuracy 54.44467385784677\n",
      "Starting Training\n",
      "Training:: Epoch 41, Iteration 0, Current loss 3.4060694337655777 Accuracy 67.96547273313972\n",
      "Training:: Epoch 41, Iteration 10, Current loss 3.6531866355710307 Accuracy 47.1959420950644\n",
      "Training:: Epoch 41, Iteration 20, Current loss 3.567825811766543 Accuracy 56.36097764779611\n",
      "Training:: Epoch 41, Iteration 30, Current loss 3.762644086792904 Accuracy 54.083769633507856\n",
      "Training:: Epoch 41, Iteration 40, Current loss 3.2815135878588424 Accuracy 59.095667780048856\n"
     ]
    },
    {
     "ename": "KeyboardInterrupt",
     "evalue": "",
     "output_type": "error",
     "traceback": [
      "\u001b[0;31m---------------------------------------------------------------------------\u001b[0m",
      "\u001b[0;31mKeyboardInterrupt\u001b[0m                         Traceback (most recent call last)",
      "\u001b[0;32m<ipython-input-26-c983d94f141d>\u001b[0m in \u001b[0;36m<module>\u001b[0;34m\u001b[0m\n\u001b[1;32m     13\u001b[0m         \u001b[0moptimizer\u001b[0m\u001b[0;34m.\u001b[0m\u001b[0mzero_grad\u001b[0m\u001b[0;34m(\u001b[0m\u001b[0;34m)\u001b[0m\u001b[0;34m\u001b[0m\u001b[0;34m\u001b[0m\u001b[0m\n\u001b[1;32m     14\u001b[0m \u001b[0;34m\u001b[0m\u001b[0m\n\u001b[0;32m---> 15\u001b[0;31m         \u001b[0mmiddle_pred\u001b[0m\u001b[0;34m,\u001b[0m \u001b[0mpredictions\u001b[0m \u001b[0;34m=\u001b[0m \u001b[0mmodel\u001b[0m\u001b[0;34m(\u001b[0m\u001b[0mitem_0\u001b[0m\u001b[0;34m,\u001b[0m \u001b[0msrc_mask_mse\u001b[0m\u001b[0;34m)\u001b[0m\u001b[0;34m\u001b[0m\u001b[0;34m\u001b[0m\u001b[0m\n\u001b[0m\u001b[1;32m     16\u001b[0m         \u001b[0mpsuedo_l\u001b[0m \u001b[0;34m=\u001b[0m \u001b[0mget_single_random\u001b[0m\u001b[0;34m(\u001b[0m\u001b[0mpredictions\u001b[0m\u001b[0;34m[\u001b[0m\u001b[0;34m-\u001b[0m\u001b[0;36m1\u001b[0m\u001b[0;34m]\u001b[0m\u001b[0;34m,\u001b[0m \u001b[0mitem\u001b[0m\u001b[0;34m[\u001b[0m\u001b[0;36m4\u001b[0m\u001b[0;34m]\u001b[0m\u001b[0;34m)\u001b[0m\u001b[0;34m\u001b[0m\u001b[0;34m\u001b[0m\u001b[0m\n\u001b[1;32m     17\u001b[0m \u001b[0;34m\u001b[0m\u001b[0m\n",
      "\u001b[0;32m~/anaconda3/envs/video_r/lib/python3.7/site-packages/torch/nn/modules/module.py\u001b[0m in \u001b[0;36m_call_impl\u001b[0;34m(self, *input, **kwargs)\u001b[0m\n\u001b[1;32m    725\u001b[0m             \u001b[0mresult\u001b[0m \u001b[0;34m=\u001b[0m \u001b[0mself\u001b[0m\u001b[0;34m.\u001b[0m\u001b[0m_slow_forward\u001b[0m\u001b[0;34m(\u001b[0m\u001b[0;34m*\u001b[0m\u001b[0minput\u001b[0m\u001b[0;34m,\u001b[0m \u001b[0;34m**\u001b[0m\u001b[0mkwargs\u001b[0m\u001b[0;34m)\u001b[0m\u001b[0;34m\u001b[0m\u001b[0;34m\u001b[0m\u001b[0m\n\u001b[1;32m    726\u001b[0m         \u001b[0;32melse\u001b[0m\u001b[0;34m:\u001b[0m\u001b[0;34m\u001b[0m\u001b[0;34m\u001b[0m\u001b[0m\n\u001b[0;32m--> 727\u001b[0;31m             \u001b[0mresult\u001b[0m \u001b[0;34m=\u001b[0m \u001b[0mself\u001b[0m\u001b[0;34m.\u001b[0m\u001b[0mforward\u001b[0m\u001b[0;34m(\u001b[0m\u001b[0;34m*\u001b[0m\u001b[0minput\u001b[0m\u001b[0;34m,\u001b[0m \u001b[0;34m**\u001b[0m\u001b[0mkwargs\u001b[0m\u001b[0;34m)\u001b[0m\u001b[0;34m\u001b[0m\u001b[0;34m\u001b[0m\u001b[0m\n\u001b[0m\u001b[1;32m    728\u001b[0m         for hook in itertools.chain(\n\u001b[1;32m    729\u001b[0m                 \u001b[0m_global_forward_hooks\u001b[0m\u001b[0;34m.\u001b[0m\u001b[0mvalues\u001b[0m\u001b[0;34m(\u001b[0m\u001b[0;34m)\u001b[0m\u001b[0;34m,\u001b[0m\u001b[0;34m\u001b[0m\u001b[0;34m\u001b[0m\u001b[0m\n",
      "\u001b[0;32m~/ar/single_frame_and_weakly_supervised/mstcn_model.py\u001b[0m in \u001b[0;36mforward\u001b[0;34m(self, x, mask)\u001b[0m\n\u001b[1;32m     18\u001b[0m         \u001b[0moutputs\u001b[0m \u001b[0;34m=\u001b[0m \u001b[0mout\u001b[0m\u001b[0;34m.\u001b[0m\u001b[0munsqueeze\u001b[0m\u001b[0;34m(\u001b[0m\u001b[0;36m0\u001b[0m\u001b[0;34m)\u001b[0m\u001b[0;34m\u001b[0m\u001b[0;34m\u001b[0m\u001b[0m\n\u001b[1;32m     19\u001b[0m         \u001b[0;32mfor\u001b[0m \u001b[0ms\u001b[0m \u001b[0;32min\u001b[0m \u001b[0mself\u001b[0m\u001b[0;34m.\u001b[0m\u001b[0msingle_stages\u001b[0m\u001b[0;34m:\u001b[0m\u001b[0;34m\u001b[0m\u001b[0;34m\u001b[0m\u001b[0m\n\u001b[0;32m---> 20\u001b[0;31m             \u001b[0mmiddle_out\u001b[0m\u001b[0;34m,\u001b[0m \u001b[0mout\u001b[0m \u001b[0;34m=\u001b[0m \u001b[0ms\u001b[0m\u001b[0;34m(\u001b[0m\u001b[0mF\u001b[0m\u001b[0;34m.\u001b[0m\u001b[0msoftmax\u001b[0m\u001b[0;34m(\u001b[0m\u001b[0mout\u001b[0m\u001b[0;34m,\u001b[0m \u001b[0mdim\u001b[0m\u001b[0;34m=\u001b[0m\u001b[0;36m1\u001b[0m\u001b[0;34m)\u001b[0m \u001b[0;34m*\u001b[0m \u001b[0mmask\u001b[0m\u001b[0;34m[\u001b[0m\u001b[0;34m:\u001b[0m\u001b[0;34m,\u001b[0m \u001b[0;36m0\u001b[0m\u001b[0;34m:\u001b[0m\u001b[0;36m1\u001b[0m\u001b[0;34m,\u001b[0m \u001b[0;34m:\u001b[0m\u001b[0;34m]\u001b[0m\u001b[0;34m,\u001b[0m \u001b[0mmask\u001b[0m\u001b[0;34m)\u001b[0m\u001b[0;34m\u001b[0m\u001b[0;34m\u001b[0m\u001b[0m\n\u001b[0m\u001b[1;32m     21\u001b[0m             \u001b[0moutputs\u001b[0m \u001b[0;34m=\u001b[0m \u001b[0mtorch\u001b[0m\u001b[0;34m.\u001b[0m\u001b[0mcat\u001b[0m\u001b[0;34m(\u001b[0m\u001b[0;34m(\u001b[0m\u001b[0moutputs\u001b[0m\u001b[0;34m,\u001b[0m \u001b[0mout\u001b[0m\u001b[0;34m.\u001b[0m\u001b[0munsqueeze\u001b[0m\u001b[0;34m(\u001b[0m\u001b[0;36m0\u001b[0m\u001b[0;34m)\u001b[0m\u001b[0;34m)\u001b[0m\u001b[0;34m,\u001b[0m \u001b[0mdim\u001b[0m\u001b[0;34m=\u001b[0m\u001b[0;36m0\u001b[0m\u001b[0;34m)\u001b[0m\u001b[0;34m\u001b[0m\u001b[0;34m\u001b[0m\u001b[0m\n\u001b[1;32m     22\u001b[0m         \u001b[0;32mreturn\u001b[0m \u001b[0mmiddle_out\u001b[0m\u001b[0;34m,\u001b[0m \u001b[0moutputs\u001b[0m\u001b[0;34m\u001b[0m\u001b[0;34m\u001b[0m\u001b[0m\n",
      "\u001b[0;32m~/anaconda3/envs/video_r/lib/python3.7/site-packages/torch/nn/modules/module.py\u001b[0m in \u001b[0;36m_call_impl\u001b[0;34m(self, *input, **kwargs)\u001b[0m\n\u001b[1;32m    725\u001b[0m             \u001b[0mresult\u001b[0m \u001b[0;34m=\u001b[0m \u001b[0mself\u001b[0m\u001b[0;34m.\u001b[0m\u001b[0m_slow_forward\u001b[0m\u001b[0;34m(\u001b[0m\u001b[0;34m*\u001b[0m\u001b[0minput\u001b[0m\u001b[0;34m,\u001b[0m \u001b[0;34m**\u001b[0m\u001b[0mkwargs\u001b[0m\u001b[0;34m)\u001b[0m\u001b[0;34m\u001b[0m\u001b[0;34m\u001b[0m\u001b[0m\n\u001b[1;32m    726\u001b[0m         \u001b[0;32melse\u001b[0m\u001b[0;34m:\u001b[0m\u001b[0;34m\u001b[0m\u001b[0;34m\u001b[0m\u001b[0m\n\u001b[0;32m--> 727\u001b[0;31m             \u001b[0mresult\u001b[0m \u001b[0;34m=\u001b[0m \u001b[0mself\u001b[0m\u001b[0;34m.\u001b[0m\u001b[0mforward\u001b[0m\u001b[0;34m(\u001b[0m\u001b[0;34m*\u001b[0m\u001b[0minput\u001b[0m\u001b[0;34m,\u001b[0m \u001b[0;34m**\u001b[0m\u001b[0mkwargs\u001b[0m\u001b[0;34m)\u001b[0m\u001b[0;34m\u001b[0m\u001b[0;34m\u001b[0m\u001b[0m\n\u001b[0m\u001b[1;32m    728\u001b[0m         for hook in itertools.chain(\n\u001b[1;32m    729\u001b[0m                 \u001b[0m_global_forward_hooks\u001b[0m\u001b[0;34m.\u001b[0m\u001b[0mvalues\u001b[0m\u001b[0;34m(\u001b[0m\u001b[0;34m)\u001b[0m\u001b[0;34m,\u001b[0m\u001b[0;34m\u001b[0m\u001b[0;34m\u001b[0m\u001b[0m\n",
      "\u001b[0;32m~/ar/single_frame_and_weakly_supervised/mstcn_model.py\u001b[0m in \u001b[0;36mforward\u001b[0;34m(self, x, mask)\u001b[0m\n\u001b[1;32m     47\u001b[0m         \u001b[0mout\u001b[0m \u001b[0;34m=\u001b[0m \u001b[0mself\u001b[0m\u001b[0;34m.\u001b[0m\u001b[0mconv_1x1\u001b[0m\u001b[0;34m(\u001b[0m\u001b[0mx\u001b[0m\u001b[0;34m)\u001b[0m\u001b[0;34m\u001b[0m\u001b[0;34m\u001b[0m\u001b[0m\n\u001b[1;32m     48\u001b[0m         \u001b[0;32mfor\u001b[0m \u001b[0mlayer\u001b[0m \u001b[0;32min\u001b[0m \u001b[0mself\u001b[0m\u001b[0;34m.\u001b[0m\u001b[0mlayers\u001b[0m\u001b[0;34m:\u001b[0m\u001b[0;34m\u001b[0m\u001b[0;34m\u001b[0m\u001b[0m\n\u001b[0;32m---> 49\u001b[0;31m             \u001b[0mout\u001b[0m \u001b[0;34m=\u001b[0m \u001b[0mlayer\u001b[0m\u001b[0;34m(\u001b[0m\u001b[0mout\u001b[0m\u001b[0;34m,\u001b[0m \u001b[0mmask\u001b[0m\u001b[0;34m)\u001b[0m\u001b[0;34m\u001b[0m\u001b[0;34m\u001b[0m\u001b[0m\n\u001b[0m\u001b[1;32m     50\u001b[0m         \u001b[0mfinal_out\u001b[0m \u001b[0;34m=\u001b[0m \u001b[0mself\u001b[0m\u001b[0;34m.\u001b[0m\u001b[0mconv_out\u001b[0m\u001b[0;34m(\u001b[0m\u001b[0mout\u001b[0m\u001b[0;34m)\u001b[0m \u001b[0;34m*\u001b[0m \u001b[0mmask\u001b[0m\u001b[0;34m[\u001b[0m\u001b[0;34m:\u001b[0m\u001b[0;34m,\u001b[0m \u001b[0;36m0\u001b[0m\u001b[0;34m:\u001b[0m\u001b[0;36m1\u001b[0m\u001b[0;34m,\u001b[0m \u001b[0;34m:\u001b[0m\u001b[0;34m]\u001b[0m\u001b[0;34m\u001b[0m\u001b[0;34m\u001b[0m\u001b[0m\n\u001b[1;32m     51\u001b[0m         \u001b[0;32mreturn\u001b[0m \u001b[0mout\u001b[0m\u001b[0;34m,\u001b[0m \u001b[0mfinal_out\u001b[0m\u001b[0;34m\u001b[0m\u001b[0;34m\u001b[0m\u001b[0m\n",
      "\u001b[0;32m~/anaconda3/envs/video_r/lib/python3.7/site-packages/torch/nn/modules/module.py\u001b[0m in \u001b[0;36m_call_impl\u001b[0;34m(self, *input, **kwargs)\u001b[0m\n\u001b[1;32m    725\u001b[0m             \u001b[0mresult\u001b[0m \u001b[0;34m=\u001b[0m \u001b[0mself\u001b[0m\u001b[0;34m.\u001b[0m\u001b[0m_slow_forward\u001b[0m\u001b[0;34m(\u001b[0m\u001b[0;34m*\u001b[0m\u001b[0minput\u001b[0m\u001b[0;34m,\u001b[0m \u001b[0;34m**\u001b[0m\u001b[0mkwargs\u001b[0m\u001b[0;34m)\u001b[0m\u001b[0;34m\u001b[0m\u001b[0;34m\u001b[0m\u001b[0m\n\u001b[1;32m    726\u001b[0m         \u001b[0;32melse\u001b[0m\u001b[0;34m:\u001b[0m\u001b[0;34m\u001b[0m\u001b[0;34m\u001b[0m\u001b[0m\n\u001b[0;32m--> 727\u001b[0;31m             \u001b[0mresult\u001b[0m \u001b[0;34m=\u001b[0m \u001b[0mself\u001b[0m\u001b[0;34m.\u001b[0m\u001b[0mforward\u001b[0m\u001b[0;34m(\u001b[0m\u001b[0;34m*\u001b[0m\u001b[0minput\u001b[0m\u001b[0;34m,\u001b[0m \u001b[0;34m**\u001b[0m\u001b[0mkwargs\u001b[0m\u001b[0;34m)\u001b[0m\u001b[0;34m\u001b[0m\u001b[0;34m\u001b[0m\u001b[0m\n\u001b[0m\u001b[1;32m    728\u001b[0m         for hook in itertools.chain(\n\u001b[1;32m    729\u001b[0m                 \u001b[0m_global_forward_hooks\u001b[0m\u001b[0;34m.\u001b[0m\u001b[0mvalues\u001b[0m\u001b[0;34m(\u001b[0m\u001b[0;34m)\u001b[0m\u001b[0;34m,\u001b[0m\u001b[0;34m\u001b[0m\u001b[0;34m\u001b[0m\u001b[0m\n",
      "\u001b[0;32m~/ar/single_frame_and_weakly_supervised/mstcn_model.py\u001b[0m in \u001b[0;36mforward\u001b[0;34m(self, x, mask)\u001b[0m\n\u001b[1;32m     61\u001b[0m \u001b[0;34m\u001b[0m\u001b[0m\n\u001b[1;32m     62\u001b[0m     \u001b[0;32mdef\u001b[0m \u001b[0mforward\u001b[0m\u001b[0;34m(\u001b[0m\u001b[0mself\u001b[0m\u001b[0;34m,\u001b[0m \u001b[0mx\u001b[0m\u001b[0;34m,\u001b[0m \u001b[0mmask\u001b[0m\u001b[0;34m)\u001b[0m\u001b[0;34m:\u001b[0m\u001b[0;34m\u001b[0m\u001b[0;34m\u001b[0m\u001b[0m\n\u001b[0;32m---> 63\u001b[0;31m         \u001b[0mout\u001b[0m \u001b[0;34m=\u001b[0m \u001b[0mF\u001b[0m\u001b[0;34m.\u001b[0m\u001b[0mrelu\u001b[0m\u001b[0;34m(\u001b[0m\u001b[0mself\u001b[0m\u001b[0;34m.\u001b[0m\u001b[0mconv_dilated\u001b[0m\u001b[0;34m(\u001b[0m\u001b[0mx\u001b[0m\u001b[0;34m)\u001b[0m\u001b[0;34m)\u001b[0m\u001b[0;34m\u001b[0m\u001b[0;34m\u001b[0m\u001b[0m\n\u001b[0m\u001b[1;32m     64\u001b[0m         \u001b[0mout\u001b[0m \u001b[0;34m=\u001b[0m \u001b[0mself\u001b[0m\u001b[0;34m.\u001b[0m\u001b[0mconv_1x1\u001b[0m\u001b[0;34m(\u001b[0m\u001b[0mout\u001b[0m\u001b[0;34m)\u001b[0m\u001b[0;34m\u001b[0m\u001b[0;34m\u001b[0m\u001b[0m\n\u001b[1;32m     65\u001b[0m         \u001b[0mout\u001b[0m \u001b[0;34m=\u001b[0m \u001b[0mself\u001b[0m\u001b[0;34m.\u001b[0m\u001b[0mdropout\u001b[0m\u001b[0;34m(\u001b[0m\u001b[0mout\u001b[0m\u001b[0;34m)\u001b[0m\u001b[0;34m\u001b[0m\u001b[0;34m\u001b[0m\u001b[0m\n",
      "\u001b[0;32m~/anaconda3/envs/video_r/lib/python3.7/site-packages/torch/nn/modules/module.py\u001b[0m in \u001b[0;36m_call_impl\u001b[0;34m(self, *input, **kwargs)\u001b[0m\n\u001b[1;32m    725\u001b[0m             \u001b[0mresult\u001b[0m \u001b[0;34m=\u001b[0m \u001b[0mself\u001b[0m\u001b[0;34m.\u001b[0m\u001b[0m_slow_forward\u001b[0m\u001b[0;34m(\u001b[0m\u001b[0;34m*\u001b[0m\u001b[0minput\u001b[0m\u001b[0;34m,\u001b[0m \u001b[0;34m**\u001b[0m\u001b[0mkwargs\u001b[0m\u001b[0;34m)\u001b[0m\u001b[0;34m\u001b[0m\u001b[0;34m\u001b[0m\u001b[0m\n\u001b[1;32m    726\u001b[0m         \u001b[0;32melse\u001b[0m\u001b[0;34m:\u001b[0m\u001b[0;34m\u001b[0m\u001b[0;34m\u001b[0m\u001b[0m\n\u001b[0;32m--> 727\u001b[0;31m             \u001b[0mresult\u001b[0m \u001b[0;34m=\u001b[0m \u001b[0mself\u001b[0m\u001b[0;34m.\u001b[0m\u001b[0mforward\u001b[0m\u001b[0;34m(\u001b[0m\u001b[0;34m*\u001b[0m\u001b[0minput\u001b[0m\u001b[0;34m,\u001b[0m \u001b[0;34m**\u001b[0m\u001b[0mkwargs\u001b[0m\u001b[0;34m)\u001b[0m\u001b[0;34m\u001b[0m\u001b[0;34m\u001b[0m\u001b[0m\n\u001b[0m\u001b[1;32m    728\u001b[0m         for hook in itertools.chain(\n\u001b[1;32m    729\u001b[0m                 \u001b[0m_global_forward_hooks\u001b[0m\u001b[0;34m.\u001b[0m\u001b[0mvalues\u001b[0m\u001b[0;34m(\u001b[0m\u001b[0;34m)\u001b[0m\u001b[0;34m,\u001b[0m\u001b[0;34m\u001b[0m\u001b[0;34m\u001b[0m\u001b[0m\n",
      "\u001b[0;32m~/anaconda3/envs/video_r/lib/python3.7/site-packages/torch/nn/modules/conv.py\u001b[0m in \u001b[0;36mforward\u001b[0;34m(self, input)\u001b[0m\n\u001b[1;32m    257\u001b[0m                             _single(0), self.dilation, self.groups)\n\u001b[1;32m    258\u001b[0m         return F.conv1d(input, self.weight, self.bias, self.stride,\n\u001b[0;32m--> 259\u001b[0;31m                         self.padding, self.dilation, self.groups)\n\u001b[0m\u001b[1;32m    260\u001b[0m \u001b[0;34m\u001b[0m\u001b[0m\n\u001b[1;32m    261\u001b[0m \u001b[0;34m\u001b[0m\u001b[0m\n",
      "\u001b[0;31mKeyboardInterrupt\u001b[0m: "
     ]
    }
   ],
   "source": [
    "initialize_epoch = 25\n",
    "expectation_cal_gap = 5\n",
    "best_val_acc = 0\n",
    "for epoch in range(26, 1000):\n",
    "    print(\"Starting Training\")\n",
    "    model.train()\n",
    "    for i, item in enumerate(trainloader):\n",
    "        item_0 = item[0].to(device)\n",
    "        item_1 = item[1].to(device)\n",
    "        item_2 = item[2].to(device)\n",
    "        src_mask = torch.arange(item_2.shape[1], device=item_2.device)[None, :] < item_1[:, None]\n",
    "        src_mask_mse = src_mask.unsqueeze(1).to(torch.float32).to(device)\n",
    "        optimizer.zero_grad()\n",
    "        \n",
    "        middle_pred, predictions = model(item_0, src_mask_mse)\n",
    "        psuedo_l = get_single_random(predictions[-1], item[4])\n",
    "        \n",
    "        loss = 0\n",
    "        for p in predictions:\n",
    "            if epoch <= initialize_epoch:\n",
    "                loss += ce_criterion(p, psuedo_l)\n",
    "                loss += 0.15 * torch.mean(torch.clamp(mse_criterion(F.log_softmax(p[:, :, 1:], dim=1), \n",
    "                                                                    F.log_softmax(p.detach()[:, :, :-1], dim=1)), min=0,\n",
    "                                            max=16) * src_mask_mse[:, :, 1:])\n",
    "            else:\n",
    "                prob = torch.softmax(p, dim=1)\n",
    "                prob = prob.permute(0, 2, 1)\n",
    "                es_loss, _ = get_estimated_loss(prob, item_1, item[4], item_2)\n",
    "                loss += es_loss\n",
    "            \n",
    "        loss.backward()\n",
    "        optimizer.step()\n",
    "        \n",
    "        if i % 10 == 0:\n",
    "            with torch.no_grad():\n",
    "                pred = torch.argmax(predictions[-1], dim=1)\n",
    "                correct = float(torch.sum((pred == item_2) * src_mask).item())\n",
    "                total = float(torch.sum(src_mask).item())\n",
    "                print(f\"Training:: Epoch {epoch}, Iteration {i}, Current loss {loss.item()}\" +\n",
    "                      f\" Accuracy {correct * 100.0 / total}\")\n",
    "    if epoch == initialize_epoch:\n",
    "        torch.save(model.state_dict(), config.output_dir + \"ms-tcn-initial-15-epochs.wt\")\n",
    "    # Calculating Expectation Step\n",
    "    model.eval()\n",
    "    if (epoch >= initialize_epoch) and (epoch % expectation_cal_gap == 0):\n",
    "        print(\"Calculating Expectation\")\n",
    "        correct = 0.0\n",
    "        total = 0.0\n",
    "\n",
    "        for i, item in enumerate(trainloader):\n",
    "            with torch.no_grad():\n",
    "                item_0 = item[0].to(device)\n",
    "                item_1 = item[1].to(device)\n",
    "                item_2 = item[2].to(device)\n",
    "                src_mask = torch.arange(item_2.shape[1], device=item_2.device)[None, :] < item_1[:, None]\n",
    "                src_mask_mse = src_mask.unsqueeze(1).to(torch.float32).to(device)\n",
    "\n",
    "                middle_pred, predictions = model(item_0, src_mask_mse)\n",
    "                prob = torch.softmax(predictions[-1], dim=1)\n",
    "                prob = prob.permute(0, 2, 1)\n",
    "                for j in range(len(prob)):\n",
    "                    generate_posterior_loss_weights(prob[j].cpu(), item[4][j])\n",
    "                \n",
    "                if i % 20 == 0:\n",
    "                    print(f\"Epoch {epoch} iter {i}\")\n",
    "                    \n",
    "        get_boundary_err()\n",
    "\n",
    "    print(\"Calculating Validation Data Accuracy\")\n",
    "    correct = 0.0\n",
    "    total = 0.0\n",
    "    for i, item in enumerate(testloader):\n",
    "        with torch.no_grad():\n",
    "            item_0 = item[0].to(device)\n",
    "            item_1 = item[1].to(device)\n",
    "            item_2 = item[2].to(device)\n",
    "            src_mask = torch.arange(item_2.shape[1], device=item_2.device)[None, :] < item_1[:, None]\n",
    "            src_mask_mse = src_mask.unsqueeze(1).to(torch.float32).to(device)\n",
    "\n",
    "            middle_pred, predictions = model(item_0, src_mask_mse)\n",
    "\n",
    "            pred = torch.argmax(predictions[-1], dim=1)\n",
    "            correct += float(torch.sum((pred == item_2) * src_mask).item())\n",
    "            total += float(torch.sum(src_mask).item())\n",
    "    val_acc = correct * 100.0 / total\n",
    "    if val_acc > best_val_acc:\n",
    "        best_val_acc = val_acc\n",
    "        torch.save(model.state_dict(), config.output_dir + \"ms-tcn-emmax-best-model-fulllikelihood.wt\")\n",
    "    torch.save(model.state_dict(), config.output_dir + \"ms-tcn-emmax-last-model-fulllikelihood.wt\")\n",
    "    print(f\"Validation:: Epoch {epoch}, Probability Accuracy {val_acc}\")"
   ]
  },
  {
   "cell_type": "code",
   "execution_count": 32,
   "metadata": {},
   "outputs": [
    {
     "data": {
      "text/plain": [
       "<All keys matched successfully>"
      ]
     },
     "execution_count": 32,
     "metadata": {},
     "output_type": "execute_result"
    }
   ],
   "source": [
    "# model.load_state_dict(torch.load(f'/mnt/ssd/all_users/dipika/ms_tcn/data/breakfast//results/'\n",
    "#                                  f'mstcnnew-full-supervised-split1/ms-tcn-best-model.wt'))"
   ]
  },
  {
   "cell_type": "code",
   "execution_count": 30,
   "metadata": {},
   "outputs": [
    {
     "data": {
      "text/plain": [
       "56.995998906256105"
      ]
     },
     "execution_count": 30,
     "metadata": {},
     "output_type": "execute_result"
    }
   ],
   "source": [
    "best_val_acc"
   ]
  },
  {
   "cell_type": "code",
   "execution_count": 40,
   "metadata": {},
   "outputs": [
    {
     "data": {
      "image/png": "[encoded data removed]",
      "text/plain": [
       "<Figure size 432x288 with 1 Axes>"
      ]
     },
     "metadata": {
      "needs_background": "light"
     },
     "output_type": "display_data"
    }
   ],
   "source": [
    "for proba in posterior_table['P25_cam01_P25_sandwich']:\n",
    "    plt.plot(proba)"
   ]
  },
  {
   "cell_type": "code",
   "execution_count": 33,
   "metadata": {},
   "outputs": [
    {
     "name": "stdout",
     "output_type": "stream",
     "text": [
      "Calculating Validation Data Accuracy\n",
      "Validation:: Probability Accuracy 69.60005698208626\n"
     ]
    }
   ],
   "source": [
    "print(\"Calculating Validation Data Accuracy\")\n",
    "correct = 0.0\n",
    "total = 0.0\n",
    "for i, item in enumerate(testloader):\n",
    "    with torch.no_grad():\n",
    "        item_0 = item[0].to(device)\n",
    "        item_1 = item[1].to(device)\n",
    "        item_2 = item[2].to(device)\n",
    "        src_mask = torch.arange(item_2.shape[1], device=item_2.device)[None, :] < item_1[:, None]\n",
    "        src_mask_mse = src_mask.unsqueeze(1).to(torch.float32).to(device)\n",
    "\n",
    "        middle_pred, predictions = model(item_0, src_mask_mse)\n",
    "\n",
    "        pred = torch.argmax(predictions[-1], dim=1)\n",
    "        correct += float(torch.sum((pred == item_2) * src_mask).item())\n",
    "        total += float(torch.sum(src_mask).item())\n",
    "\n",
    "print(f\"Validation:: Probability Accuracy {correct * 100.0 / total}\")"
   ]
  },
  {
   "cell_type": "code",
   "execution_count": 107,
   "metadata": {},
   "outputs": [],
   "source": [
    "framewise_proba = prob[j].cpu()\n",
    "ele = item[4][j]\n",
    "frame_count = frame_id_dict[ele]\n",
    "label_list = [label_name_to_label_id_dict[item] for item in weak_labels[ele]]\n",
    "seqlen = len(label_list)\n",
    "label_seq_prob = framewise_proba[:frame_count,label_list]\n",
    "label_seq_logprob = torch.log(label_seq_prob + 1e-10)\n",
    "\n",
    "left_probsum = torch.cumsum(label_seq_prob, dim=1)\n",
    "right_probsum = torch.sum(label_seq_prob, dim=1, keepdim=True) - torch.cumsum(label_seq_prob, dim=1) + label_seq_prob\n",
    "\n",
    "left_logprobsum = torch.log(torch.clip(left_probsum, min=1e-20))\n",
    "right_logprobsum = torch.log(torch.clip(right_probsum, min=1e-20))\n",
    "\n",
    "left_logprobsum_left_idsum = torch.cumsum(left_logprobsum, dim=0)\n",
    "left_logprobsum_left_idsum -= left_logprobsum\n",
    "right_logprobsum_right_idsum = torch.sum(right_logprobsum, dim=0, keepdim=True) - torch.cumsum(right_logprobsum, dim=0)\n",
    "\n",
    "for k in range(seqlen):\n",
    "    left_logprobsum_left_idsum[:k,k] = -1000\n",
    "    remaining_labelcount = seqlen-k-1\n",
    "    if remaining_labelcount > 0:\n",
    "        right_logprobsum_right_idsum[-remaining_labelcount:,k] = -1000\n",
    "\n",
    "loglikelihood = label_seq_logprob + left_logprobsum_left_idsum + right_logprobsum_right_idsum\n",
    "posterior = loglikelihood.T + torch.log(torch.clip(torch.tensor(prior_table[ele]), min=1e-10))\n",
    "posterior = torch.softmax(posterior, dim=0)"
   ]
  },
  {
   "cell_type": "code",
   "execution_count": 116,
   "metadata": {
    "scrolled": true
   },
   "outputs": [
    {
     "name": "stdout",
     "output_type": "stream",
     "text": [
      "1 iteration done\n",
      "11 iteration done\n",
      "21 iteration done\n",
      "31 iteration done\n",
      "41 iteration done\n",
      "51 iteration done\n",
      "61 iteration done\n",
      "71 iteration done\n",
      "81 iteration done\n",
      "91 iteration done\n",
      "101 iteration done\n",
      "111 iteration done\n",
      "121 iteration done\n",
      "131 iteration done\n",
      "141 iteration done\n",
      "151 iteration done\n",
      "161 iteration done\n",
      "171 iteration done\n",
      "181 iteration done\n",
      "Train Boundary avergage error = 118.393\n"
     ]
    }
   ],
   "source": [
    "model.eval()\n",
    "for i, item in enumerate(trainloader):\n",
    "    with torch.no_grad():\n",
    "        item_0 = item[0].to(device)\n",
    "        item_1 = item[1].to(device)\n",
    "        item_2 = item[2].to(device)\n",
    "        src_mask = torch.arange(item_2.shape[1], device=item_2.device)[None, :] < item_1[:, None]\n",
    "        src_mask_mse = src_mask.unsqueeze(1).to(torch.float32).to(device)\n",
    "\n",
    "        middle_pred, predictions = model(item_0, src_mask_mse)\n",
    "        prob = torch.softmax(predictions[-1], dim=1)\n",
    "        prob = prob.permute(0, 2, 1)\n",
    "        for j in range(len(prob)):\n",
    "            generate_posterior_loss_weights(prob[j].cpu(), item[4][j])\n",
    "\n",
    "        if i%10==0:\n",
    "            print(f'{i+1} iteration done')\n",
    "get_boundary_err()"
   ]
  }
 ],
 "metadata": {
  "kernelspec": {
   "display_name": "Python 3",
   "language": "python",
   "name": "python3"
  },
  "language_info": {
   "codemirror_mode": {
    "name": "ipython",
    "version": 3
   },
   "file_extension": ".py",
   "mimetype": "text/x-python",
   "name": "python",
   "nbconvert_exporter": "python",
   "pygments_lexer": "ipython3",
   "version": "3.7.3"
  }
 },
 "nbformat": 4,
 "nbformat_minor": 4
}
